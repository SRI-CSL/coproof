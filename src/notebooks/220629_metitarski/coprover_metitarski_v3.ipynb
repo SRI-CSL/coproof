{
  "nbformat": 4,
  "nbformat_minor": 0,
  "metadata": {
    "colab": {
      "provenance": [],
      "collapsed_sections": [],
      "toc_visible": true,
      "authorship_tag": "ABX9TyNsVA6XNMJmua92vg1pItXR",
      "include_colab_link": true
    },
    "kernelspec": {
      "name": "python3",
      "display_name": "Python 3"
    },
    "language_info": {
      "name": "python"
    }
  },
  "cells": [
    {
      "cell_type": "markdown",
      "metadata": {
        "id": "view-in-github",
        "colab_type": "text"
      },
      "source": [
        "<a href=\"https://colab.research.google.com/github/SRI-CSL/CoProver/blob/main/src/notebooks/220629_metitarski/coprover_metitarski_v3.ipynb\" target=\"_parent\"><img src=\"https://colab.research.google.com/assets/colab-badge.svg\" alt=\"Open In Colab\"/></a>"
      ]
    },
    {
      "cell_type": "markdown",
      "source": [
        "# CoProver \n",
        "\n",
        "## &#10024; `MetiTarski`- problem\n",
        "\n",
        "**Description:** Updated notebook to process v3 and v4 versions of MetiTarski data.\n",
        "\n",
        "**Checklist**\n",
        "\n",
        "- [] compare SVM with linear and polynomial (at least degree 2) kernels\n",
        "- [] set the protocol so that we remove memorization of training set from both test sets.\n",
        "- [] clean the code for Eric and reviewer\n",
        "- [] once the above are done, dedicate time and attention examining the transformer architectures\n",
        "  - [] EY strongly suspect that adjusting the tokenization scheme we might get additional benefits.\n",
        "\n",
        "**Copyright 2022 SRI International.**"
      ],
      "metadata": {
        "id": "LGn1kkqPSNP6"
      }
    },
    {
      "cell_type": "markdown",
      "source": [
        "## &#9776; Import `needed` libraries"
      ],
      "metadata": {
        "id": "8eFP_-fISjCi"
      }
    },
    {
      "cell_type": "code",
      "execution_count": 1,
      "metadata": {
        "id": "A_SrsHZARt96"
      },
      "outputs": [],
      "source": [
        "import os\n",
        "import sys\n",
        "import warnings\n",
        "\n",
        "import numpy as np\n",
        "import pandas as pd\n",
        "import matplotlib.pyplot as plt\n",
        "\n",
        "from matplotlib import rc\n",
        "from tqdm import tqdm"
      ]
    },
    {
      "cell_type": "code",
      "source": [
        "from sklearn import svm\n",
        "from sklearn.neighbors import KNeighborsClassifier\n",
        "from sklearn.tree import DecisionTreeClassifier\n",
        "from sklearn.ensemble import RandomForestClassifier\n",
        "from sklearn.neural_network import MLPClassifier\n",
        "\n",
        "from sklearn import metrics\n",
        "from sklearn.model_selection import train_test_split\n",
        "from sklearn.preprocessing import StandardScaler, MinMaxScaler"
      ],
      "metadata": {
        "id": "N9uhPqllploq"
      },
      "execution_count": 2,
      "outputs": []
    },
    {
      "cell_type": "code",
      "source": [
        "try:\n",
        "    from google.colab import data_table\n",
        "    data_table.disable_dataframe_formatter()\n",
        "    \n",
        "    from google.colab import output\n",
        "    output.enable_custom_widget_manager()\n",
        "except Exception:\n",
        "    print(\"Launched notebook locally\")"
      ],
      "metadata": {
        "id": "Cpud45PmSn-x"
      },
      "execution_count": 3,
      "outputs": []
    },
    {
      "cell_type": "code",
      "source": [
        "from typing import List, Any, Dict"
      ],
      "metadata": {
        "id": "Y6KXOR37WSVP"
      },
      "execution_count": 4,
      "outputs": []
    },
    {
      "cell_type": "code",
      "source": [
        "# install gdown library for .csv files download\n",
        "try:\n",
        "    import gdown\n",
        "except ImportError:\n",
        "    !pip install gdown"
      ],
      "metadata": {
        "id": "bqBfbG4XWVcH"
      },
      "execution_count": 5,
      "outputs": []
    },
    {
      "cell_type": "markdown",
      "source": [
        "## &#9997; Set `needed` configuration"
      ],
      "metadata": {
        "id": "cO6YhKy5We-z"
      }
    },
    {
      "cell_type": "code",
      "source": [
        "warnings.filterwarnings('ignore')"
      ],
      "metadata": {
        "id": "EZLqh4CdWYZQ"
      },
      "execution_count": 6,
      "outputs": []
    },
    {
      "cell_type": "code",
      "source": [
        "# origins of the .csv data files used\n",
        "# True: originating within the signal-public GitHub repository\n",
        "# False: need to be downloaded from a provided URL, especially useful if running on Colab\n",
        "IS_LOCAL_FILE = False"
      ],
      "metadata": {
        "id": "CEbN6ePzWigg"
      },
      "execution_count": 7,
      "outputs": []
    },
    {
      "cell_type": "code",
      "source": [
        "# dictionary of files for this notebook to work\n",
        "# the dictionary is composed of (filename, Google ID) key-value pairs\n",
        "\n",
        "# v3: https://drive.google.com/file/d/1uC0WDg7fyZxwpc9UIgJznDAgT5WPqtA9/view?usp=sharing\n",
        "# v4: https://drive.google.com/file/d/1uIoGOoHPsugXszScyU4HS9RKznX6tFeO/view?usp=sharing\n",
        "DATASET_DICT = {\n",
        "    'metitarski_dataset_v3.csv': '1uC0WDg7fyZxwpc9UIgJznDAgT5WPqtA9',\n",
        "    'metitarski_dataset_v4.csv': '1uIoGOoHPsugXszScyU4HS9RKznX6tFeO'\n",
        "    }"
      ],
      "metadata": {
        "id": "H_3evvH1Wk64"
      },
      "execution_count": 8,
      "outputs": []
    },
    {
      "cell_type": "markdown",
      "source": [
        "## &#9881; Define `needed` functions"
      ],
      "metadata": {
        "id": "JS_H95CNWv2g"
      }
    },
    {
      "cell_type": "code",
      "source": [
        "def path_exists(input_path: str) -> bool:\n",
        "    return os.path.exists(input_path)"
      ],
      "metadata": {
        "id": "9pmj0z4TWqpI"
      },
      "execution_count": 9,
      "outputs": []
    },
    {
      "cell_type": "code",
      "source": [
        "def check_file_status(input_path: str):\n",
        "    if path_exists(input_path=input_path):\n",
        "        print(f\"- File {input_path.split('/')[-1]} exists locally at {input_path}!\")\n",
        "    else:\n",
        "        if IS_LOCAL_FILE:\n",
        "            print(\"- Something went wrong with the download. Please try again!\")\n",
        "        else:\n",
        "            print(f\"- IS_LOCAL_FILE is set to {IS_LOCAL_FILE}. The file is accessed via a public GitHub link!\")"
      ],
      "metadata": {
        "id": "BchjZsQaW2Dh"
      },
      "execution_count": 10,
      "outputs": []
    },
    {
      "cell_type": "code",
      "source": [
        "def download_dataset_from_google_drive(google_file_id: str, output_file_name: str, quiet_download: bool) -> str:\n",
        "    file_path = f'./{output_file_name}'\n",
        "\n",
        "    if not os.path.exists(file_path):\n",
        "        gdown.download(id=google_file_id, output=output_file_name, quiet=quiet_download)\n",
        "    else:\n",
        "        print(f\"{output_file_name} already exists!\")\n",
        "        \n",
        "    return file_path"
      ],
      "metadata": {
        "id": "53SObIjeW4_-"
      },
      "execution_count": 11,
      "outputs": []
    },
    {
      "cell_type": "code",
      "source": [
        "def get_dataset(dataset_name: str, is_local_file: bool) -> str:\n",
        "    file_path = f'./{dataset_name}'\n",
        "\n",
        "    if is_local_file:\n",
        "        file_path = f'https://raw.githubusercontent.com/SRI-CSL/CoProver/main/data/{dataset_name}'\n",
        "    else:\n",
        "        if dataset_name in DATASET_DICT:\n",
        "            file_path = download_dataset_from_google_drive(google_file_id=DATASET_DICT[dataset_name], output_file_name=dataset_name, quiet_download=False)\n",
        "        else:\n",
        "            print(f\"{dataset_name} is not present in dataset dictionary! Please ensure the file name is correct!\")\n",
        "            return\n",
        "\n",
        "    return file_path"
      ],
      "metadata": {
        "id": "HZnRk5RdW8QW"
      },
      "execution_count": 12,
      "outputs": []
    },
    {
      "cell_type": "markdown",
      "source": [
        "* [] **TODO 1:** Modify the function setting `how='outer'` so as to get all potential options, i.e., `left`, `right`, and `both`.\n",
        "* [] **TODO 2:** Create a Venn Diagram of the datasets.\n"
      ],
      "metadata": {
        "id": "VLCZA6xnsh7W"
      }
    },
    {
      "cell_type": "code",
      "source": [
        "def get_dataframe_differences(df_1: pd.DataFrame, df_2: pd.DataFrame, target_columns: List[str]) -> pd.DataFrame:\n",
        "    \"\"\"Obtain the records that are in df_1 but NOT in df_2\n",
        "       Solution inspired by: https://stackoverflow.com/questions/28901683/pandas-get-rows-which-are-not-in-other-dataframe\n",
        "\n",
        "    Args:\n",
        "      df_1: input dataframe 1\n",
        "      df_2: input dataframe 2\n",
        "      target_columns: list of columns to perform the difference operation upon\n",
        "\n",
        "    Returns:\n",
        "      A dataframe containing the records that are only in df_1 but not df_2\n",
        "    \"\"\"\n",
        "\n",
        "    tmp_df = df_1.merge(df_2.drop_duplicates(), on=target_columns, how='left', indicator=True)\n",
        "\n",
        "    result_df = tmp_df[tmp_df['_merge'] == 'left_only'][target_columns].copy()\n",
        "\n",
        "    return result_df"
      ],
      "metadata": {
        "id": "yFRmoUNgTt79"
      },
      "execution_count": 13,
      "outputs": []
    },
    {
      "cell_type": "markdown",
      "source": [
        "## &#9749; Download datasets"
      ],
      "metadata": {
        "id": "uOq2Ad_EYiGW"
      }
    },
    {
      "cell_type": "code",
      "source": [
        "# metitarski_dataset_v1.csv\n",
        "path_metitarski_original = get_dataset(dataset_name='metitarski_dataset_v3.csv', is_local_file=IS_LOCAL_FILE)"
      ],
      "metadata": {
        "colab": {
          "base_uri": "https://localhost:8080/"
        },
        "id": "sRyYXkOj11mq",
        "outputId": "8abe8ba5-acb7-4a19-a6af-98c31b8a8f22"
      },
      "execution_count": 14,
      "outputs": [
        {
          "output_type": "stream",
          "name": "stderr",
          "text": [
            "Downloading...\n",
            "From: https://drive.google.com/uc?id=1uC0WDg7fyZxwpc9UIgJznDAgT5WPqtA9\n",
            "To: /content/metitarski_dataset_v3.csv\n",
            "100%|██████████| 981k/981k [00:00<00:00, 65.7MB/s]\n"
          ]
        }
      ]
    },
    {
      "cell_type": "code",
      "source": [
        "check_file_status(input_path=path_metitarski_original)"
      ],
      "metadata": {
        "colab": {
          "base_uri": "https://localhost:8080/"
        },
        "id": "EZxHCLm711uh",
        "outputId": "479bcc4f-4791-4f35-d4b0-f6bc655c7778"
      },
      "execution_count": 15,
      "outputs": [
        {
          "output_type": "stream",
          "name": "stdout",
          "text": [
            "- File metitarski_dataset_v3.csv exists locally at ./metitarski_dataset_v3.csv!\n"
          ]
        }
      ]
    },
    {
      "cell_type": "code",
      "source": [
        "# metitarski_dataset_v4.csv\n",
        "path_metitarski = get_dataset(dataset_name='metitarski_dataset_v4.csv', is_local_file=IS_LOCAL_FILE)"
      ],
      "metadata": {
        "id": "w2LwKmjHXJsi",
        "colab": {
          "base_uri": "https://localhost:8080/"
        },
        "outputId": "746482e5-78ef-4c3e-d9b2-cee08fc29f01"
      },
      "execution_count": 16,
      "outputs": [
        {
          "output_type": "stream",
          "name": "stderr",
          "text": [
            "Downloading...\n",
            "From: https://drive.google.com/uc?id=1uIoGOoHPsugXszScyU4HS9RKznX6tFeO\n",
            "To: /content/metitarski_dataset_v4.csv\n",
            "100%|██████████| 6.42M/6.42M [00:00<00:00, 30.0MB/s]\n"
          ]
        }
      ]
    },
    {
      "cell_type": "code",
      "source": [
        "check_file_status(input_path=path_metitarski)"
      ],
      "metadata": {
        "colab": {
          "base_uri": "https://localhost:8080/"
        },
        "id": "6F3SojMyeW5M",
        "outputId": "f7b29973-ddc4-4dbf-f98b-715f50752ea2"
      },
      "execution_count": 17,
      "outputs": [
        {
          "output_type": "stream",
          "name": "stdout",
          "text": [
            "- File metitarski_dataset_v4.csv exists locally at ./metitarski_dataset_v4.csv!\n"
          ]
        }
      ]
    },
    {
      "cell_type": "markdown",
      "source": [
        "## &#128722; Load data"
      ],
      "metadata": {
        "id": "hqoJppuQYjs0"
      }
    },
    {
      "cell_type": "markdown",
      "source": [
        "**Naming Convention**\n",
        "\n",
        "* All original metitarski related content (data, variables) will be followed by the `_1` indicators.\n",
        "* The new dataset generated that consists of all possible variable permutations will be followed by `_2` indicators."
      ],
      "metadata": {
        "id": "oK1B8G6YuXOF"
      }
    },
    {
      "cell_type": "code",
      "source": [
        "df_metitarski_1 = pd.read_csv(path_metitarski_original, sep='\\t')"
      ],
      "metadata": {
        "id": "E2792JhxYnl_"
      },
      "execution_count": 19,
      "outputs": []
    },
    {
      "cell_type": "code",
      "source": [
        "df_metitarski_1.info()"
      ],
      "metadata": {
        "colab": {
          "base_uri": "https://localhost:8080/"
        },
        "id": "XTGsjMIIecPn",
        "outputId": "a0a049c4-5529-42b9-d473-05d575f7ee5d"
      },
      "execution_count": 20,
      "outputs": [
        {
          "output_type": "stream",
          "name": "stdout",
          "text": [
            "<class 'pandas.core.frame.DataFrame'>\n",
            "RangeIndex: 6895 entries, 0 to 6894\n",
            "Data columns (total 16 columns):\n",
            " #   Column            Non-Null Count  Dtype  \n",
            "---  ------            --------------  -----  \n",
            " 0   Unnamed: 0        6895 non-null   int64  \n",
            " 1   file_id           6895 non-null   int64  \n",
            " 2   input_file        6895 non-null   object \n",
            " 3   label_file        6895 non-null   object \n",
            " 4   nr_polynomials    6895 non-null   int64  \n",
            " 5   max_total_degree  6895 non-null   int64  \n",
            " 6   max_x1            6895 non-null   int64  \n",
            " 7   max_x2            6895 non-null   int64  \n",
            " 8   max_x3            6895 non-null   int64  \n",
            " 9   prop_x1           6895 non-null   float64\n",
            " 10  prop_x2           6895 non-null   float64\n",
            " 11  prop_x3           6895 non-null   float64\n",
            " 12  prop_mon_x1       6895 non-null   float64\n",
            " 13  prop_mon_x2       6895 non-null   float64\n",
            " 14  prop_mon_x3       6895 non-null   float64\n",
            " 15  label             6895 non-null   int64  \n",
            "dtypes: float64(6), int64(8), object(2)\n",
            "memory usage: 862.0+ KB\n"
          ]
        }
      ]
    },
    {
      "cell_type": "code",
      "source": [
        "df_metitarski_1.head()"
      ],
      "metadata": {
        "colab": {
          "base_uri": "https://localhost:8080/",
          "height": 206
        },
        "id": "pMepsqmNecTL",
        "outputId": "0b91947d-278b-4839-f034-e8c1f2c9f731"
      },
      "execution_count": 21,
      "outputs": [
        {
          "output_type": "execute_result",
          "data": {
            "text/plain": [
              "   Unnamed: 0  file_id       input_file          label_file  nr_polynomials  \\\n",
              "0           0     3940  poly3940.txt.ml  comp_times3940.txt               4   \n",
              "1           1     5554  poly5554.txt.ml  comp_times5554.txt              12   \n",
              "2           2     4063  poly4063.txt.ml  comp_times4063.txt               9   \n",
              "3           3     4732  poly4732.txt.ml  comp_times4732.txt               7   \n",
              "4           4     5205  poly5205.txt.ml  comp_times5205.txt               6   \n",
              "\n",
              "   max_total_degree  max_x1  max_x2  max_x3   prop_x1   prop_x2   prop_x3  \\\n",
              "0                 1       1       1       1  0.500000  0.500000  0.250000   \n",
              "1                10      10       9       1  0.666667  0.666667  0.250000   \n",
              "2                 1       1       1       1  0.444444  0.444444  0.555556   \n",
              "3                 8       4       2       1  0.428571  0.285714  0.428571   \n",
              "4                18      12       6       1  0.500000  0.333333  0.500000   \n",
              "\n",
              "   prop_mon_x1  prop_mon_x2  prop_mon_x3  label  \n",
              "0     0.400000     0.400000     0.200000      0  \n",
              "1     0.380952     0.523810     0.071429      4  \n",
              "2     0.181818     0.181818     0.227273      5  \n",
              "3     0.285714     0.142857     0.214286      2  \n",
              "4     0.550000     0.550000     0.150000      5  "
            ],
            "text/html": [
              "\n",
              "  <div id=\"df-ae26d3d6-5bbf-4782-85ac-e747e8a54691\">\n",
              "    <div class=\"colab-df-container\">\n",
              "      <div>\n",
              "<style scoped>\n",
              "    .dataframe tbody tr th:only-of-type {\n",
              "        vertical-align: middle;\n",
              "    }\n",
              "\n",
              "    .dataframe tbody tr th {\n",
              "        vertical-align: top;\n",
              "    }\n",
              "\n",
              "    .dataframe thead th {\n",
              "        text-align: right;\n",
              "    }\n",
              "</style>\n",
              "<table border=\"1\" class=\"dataframe\">\n",
              "  <thead>\n",
              "    <tr style=\"text-align: right;\">\n",
              "      <th></th>\n",
              "      <th>Unnamed: 0</th>\n",
              "      <th>file_id</th>\n",
              "      <th>input_file</th>\n",
              "      <th>label_file</th>\n",
              "      <th>nr_polynomials</th>\n",
              "      <th>max_total_degree</th>\n",
              "      <th>max_x1</th>\n",
              "      <th>max_x2</th>\n",
              "      <th>max_x3</th>\n",
              "      <th>prop_x1</th>\n",
              "      <th>prop_x2</th>\n",
              "      <th>prop_x3</th>\n",
              "      <th>prop_mon_x1</th>\n",
              "      <th>prop_mon_x2</th>\n",
              "      <th>prop_mon_x3</th>\n",
              "      <th>label</th>\n",
              "    </tr>\n",
              "  </thead>\n",
              "  <tbody>\n",
              "    <tr>\n",
              "      <th>0</th>\n",
              "      <td>0</td>\n",
              "      <td>3940</td>\n",
              "      <td>poly3940.txt.ml</td>\n",
              "      <td>comp_times3940.txt</td>\n",
              "      <td>4</td>\n",
              "      <td>1</td>\n",
              "      <td>1</td>\n",
              "      <td>1</td>\n",
              "      <td>1</td>\n",
              "      <td>0.500000</td>\n",
              "      <td>0.500000</td>\n",
              "      <td>0.250000</td>\n",
              "      <td>0.400000</td>\n",
              "      <td>0.400000</td>\n",
              "      <td>0.200000</td>\n",
              "      <td>0</td>\n",
              "    </tr>\n",
              "    <tr>\n",
              "      <th>1</th>\n",
              "      <td>1</td>\n",
              "      <td>5554</td>\n",
              "      <td>poly5554.txt.ml</td>\n",
              "      <td>comp_times5554.txt</td>\n",
              "      <td>12</td>\n",
              "      <td>10</td>\n",
              "      <td>10</td>\n",
              "      <td>9</td>\n",
              "      <td>1</td>\n",
              "      <td>0.666667</td>\n",
              "      <td>0.666667</td>\n",
              "      <td>0.250000</td>\n",
              "      <td>0.380952</td>\n",
              "      <td>0.523810</td>\n",
              "      <td>0.071429</td>\n",
              "      <td>4</td>\n",
              "    </tr>\n",
              "    <tr>\n",
              "      <th>2</th>\n",
              "      <td>2</td>\n",
              "      <td>4063</td>\n",
              "      <td>poly4063.txt.ml</td>\n",
              "      <td>comp_times4063.txt</td>\n",
              "      <td>9</td>\n",
              "      <td>1</td>\n",
              "      <td>1</td>\n",
              "      <td>1</td>\n",
              "      <td>1</td>\n",
              "      <td>0.444444</td>\n",
              "      <td>0.444444</td>\n",
              "      <td>0.555556</td>\n",
              "      <td>0.181818</td>\n",
              "      <td>0.181818</td>\n",
              "      <td>0.227273</td>\n",
              "      <td>5</td>\n",
              "    </tr>\n",
              "    <tr>\n",
              "      <th>3</th>\n",
              "      <td>3</td>\n",
              "      <td>4732</td>\n",
              "      <td>poly4732.txt.ml</td>\n",
              "      <td>comp_times4732.txt</td>\n",
              "      <td>7</td>\n",
              "      <td>8</td>\n",
              "      <td>4</td>\n",
              "      <td>2</td>\n",
              "      <td>1</td>\n",
              "      <td>0.428571</td>\n",
              "      <td>0.285714</td>\n",
              "      <td>0.428571</td>\n",
              "      <td>0.285714</td>\n",
              "      <td>0.142857</td>\n",
              "      <td>0.214286</td>\n",
              "      <td>2</td>\n",
              "    </tr>\n",
              "    <tr>\n",
              "      <th>4</th>\n",
              "      <td>4</td>\n",
              "      <td>5205</td>\n",
              "      <td>poly5205.txt.ml</td>\n",
              "      <td>comp_times5205.txt</td>\n",
              "      <td>6</td>\n",
              "      <td>18</td>\n",
              "      <td>12</td>\n",
              "      <td>6</td>\n",
              "      <td>1</td>\n",
              "      <td>0.500000</td>\n",
              "      <td>0.333333</td>\n",
              "      <td>0.500000</td>\n",
              "      <td>0.550000</td>\n",
              "      <td>0.550000</td>\n",
              "      <td>0.150000</td>\n",
              "      <td>5</td>\n",
              "    </tr>\n",
              "  </tbody>\n",
              "</table>\n",
              "</div>\n",
              "      <button class=\"colab-df-convert\" onclick=\"convertToInteractive('df-ae26d3d6-5bbf-4782-85ac-e747e8a54691')\"\n",
              "              title=\"Convert this dataframe to an interactive table.\"\n",
              "              style=\"display:none;\">\n",
              "        \n",
              "  <svg xmlns=\"http://www.w3.org/2000/svg\" height=\"24px\"viewBox=\"0 0 24 24\"\n",
              "       width=\"24px\">\n",
              "    <path d=\"M0 0h24v24H0V0z\" fill=\"none\"/>\n",
              "    <path d=\"M18.56 5.44l.94 2.06.94-2.06 2.06-.94-2.06-.94-.94-2.06-.94 2.06-2.06.94zm-11 1L8.5 8.5l.94-2.06 2.06-.94-2.06-.94L8.5 2.5l-.94 2.06-2.06.94zm10 10l.94 2.06.94-2.06 2.06-.94-2.06-.94-.94-2.06-.94 2.06-2.06.94z\"/><path d=\"M17.41 7.96l-1.37-1.37c-.4-.4-.92-.59-1.43-.59-.52 0-1.04.2-1.43.59L10.3 9.45l-7.72 7.72c-.78.78-.78 2.05 0 2.83L4 21.41c.39.39.9.59 1.41.59.51 0 1.02-.2 1.41-.59l7.78-7.78 2.81-2.81c.8-.78.8-2.07 0-2.86zM5.41 20L4 18.59l7.72-7.72 1.47 1.35L5.41 20z\"/>\n",
              "  </svg>\n",
              "      </button>\n",
              "      \n",
              "  <style>\n",
              "    .colab-df-container {\n",
              "      display:flex;\n",
              "      flex-wrap:wrap;\n",
              "      gap: 12px;\n",
              "    }\n",
              "\n",
              "    .colab-df-convert {\n",
              "      background-color: #E8F0FE;\n",
              "      border: none;\n",
              "      border-radius: 50%;\n",
              "      cursor: pointer;\n",
              "      display: none;\n",
              "      fill: #1967D2;\n",
              "      height: 32px;\n",
              "      padding: 0 0 0 0;\n",
              "      width: 32px;\n",
              "    }\n",
              "\n",
              "    .colab-df-convert:hover {\n",
              "      background-color: #E2EBFA;\n",
              "      box-shadow: 0px 1px 2px rgba(60, 64, 67, 0.3), 0px 1px 3px 1px rgba(60, 64, 67, 0.15);\n",
              "      fill: #174EA6;\n",
              "    }\n",
              "\n",
              "    [theme=dark] .colab-df-convert {\n",
              "      background-color: #3B4455;\n",
              "      fill: #D2E3FC;\n",
              "    }\n",
              "\n",
              "    [theme=dark] .colab-df-convert:hover {\n",
              "      background-color: #434B5C;\n",
              "      box-shadow: 0px 1px 3px 1px rgba(0, 0, 0, 0.15);\n",
              "      filter: drop-shadow(0px 1px 2px rgba(0, 0, 0, 0.3));\n",
              "      fill: #FFFFFF;\n",
              "    }\n",
              "  </style>\n",
              "\n",
              "      <script>\n",
              "        const buttonEl =\n",
              "          document.querySelector('#df-ae26d3d6-5bbf-4782-85ac-e747e8a54691 button.colab-df-convert');\n",
              "        buttonEl.style.display =\n",
              "          google.colab.kernel.accessAllowed ? 'block' : 'none';\n",
              "\n",
              "        async function convertToInteractive(key) {\n",
              "          const element = document.querySelector('#df-ae26d3d6-5bbf-4782-85ac-e747e8a54691');\n",
              "          const dataTable =\n",
              "            await google.colab.kernel.invokeFunction('convertToInteractive',\n",
              "                                                     [key], {});\n",
              "          if (!dataTable) return;\n",
              "\n",
              "          const docLinkHtml = 'Like what you see? Visit the ' +\n",
              "            '<a target=\"_blank\" href=https://colab.research.google.com/notebooks/data_table.ipynb>data table notebook</a>'\n",
              "            + ' to learn more about interactive tables.';\n",
              "          element.innerHTML = '';\n",
              "          dataTable['output_type'] = 'display_data';\n",
              "          await google.colab.output.renderOutput(dataTable, element);\n",
              "          const docLink = document.createElement('div');\n",
              "          docLink.innerHTML = docLinkHtml;\n",
              "          element.appendChild(docLink);\n",
              "        }\n",
              "      </script>\n",
              "    </div>\n",
              "  </div>\n",
              "  "
            ]
          },
          "metadata": {},
          "execution_count": 21
        }
      ]
    },
    {
      "cell_type": "code",
      "source": [
        "df_metitarski_1.label.unique()"
      ],
      "metadata": {
        "colab": {
          "base_uri": "https://localhost:8080/"
        },
        "id": "hokmQgrynMya",
        "outputId": "c42f854c-73d8-4baf-c052-217c1a8bd544"
      },
      "execution_count": 22,
      "outputs": [
        {
          "output_type": "execute_result",
          "data": {
            "text/plain": [
              "array([0, 4, 5, 2, 1, 3])"
            ]
          },
          "metadata": {},
          "execution_count": 22
        }
      ]
    },
    {
      "cell_type": "code",
      "source": [
        "df_metitarski_1.shape"
      ],
      "metadata": {
        "colab": {
          "base_uri": "https://localhost:8080/"
        },
        "id": "sXrTrdGMvJUx",
        "outputId": "e1f4d12e-1bf4-45b5-e393-1d1c6e4fc7b9"
      },
      "execution_count": 23,
      "outputs": [
        {
          "output_type": "execute_result",
          "data": {
            "text/plain": [
              "(6895, 16)"
            ]
          },
          "metadata": {},
          "execution_count": 23
        }
      ]
    },
    {
      "cell_type": "code",
      "source": [
        "df_metitarski_2 = pd.read_csv(path_metitarski, sep='\\t')"
      ],
      "metadata": {
        "id": "yUwCZ-yu2C9u"
      },
      "execution_count": 24,
      "outputs": []
    },
    {
      "cell_type": "code",
      "source": [
        "df_metitarski_2.info()"
      ],
      "metadata": {
        "colab": {
          "base_uri": "https://localhost:8080/"
        },
        "id": "XIja9j4X2Icn",
        "outputId": "870a77f4-5caf-469a-a890-4c2a64cd1c43"
      },
      "execution_count": 25,
      "outputs": [
        {
          "output_type": "stream",
          "name": "stdout",
          "text": [
            "<class 'pandas.core.frame.DataFrame'>\n",
            "RangeIndex: 41369 entries, 0 to 41368\n",
            "Data columns (total 16 columns):\n",
            " #   Column            Non-Null Count  Dtype  \n",
            "---  ------            --------------  -----  \n",
            " 0   Unnamed: 0        41369 non-null  int64  \n",
            " 1   file_id           41369 non-null  int64  \n",
            " 2   input_file        41369 non-null  object \n",
            " 3   label_file        41369 non-null  object \n",
            " 4   nr_polynomials    41369 non-null  int64  \n",
            " 5   max_total_degree  41369 non-null  int64  \n",
            " 6   max_x1            41369 non-null  int64  \n",
            " 7   max_x2            41369 non-null  int64  \n",
            " 8   max_x3            41369 non-null  int64  \n",
            " 9   prop_x1           41369 non-null  float64\n",
            " 10  prop_x2           41369 non-null  float64\n",
            " 11  prop_x3           41369 non-null  float64\n",
            " 12  prop_mon_x1       41369 non-null  float64\n",
            " 13  prop_mon_x2       41369 non-null  float64\n",
            " 14  prop_mon_x3       41369 non-null  float64\n",
            " 15  label             41369 non-null  int64  \n",
            "dtypes: float64(6), int64(8), object(2)\n",
            "memory usage: 5.1+ MB\n"
          ]
        }
      ]
    },
    {
      "cell_type": "code",
      "source": [
        "df_metitarski_2.head()"
      ],
      "metadata": {
        "colab": {
          "base_uri": "https://localhost:8080/",
          "height": 206
        },
        "id": "IQdXyDGy2MdE",
        "outputId": "8e1f081e-b043-4675-dfe3-f1f34c86d2a2"
      },
      "execution_count": 26,
      "outputs": [
        {
          "output_type": "execute_result",
          "data": {
            "text/plain": [
              "   Unnamed: 0  file_id             input_file                label_file  \\\n",
              "0           0      415   poly415-perm0.txt.ml   comp_times415-perm0.txt   \n",
              "1           1     2230  poly2230-perm2.txt.ml  comp_times2230-perm2.txt   \n",
              "2           2     6506  poly6506-perm3.txt.ml  comp_times6506-perm3.txt   \n",
              "3           3     3998  poly3998-perm5.txt.ml  comp_times3998-perm5.txt   \n",
              "4           4     3730  poly3730-perm2.txt.ml  comp_times3730-perm2.txt   \n",
              "\n",
              "   nr_polynomials  max_total_degree  max_x1  max_x2  max_x3   prop_x1  \\\n",
              "0              10                 2       2       2       1  0.500000   \n",
              "1               6                 4       1       2       2  0.333333   \n",
              "2               6                16      16       1       1  0.500000   \n",
              "3               9                 3       3       3       3  0.555556   \n",
              "4              14                 9       1       9       3  0.214286   \n",
              "\n",
              "    prop_x2   prop_x3  prop_mon_x1  prop_mon_x2  prop_mon_x3  label  \n",
              "0  0.500000  0.500000     0.250000     0.250000     0.250000      4  \n",
              "1  0.666667  0.500000     0.333333     0.476190     0.428571      0  \n",
              "2  0.333333  0.500000     0.500000     0.100000     0.150000      5  \n",
              "3  0.555556  0.555556     0.350000     0.350000     0.350000      1  \n",
              "4  0.785714  0.142857     0.166667     0.611111     0.111111      3  "
            ],
            "text/html": [
              "\n",
              "  <div id=\"df-9b0fbb7f-6093-446d-9b04-6e0adc994903\">\n",
              "    <div class=\"colab-df-container\">\n",
              "      <div>\n",
              "<style scoped>\n",
              "    .dataframe tbody tr th:only-of-type {\n",
              "        vertical-align: middle;\n",
              "    }\n",
              "\n",
              "    .dataframe tbody tr th {\n",
              "        vertical-align: top;\n",
              "    }\n",
              "\n",
              "    .dataframe thead th {\n",
              "        text-align: right;\n",
              "    }\n",
              "</style>\n",
              "<table border=\"1\" class=\"dataframe\">\n",
              "  <thead>\n",
              "    <tr style=\"text-align: right;\">\n",
              "      <th></th>\n",
              "      <th>Unnamed: 0</th>\n",
              "      <th>file_id</th>\n",
              "      <th>input_file</th>\n",
              "      <th>label_file</th>\n",
              "      <th>nr_polynomials</th>\n",
              "      <th>max_total_degree</th>\n",
              "      <th>max_x1</th>\n",
              "      <th>max_x2</th>\n",
              "      <th>max_x3</th>\n",
              "      <th>prop_x1</th>\n",
              "      <th>prop_x2</th>\n",
              "      <th>prop_x3</th>\n",
              "      <th>prop_mon_x1</th>\n",
              "      <th>prop_mon_x2</th>\n",
              "      <th>prop_mon_x3</th>\n",
              "      <th>label</th>\n",
              "    </tr>\n",
              "  </thead>\n",
              "  <tbody>\n",
              "    <tr>\n",
              "      <th>0</th>\n",
              "      <td>0</td>\n",
              "      <td>415</td>\n",
              "      <td>poly415-perm0.txt.ml</td>\n",
              "      <td>comp_times415-perm0.txt</td>\n",
              "      <td>10</td>\n",
              "      <td>2</td>\n",
              "      <td>2</td>\n",
              "      <td>2</td>\n",
              "      <td>1</td>\n",
              "      <td>0.500000</td>\n",
              "      <td>0.500000</td>\n",
              "      <td>0.500000</td>\n",
              "      <td>0.250000</td>\n",
              "      <td>0.250000</td>\n",
              "      <td>0.250000</td>\n",
              "      <td>4</td>\n",
              "    </tr>\n",
              "    <tr>\n",
              "      <th>1</th>\n",
              "      <td>1</td>\n",
              "      <td>2230</td>\n",
              "      <td>poly2230-perm2.txt.ml</td>\n",
              "      <td>comp_times2230-perm2.txt</td>\n",
              "      <td>6</td>\n",
              "      <td>4</td>\n",
              "      <td>1</td>\n",
              "      <td>2</td>\n",
              "      <td>2</td>\n",
              "      <td>0.333333</td>\n",
              "      <td>0.666667</td>\n",
              "      <td>0.500000</td>\n",
              "      <td>0.333333</td>\n",
              "      <td>0.476190</td>\n",
              "      <td>0.428571</td>\n",
              "      <td>0</td>\n",
              "    </tr>\n",
              "    <tr>\n",
              "      <th>2</th>\n",
              "      <td>2</td>\n",
              "      <td>6506</td>\n",
              "      <td>poly6506-perm3.txt.ml</td>\n",
              "      <td>comp_times6506-perm3.txt</td>\n",
              "      <td>6</td>\n",
              "      <td>16</td>\n",
              "      <td>16</td>\n",
              "      <td>1</td>\n",
              "      <td>1</td>\n",
              "      <td>0.500000</td>\n",
              "      <td>0.333333</td>\n",
              "      <td>0.500000</td>\n",
              "      <td>0.500000</td>\n",
              "      <td>0.100000</td>\n",
              "      <td>0.150000</td>\n",
              "      <td>5</td>\n",
              "    </tr>\n",
              "    <tr>\n",
              "      <th>3</th>\n",
              "      <td>3</td>\n",
              "      <td>3998</td>\n",
              "      <td>poly3998-perm5.txt.ml</td>\n",
              "      <td>comp_times3998-perm5.txt</td>\n",
              "      <td>9</td>\n",
              "      <td>3</td>\n",
              "      <td>3</td>\n",
              "      <td>3</td>\n",
              "      <td>3</td>\n",
              "      <td>0.555556</td>\n",
              "      <td>0.555556</td>\n",
              "      <td>0.555556</td>\n",
              "      <td>0.350000</td>\n",
              "      <td>0.350000</td>\n",
              "      <td>0.350000</td>\n",
              "      <td>1</td>\n",
              "    </tr>\n",
              "    <tr>\n",
              "      <th>4</th>\n",
              "      <td>4</td>\n",
              "      <td>3730</td>\n",
              "      <td>poly3730-perm2.txt.ml</td>\n",
              "      <td>comp_times3730-perm2.txt</td>\n",
              "      <td>14</td>\n",
              "      <td>9</td>\n",
              "      <td>1</td>\n",
              "      <td>9</td>\n",
              "      <td>3</td>\n",
              "      <td>0.214286</td>\n",
              "      <td>0.785714</td>\n",
              "      <td>0.142857</td>\n",
              "      <td>0.166667</td>\n",
              "      <td>0.611111</td>\n",
              "      <td>0.111111</td>\n",
              "      <td>3</td>\n",
              "    </tr>\n",
              "  </tbody>\n",
              "</table>\n",
              "</div>\n",
              "      <button class=\"colab-df-convert\" onclick=\"convertToInteractive('df-9b0fbb7f-6093-446d-9b04-6e0adc994903')\"\n",
              "              title=\"Convert this dataframe to an interactive table.\"\n",
              "              style=\"display:none;\">\n",
              "        \n",
              "  <svg xmlns=\"http://www.w3.org/2000/svg\" height=\"24px\"viewBox=\"0 0 24 24\"\n",
              "       width=\"24px\">\n",
              "    <path d=\"M0 0h24v24H0V0z\" fill=\"none\"/>\n",
              "    <path d=\"M18.56 5.44l.94 2.06.94-2.06 2.06-.94-2.06-.94-.94-2.06-.94 2.06-2.06.94zm-11 1L8.5 8.5l.94-2.06 2.06-.94-2.06-.94L8.5 2.5l-.94 2.06-2.06.94zm10 10l.94 2.06.94-2.06 2.06-.94-2.06-.94-.94-2.06-.94 2.06-2.06.94z\"/><path d=\"M17.41 7.96l-1.37-1.37c-.4-.4-.92-.59-1.43-.59-.52 0-1.04.2-1.43.59L10.3 9.45l-7.72 7.72c-.78.78-.78 2.05 0 2.83L4 21.41c.39.39.9.59 1.41.59.51 0 1.02-.2 1.41-.59l7.78-7.78 2.81-2.81c.8-.78.8-2.07 0-2.86zM5.41 20L4 18.59l7.72-7.72 1.47 1.35L5.41 20z\"/>\n",
              "  </svg>\n",
              "      </button>\n",
              "      \n",
              "  <style>\n",
              "    .colab-df-container {\n",
              "      display:flex;\n",
              "      flex-wrap:wrap;\n",
              "      gap: 12px;\n",
              "    }\n",
              "\n",
              "    .colab-df-convert {\n",
              "      background-color: #E8F0FE;\n",
              "      border: none;\n",
              "      border-radius: 50%;\n",
              "      cursor: pointer;\n",
              "      display: none;\n",
              "      fill: #1967D2;\n",
              "      height: 32px;\n",
              "      padding: 0 0 0 0;\n",
              "      width: 32px;\n",
              "    }\n",
              "\n",
              "    .colab-df-convert:hover {\n",
              "      background-color: #E2EBFA;\n",
              "      box-shadow: 0px 1px 2px rgba(60, 64, 67, 0.3), 0px 1px 3px 1px rgba(60, 64, 67, 0.15);\n",
              "      fill: #174EA6;\n",
              "    }\n",
              "\n",
              "    [theme=dark] .colab-df-convert {\n",
              "      background-color: #3B4455;\n",
              "      fill: #D2E3FC;\n",
              "    }\n",
              "\n",
              "    [theme=dark] .colab-df-convert:hover {\n",
              "      background-color: #434B5C;\n",
              "      box-shadow: 0px 1px 3px 1px rgba(0, 0, 0, 0.15);\n",
              "      filter: drop-shadow(0px 1px 2px rgba(0, 0, 0, 0.3));\n",
              "      fill: #FFFFFF;\n",
              "    }\n",
              "  </style>\n",
              "\n",
              "      <script>\n",
              "        const buttonEl =\n",
              "          document.querySelector('#df-9b0fbb7f-6093-446d-9b04-6e0adc994903 button.colab-df-convert');\n",
              "        buttonEl.style.display =\n",
              "          google.colab.kernel.accessAllowed ? 'block' : 'none';\n",
              "\n",
              "        async function convertToInteractive(key) {\n",
              "          const element = document.querySelector('#df-9b0fbb7f-6093-446d-9b04-6e0adc994903');\n",
              "          const dataTable =\n",
              "            await google.colab.kernel.invokeFunction('convertToInteractive',\n",
              "                                                     [key], {});\n",
              "          if (!dataTable) return;\n",
              "\n",
              "          const docLinkHtml = 'Like what you see? Visit the ' +\n",
              "            '<a target=\"_blank\" href=https://colab.research.google.com/notebooks/data_table.ipynb>data table notebook</a>'\n",
              "            + ' to learn more about interactive tables.';\n",
              "          element.innerHTML = '';\n",
              "          dataTable['output_type'] = 'display_data';\n",
              "          await google.colab.output.renderOutput(dataTable, element);\n",
              "          const docLink = document.createElement('div');\n",
              "          docLink.innerHTML = docLinkHtml;\n",
              "          element.appendChild(docLink);\n",
              "        }\n",
              "      </script>\n",
              "    </div>\n",
              "  </div>\n",
              "  "
            ]
          },
          "metadata": {},
          "execution_count": 26
        }
      ]
    },
    {
      "cell_type": "code",
      "source": [
        "df_metitarski_2.label.unique()"
      ],
      "metadata": {
        "colab": {
          "base_uri": "https://localhost:8080/"
        },
        "id": "-68rUglL2Mk5",
        "outputId": "3778349a-db6f-45b4-ec50-616e52913aa1"
      },
      "execution_count": 27,
      "outputs": [
        {
          "output_type": "execute_result",
          "data": {
            "text/plain": [
              "array([4, 0, 5, 1, 3, 2])"
            ]
          },
          "metadata": {},
          "execution_count": 27
        }
      ]
    },
    {
      "cell_type": "code",
      "source": [
        "df_metitarski_2.shape"
      ],
      "metadata": {
        "colab": {
          "base_uri": "https://localhost:8080/"
        },
        "id": "7caFlqKFvcP8",
        "outputId": "a581cfd8-d2c5-4416-e033-0c947bbfb859"
      },
      "execution_count": 28,
      "outputs": [
        {
          "output_type": "execute_result",
          "data": {
            "text/plain": [
              "(41369, 16)"
            ]
          },
          "metadata": {},
          "execution_count": 28
        }
      ]
    },
    {
      "cell_type": "code",
      "source": [
        "COMPARE_COLUMNS = ['nr_polynomials', 'max_total_degree', 'max_x1', 'max_x2', 'max_x3', 'prop_x1', 'prop_x2', 'prop_x3', 'prop_mon_x1', 'prop_mon_x2', 'prop_mon_x3', 'label']"
      ],
      "metadata": {
        "id": "yUVEMh7avkAJ"
      },
      "execution_count": 29,
      "outputs": []
    },
    {
      "cell_type": "code",
      "source": [
        "df_1_not_2 = get_dataframe_differences(df_1=df_metitarski_1, df_2=df_metitarski_2, target_columns=COMPARE_COLUMNS)"
      ],
      "metadata": {
        "id": "6kd1cZFkx74E"
      },
      "execution_count": 30,
      "outputs": []
    },
    {
      "cell_type": "code",
      "source": [
        "print(f\"- There are {df_1_not_2.shape[0]} records in the original dataset (df_metitarski_1) that are not in the newly generated one (df_metitarski_2)\")"
      ],
      "metadata": {
        "colab": {
          "base_uri": "https://localhost:8080/"
        },
        "id": "Nl-b2Y9-zCSN",
        "outputId": "9110c1c6-6f9b-43bb-f6c0-9615fb555577"
      },
      "execution_count": 31,
      "outputs": [
        {
          "output_type": "stream",
          "name": "stdout",
          "text": [
            "- There are 0 in the original dataset (df_metitarski_1) that are not in the newly generated one (df_metitarski_2)\n"
          ]
        }
      ]
    },
    {
      "cell_type": "code",
      "source": [
        "df_2_not_1 = get_dataframe_differences(df_1=df_metitarski_2, df_2=df_metitarski_1, target_columns=COMPARE_COLUMNS)"
      ],
      "metadata": {
        "id": "pvk5jJ_zzFM0"
      },
      "execution_count": 32,
      "outputs": []
    },
    {
      "cell_type": "code",
      "source": [
        "print(f\"- There are {df_2_not_1.shape[0]} records in the newly generated dataset (df_metitarski_2) that are not in the original one (df_metitarski_1\")"
      ],
      "metadata": {
        "colab": {
          "base_uri": "https://localhost:8080/"
        },
        "id": "YyBuUrI2zMrs",
        "outputId": "4893f950-2c97-4c87-af0f-ff002af9afc8"
      },
      "execution_count": 33,
      "outputs": [
        {
          "output_type": "stream",
          "name": "stdout",
          "text": [
            "- There are 32212 records in the newly generated dataset (df_metitarski_2) that are not in the original one (df_metitarski_1\n"
          ]
        }
      ]
    },
    {
      "cell_type": "markdown",
      "source": [
        "## &#129504; MetiTarski RTF"
      ],
      "metadata": {
        "id": "H4S3txysZcwj"
      }
    },
    {
      "cell_type": "code",
      "source": [
        "FEATURE_COLUMNS = ['nr_polynomials', 'max_total_degree', 'max_x1', 'max_x2', 'max_x3', 'prop_x1', 'prop_x2', 'prop_x3', 'prop_mon_x1', 'prop_mon_x2', 'prop_mon_x3']\n",
        "\n",
        "FEATURE_COLUMNS"
      ],
      "metadata": {
        "colab": {
          "base_uri": "https://localhost:8080/"
        },
        "id": "vZtaD9pxUHPp",
        "outputId": "94b2ae62-2852-40ad-e207-6a93858b243a"
      },
      "execution_count": 34,
      "outputs": [
        {
          "output_type": "execute_result",
          "data": {
            "text/plain": [
              "['nr_polynomials',\n",
              " 'max_total_degree',\n",
              " 'max_x1',\n",
              " 'max_x2',\n",
              " 'max_x3',\n",
              " 'prop_x1',\n",
              " 'prop_x2',\n",
              " 'prop_x3',\n",
              " 'prop_mon_x1',\n",
              " 'prop_mon_x2',\n",
              " 'prop_mon_x3']"
            ]
          },
          "metadata": {},
          "execution_count": 34
        }
      ]
    },
    {
      "cell_type": "code",
      "source": [
        "def training_set_scaler(input_df: pd.DataFrame):\n",
        "    scaler = StandardScaler()\n",
        "    scaler = scaler.fit(input_df)\n",
        "\n",
        "    return scaler"
      ],
      "metadata": {
        "id": "x4vf3x3uY-B3"
      },
      "execution_count": 35,
      "outputs": []
    },
    {
      "cell_type": "code",
      "source": [
        "def scale_data(input_df: pd.DataFrame, scaler):\n",
        "    df_scaled = pd.DataFrame(scaler.transform(input_df), index=input_df.index, columns=input_df.columns)\n",
        "\n",
        "    return df_scaled"
      ],
      "metadata": {
        "id": "gPHHXjG1cQWL"
      },
      "execution_count": 36,
      "outputs": []
    },
    {
      "cell_type": "markdown",
      "source": [
        "### D1: Original MetiTarski Data"
      ],
      "metadata": {
        "id": "8hi8osi2dbLQ"
      }
    },
    {
      "cell_type": "code",
      "source": [
        "# original metitarski dataset features\n",
        "df_features_1 = df_metitarski_1[FEATURE_COLUMNS].copy().reset_index()"
      ],
      "metadata": {
        "id": "WeSEPZ20dIPX"
      },
      "execution_count": 37,
      "outputs": []
    },
    {
      "cell_type": "code",
      "source": [
        "df_features_1.drop(['index'], axis=1, inplace=True)"
      ],
      "metadata": {
        "id": "hfvJ4eJVdIMQ"
      },
      "execution_count": 38,
      "outputs": []
    },
    {
      "cell_type": "code",
      "source": [
        "X_train_1, X_test_1, y_train_1, y_test_1 = train_test_split(df_features_1, df_metitarski_1.label, test_size=0.1)\n",
        "X_train_1.shape, X_test_1.shape, y_train_1.shape, y_test_1.shape"
      ],
      "metadata": {
        "colab": {
          "base_uri": "https://localhost:8080/"
        },
        "id": "RykSrfN0dII-",
        "outputId": "ebfd6732-a5b5-4b18-9b84-fa5a59ef4297"
      },
      "execution_count": 39,
      "outputs": [
        {
          "output_type": "execute_result",
          "data": {
            "text/plain": [
              "((6205, 11), (690, 11), (6205,), (690,))"
            ]
          },
          "metadata": {},
          "execution_count": 39
        }
      ]
    },
    {
      "cell_type": "code",
      "source": [
        "y_train_1.value_counts()"
      ],
      "metadata": {
        "colab": {
          "base_uri": "https://localhost:8080/"
        },
        "id": "IoljG33N7CL0",
        "outputId": "549bdff9-a5cc-4669-a017-45cad04e0981"
      },
      "execution_count": 40,
      "outputs": [
        {
          "output_type": "execute_result",
          "data": {
            "text/plain": [
              "5    2386\n",
              "4    1111\n",
              "3    1095\n",
              "2     584\n",
              "1     519\n",
              "0     510\n",
              "Name: label, dtype: int64"
            ]
          },
          "metadata": {},
          "execution_count": 40
        }
      ]
    },
    {
      "cell_type": "code",
      "source": [
        "# scale original training set\n",
        "scaler_1 = training_set_scaler(input_df=X_train_1)"
      ],
      "metadata": {
        "id": "s_XOXSKJdH_e"
      },
      "execution_count": 41,
      "outputs": []
    },
    {
      "cell_type": "code",
      "source": [
        "# rescale data\n",
        "X_train_D1 = scale_data(input_df=X_train_1, scaler=scaler_1)\n",
        "X_train_D1.head()"
      ],
      "metadata": {
        "colab": {
          "base_uri": "https://localhost:8080/",
          "height": 206
        },
        "id": "2rebRKwIe9dZ",
        "outputId": "99a5acbc-517f-4b14-a65e-6c64b4d49c4a"
      },
      "execution_count": 42,
      "outputs": [
        {
          "output_type": "execute_result",
          "data": {
            "text/plain": [
              "      nr_polynomials  max_total_degree    max_x1    max_x2    max_x3  \\\n",
              "4679       -0.233361         -0.900145 -0.754550 -0.612280 -0.448217   \n",
              "3325       -0.532783          0.852412  0.988910 -0.612280 -0.448217   \n",
              "5483       -0.532783         -0.740821 -0.754550 -0.612280 -0.448217   \n",
              "668         3.359701         -0.262851 -0.596054 -0.123512 -0.448217   \n",
              "5815        2.760857          0.693089  0.196428  0.365257 -0.448217   \n",
              "\n",
              "       prop_x1   prop_x2   prop_x3  prop_mon_x1  prop_mon_x2  prop_mon_x3  \n",
              "4679 -0.867434 -0.600184  0.204174    -1.586091    -0.810929    -0.131236  \n",
              "3325 -0.405658 -0.095861 -0.463285     0.354414    -0.889155    -0.808965  \n",
              "5483  0.671821 -0.095861 -1.631339    -0.378717    -0.206453    -1.068383  \n",
              "668  -1.256299 -1.024877  1.258058    -0.178415     0.898875     1.514678  \n",
              "5815  0.545059  1.773100  0.498642     1.457968     2.040077     1.011329  "
            ],
            "text/html": [
              "\n",
              "  <div id=\"df-ccdb45a2-90b2-4ca1-b555-dda861db8183\">\n",
              "    <div class=\"colab-df-container\">\n",
              "      <div>\n",
              "<style scoped>\n",
              "    .dataframe tbody tr th:only-of-type {\n",
              "        vertical-align: middle;\n",
              "    }\n",
              "\n",
              "    .dataframe tbody tr th {\n",
              "        vertical-align: top;\n",
              "    }\n",
              "\n",
              "    .dataframe thead th {\n",
              "        text-align: right;\n",
              "    }\n",
              "</style>\n",
              "<table border=\"1\" class=\"dataframe\">\n",
              "  <thead>\n",
              "    <tr style=\"text-align: right;\">\n",
              "      <th></th>\n",
              "      <th>nr_polynomials</th>\n",
              "      <th>max_total_degree</th>\n",
              "      <th>max_x1</th>\n",
              "      <th>max_x2</th>\n",
              "      <th>max_x3</th>\n",
              "      <th>prop_x1</th>\n",
              "      <th>prop_x2</th>\n",
              "      <th>prop_x3</th>\n",
              "      <th>prop_mon_x1</th>\n",
              "      <th>prop_mon_x2</th>\n",
              "      <th>prop_mon_x3</th>\n",
              "    </tr>\n",
              "  </thead>\n",
              "  <tbody>\n",
              "    <tr>\n",
              "      <th>4679</th>\n",
              "      <td>-0.233361</td>\n",
              "      <td>-0.900145</td>\n",
              "      <td>-0.754550</td>\n",
              "      <td>-0.612280</td>\n",
              "      <td>-0.448217</td>\n",
              "      <td>-0.867434</td>\n",
              "      <td>-0.600184</td>\n",
              "      <td>0.204174</td>\n",
              "      <td>-1.586091</td>\n",
              "      <td>-0.810929</td>\n",
              "      <td>-0.131236</td>\n",
              "    </tr>\n",
              "    <tr>\n",
              "      <th>3325</th>\n",
              "      <td>-0.532783</td>\n",
              "      <td>0.852412</td>\n",
              "      <td>0.988910</td>\n",
              "      <td>-0.612280</td>\n",
              "      <td>-0.448217</td>\n",
              "      <td>-0.405658</td>\n",
              "      <td>-0.095861</td>\n",
              "      <td>-0.463285</td>\n",
              "      <td>0.354414</td>\n",
              "      <td>-0.889155</td>\n",
              "      <td>-0.808965</td>\n",
              "    </tr>\n",
              "    <tr>\n",
              "      <th>5483</th>\n",
              "      <td>-0.532783</td>\n",
              "      <td>-0.740821</td>\n",
              "      <td>-0.754550</td>\n",
              "      <td>-0.612280</td>\n",
              "      <td>-0.448217</td>\n",
              "      <td>0.671821</td>\n",
              "      <td>-0.095861</td>\n",
              "      <td>-1.631339</td>\n",
              "      <td>-0.378717</td>\n",
              "      <td>-0.206453</td>\n",
              "      <td>-1.068383</td>\n",
              "    </tr>\n",
              "    <tr>\n",
              "      <th>668</th>\n",
              "      <td>3.359701</td>\n",
              "      <td>-0.262851</td>\n",
              "      <td>-0.596054</td>\n",
              "      <td>-0.123512</td>\n",
              "      <td>-0.448217</td>\n",
              "      <td>-1.256299</td>\n",
              "      <td>-1.024877</td>\n",
              "      <td>1.258058</td>\n",
              "      <td>-0.178415</td>\n",
              "      <td>0.898875</td>\n",
              "      <td>1.514678</td>\n",
              "    </tr>\n",
              "    <tr>\n",
              "      <th>5815</th>\n",
              "      <td>2.760857</td>\n",
              "      <td>0.693089</td>\n",
              "      <td>0.196428</td>\n",
              "      <td>0.365257</td>\n",
              "      <td>-0.448217</td>\n",
              "      <td>0.545059</td>\n",
              "      <td>1.773100</td>\n",
              "      <td>0.498642</td>\n",
              "      <td>1.457968</td>\n",
              "      <td>2.040077</td>\n",
              "      <td>1.011329</td>\n",
              "    </tr>\n",
              "  </tbody>\n",
              "</table>\n",
              "</div>\n",
              "      <button class=\"colab-df-convert\" onclick=\"convertToInteractive('df-ccdb45a2-90b2-4ca1-b555-dda861db8183')\"\n",
              "              title=\"Convert this dataframe to an interactive table.\"\n",
              "              style=\"display:none;\">\n",
              "        \n",
              "  <svg xmlns=\"http://www.w3.org/2000/svg\" height=\"24px\"viewBox=\"0 0 24 24\"\n",
              "       width=\"24px\">\n",
              "    <path d=\"M0 0h24v24H0V0z\" fill=\"none\"/>\n",
              "    <path d=\"M18.56 5.44l.94 2.06.94-2.06 2.06-.94-2.06-.94-.94-2.06-.94 2.06-2.06.94zm-11 1L8.5 8.5l.94-2.06 2.06-.94-2.06-.94L8.5 2.5l-.94 2.06-2.06.94zm10 10l.94 2.06.94-2.06 2.06-.94-2.06-.94-.94-2.06-.94 2.06-2.06.94z\"/><path d=\"M17.41 7.96l-1.37-1.37c-.4-.4-.92-.59-1.43-.59-.52 0-1.04.2-1.43.59L10.3 9.45l-7.72 7.72c-.78.78-.78 2.05 0 2.83L4 21.41c.39.39.9.59 1.41.59.51 0 1.02-.2 1.41-.59l7.78-7.78 2.81-2.81c.8-.78.8-2.07 0-2.86zM5.41 20L4 18.59l7.72-7.72 1.47 1.35L5.41 20z\"/>\n",
              "  </svg>\n",
              "      </button>\n",
              "      \n",
              "  <style>\n",
              "    .colab-df-container {\n",
              "      display:flex;\n",
              "      flex-wrap:wrap;\n",
              "      gap: 12px;\n",
              "    }\n",
              "\n",
              "    .colab-df-convert {\n",
              "      background-color: #E8F0FE;\n",
              "      border: none;\n",
              "      border-radius: 50%;\n",
              "      cursor: pointer;\n",
              "      display: none;\n",
              "      fill: #1967D2;\n",
              "      height: 32px;\n",
              "      padding: 0 0 0 0;\n",
              "      width: 32px;\n",
              "    }\n",
              "\n",
              "    .colab-df-convert:hover {\n",
              "      background-color: #E2EBFA;\n",
              "      box-shadow: 0px 1px 2px rgba(60, 64, 67, 0.3), 0px 1px 3px 1px rgba(60, 64, 67, 0.15);\n",
              "      fill: #174EA6;\n",
              "    }\n",
              "\n",
              "    [theme=dark] .colab-df-convert {\n",
              "      background-color: #3B4455;\n",
              "      fill: #D2E3FC;\n",
              "    }\n",
              "\n",
              "    [theme=dark] .colab-df-convert:hover {\n",
              "      background-color: #434B5C;\n",
              "      box-shadow: 0px 1px 3px 1px rgba(0, 0, 0, 0.15);\n",
              "      filter: drop-shadow(0px 1px 2px rgba(0, 0, 0, 0.3));\n",
              "      fill: #FFFFFF;\n",
              "    }\n",
              "  </style>\n",
              "\n",
              "      <script>\n",
              "        const buttonEl =\n",
              "          document.querySelector('#df-ccdb45a2-90b2-4ca1-b555-dda861db8183 button.colab-df-convert');\n",
              "        buttonEl.style.display =\n",
              "          google.colab.kernel.accessAllowed ? 'block' : 'none';\n",
              "\n",
              "        async function convertToInteractive(key) {\n",
              "          const element = document.querySelector('#df-ccdb45a2-90b2-4ca1-b555-dda861db8183');\n",
              "          const dataTable =\n",
              "            await google.colab.kernel.invokeFunction('convertToInteractive',\n",
              "                                                     [key], {});\n",
              "          if (!dataTable) return;\n",
              "\n",
              "          const docLinkHtml = 'Like what you see? Visit the ' +\n",
              "            '<a target=\"_blank\" href=https://colab.research.google.com/notebooks/data_table.ipynb>data table notebook</a>'\n",
              "            + ' to learn more about interactive tables.';\n",
              "          element.innerHTML = '';\n",
              "          dataTable['output_type'] = 'display_data';\n",
              "          await google.colab.output.renderOutput(dataTable, element);\n",
              "          const docLink = document.createElement('div');\n",
              "          docLink.innerHTML = docLinkHtml;\n",
              "          element.appendChild(docLink);\n",
              "        }\n",
              "      </script>\n",
              "    </div>\n",
              "  </div>\n",
              "  "
            ]
          },
          "metadata": {},
          "execution_count": 42
        }
      ]
    },
    {
      "cell_type": "code",
      "source": [
        "X_test_D1 = scale_data(input_df=X_test_1, scaler=scaler_1)\n",
        "X_test_D1.head()"
      ],
      "metadata": {
        "colab": {
          "base_uri": "https://localhost:8080/",
          "height": 206
        },
        "id": "Z-X6zLDBfHJs",
        "outputId": "fdfdb99d-64d5-42de-859f-138f8a1aa355"
      },
      "execution_count": 43,
      "outputs": [
        {
          "output_type": "execute_result",
          "data": {
            "text/plain": [
              "      nr_polynomials  max_total_degree    max_x1    max_x2    max_x3  \\\n",
              "123        -0.832204         -0.740821 -0.754550 -0.612280 -0.448217   \n",
              "2246        0.365483         -0.103528  0.037932 -0.123512 -0.448217   \n",
              "6050        0.964326         -0.581498 -0.437557 -0.123512  1.760828   \n",
              "1838        0.066061          0.693089  0.196428  0.365257 -0.448217   \n",
              "560        -1.131626         -0.740821 -0.596054 -0.612280 -0.448217   \n",
              "\n",
              "       prop_x1   prop_x2   prop_x3  prop_mon_x1  prop_mon_x2  prop_mon_x3  \n",
              "123   0.240830  0.610191 -1.397728    -0.586437     0.223397    -0.872378  \n",
              "2246 -0.046498 -0.488113 -0.463285     0.213286    -0.722272    -0.495069  \n",
              "6050 -0.111800 -0.416794  0.386209    -0.378717    -0.528840     0.254648  \n",
              "1838  0.402451  0.786704 -1.047312     2.435558     2.320647     0.709885  \n",
              "560   1.210560 -1.860992 -1.047312     0.556024    -1.431524    -0.980181  "
            ],
            "text/html": [
              "\n",
              "  <div id=\"df-3d7d263b-b0e3-41ba-9504-e5a706efc159\">\n",
              "    <div class=\"colab-df-container\">\n",
              "      <div>\n",
              "<style scoped>\n",
              "    .dataframe tbody tr th:only-of-type {\n",
              "        vertical-align: middle;\n",
              "    }\n",
              "\n",
              "    .dataframe tbody tr th {\n",
              "        vertical-align: top;\n",
              "    }\n",
              "\n",
              "    .dataframe thead th {\n",
              "        text-align: right;\n",
              "    }\n",
              "</style>\n",
              "<table border=\"1\" class=\"dataframe\">\n",
              "  <thead>\n",
              "    <tr style=\"text-align: right;\">\n",
              "      <th></th>\n",
              "      <th>nr_polynomials</th>\n",
              "      <th>max_total_degree</th>\n",
              "      <th>max_x1</th>\n",
              "      <th>max_x2</th>\n",
              "      <th>max_x3</th>\n",
              "      <th>prop_x1</th>\n",
              "      <th>prop_x2</th>\n",
              "      <th>prop_x3</th>\n",
              "      <th>prop_mon_x1</th>\n",
              "      <th>prop_mon_x2</th>\n",
              "      <th>prop_mon_x3</th>\n",
              "    </tr>\n",
              "  </thead>\n",
              "  <tbody>\n",
              "    <tr>\n",
              "      <th>123</th>\n",
              "      <td>-0.832204</td>\n",
              "      <td>-0.740821</td>\n",
              "      <td>-0.754550</td>\n",
              "      <td>-0.612280</td>\n",
              "      <td>-0.448217</td>\n",
              "      <td>0.240830</td>\n",
              "      <td>0.610191</td>\n",
              "      <td>-1.397728</td>\n",
              "      <td>-0.586437</td>\n",
              "      <td>0.223397</td>\n",
              "      <td>-0.872378</td>\n",
              "    </tr>\n",
              "    <tr>\n",
              "      <th>2246</th>\n",
              "      <td>0.365483</td>\n",
              "      <td>-0.103528</td>\n",
              "      <td>0.037932</td>\n",
              "      <td>-0.123512</td>\n",
              "      <td>-0.448217</td>\n",
              "      <td>-0.046498</td>\n",
              "      <td>-0.488113</td>\n",
              "      <td>-0.463285</td>\n",
              "      <td>0.213286</td>\n",
              "      <td>-0.722272</td>\n",
              "      <td>-0.495069</td>\n",
              "    </tr>\n",
              "    <tr>\n",
              "      <th>6050</th>\n",
              "      <td>0.964326</td>\n",
              "      <td>-0.581498</td>\n",
              "      <td>-0.437557</td>\n",
              "      <td>-0.123512</td>\n",
              "      <td>1.760828</td>\n",
              "      <td>-0.111800</td>\n",
              "      <td>-0.416794</td>\n",
              "      <td>0.386209</td>\n",
              "      <td>-0.378717</td>\n",
              "      <td>-0.528840</td>\n",
              "      <td>0.254648</td>\n",
              "    </tr>\n",
              "    <tr>\n",
              "      <th>1838</th>\n",
              "      <td>0.066061</td>\n",
              "      <td>0.693089</td>\n",
              "      <td>0.196428</td>\n",
              "      <td>0.365257</td>\n",
              "      <td>-0.448217</td>\n",
              "      <td>0.402451</td>\n",
              "      <td>0.786704</td>\n",
              "      <td>-1.047312</td>\n",
              "      <td>2.435558</td>\n",
              "      <td>2.320647</td>\n",
              "      <td>0.709885</td>\n",
              "    </tr>\n",
              "    <tr>\n",
              "      <th>560</th>\n",
              "      <td>-1.131626</td>\n",
              "      <td>-0.740821</td>\n",
              "      <td>-0.596054</td>\n",
              "      <td>-0.612280</td>\n",
              "      <td>-0.448217</td>\n",
              "      <td>1.210560</td>\n",
              "      <td>-1.860992</td>\n",
              "      <td>-1.047312</td>\n",
              "      <td>0.556024</td>\n",
              "      <td>-1.431524</td>\n",
              "      <td>-0.980181</td>\n",
              "    </tr>\n",
              "  </tbody>\n",
              "</table>\n",
              "</div>\n",
              "      <button class=\"colab-df-convert\" onclick=\"convertToInteractive('df-3d7d263b-b0e3-41ba-9504-e5a706efc159')\"\n",
              "              title=\"Convert this dataframe to an interactive table.\"\n",
              "              style=\"display:none;\">\n",
              "        \n",
              "  <svg xmlns=\"http://www.w3.org/2000/svg\" height=\"24px\"viewBox=\"0 0 24 24\"\n",
              "       width=\"24px\">\n",
              "    <path d=\"M0 0h24v24H0V0z\" fill=\"none\"/>\n",
              "    <path d=\"M18.56 5.44l.94 2.06.94-2.06 2.06-.94-2.06-.94-.94-2.06-.94 2.06-2.06.94zm-11 1L8.5 8.5l.94-2.06 2.06-.94-2.06-.94L8.5 2.5l-.94 2.06-2.06.94zm10 10l.94 2.06.94-2.06 2.06-.94-2.06-.94-.94-2.06-.94 2.06-2.06.94z\"/><path d=\"M17.41 7.96l-1.37-1.37c-.4-.4-.92-.59-1.43-.59-.52 0-1.04.2-1.43.59L10.3 9.45l-7.72 7.72c-.78.78-.78 2.05 0 2.83L4 21.41c.39.39.9.59 1.41.59.51 0 1.02-.2 1.41-.59l7.78-7.78 2.81-2.81c.8-.78.8-2.07 0-2.86zM5.41 20L4 18.59l7.72-7.72 1.47 1.35L5.41 20z\"/>\n",
              "  </svg>\n",
              "      </button>\n",
              "      \n",
              "  <style>\n",
              "    .colab-df-container {\n",
              "      display:flex;\n",
              "      flex-wrap:wrap;\n",
              "      gap: 12px;\n",
              "    }\n",
              "\n",
              "    .colab-df-convert {\n",
              "      background-color: #E8F0FE;\n",
              "      border: none;\n",
              "      border-radius: 50%;\n",
              "      cursor: pointer;\n",
              "      display: none;\n",
              "      fill: #1967D2;\n",
              "      height: 32px;\n",
              "      padding: 0 0 0 0;\n",
              "      width: 32px;\n",
              "    }\n",
              "\n",
              "    .colab-df-convert:hover {\n",
              "      background-color: #E2EBFA;\n",
              "      box-shadow: 0px 1px 2px rgba(60, 64, 67, 0.3), 0px 1px 3px 1px rgba(60, 64, 67, 0.15);\n",
              "      fill: #174EA6;\n",
              "    }\n",
              "\n",
              "    [theme=dark] .colab-df-convert {\n",
              "      background-color: #3B4455;\n",
              "      fill: #D2E3FC;\n",
              "    }\n",
              "\n",
              "    [theme=dark] .colab-df-convert:hover {\n",
              "      background-color: #434B5C;\n",
              "      box-shadow: 0px 1px 3px 1px rgba(0, 0, 0, 0.15);\n",
              "      filter: drop-shadow(0px 1px 2px rgba(0, 0, 0, 0.3));\n",
              "      fill: #FFFFFF;\n",
              "    }\n",
              "  </style>\n",
              "\n",
              "      <script>\n",
              "        const buttonEl =\n",
              "          document.querySelector('#df-3d7d263b-b0e3-41ba-9504-e5a706efc159 button.colab-df-convert');\n",
              "        buttonEl.style.display =\n",
              "          google.colab.kernel.accessAllowed ? 'block' : 'none';\n",
              "\n",
              "        async function convertToInteractive(key) {\n",
              "          const element = document.querySelector('#df-3d7d263b-b0e3-41ba-9504-e5a706efc159');\n",
              "          const dataTable =\n",
              "            await google.colab.kernel.invokeFunction('convertToInteractive',\n",
              "                                                     [key], {});\n",
              "          if (!dataTable) return;\n",
              "\n",
              "          const docLinkHtml = 'Like what you see? Visit the ' +\n",
              "            '<a target=\"_blank\" href=https://colab.research.google.com/notebooks/data_table.ipynb>data table notebook</a>'\n",
              "            + ' to learn more about interactive tables.';\n",
              "          element.innerHTML = '';\n",
              "          dataTable['output_type'] = 'display_data';\n",
              "          await google.colab.output.renderOutput(dataTable, element);\n",
              "          const docLink = document.createElement('div');\n",
              "          docLink.innerHTML = docLinkHtml;\n",
              "          element.appendChild(docLink);\n",
              "        }\n",
              "      </script>\n",
              "    </div>\n",
              "  </div>\n",
              "  "
            ]
          },
          "metadata": {},
          "execution_count": 43
        }
      ]
    },
    {
      "cell_type": "markdown",
      "source": [
        "### D2: New (Larger) MetiTarski Data"
      ],
      "metadata": {
        "id": "FevOzRVxdfvt"
      }
    },
    {
      "cell_type": "code",
      "source": [
        "df_features_2 = df_metitarski_2[FEATURE_COLUMNS].copy().reset_index()"
      ],
      "metadata": {
        "id": "AgywsYCXV0LC"
      },
      "execution_count": 44,
      "outputs": []
    },
    {
      "cell_type": "code",
      "source": [
        "df_features_2.head()"
      ],
      "metadata": {
        "colab": {
          "base_uri": "https://localhost:8080/",
          "height": 206
        },
        "id": "dBDWvOotWKKc",
        "outputId": "daac09d6-4264-45c1-e4e1-d3f031f54498"
      },
      "execution_count": 45,
      "outputs": [
        {
          "output_type": "execute_result",
          "data": {
            "text/plain": [
              "   index  nr_polynomials  max_total_degree  max_x1  max_x2  max_x3   prop_x1  \\\n",
              "0      0              10                 2       2       2       1  0.500000   \n",
              "1      1               6                 4       1       2       2  0.333333   \n",
              "2      2               6                16      16       1       1  0.500000   \n",
              "3      3               9                 3       3       3       3  0.555556   \n",
              "4      4              14                 9       1       9       3  0.214286   \n",
              "\n",
              "    prop_x2   prop_x3  prop_mon_x1  prop_mon_x2  prop_mon_x3  \n",
              "0  0.500000  0.500000     0.250000     0.250000     0.250000  \n",
              "1  0.666667  0.500000     0.333333     0.476190     0.428571  \n",
              "2  0.333333  0.500000     0.500000     0.100000     0.150000  \n",
              "3  0.555556  0.555556     0.350000     0.350000     0.350000  \n",
              "4  0.785714  0.142857     0.166667     0.611111     0.111111  "
            ],
            "text/html": [
              "\n",
              "  <div id=\"df-81165081-636f-4efb-92fd-4f0e4a57eee3\">\n",
              "    <div class=\"colab-df-container\">\n",
              "      <div>\n",
              "<style scoped>\n",
              "    .dataframe tbody tr th:only-of-type {\n",
              "        vertical-align: middle;\n",
              "    }\n",
              "\n",
              "    .dataframe tbody tr th {\n",
              "        vertical-align: top;\n",
              "    }\n",
              "\n",
              "    .dataframe thead th {\n",
              "        text-align: right;\n",
              "    }\n",
              "</style>\n",
              "<table border=\"1\" class=\"dataframe\">\n",
              "  <thead>\n",
              "    <tr style=\"text-align: right;\">\n",
              "      <th></th>\n",
              "      <th>index</th>\n",
              "      <th>nr_polynomials</th>\n",
              "      <th>max_total_degree</th>\n",
              "      <th>max_x1</th>\n",
              "      <th>max_x2</th>\n",
              "      <th>max_x3</th>\n",
              "      <th>prop_x1</th>\n",
              "      <th>prop_x2</th>\n",
              "      <th>prop_x3</th>\n",
              "      <th>prop_mon_x1</th>\n",
              "      <th>prop_mon_x2</th>\n",
              "      <th>prop_mon_x3</th>\n",
              "    </tr>\n",
              "  </thead>\n",
              "  <tbody>\n",
              "    <tr>\n",
              "      <th>0</th>\n",
              "      <td>0</td>\n",
              "      <td>10</td>\n",
              "      <td>2</td>\n",
              "      <td>2</td>\n",
              "      <td>2</td>\n",
              "      <td>1</td>\n",
              "      <td>0.500000</td>\n",
              "      <td>0.500000</td>\n",
              "      <td>0.500000</td>\n",
              "      <td>0.250000</td>\n",
              "      <td>0.250000</td>\n",
              "      <td>0.250000</td>\n",
              "    </tr>\n",
              "    <tr>\n",
              "      <th>1</th>\n",
              "      <td>1</td>\n",
              "      <td>6</td>\n",
              "      <td>4</td>\n",
              "      <td>1</td>\n",
              "      <td>2</td>\n",
              "      <td>2</td>\n",
              "      <td>0.333333</td>\n",
              "      <td>0.666667</td>\n",
              "      <td>0.500000</td>\n",
              "      <td>0.333333</td>\n",
              "      <td>0.476190</td>\n",
              "      <td>0.428571</td>\n",
              "    </tr>\n",
              "    <tr>\n",
              "      <th>2</th>\n",
              "      <td>2</td>\n",
              "      <td>6</td>\n",
              "      <td>16</td>\n",
              "      <td>16</td>\n",
              "      <td>1</td>\n",
              "      <td>1</td>\n",
              "      <td>0.500000</td>\n",
              "      <td>0.333333</td>\n",
              "      <td>0.500000</td>\n",
              "      <td>0.500000</td>\n",
              "      <td>0.100000</td>\n",
              "      <td>0.150000</td>\n",
              "    </tr>\n",
              "    <tr>\n",
              "      <th>3</th>\n",
              "      <td>3</td>\n",
              "      <td>9</td>\n",
              "      <td>3</td>\n",
              "      <td>3</td>\n",
              "      <td>3</td>\n",
              "      <td>3</td>\n",
              "      <td>0.555556</td>\n",
              "      <td>0.555556</td>\n",
              "      <td>0.555556</td>\n",
              "      <td>0.350000</td>\n",
              "      <td>0.350000</td>\n",
              "      <td>0.350000</td>\n",
              "    </tr>\n",
              "    <tr>\n",
              "      <th>4</th>\n",
              "      <td>4</td>\n",
              "      <td>14</td>\n",
              "      <td>9</td>\n",
              "      <td>1</td>\n",
              "      <td>9</td>\n",
              "      <td>3</td>\n",
              "      <td>0.214286</td>\n",
              "      <td>0.785714</td>\n",
              "      <td>0.142857</td>\n",
              "      <td>0.166667</td>\n",
              "      <td>0.611111</td>\n",
              "      <td>0.111111</td>\n",
              "    </tr>\n",
              "  </tbody>\n",
              "</table>\n",
              "</div>\n",
              "      <button class=\"colab-df-convert\" onclick=\"convertToInteractive('df-81165081-636f-4efb-92fd-4f0e4a57eee3')\"\n",
              "              title=\"Convert this dataframe to an interactive table.\"\n",
              "              style=\"display:none;\">\n",
              "        \n",
              "  <svg xmlns=\"http://www.w3.org/2000/svg\" height=\"24px\"viewBox=\"0 0 24 24\"\n",
              "       width=\"24px\">\n",
              "    <path d=\"M0 0h24v24H0V0z\" fill=\"none\"/>\n",
              "    <path d=\"M18.56 5.44l.94 2.06.94-2.06 2.06-.94-2.06-.94-.94-2.06-.94 2.06-2.06.94zm-11 1L8.5 8.5l.94-2.06 2.06-.94-2.06-.94L8.5 2.5l-.94 2.06-2.06.94zm10 10l.94 2.06.94-2.06 2.06-.94-2.06-.94-.94-2.06-.94 2.06-2.06.94z\"/><path d=\"M17.41 7.96l-1.37-1.37c-.4-.4-.92-.59-1.43-.59-.52 0-1.04.2-1.43.59L10.3 9.45l-7.72 7.72c-.78.78-.78 2.05 0 2.83L4 21.41c.39.39.9.59 1.41.59.51 0 1.02-.2 1.41-.59l7.78-7.78 2.81-2.81c.8-.78.8-2.07 0-2.86zM5.41 20L4 18.59l7.72-7.72 1.47 1.35L5.41 20z\"/>\n",
              "  </svg>\n",
              "      </button>\n",
              "      \n",
              "  <style>\n",
              "    .colab-df-container {\n",
              "      display:flex;\n",
              "      flex-wrap:wrap;\n",
              "      gap: 12px;\n",
              "    }\n",
              "\n",
              "    .colab-df-convert {\n",
              "      background-color: #E8F0FE;\n",
              "      border: none;\n",
              "      border-radius: 50%;\n",
              "      cursor: pointer;\n",
              "      display: none;\n",
              "      fill: #1967D2;\n",
              "      height: 32px;\n",
              "      padding: 0 0 0 0;\n",
              "      width: 32px;\n",
              "    }\n",
              "\n",
              "    .colab-df-convert:hover {\n",
              "      background-color: #E2EBFA;\n",
              "      box-shadow: 0px 1px 2px rgba(60, 64, 67, 0.3), 0px 1px 3px 1px rgba(60, 64, 67, 0.15);\n",
              "      fill: #174EA6;\n",
              "    }\n",
              "\n",
              "    [theme=dark] .colab-df-convert {\n",
              "      background-color: #3B4455;\n",
              "      fill: #D2E3FC;\n",
              "    }\n",
              "\n",
              "    [theme=dark] .colab-df-convert:hover {\n",
              "      background-color: #434B5C;\n",
              "      box-shadow: 0px 1px 3px 1px rgba(0, 0, 0, 0.15);\n",
              "      filter: drop-shadow(0px 1px 2px rgba(0, 0, 0, 0.3));\n",
              "      fill: #FFFFFF;\n",
              "    }\n",
              "  </style>\n",
              "\n",
              "      <script>\n",
              "        const buttonEl =\n",
              "          document.querySelector('#df-81165081-636f-4efb-92fd-4f0e4a57eee3 button.colab-df-convert');\n",
              "        buttonEl.style.display =\n",
              "          google.colab.kernel.accessAllowed ? 'block' : 'none';\n",
              "\n",
              "        async function convertToInteractive(key) {\n",
              "          const element = document.querySelector('#df-81165081-636f-4efb-92fd-4f0e4a57eee3');\n",
              "          const dataTable =\n",
              "            await google.colab.kernel.invokeFunction('convertToInteractive',\n",
              "                                                     [key], {});\n",
              "          if (!dataTable) return;\n",
              "\n",
              "          const docLinkHtml = 'Like what you see? Visit the ' +\n",
              "            '<a target=\"_blank\" href=https://colab.research.google.com/notebooks/data_table.ipynb>data table notebook</a>'\n",
              "            + ' to learn more about interactive tables.';\n",
              "          element.innerHTML = '';\n",
              "          dataTable['output_type'] = 'display_data';\n",
              "          await google.colab.output.renderOutput(dataTable, element);\n",
              "          const docLink = document.createElement('div');\n",
              "          docLink.innerHTML = docLinkHtml;\n",
              "          element.appendChild(docLink);\n",
              "        }\n",
              "      </script>\n",
              "    </div>\n",
              "  </div>\n",
              "  "
            ]
          },
          "metadata": {},
          "execution_count": 45
        }
      ]
    },
    {
      "cell_type": "code",
      "source": [
        "df_features_2.drop(['index'], axis=1, inplace=True)"
      ],
      "metadata": {
        "id": "thWOs8lBWKNw"
      },
      "execution_count": 46,
      "outputs": []
    },
    {
      "cell_type": "code",
      "source": [
        "X_train_2, X_test_2, y_train_2, y_test_2 = train_test_split(df_features_2, df_metitarski_2.label, test_size=0.1)\n",
        "X_train_2.shape, X_test_2.shape, y_train_2.shape, y_test_2.shape"
      ],
      "metadata": {
        "id": "_2sOKAYaVKOO",
        "colab": {
          "base_uri": "https://localhost:8080/"
        },
        "outputId": "6425f12f-f17c-4ca7-a9a6-70c2b50dce02"
      },
      "execution_count": 47,
      "outputs": [
        {
          "output_type": "execute_result",
          "data": {
            "text/plain": [
              "((37232, 11), (4137, 11), (37232,), (4137,))"
            ]
          },
          "metadata": {},
          "execution_count": 47
        }
      ]
    },
    {
      "cell_type": "code",
      "source": [
        "# scale the new training set\n",
        "scaler_2 = training_set_scaler(input_df=X_train_2)"
      ],
      "metadata": {
        "id": "i3Lo-jXsdF15"
      },
      "execution_count": 48,
      "outputs": []
    },
    {
      "cell_type": "code",
      "source": [
        "# rescale data\n",
        "X_train_D2 = scale_data(input_df=X_train_2, scaler=scaler_2)\n",
        "X_train_D2.head()"
      ],
      "metadata": {
        "colab": {
          "base_uri": "https://localhost:8080/",
          "height": 206
        },
        "id": "24gkJN5_dFh-",
        "outputId": "03e81fca-8dfc-43f4-e532-9f38f5a15a27"
      },
      "execution_count": 49,
      "outputs": [
        {
          "output_type": "execute_result",
          "data": {
            "text/plain": [
              "       nr_polynomials  max_total_degree    max_x1    max_x2    max_x3  \\\n",
              "3530         0.664927         -0.105145  0.681362 -0.482697 -0.485458   \n",
              "15352       -0.234450         -0.584486 -0.017892 -0.019590 -0.020206   \n",
              "7406        -0.834035          2.770898 -0.484061  4.843029 -0.485458   \n",
              "33287       -0.234450          3.410018  5.809226 -0.482697 -0.485458   \n",
              "19644        3.063265         -0.264926 -0.484061 -0.251144 -0.252832   \n",
              "\n",
              "        prop_x1   prop_x2   prop_x3  prop_mon_x1  prop_mon_x2  prop_mon_x3  \n",
              "3530   1.289855 -0.569790 -1.188488     0.766610    -0.737129    -1.037960  \n",
              "15352 -0.392790 -0.392666 -0.392722     0.334122     0.333213     0.328781  \n",
              "7406  -0.569911  0.670081 -1.807417    -1.451279     2.917023    -1.695047  \n",
              "33287  0.492812 -1.278288 -0.392722     2.459431    -1.557106    -1.364931  \n",
              "19644  0.394412 -0.983080 -0.982178     0.165932     0.164845     0.292065  "
            ],
            "text/html": [
              "\n",
              "  <div id=\"df-9b90fc7e-19fa-43db-8417-bb4ec19840b5\">\n",
              "    <div class=\"colab-df-container\">\n",
              "      <div>\n",
              "<style scoped>\n",
              "    .dataframe tbody tr th:only-of-type {\n",
              "        vertical-align: middle;\n",
              "    }\n",
              "\n",
              "    .dataframe tbody tr th {\n",
              "        vertical-align: top;\n",
              "    }\n",
              "\n",
              "    .dataframe thead th {\n",
              "        text-align: right;\n",
              "    }\n",
              "</style>\n",
              "<table border=\"1\" class=\"dataframe\">\n",
              "  <thead>\n",
              "    <tr style=\"text-align: right;\">\n",
              "      <th></th>\n",
              "      <th>nr_polynomials</th>\n",
              "      <th>max_total_degree</th>\n",
              "      <th>max_x1</th>\n",
              "      <th>max_x2</th>\n",
              "      <th>max_x3</th>\n",
              "      <th>prop_x1</th>\n",
              "      <th>prop_x2</th>\n",
              "      <th>prop_x3</th>\n",
              "      <th>prop_mon_x1</th>\n",
              "      <th>prop_mon_x2</th>\n",
              "      <th>prop_mon_x3</th>\n",
              "    </tr>\n",
              "  </thead>\n",
              "  <tbody>\n",
              "    <tr>\n",
              "      <th>3530</th>\n",
              "      <td>0.664927</td>\n",
              "      <td>-0.105145</td>\n",
              "      <td>0.681362</td>\n",
              "      <td>-0.482697</td>\n",
              "      <td>-0.485458</td>\n",
              "      <td>1.289855</td>\n",
              "      <td>-0.569790</td>\n",
              "      <td>-1.188488</td>\n",
              "      <td>0.766610</td>\n",
              "      <td>-0.737129</td>\n",
              "      <td>-1.037960</td>\n",
              "    </tr>\n",
              "    <tr>\n",
              "      <th>15352</th>\n",
              "      <td>-0.234450</td>\n",
              "      <td>-0.584486</td>\n",
              "      <td>-0.017892</td>\n",
              "      <td>-0.019590</td>\n",
              "      <td>-0.020206</td>\n",
              "      <td>-0.392790</td>\n",
              "      <td>-0.392666</td>\n",
              "      <td>-0.392722</td>\n",
              "      <td>0.334122</td>\n",
              "      <td>0.333213</td>\n",
              "      <td>0.328781</td>\n",
              "    </tr>\n",
              "    <tr>\n",
              "      <th>7406</th>\n",
              "      <td>-0.834035</td>\n",
              "      <td>2.770898</td>\n",
              "      <td>-0.484061</td>\n",
              "      <td>4.843029</td>\n",
              "      <td>-0.485458</td>\n",
              "      <td>-0.569911</td>\n",
              "      <td>0.670081</td>\n",
              "      <td>-1.807417</td>\n",
              "      <td>-1.451279</td>\n",
              "      <td>2.917023</td>\n",
              "      <td>-1.695047</td>\n",
              "    </tr>\n",
              "    <tr>\n",
              "      <th>33287</th>\n",
              "      <td>-0.234450</td>\n",
              "      <td>3.410018</td>\n",
              "      <td>5.809226</td>\n",
              "      <td>-0.482697</td>\n",
              "      <td>-0.485458</td>\n",
              "      <td>0.492812</td>\n",
              "      <td>-1.278288</td>\n",
              "      <td>-0.392722</td>\n",
              "      <td>2.459431</td>\n",
              "      <td>-1.557106</td>\n",
              "      <td>-1.364931</td>\n",
              "    </tr>\n",
              "    <tr>\n",
              "      <th>19644</th>\n",
              "      <td>3.063265</td>\n",
              "      <td>-0.264926</td>\n",
              "      <td>-0.484061</td>\n",
              "      <td>-0.251144</td>\n",
              "      <td>-0.252832</td>\n",
              "      <td>0.394412</td>\n",
              "      <td>-0.983080</td>\n",
              "      <td>-0.982178</td>\n",
              "      <td>0.165932</td>\n",
              "      <td>0.164845</td>\n",
              "      <td>0.292065</td>\n",
              "    </tr>\n",
              "  </tbody>\n",
              "</table>\n",
              "</div>\n",
              "      <button class=\"colab-df-convert\" onclick=\"convertToInteractive('df-9b90fc7e-19fa-43db-8417-bb4ec19840b5')\"\n",
              "              title=\"Convert this dataframe to an interactive table.\"\n",
              "              style=\"display:none;\">\n",
              "        \n",
              "  <svg xmlns=\"http://www.w3.org/2000/svg\" height=\"24px\"viewBox=\"0 0 24 24\"\n",
              "       width=\"24px\">\n",
              "    <path d=\"M0 0h24v24H0V0z\" fill=\"none\"/>\n",
              "    <path d=\"M18.56 5.44l.94 2.06.94-2.06 2.06-.94-2.06-.94-.94-2.06-.94 2.06-2.06.94zm-11 1L8.5 8.5l.94-2.06 2.06-.94-2.06-.94L8.5 2.5l-.94 2.06-2.06.94zm10 10l.94 2.06.94-2.06 2.06-.94-2.06-.94-.94-2.06-.94 2.06-2.06.94z\"/><path d=\"M17.41 7.96l-1.37-1.37c-.4-.4-.92-.59-1.43-.59-.52 0-1.04.2-1.43.59L10.3 9.45l-7.72 7.72c-.78.78-.78 2.05 0 2.83L4 21.41c.39.39.9.59 1.41.59.51 0 1.02-.2 1.41-.59l7.78-7.78 2.81-2.81c.8-.78.8-2.07 0-2.86zM5.41 20L4 18.59l7.72-7.72 1.47 1.35L5.41 20z\"/>\n",
              "  </svg>\n",
              "      </button>\n",
              "      \n",
              "  <style>\n",
              "    .colab-df-container {\n",
              "      display:flex;\n",
              "      flex-wrap:wrap;\n",
              "      gap: 12px;\n",
              "    }\n",
              "\n",
              "    .colab-df-convert {\n",
              "      background-color: #E8F0FE;\n",
              "      border: none;\n",
              "      border-radius: 50%;\n",
              "      cursor: pointer;\n",
              "      display: none;\n",
              "      fill: #1967D2;\n",
              "      height: 32px;\n",
              "      padding: 0 0 0 0;\n",
              "      width: 32px;\n",
              "    }\n",
              "\n",
              "    .colab-df-convert:hover {\n",
              "      background-color: #E2EBFA;\n",
              "      box-shadow: 0px 1px 2px rgba(60, 64, 67, 0.3), 0px 1px 3px 1px rgba(60, 64, 67, 0.15);\n",
              "      fill: #174EA6;\n",
              "    }\n",
              "\n",
              "    [theme=dark] .colab-df-convert {\n",
              "      background-color: #3B4455;\n",
              "      fill: #D2E3FC;\n",
              "    }\n",
              "\n",
              "    [theme=dark] .colab-df-convert:hover {\n",
              "      background-color: #434B5C;\n",
              "      box-shadow: 0px 1px 3px 1px rgba(0, 0, 0, 0.15);\n",
              "      filter: drop-shadow(0px 1px 2px rgba(0, 0, 0, 0.3));\n",
              "      fill: #FFFFFF;\n",
              "    }\n",
              "  </style>\n",
              "\n",
              "      <script>\n",
              "        const buttonEl =\n",
              "          document.querySelector('#df-9b90fc7e-19fa-43db-8417-bb4ec19840b5 button.colab-df-convert');\n",
              "        buttonEl.style.display =\n",
              "          google.colab.kernel.accessAllowed ? 'block' : 'none';\n",
              "\n",
              "        async function convertToInteractive(key) {\n",
              "          const element = document.querySelector('#df-9b90fc7e-19fa-43db-8417-bb4ec19840b5');\n",
              "          const dataTable =\n",
              "            await google.colab.kernel.invokeFunction('convertToInteractive',\n",
              "                                                     [key], {});\n",
              "          if (!dataTable) return;\n",
              "\n",
              "          const docLinkHtml = 'Like what you see? Visit the ' +\n",
              "            '<a target=\"_blank\" href=https://colab.research.google.com/notebooks/data_table.ipynb>data table notebook</a>'\n",
              "            + ' to learn more about interactive tables.';\n",
              "          element.innerHTML = '';\n",
              "          dataTable['output_type'] = 'display_data';\n",
              "          await google.colab.output.renderOutput(dataTable, element);\n",
              "          const docLink = document.createElement('div');\n",
              "          docLink.innerHTML = docLinkHtml;\n",
              "          element.appendChild(docLink);\n",
              "        }\n",
              "      </script>\n",
              "    </div>\n",
              "  </div>\n",
              "  "
            ]
          },
          "metadata": {},
          "execution_count": 49
        }
      ]
    },
    {
      "cell_type": "code",
      "source": [
        "# rescale data\n",
        "X_test_D2 = scale_data(input_df=X_test_2, scaler=scaler_2)\n",
        "X_test_D2.head()"
      ],
      "metadata": {
        "colab": {
          "base_uri": "https://localhost:8080/",
          "height": 206
        },
        "id": "OEsXpgP8dFdb",
        "outputId": "7b71861c-99d9-48c1-a513-c5c683d0bd37"
      },
      "execution_count": 50,
      "outputs": [
        {
          "output_type": "execute_result",
          "data": {
            "text/plain": [
              "       nr_polynomials  max_total_degree    max_x1    max_x2    max_x3  \\\n",
              "32815       -0.234450          1.492656 -0.250977  2.990602 -0.485458   \n",
              "3495        -1.433620         -0.584486 -0.484061 -0.482697 -0.020206   \n",
              "23447       -0.834035         -0.584486 -0.017892 -0.251144 -0.252832   \n",
              "3683        -0.234450         -0.744266 -0.484061 -0.251144 -0.252832   \n",
              "41173       -0.834035          1.492656  3.012209 -0.482697 -0.485458   \n",
              "\n",
              "        prop_x1   prop_x2   prop_x3  prop_mon_x1  prop_mon_x2  prop_mon_x3  \n",
              "32815 -0.392790 -0.392666 -0.392722    -0.990374     0.901457    -0.993001  \n",
              "3495   1.083214  1.083372  3.144013    -0.885255    -0.887458     1.734485  \n",
              "23447  1.909777 -1.809661 -1.807417     1.217119    -1.413610    -1.412615  \n",
              "3683   0.492812 -0.392666 -0.392722    -0.254543    -0.676998    -0.678291  \n",
              "41173  0.669933 -1.809661 -0.569559     2.005509    -1.545148    -1.150356  "
            ],
            "text/html": [
              "\n",
              "  <div id=\"df-a00e5564-1026-4c19-a2e1-c3570a64536e\">\n",
              "    <div class=\"colab-df-container\">\n",
              "      <div>\n",
              "<style scoped>\n",
              "    .dataframe tbody tr th:only-of-type {\n",
              "        vertical-align: middle;\n",
              "    }\n",
              "\n",
              "    .dataframe tbody tr th {\n",
              "        vertical-align: top;\n",
              "    }\n",
              "\n",
              "    .dataframe thead th {\n",
              "        text-align: right;\n",
              "    }\n",
              "</style>\n",
              "<table border=\"1\" class=\"dataframe\">\n",
              "  <thead>\n",
              "    <tr style=\"text-align: right;\">\n",
              "      <th></th>\n",
              "      <th>nr_polynomials</th>\n",
              "      <th>max_total_degree</th>\n",
              "      <th>max_x1</th>\n",
              "      <th>max_x2</th>\n",
              "      <th>max_x3</th>\n",
              "      <th>prop_x1</th>\n",
              "      <th>prop_x2</th>\n",
              "      <th>prop_x3</th>\n",
              "      <th>prop_mon_x1</th>\n",
              "      <th>prop_mon_x2</th>\n",
              "      <th>prop_mon_x3</th>\n",
              "    </tr>\n",
              "  </thead>\n",
              "  <tbody>\n",
              "    <tr>\n",
              "      <th>32815</th>\n",
              "      <td>-0.234450</td>\n",
              "      <td>1.492656</td>\n",
              "      <td>-0.250977</td>\n",
              "      <td>2.990602</td>\n",
              "      <td>-0.485458</td>\n",
              "      <td>-0.392790</td>\n",
              "      <td>-0.392666</td>\n",
              "      <td>-0.392722</td>\n",
              "      <td>-0.990374</td>\n",
              "      <td>0.901457</td>\n",
              "      <td>-0.993001</td>\n",
              "    </tr>\n",
              "    <tr>\n",
              "      <th>3495</th>\n",
              "      <td>-1.433620</td>\n",
              "      <td>-0.584486</td>\n",
              "      <td>-0.484061</td>\n",
              "      <td>-0.482697</td>\n",
              "      <td>-0.020206</td>\n",
              "      <td>1.083214</td>\n",
              "      <td>1.083372</td>\n",
              "      <td>3.144013</td>\n",
              "      <td>-0.885255</td>\n",
              "      <td>-0.887458</td>\n",
              "      <td>1.734485</td>\n",
              "    </tr>\n",
              "    <tr>\n",
              "      <th>23447</th>\n",
              "      <td>-0.834035</td>\n",
              "      <td>-0.584486</td>\n",
              "      <td>-0.017892</td>\n",
              "      <td>-0.251144</td>\n",
              "      <td>-0.252832</td>\n",
              "      <td>1.909777</td>\n",
              "      <td>-1.809661</td>\n",
              "      <td>-1.807417</td>\n",
              "      <td>1.217119</td>\n",
              "      <td>-1.413610</td>\n",
              "      <td>-1.412615</td>\n",
              "    </tr>\n",
              "    <tr>\n",
              "      <th>3683</th>\n",
              "      <td>-0.234450</td>\n",
              "      <td>-0.744266</td>\n",
              "      <td>-0.484061</td>\n",
              "      <td>-0.251144</td>\n",
              "      <td>-0.252832</td>\n",
              "      <td>0.492812</td>\n",
              "      <td>-0.392666</td>\n",
              "      <td>-0.392722</td>\n",
              "      <td>-0.254543</td>\n",
              "      <td>-0.676998</td>\n",
              "      <td>-0.678291</td>\n",
              "    </tr>\n",
              "    <tr>\n",
              "      <th>41173</th>\n",
              "      <td>-0.834035</td>\n",
              "      <td>1.492656</td>\n",
              "      <td>3.012209</td>\n",
              "      <td>-0.482697</td>\n",
              "      <td>-0.485458</td>\n",
              "      <td>0.669933</td>\n",
              "      <td>-1.809661</td>\n",
              "      <td>-0.569559</td>\n",
              "      <td>2.005509</td>\n",
              "      <td>-1.545148</td>\n",
              "      <td>-1.150356</td>\n",
              "    </tr>\n",
              "  </tbody>\n",
              "</table>\n",
              "</div>\n",
              "      <button class=\"colab-df-convert\" onclick=\"convertToInteractive('df-a00e5564-1026-4c19-a2e1-c3570a64536e')\"\n",
              "              title=\"Convert this dataframe to an interactive table.\"\n",
              "              style=\"display:none;\">\n",
              "        \n",
              "  <svg xmlns=\"http://www.w3.org/2000/svg\" height=\"24px\"viewBox=\"0 0 24 24\"\n",
              "       width=\"24px\">\n",
              "    <path d=\"M0 0h24v24H0V0z\" fill=\"none\"/>\n",
              "    <path d=\"M18.56 5.44l.94 2.06.94-2.06 2.06-.94-2.06-.94-.94-2.06-.94 2.06-2.06.94zm-11 1L8.5 8.5l.94-2.06 2.06-.94-2.06-.94L8.5 2.5l-.94 2.06-2.06.94zm10 10l.94 2.06.94-2.06 2.06-.94-2.06-.94-.94-2.06-.94 2.06-2.06.94z\"/><path d=\"M17.41 7.96l-1.37-1.37c-.4-.4-.92-.59-1.43-.59-.52 0-1.04.2-1.43.59L10.3 9.45l-7.72 7.72c-.78.78-.78 2.05 0 2.83L4 21.41c.39.39.9.59 1.41.59.51 0 1.02-.2 1.41-.59l7.78-7.78 2.81-2.81c.8-.78.8-2.07 0-2.86zM5.41 20L4 18.59l7.72-7.72 1.47 1.35L5.41 20z\"/>\n",
              "  </svg>\n",
              "      </button>\n",
              "      \n",
              "  <style>\n",
              "    .colab-df-container {\n",
              "      display:flex;\n",
              "      flex-wrap:wrap;\n",
              "      gap: 12px;\n",
              "    }\n",
              "\n",
              "    .colab-df-convert {\n",
              "      background-color: #E8F0FE;\n",
              "      border: none;\n",
              "      border-radius: 50%;\n",
              "      cursor: pointer;\n",
              "      display: none;\n",
              "      fill: #1967D2;\n",
              "      height: 32px;\n",
              "      padding: 0 0 0 0;\n",
              "      width: 32px;\n",
              "    }\n",
              "\n",
              "    .colab-df-convert:hover {\n",
              "      background-color: #E2EBFA;\n",
              "      box-shadow: 0px 1px 2px rgba(60, 64, 67, 0.3), 0px 1px 3px 1px rgba(60, 64, 67, 0.15);\n",
              "      fill: #174EA6;\n",
              "    }\n",
              "\n",
              "    [theme=dark] .colab-df-convert {\n",
              "      background-color: #3B4455;\n",
              "      fill: #D2E3FC;\n",
              "    }\n",
              "\n",
              "    [theme=dark] .colab-df-convert:hover {\n",
              "      background-color: #434B5C;\n",
              "      box-shadow: 0px 1px 3px 1px rgba(0, 0, 0, 0.15);\n",
              "      filter: drop-shadow(0px 1px 2px rgba(0, 0, 0, 0.3));\n",
              "      fill: #FFFFFF;\n",
              "    }\n",
              "  </style>\n",
              "\n",
              "      <script>\n",
              "        const buttonEl =\n",
              "          document.querySelector('#df-a00e5564-1026-4c19-a2e1-c3570a64536e button.colab-df-convert');\n",
              "        buttonEl.style.display =\n",
              "          google.colab.kernel.accessAllowed ? 'block' : 'none';\n",
              "\n",
              "        async function convertToInteractive(key) {\n",
              "          const element = document.querySelector('#df-a00e5564-1026-4c19-a2e1-c3570a64536e');\n",
              "          const dataTable =\n",
              "            await google.colab.kernel.invokeFunction('convertToInteractive',\n",
              "                                                     [key], {});\n",
              "          if (!dataTable) return;\n",
              "\n",
              "          const docLinkHtml = 'Like what you see? Visit the ' +\n",
              "            '<a target=\"_blank\" href=https://colab.research.google.com/notebooks/data_table.ipynb>data table notebook</a>'\n",
              "            + ' to learn more about interactive tables.';\n",
              "          element.innerHTML = '';\n",
              "          dataTable['output_type'] = 'display_data';\n",
              "          await google.colab.output.renderOutput(dataTable, element);\n",
              "          const docLink = document.createElement('div');\n",
              "          docLink.innerHTML = docLinkHtml;\n",
              "          element.appendChild(docLink);\n",
              "        }\n",
              "      </script>\n",
              "    </div>\n",
              "  </div>\n",
              "  "
            ]
          },
          "metadata": {},
          "execution_count": 50
        }
      ]
    },
    {
      "cell_type": "markdown",
      "source": [
        "### Training and Testing on Original Metitarski Data (D1)"
      ],
      "metadata": {
        "id": "rnJuaS2V2cAH"
      }
    },
    {
      "cell_type": "markdown",
      "source": [
        "#### SVM"
      ],
      "metadata": {
        "id": "BHWimxfToIa4"
      }
    },
    {
      "cell_type": "code",
      "source": [
        "D1_svm = svm.SVC(C=316, kernel='rbf', gamma=0.08, tol=0.0316)\n",
        "\n",
        "D1_svm.fit(X_train_D1, y_train_1)"
      ],
      "metadata": {
        "colab": {
          "base_uri": "https://localhost:8080/"
        },
        "id": "S7TZCS-6oLzp",
        "outputId": "e27f06b8-3e02-4dc3-e293-82374bf0848e"
      },
      "execution_count": 51,
      "outputs": [
        {
          "output_type": "execute_result",
          "data": {
            "text/plain": [
              "SVC(C=316, gamma=0.08, tol=0.0316)"
            ]
          },
          "metadata": {},
          "execution_count": 51
        }
      ]
    },
    {
      "cell_type": "code",
      "source": [
        "D1_svm_score = D1_svm.score(X_test_D1, y_test_1)\n",
        "D1_svm_score"
      ],
      "metadata": {
        "colab": {
          "base_uri": "https://localhost:8080/"
        },
        "id": "jtYU7pwToLjo",
        "outputId": "1307f79b-7fd0-4abf-9274-897c806646d3"
      },
      "execution_count": 52,
      "outputs": [
        {
          "output_type": "execute_result",
          "data": {
            "text/plain": [
              "0.5811594202898551"
            ]
          },
          "metadata": {},
          "execution_count": 52
        }
      ]
    },
    {
      "cell_type": "code",
      "source": [
        "# scale the portion of dataset 2 that was not part of dataset 1\n",
        "df_2_not_1_features = df_2_not_1[FEATURE_COLUMNS].copy().reset_index()\n",
        "df_2_not_1_features.drop(['index'], axis=1, inplace=True)\n",
        "df_2_not_1_labels = df_2_not_1.label\n",
        "\n",
        "# df_2_not_1_scaled = scale_data(input_df=df_2_not_1_features, scaler=scaler_1)"
      ],
      "metadata": {
        "id": "xp8YnTngx3_Z"
      },
      "execution_count": 58,
      "outputs": []
    },
    {
      "cell_type": "code",
      "source": [
        "df_2_not_1_scaled = scale_data(input_df=df_2_not_1_features, scaler=scaler_1)"
      ],
      "metadata": {
        "id": "245_COLwy4Z7"
      },
      "execution_count": 59,
      "outputs": []
    },
    {
      "cell_type": "code",
      "source": [
        "D1_svm_score_D2_data = D1_svm.score(df_2_not_1_scaled, df_2_not_1_labels)\n",
        "D1_svm_score_D2_data"
      ],
      "metadata": {
        "colab": {
          "base_uri": "https://localhost:8080/"
        },
        "id": "kdCH5d9woLSG",
        "outputId": "1cddc31a-cd8a-44cd-ab73-d299e26e1b84"
      },
      "execution_count": 60,
      "outputs": [
        {
          "output_type": "execute_result",
          "data": {
            "text/plain": [
              "0.22001117595926983"
            ]
          },
          "metadata": {},
          "execution_count": 60
        }
      ]
    },
    {
      "cell_type": "markdown",
      "source": [
        "### Training and Testing on New Metitarski Data (D2)"
      ],
      "metadata": {
        "id": "KtZuOHHWutzq"
      }
    },
    {
      "cell_type": "markdown",
      "source": [
        "#### SVM"
      ],
      "metadata": {
        "id": "K2iycFWFuyct"
      }
    },
    {
      "cell_type": "code",
      "source": [
        "D2_svm = svm.SVC(C=316, kernel='rbf', gamma=0.08, tol=0.0316)\n",
        "\n",
        "D2_svm.fit(X_train_D2, y_train_2)"
      ],
      "metadata": {
        "colab": {
          "base_uri": "https://localhost:8080/"
        },
        "id": "iLFbl7w6u2ni",
        "outputId": "91968f34-2586-43d6-9346-53e34baf67f9"
      },
      "execution_count": 61,
      "outputs": [
        {
          "output_type": "execute_result",
          "data": {
            "text/plain": [
              "SVC(C=316, gamma=0.08, tol=0.0316)"
            ]
          },
          "metadata": {},
          "execution_count": 61
        }
      ]
    },
    {
      "cell_type": "code",
      "source": [
        "D2_svm_score = D2_svm.score(X_test_D2, y_test_2)\n",
        "D2_svm_score"
      ],
      "metadata": {
        "colab": {
          "base_uri": "https://localhost:8080/"
        },
        "id": "OjHtNcVzu2e6",
        "outputId": "7a0dde91-be1d-49af-805b-8bfbcb96735e"
      },
      "execution_count": 62,
      "outputs": [
        {
          "output_type": "execute_result",
          "data": {
            "text/plain": [
              "0.5663524292965917"
            ]
          },
          "metadata": {},
          "execution_count": 62
        }
      ]
    },
    {
      "cell_type": "code",
      "source": [
        "scaler_3 = training_set_scaler(input_df=df_2_not_1_features)"
      ],
      "metadata": {
        "id": "vh3Wvk5h0WLW"
      },
      "execution_count": 63,
      "outputs": []
    },
    {
      "cell_type": "code",
      "source": [
        "X_train_D3 = scale_data(input_df=df_2_not_1_features, scaler=scaler_1)\n",
        "X_train_D3.head()"
      ],
      "metadata": {
        "colab": {
          "base_uri": "https://localhost:8080/",
          "height": 206
        },
        "id": "Is9jWGAJ0qhM",
        "outputId": "e7cef6bc-4019-4117-bdac-88c5bfb52ad2"
      },
      "execution_count": 64,
      "outputs": [
        {
          "output_type": "execute_result",
          "data": {
            "text/plain": [
              "   nr_polynomials  max_total_degree    max_x1    max_x2    max_x3   prop_x1  \\\n",
              "0       -0.532783         -0.422175 -0.754550 -0.123512  1.760828 -1.483136   \n",
              "1       -0.532783          1.489705  1.622895 -0.612280 -0.448217 -0.405658   \n",
              "2        1.862592          0.374442 -0.754550  3.297870  3.969873 -2.252764   \n",
              "3        0.066061         -0.740821 -0.596054 -0.612280  1.760828  0.402451   \n",
              "4        0.964326         -0.103528 -0.596054 -0.612280  3.969873  0.475916   \n",
              "\n",
              "    prop_x2   prop_x3  prop_mon_x1  prop_mon_x2  prop_mon_x3  \n",
              "0  1.080892  0.704769    -0.586437     1.236614     2.207694  \n",
              "1 -1.272615  0.704769     0.556024    -1.431524    -0.495069  \n",
              "2  1.921431 -1.798204    -1.728899     2.193541    -0.872378  \n",
              "3 -0.978427  0.704769    -0.205617    -0.958690     0.744660  \n",
              "4 -1.058660  1.660450     0.305240     0.281060     3.019030  "
            ],
            "text/html": [
              "\n",
              "  <div id=\"df-03860437-1f02-4877-83cc-2d792d61362b\">\n",
              "    <div class=\"colab-df-container\">\n",
              "      <div>\n",
              "<style scoped>\n",
              "    .dataframe tbody tr th:only-of-type {\n",
              "        vertical-align: middle;\n",
              "    }\n",
              "\n",
              "    .dataframe tbody tr th {\n",
              "        vertical-align: top;\n",
              "    }\n",
              "\n",
              "    .dataframe thead th {\n",
              "        text-align: right;\n",
              "    }\n",
              "</style>\n",
              "<table border=\"1\" class=\"dataframe\">\n",
              "  <thead>\n",
              "    <tr style=\"text-align: right;\">\n",
              "      <th></th>\n",
              "      <th>nr_polynomials</th>\n",
              "      <th>max_total_degree</th>\n",
              "      <th>max_x1</th>\n",
              "      <th>max_x2</th>\n",
              "      <th>max_x3</th>\n",
              "      <th>prop_x1</th>\n",
              "      <th>prop_x2</th>\n",
              "      <th>prop_x3</th>\n",
              "      <th>prop_mon_x1</th>\n",
              "      <th>prop_mon_x2</th>\n",
              "      <th>prop_mon_x3</th>\n",
              "    </tr>\n",
              "  </thead>\n",
              "  <tbody>\n",
              "    <tr>\n",
              "      <th>0</th>\n",
              "      <td>-0.532783</td>\n",
              "      <td>-0.422175</td>\n",
              "      <td>-0.754550</td>\n",
              "      <td>-0.123512</td>\n",
              "      <td>1.760828</td>\n",
              "      <td>-1.483136</td>\n",
              "      <td>1.080892</td>\n",
              "      <td>0.704769</td>\n",
              "      <td>-0.586437</td>\n",
              "      <td>1.236614</td>\n",
              "      <td>2.207694</td>\n",
              "    </tr>\n",
              "    <tr>\n",
              "      <th>1</th>\n",
              "      <td>-0.532783</td>\n",
              "      <td>1.489705</td>\n",
              "      <td>1.622895</td>\n",
              "      <td>-0.612280</td>\n",
              "      <td>-0.448217</td>\n",
              "      <td>-0.405658</td>\n",
              "      <td>-1.272615</td>\n",
              "      <td>0.704769</td>\n",
              "      <td>0.556024</td>\n",
              "      <td>-1.431524</td>\n",
              "      <td>-0.495069</td>\n",
              "    </tr>\n",
              "    <tr>\n",
              "      <th>2</th>\n",
              "      <td>1.862592</td>\n",
              "      <td>0.374442</td>\n",
              "      <td>-0.754550</td>\n",
              "      <td>3.297870</td>\n",
              "      <td>3.969873</td>\n",
              "      <td>-2.252764</td>\n",
              "      <td>1.921431</td>\n",
              "      <td>-1.798204</td>\n",
              "      <td>-1.728899</td>\n",
              "      <td>2.193541</td>\n",
              "      <td>-0.872378</td>\n",
              "    </tr>\n",
              "    <tr>\n",
              "      <th>3</th>\n",
              "      <td>0.066061</td>\n",
              "      <td>-0.740821</td>\n",
              "      <td>-0.596054</td>\n",
              "      <td>-0.612280</td>\n",
              "      <td>1.760828</td>\n",
              "      <td>0.402451</td>\n",
              "      <td>-0.978427</td>\n",
              "      <td>0.704769</td>\n",
              "      <td>-0.205617</td>\n",
              "      <td>-0.958690</td>\n",
              "      <td>0.744660</td>\n",
              "    </tr>\n",
              "    <tr>\n",
              "      <th>4</th>\n",
              "      <td>0.964326</td>\n",
              "      <td>-0.103528</td>\n",
              "      <td>-0.596054</td>\n",
              "      <td>-0.612280</td>\n",
              "      <td>3.969873</td>\n",
              "      <td>0.475916</td>\n",
              "      <td>-1.058660</td>\n",
              "      <td>1.660450</td>\n",
              "      <td>0.305240</td>\n",
              "      <td>0.281060</td>\n",
              "      <td>3.019030</td>\n",
              "    </tr>\n",
              "  </tbody>\n",
              "</table>\n",
              "</div>\n",
              "      <button class=\"colab-df-convert\" onclick=\"convertToInteractive('df-03860437-1f02-4877-83cc-2d792d61362b')\"\n",
              "              title=\"Convert this dataframe to an interactive table.\"\n",
              "              style=\"display:none;\">\n",
              "        \n",
              "  <svg xmlns=\"http://www.w3.org/2000/svg\" height=\"24px\"viewBox=\"0 0 24 24\"\n",
              "       width=\"24px\">\n",
              "    <path d=\"M0 0h24v24H0V0z\" fill=\"none\"/>\n",
              "    <path d=\"M18.56 5.44l.94 2.06.94-2.06 2.06-.94-2.06-.94-.94-2.06-.94 2.06-2.06.94zm-11 1L8.5 8.5l.94-2.06 2.06-.94-2.06-.94L8.5 2.5l-.94 2.06-2.06.94zm10 10l.94 2.06.94-2.06 2.06-.94-2.06-.94-.94-2.06-.94 2.06-2.06.94z\"/><path d=\"M17.41 7.96l-1.37-1.37c-.4-.4-.92-.59-1.43-.59-.52 0-1.04.2-1.43.59L10.3 9.45l-7.72 7.72c-.78.78-.78 2.05 0 2.83L4 21.41c.39.39.9.59 1.41.59.51 0 1.02-.2 1.41-.59l7.78-7.78 2.81-2.81c.8-.78.8-2.07 0-2.86zM5.41 20L4 18.59l7.72-7.72 1.47 1.35L5.41 20z\"/>\n",
              "  </svg>\n",
              "      </button>\n",
              "      \n",
              "  <style>\n",
              "    .colab-df-container {\n",
              "      display:flex;\n",
              "      flex-wrap:wrap;\n",
              "      gap: 12px;\n",
              "    }\n",
              "\n",
              "    .colab-df-convert {\n",
              "      background-color: #E8F0FE;\n",
              "      border: none;\n",
              "      border-radius: 50%;\n",
              "      cursor: pointer;\n",
              "      display: none;\n",
              "      fill: #1967D2;\n",
              "      height: 32px;\n",
              "      padding: 0 0 0 0;\n",
              "      width: 32px;\n",
              "    }\n",
              "\n",
              "    .colab-df-convert:hover {\n",
              "      background-color: #E2EBFA;\n",
              "      box-shadow: 0px 1px 2px rgba(60, 64, 67, 0.3), 0px 1px 3px 1px rgba(60, 64, 67, 0.15);\n",
              "      fill: #174EA6;\n",
              "    }\n",
              "\n",
              "    [theme=dark] .colab-df-convert {\n",
              "      background-color: #3B4455;\n",
              "      fill: #D2E3FC;\n",
              "    }\n",
              "\n",
              "    [theme=dark] .colab-df-convert:hover {\n",
              "      background-color: #434B5C;\n",
              "      box-shadow: 0px 1px 3px 1px rgba(0, 0, 0, 0.15);\n",
              "      filter: drop-shadow(0px 1px 2px rgba(0, 0, 0, 0.3));\n",
              "      fill: #FFFFFF;\n",
              "    }\n",
              "  </style>\n",
              "\n",
              "      <script>\n",
              "        const buttonEl =\n",
              "          document.querySelector('#df-03860437-1f02-4877-83cc-2d792d61362b button.colab-df-convert');\n",
              "        buttonEl.style.display =\n",
              "          google.colab.kernel.accessAllowed ? 'block' : 'none';\n",
              "\n",
              "        async function convertToInteractive(key) {\n",
              "          const element = document.querySelector('#df-03860437-1f02-4877-83cc-2d792d61362b');\n",
              "          const dataTable =\n",
              "            await google.colab.kernel.invokeFunction('convertToInteractive',\n",
              "                                                     [key], {});\n",
              "          if (!dataTable) return;\n",
              "\n",
              "          const docLinkHtml = 'Like what you see? Visit the ' +\n",
              "            '<a target=\"_blank\" href=https://colab.research.google.com/notebooks/data_table.ipynb>data table notebook</a>'\n",
              "            + ' to learn more about interactive tables.';\n",
              "          element.innerHTML = '';\n",
              "          dataTable['output_type'] = 'display_data';\n",
              "          await google.colab.output.renderOutput(dataTable, element);\n",
              "          const docLink = document.createElement('div');\n",
              "          docLink.innerHTML = docLinkHtml;\n",
              "          element.appendChild(docLink);\n",
              "        }\n",
              "      </script>\n",
              "    </div>\n",
              "  </div>\n",
              "  "
            ]
          },
          "metadata": {},
          "execution_count": 64
        }
      ]
    },
    {
      "cell_type": "code",
      "source": [
        "D3_svm = svm.SVC(C=316, kernel='rbf', gamma=0.08, tol=0.0316)\n",
        "\n",
        "D3_svm.fit(X_train_D3, df_2_not_1_labels)"
      ],
      "metadata": {
        "colab": {
          "base_uri": "https://localhost:8080/"
        },
        "id": "A0pXFhkR0qdN",
        "outputId": "00dca050-4ef6-4f69-af52-f8f445db8b34"
      },
      "execution_count": 65,
      "outputs": [
        {
          "output_type": "execute_result",
          "data": {
            "text/plain": [
              "SVC(C=316, gamma=0.08, tol=0.0316)"
            ]
          },
          "metadata": {},
          "execution_count": 65
        }
      ]
    },
    {
      "cell_type": "code",
      "source": [
        "D1_scaled_on_D3 = scale_data(input_df=df_features_1, scaler=scaler_3)"
      ],
      "metadata": {
        "id": "Zf_Hv79C0qZ2"
      },
      "execution_count": 66,
      "outputs": []
    },
    {
      "cell_type": "code",
      "source": [
        "D1_on_D3_svm_score = D3_svm.score(D1_scaled_on_D3, df_metitarski_1.label)\n",
        "D1_on_D3_svm_score"
      ],
      "metadata": {
        "colab": {
          "base_uri": "https://localhost:8080/"
        },
        "id": "MmQlnPAL1XfF",
        "outputId": "c7194b9d-cb51-4311-c714-dd2fc27df2b2"
      },
      "execution_count": 67,
      "outputs": [
        {
          "output_type": "execute_result",
          "data": {
            "text/plain": [
              "0.21058738216098621"
            ]
          },
          "metadata": {},
          "execution_count": 67
        }
      ]
    },
    {
      "cell_type": "markdown",
      "source": [
        "## &#128218; References"
      ],
      "metadata": {
        "id": "p7S0tnLqZjU0"
      }
    },
    {
      "cell_type": "markdown",
      "source": [
        "1. SVC, see [HERE](https://scikit-learn.org/stable/modules/generated/sklearn.svm.SVC.html).\n",
        "2. K-NN, see [HERE](https://scikit-learn.org/stable/modules/generated/sklearn.neighbors.KNeighborsClassifier.html)\n",
        "3. Decision Tree, see [HERE](https://scikit-learn.org/stable/modules/generated/sklearn.tree.DecisionTreeClassifier.html#sklearn.tree.DecisionTreeClassifier)\n",
        "4. MLP, see [HERE](https://scikit-learn.org/stable/modules/generated/sklearn.neural_network.MLPClassifier.html#sklearn.neural_network.MLPClassifier)\n",
        "5. RF, see [HERE](https://scikit-learn.org/stable/modules/generated/sklearn.ensemble.RandomForestClassifier.html#sklearn.ensemble.RandomForestClassifier)"
      ],
      "metadata": {
        "id": "_XIKr9W6bfiC"
      }
    }
  ]
}