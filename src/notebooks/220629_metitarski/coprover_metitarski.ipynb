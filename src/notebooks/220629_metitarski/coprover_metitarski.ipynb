{
  "nbformat": 4,
  "nbformat_minor": 0,
  "metadata": {
    "colab": {
      "name": "coprover-metitarski.ipynb",
      "provenance": [],
      "collapsed_sections": [],
      "toc_visible": true,
      "authorship_tag": "ABX9TyMKXJz/kNmRIdBYv/4pu6df",
      "include_colab_link": true
    },
    "kernelspec": {
      "name": "python3",
      "display_name": "Python 3"
    },
    "language_info": {
      "name": "python"
    }
  },
  "cells": [
    {
      "cell_type": "markdown",
      "metadata": {
        "id": "view-in-github",
        "colab_type": "text"
      },
      "source": [
        "<a href=\"https://colab.research.google.com/github/SRI-CSL/CoProver/blob/main/src/notebooks/220629_metitarski/coprover_metitarski.ipynb\" target=\"_parent\"><img src=\"https://colab.research.google.com/assets/colab-badge.svg\" alt=\"Open In Colab\"/></a>"
      ]
    },
    {
      "cell_type": "markdown",
      "source": [
        "# CoProver \n",
        "\n",
        "## &#10024; `MetiTarski`- problem\n",
        "\n",
        "**Copyright 2022 SRI International.**"
      ],
      "metadata": {
        "id": "LGn1kkqPSNP6"
      }
    },
    {
      "cell_type": "markdown",
      "source": [
        "## &#9776; Import `needed` libraries"
      ],
      "metadata": {
        "id": "8eFP_-fISjCi"
      }
    },
    {
      "cell_type": "code",
      "execution_count": null,
      "metadata": {
        "id": "A_SrsHZARt96"
      },
      "outputs": [],
      "source": [
        "import os\n",
        "import sys\n",
        "import warnings\n",
        "\n",
        "import numpy as np\n",
        "import pandas as pd\n",
        "import matplotlib.pyplot as plt\n",
        "\n",
        "from matplotlib import rc\n",
        "from tqdm import tqdm\n",
        "from sklearn.preprocessing import StandardScaler, MinMaxScaler\n",
        "from sklearn.model_selection import train_test_split\n",
        "from sklearn import svm\n",
        "from sklearn import metrics"
      ]
    },
    {
      "cell_type": "code",
      "source": [
        "try:\n",
        "    from google.colab import data_table\n",
        "    data_table.disable_dataframe_formatter()\n",
        "    \n",
        "    from google.colab import output\n",
        "    output.enable_custom_widget_manager()\n",
        "except Exception:\n",
        "    print(\"Launched notebook locally\")"
      ],
      "metadata": {
        "id": "Cpud45PmSn-x"
      },
      "execution_count": null,
      "outputs": []
    },
    {
      "cell_type": "code",
      "source": [
        "from typing import List, Any, Dict"
      ],
      "metadata": {
        "id": "Y6KXOR37WSVP"
      },
      "execution_count": null,
      "outputs": []
    },
    {
      "cell_type": "code",
      "source": [
        "# install gdown library for .csv files download\n",
        "try:\n",
        "    import gdown\n",
        "except ImportError:\n",
        "    !pip install gdown"
      ],
      "metadata": {
        "id": "bqBfbG4XWVcH"
      },
      "execution_count": null,
      "outputs": []
    },
    {
      "cell_type": "markdown",
      "source": [
        "## &#9997; Set `needed` configuration"
      ],
      "metadata": {
        "id": "cO6YhKy5We-z"
      }
    },
    {
      "cell_type": "code",
      "source": [
        "warnings.filterwarnings('ignore')"
      ],
      "metadata": {
        "id": "EZLqh4CdWYZQ"
      },
      "execution_count": null,
      "outputs": []
    },
    {
      "cell_type": "code",
      "source": [
        "# origins of the .csv data files used\n",
        "# True: originating within the signal-public GitHub repository\n",
        "# False: need to be downloaded from a provided URL, especially useful if running on Colab\n",
        "IS_LOCAL_FILE = False"
      ],
      "metadata": {
        "id": "CEbN6ePzWigg"
      },
      "execution_count": null,
      "outputs": []
    },
    {
      "cell_type": "code",
      "source": [
        "# dictionary of files for this notebook to work\n",
        "# the dictionary is composed of (filename, Google ID) key-value pairs\n",
        "DATASET_DICT = {\n",
        "    'metitarski_dataset_v1.csv': '1jOqdNyfTr_8rPtYCZ-4gNifOJWOCtjPj',\n",
        "    'metitarski_dataset_v2.csv': '1RXJI-1ZKnKs6RhmPlGmM111XHzcfyCDy'\n",
        "    }"
      ],
      "metadata": {
        "id": "H_3evvH1Wk64"
      },
      "execution_count": null,
      "outputs": []
    },
    {
      "cell_type": "markdown",
      "source": [
        "## &#9881; Define `needed` functions"
      ],
      "metadata": {
        "id": "JS_H95CNWv2g"
      }
    },
    {
      "cell_type": "code",
      "source": [
        "def path_exists(input_path: str) -> bool:\n",
        "    return os.path.exists(input_path)"
      ],
      "metadata": {
        "id": "9pmj0z4TWqpI"
      },
      "execution_count": null,
      "outputs": []
    },
    {
      "cell_type": "code",
      "source": [
        "def check_file_status(input_path: str):\n",
        "    if path_exists(input_path=input_path):\n",
        "        print(f\"- File {input_path.split('/')[-1]} exists locally at {input_path}!\")\n",
        "    else:\n",
        "        if IS_LOCAL_FILE:\n",
        "            print(\"- Something went wrong with the download. Please try again!\")\n",
        "        else:\n",
        "            print(f\"- IS_LOCAL_FILE is set to {IS_LOCAL_FILE}. The file is accessed via a public GitHub link!\")"
      ],
      "metadata": {
        "id": "BchjZsQaW2Dh"
      },
      "execution_count": null,
      "outputs": []
    },
    {
      "cell_type": "code",
      "source": [
        "def download_dataset_from_google_drive(google_file_id: str, output_file_name: str, quiet_download: bool) -> str:\n",
        "    file_path = f'./{output_file_name}'\n",
        "\n",
        "    if not os.path.exists(file_path):\n",
        "        gdown.download(id=google_file_id, output=output_file_name, quiet=quiet_download)\n",
        "    else:\n",
        "        print(f\"{output_file_name} already exists!\")\n",
        "        \n",
        "    return file_path"
      ],
      "metadata": {
        "id": "53SObIjeW4_-"
      },
      "execution_count": null,
      "outputs": []
    },
    {
      "cell_type": "code",
      "source": [
        "def get_dataset(dataset_name: str, is_local_file: bool) -> str:\n",
        "    file_path = f'./{dataset_name}'\n",
        "\n",
        "    if is_local_file:\n",
        "        file_path = f'https://raw.githubusercontent.com/SRI-CSL/CoProver/main/data/{dataset_name}'\n",
        "    else:\n",
        "        if dataset_name in DATASET_DICT:\n",
        "            file_path = download_dataset_from_google_drive(google_file_id=DATASET_DICT[dataset_name], output_file_name=dataset_name, quiet_download=False)\n",
        "        else:\n",
        "            print(f\"{dataset_name} is not present in dataset dictionary! Please ensure the file name is correct!\")\n",
        "            return\n",
        "\n",
        "    return file_path"
      ],
      "metadata": {
        "id": "HZnRk5RdW8QW"
      },
      "execution_count": null,
      "outputs": []
    },
    {
      "cell_type": "markdown",
      "source": [
        "## &#9749; Download datasets"
      ],
      "metadata": {
        "id": "uOq2Ad_EYiGW"
      }
    },
    {
      "cell_type": "code",
      "source": [
        "# metitarski_dataset_v2.csv\n",
        "path_metitarski = get_dataset(dataset_name='metitarski_dataset_v2.csv', is_local_file=IS_LOCAL_FILE)"
      ],
      "metadata": {
        "id": "w2LwKmjHXJsi",
        "colab": {
          "base_uri": "https://localhost:8080/"
        },
        "outputId": "1129dd65-8280-4b3c-c27c-6f519c7984bc"
      },
      "execution_count": null,
      "outputs": [
        {
          "output_type": "stream",
          "name": "stderr",
          "text": [
            "Downloading...\n",
            "From: https://drive.google.com/uc?id=1RXJI-1ZKnKs6RhmPlGmM111XHzcfyCDy\n",
            "To: /content/metitarski_dataset_v2.csv\n",
            "100%|██████████| 6.25M/6.25M [00:00<00:00, 66.8MB/s]\n"
          ]
        }
      ]
    },
    {
      "cell_type": "code",
      "source": [
        "check_file_status(input_path=path_metitarski)"
      ],
      "metadata": {
        "colab": {
          "base_uri": "https://localhost:8080/"
        },
        "id": "6F3SojMyeW5M",
        "outputId": "981419d1-f460-4cb3-9840-b83b21e022a6"
      },
      "execution_count": null,
      "outputs": [
        {
          "output_type": "stream",
          "name": "stdout",
          "text": [
            "- File metitarski_dataset_v2.csv exists locally at ./metitarski_dataset_v2.csv!\n"
          ]
        }
      ]
    },
    {
      "cell_type": "code",
      "source": [
        "# metitarski_dataset_v1.csv\n",
        "path_metitarski_original = get_dataset(dataset_name='metitarski_dataset_v1.csv', is_local_file=IS_LOCAL_FILE)"
      ],
      "metadata": {
        "colab": {
          "base_uri": "https://localhost:8080/"
        },
        "id": "sRyYXkOj11mq",
        "outputId": "4cd19734-3af0-4589-fca0-463c39f49a22"
      },
      "execution_count": null,
      "outputs": [
        {
          "output_type": "stream",
          "name": "stderr",
          "text": [
            "Downloading...\n",
            "From: https://drive.google.com/uc?id=1jOqdNyfTr_8rPtYCZ-4gNifOJWOCtjPj\n",
            "To: /content/metitarski_dataset_v1.csv\n",
            "100%|██████████| 953k/953k [00:00<00:00, 77.2MB/s]\n"
          ]
        }
      ]
    },
    {
      "cell_type": "code",
      "source": [
        "check_file_status(input_path=path_metitarski_original)"
      ],
      "metadata": {
        "colab": {
          "base_uri": "https://localhost:8080/"
        },
        "id": "EZxHCLm711uh",
        "outputId": "4ab0af5c-6b52-43a2-a8e3-b2696b3ec323"
      },
      "execution_count": null,
      "outputs": [
        {
          "output_type": "stream",
          "name": "stdout",
          "text": [
            "- File metitarski_dataset_v1.csv exists locally at ./metitarski_dataset_v1.csv!\n"
          ]
        }
      ]
    },
    {
      "cell_type": "markdown",
      "source": [
        "## &#128722; Load data"
      ],
      "metadata": {
        "id": "hqoJppuQYjs0"
      }
    },
    {
      "cell_type": "code",
      "source": [
        "df_metitarski = pd.read_csv(path_metitarski, sep='\\t')"
      ],
      "metadata": {
        "id": "E2792JhxYnl_"
      },
      "execution_count": null,
      "outputs": []
    },
    {
      "cell_type": "code",
      "source": [
        "df_metitarski.info()"
      ],
      "metadata": {
        "colab": {
          "base_uri": "https://localhost:8080/"
        },
        "id": "XTGsjMIIecPn",
        "outputId": "ab982668-0e12-4b42-a002-1400787b2b84"
      },
      "execution_count": null,
      "outputs": [
        {
          "output_type": "stream",
          "name": "stdout",
          "text": [
            "<class 'pandas.core.frame.DataFrame'>\n",
            "RangeIndex: 41369 entries, 0 to 41368\n",
            "Data columns (total 15 columns):\n",
            " #   Column          Non-Null Count  Dtype  \n",
            "---  ------          --------------  -----  \n",
            " 0   Unnamed: 0      41369 non-null  int64  \n",
            " 1   file_id         41369 non-null  int64  \n",
            " 2   input_file      41369 non-null  object \n",
            " 3   label_file      41369 non-null  object \n",
            " 4   nr_polynomials  41369 non-null  int64  \n",
            " 5   max_x1          41369 non-null  int64  \n",
            " 6   max_x2          41369 non-null  int64  \n",
            " 7   max_x3          41369 non-null  int64  \n",
            " 8   prop_x1         41369 non-null  float64\n",
            " 9   prop_x2         41369 non-null  float64\n",
            " 10  prop_x3         41369 non-null  float64\n",
            " 11  prop_mon_x1     41369 non-null  float64\n",
            " 12  prop_mon_x2     41369 non-null  float64\n",
            " 13  prop_mon_x3     41369 non-null  float64\n",
            " 14  label           41369 non-null  int64  \n",
            "dtypes: float64(6), int64(7), object(2)\n",
            "memory usage: 4.7+ MB\n"
          ]
        }
      ]
    },
    {
      "cell_type": "code",
      "source": [
        "df_metitarski.head()"
      ],
      "metadata": {
        "colab": {
          "base_uri": "https://localhost:8080/",
          "height": 206
        },
        "id": "pMepsqmNecTL",
        "outputId": "065c56a0-b25a-4f9b-801b-ed195fe55f52"
      },
      "execution_count": null,
      "outputs": [
        {
          "output_type": "execute_result",
          "data": {
            "text/plain": [
              "   Unnamed: 0  file_id             input_file                label_file  \\\n",
              "0           0      415   poly415-perm0.txt.ml   comp_times415-perm0.txt   \n",
              "1           1     2230  poly2230-perm2.txt.ml  comp_times2230-perm2.txt   \n",
              "2           2     6506  poly6506-perm3.txt.ml  comp_times6506-perm3.txt   \n",
              "3           3     3998  poly3998-perm5.txt.ml  comp_times3998-perm5.txt   \n",
              "4           4     3730  poly3730-perm2.txt.ml  comp_times3730-perm2.txt   \n",
              "\n",
              "   nr_polynomials  max_x1  max_x2  max_x3   prop_x1   prop_x2   prop_x3  \\\n",
              "0              10       2       2       1  0.500000  0.500000  0.500000   \n",
              "1               6       1       2       2  0.333333  0.666667  0.500000   \n",
              "2               6      16       1       1  0.500000  0.333333  0.500000   \n",
              "3               9       3       3       3  0.555556  0.555556  0.555556   \n",
              "4              14       1       9       3  0.214286  0.785714  0.142857   \n",
              "\n",
              "   prop_mon_x1  prop_mon_x2  prop_mon_x3  label  \n",
              "0     0.333333     0.333333     0.333333      4  \n",
              "1     0.269231     0.384615     0.346154      0  \n",
              "2     0.666667     0.133333     0.200000      5  \n",
              "3     0.333333     0.333333     0.333333      1  \n",
              "4     0.187500     0.687500     0.125000      3  "
            ],
            "text/html": [
              "\n",
              "  <div id=\"df-e1d8cbd5-d8e1-460c-ad81-e42b7e818cbf\">\n",
              "    <div class=\"colab-df-container\">\n",
              "      <div>\n",
              "<style scoped>\n",
              "    .dataframe tbody tr th:only-of-type {\n",
              "        vertical-align: middle;\n",
              "    }\n",
              "\n",
              "    .dataframe tbody tr th {\n",
              "        vertical-align: top;\n",
              "    }\n",
              "\n",
              "    .dataframe thead th {\n",
              "        text-align: right;\n",
              "    }\n",
              "</style>\n",
              "<table border=\"1\" class=\"dataframe\">\n",
              "  <thead>\n",
              "    <tr style=\"text-align: right;\">\n",
              "      <th></th>\n",
              "      <th>Unnamed: 0</th>\n",
              "      <th>file_id</th>\n",
              "      <th>input_file</th>\n",
              "      <th>label_file</th>\n",
              "      <th>nr_polynomials</th>\n",
              "      <th>max_x1</th>\n",
              "      <th>max_x2</th>\n",
              "      <th>max_x3</th>\n",
              "      <th>prop_x1</th>\n",
              "      <th>prop_x2</th>\n",
              "      <th>prop_x3</th>\n",
              "      <th>prop_mon_x1</th>\n",
              "      <th>prop_mon_x2</th>\n",
              "      <th>prop_mon_x3</th>\n",
              "      <th>label</th>\n",
              "    </tr>\n",
              "  </thead>\n",
              "  <tbody>\n",
              "    <tr>\n",
              "      <th>0</th>\n",
              "      <td>0</td>\n",
              "      <td>415</td>\n",
              "      <td>poly415-perm0.txt.ml</td>\n",
              "      <td>comp_times415-perm0.txt</td>\n",
              "      <td>10</td>\n",
              "      <td>2</td>\n",
              "      <td>2</td>\n",
              "      <td>1</td>\n",
              "      <td>0.500000</td>\n",
              "      <td>0.500000</td>\n",
              "      <td>0.500000</td>\n",
              "      <td>0.333333</td>\n",
              "      <td>0.333333</td>\n",
              "      <td>0.333333</td>\n",
              "      <td>4</td>\n",
              "    </tr>\n",
              "    <tr>\n",
              "      <th>1</th>\n",
              "      <td>1</td>\n",
              "      <td>2230</td>\n",
              "      <td>poly2230-perm2.txt.ml</td>\n",
              "      <td>comp_times2230-perm2.txt</td>\n",
              "      <td>6</td>\n",
              "      <td>1</td>\n",
              "      <td>2</td>\n",
              "      <td>2</td>\n",
              "      <td>0.333333</td>\n",
              "      <td>0.666667</td>\n",
              "      <td>0.500000</td>\n",
              "      <td>0.269231</td>\n",
              "      <td>0.384615</td>\n",
              "      <td>0.346154</td>\n",
              "      <td>0</td>\n",
              "    </tr>\n",
              "    <tr>\n",
              "      <th>2</th>\n",
              "      <td>2</td>\n",
              "      <td>6506</td>\n",
              "      <td>poly6506-perm3.txt.ml</td>\n",
              "      <td>comp_times6506-perm3.txt</td>\n",
              "      <td>6</td>\n",
              "      <td>16</td>\n",
              "      <td>1</td>\n",
              "      <td>1</td>\n",
              "      <td>0.500000</td>\n",
              "      <td>0.333333</td>\n",
              "      <td>0.500000</td>\n",
              "      <td>0.666667</td>\n",
              "      <td>0.133333</td>\n",
              "      <td>0.200000</td>\n",
              "      <td>5</td>\n",
              "    </tr>\n",
              "    <tr>\n",
              "      <th>3</th>\n",
              "      <td>3</td>\n",
              "      <td>3998</td>\n",
              "      <td>poly3998-perm5.txt.ml</td>\n",
              "      <td>comp_times3998-perm5.txt</td>\n",
              "      <td>9</td>\n",
              "      <td>3</td>\n",
              "      <td>3</td>\n",
              "      <td>3</td>\n",
              "      <td>0.555556</td>\n",
              "      <td>0.555556</td>\n",
              "      <td>0.555556</td>\n",
              "      <td>0.333333</td>\n",
              "      <td>0.333333</td>\n",
              "      <td>0.333333</td>\n",
              "      <td>1</td>\n",
              "    </tr>\n",
              "    <tr>\n",
              "      <th>4</th>\n",
              "      <td>4</td>\n",
              "      <td>3730</td>\n",
              "      <td>poly3730-perm2.txt.ml</td>\n",
              "      <td>comp_times3730-perm2.txt</td>\n",
              "      <td>14</td>\n",
              "      <td>1</td>\n",
              "      <td>9</td>\n",
              "      <td>3</td>\n",
              "      <td>0.214286</td>\n",
              "      <td>0.785714</td>\n",
              "      <td>0.142857</td>\n",
              "      <td>0.187500</td>\n",
              "      <td>0.687500</td>\n",
              "      <td>0.125000</td>\n",
              "      <td>3</td>\n",
              "    </tr>\n",
              "  </tbody>\n",
              "</table>\n",
              "</div>\n",
              "      <button class=\"colab-df-convert\" onclick=\"convertToInteractive('df-e1d8cbd5-d8e1-460c-ad81-e42b7e818cbf')\"\n",
              "              title=\"Convert this dataframe to an interactive table.\"\n",
              "              style=\"display:none;\">\n",
              "        \n",
              "  <svg xmlns=\"http://www.w3.org/2000/svg\" height=\"24px\"viewBox=\"0 0 24 24\"\n",
              "       width=\"24px\">\n",
              "    <path d=\"M0 0h24v24H0V0z\" fill=\"none\"/>\n",
              "    <path d=\"M18.56 5.44l.94 2.06.94-2.06 2.06-.94-2.06-.94-.94-2.06-.94 2.06-2.06.94zm-11 1L8.5 8.5l.94-2.06 2.06-.94-2.06-.94L8.5 2.5l-.94 2.06-2.06.94zm10 10l.94 2.06.94-2.06 2.06-.94-2.06-.94-.94-2.06-.94 2.06-2.06.94z\"/><path d=\"M17.41 7.96l-1.37-1.37c-.4-.4-.92-.59-1.43-.59-.52 0-1.04.2-1.43.59L10.3 9.45l-7.72 7.72c-.78.78-.78 2.05 0 2.83L4 21.41c.39.39.9.59 1.41.59.51 0 1.02-.2 1.41-.59l7.78-7.78 2.81-2.81c.8-.78.8-2.07 0-2.86zM5.41 20L4 18.59l7.72-7.72 1.47 1.35L5.41 20z\"/>\n",
              "  </svg>\n",
              "      </button>\n",
              "      \n",
              "  <style>\n",
              "    .colab-df-container {\n",
              "      display:flex;\n",
              "      flex-wrap:wrap;\n",
              "      gap: 12px;\n",
              "    }\n",
              "\n",
              "    .colab-df-convert {\n",
              "      background-color: #E8F0FE;\n",
              "      border: none;\n",
              "      border-radius: 50%;\n",
              "      cursor: pointer;\n",
              "      display: none;\n",
              "      fill: #1967D2;\n",
              "      height: 32px;\n",
              "      padding: 0 0 0 0;\n",
              "      width: 32px;\n",
              "    }\n",
              "\n",
              "    .colab-df-convert:hover {\n",
              "      background-color: #E2EBFA;\n",
              "      box-shadow: 0px 1px 2px rgba(60, 64, 67, 0.3), 0px 1px 3px 1px rgba(60, 64, 67, 0.15);\n",
              "      fill: #174EA6;\n",
              "    }\n",
              "\n",
              "    [theme=dark] .colab-df-convert {\n",
              "      background-color: #3B4455;\n",
              "      fill: #D2E3FC;\n",
              "    }\n",
              "\n",
              "    [theme=dark] .colab-df-convert:hover {\n",
              "      background-color: #434B5C;\n",
              "      box-shadow: 0px 1px 3px 1px rgba(0, 0, 0, 0.15);\n",
              "      filter: drop-shadow(0px 1px 2px rgba(0, 0, 0, 0.3));\n",
              "      fill: #FFFFFF;\n",
              "    }\n",
              "  </style>\n",
              "\n",
              "      <script>\n",
              "        const buttonEl =\n",
              "          document.querySelector('#df-e1d8cbd5-d8e1-460c-ad81-e42b7e818cbf button.colab-df-convert');\n",
              "        buttonEl.style.display =\n",
              "          google.colab.kernel.accessAllowed ? 'block' : 'none';\n",
              "\n",
              "        async function convertToInteractive(key) {\n",
              "          const element = document.querySelector('#df-e1d8cbd5-d8e1-460c-ad81-e42b7e818cbf');\n",
              "          const dataTable =\n",
              "            await google.colab.kernel.invokeFunction('convertToInteractive',\n",
              "                                                     [key], {});\n",
              "          if (!dataTable) return;\n",
              "\n",
              "          const docLinkHtml = 'Like what you see? Visit the ' +\n",
              "            '<a target=\"_blank\" href=https://colab.research.google.com/notebooks/data_table.ipynb>data table notebook</a>'\n",
              "            + ' to learn more about interactive tables.';\n",
              "          element.innerHTML = '';\n",
              "          dataTable['output_type'] = 'display_data';\n",
              "          await google.colab.output.renderOutput(dataTable, element);\n",
              "          const docLink = document.createElement('div');\n",
              "          docLink.innerHTML = docLinkHtml;\n",
              "          element.appendChild(docLink);\n",
              "        }\n",
              "      </script>\n",
              "    </div>\n",
              "  </div>\n",
              "  "
            ]
          },
          "metadata": {},
          "execution_count": 16
        }
      ]
    },
    {
      "cell_type": "code",
      "source": [
        "df_metitarski.label.unique()"
      ],
      "metadata": {
        "colab": {
          "base_uri": "https://localhost:8080/"
        },
        "id": "hokmQgrynMya",
        "outputId": "e6074963-23d0-4dd6-8347-60910eae3ecd"
      },
      "execution_count": null,
      "outputs": [
        {
          "output_type": "execute_result",
          "data": {
            "text/plain": [
              "array([4, 0, 5, 1, 3, 2])"
            ]
          },
          "metadata": {},
          "execution_count": 17
        }
      ]
    },
    {
      "cell_type": "code",
      "source": [
        "df_metitarski_original = pd.read_csv(path_metitarski_original, sep='\\t')"
      ],
      "metadata": {
        "id": "yUwCZ-yu2C9u"
      },
      "execution_count": null,
      "outputs": []
    },
    {
      "cell_type": "code",
      "source": [
        "df_metitarski_original.info()"
      ],
      "metadata": {
        "colab": {
          "base_uri": "https://localhost:8080/"
        },
        "id": "XIja9j4X2Icn",
        "outputId": "0187e84d-f6da-459c-d0ce-fc8dcf343a3d"
      },
      "execution_count": null,
      "outputs": [
        {
          "output_type": "stream",
          "name": "stdout",
          "text": [
            "<class 'pandas.core.frame.DataFrame'>\n",
            "RangeIndex: 6895 entries, 0 to 6894\n",
            "Data columns (total 15 columns):\n",
            " #   Column          Non-Null Count  Dtype  \n",
            "---  ------          --------------  -----  \n",
            " 0   Unnamed: 0      6895 non-null   int64  \n",
            " 1   file_id         6895 non-null   int64  \n",
            " 2   input_file      6895 non-null   object \n",
            " 3   label_file      6895 non-null   object \n",
            " 4   nr_polynomials  6895 non-null   int64  \n",
            " 5   max_x1          6895 non-null   int64  \n",
            " 6   max_x2          6895 non-null   int64  \n",
            " 7   max_x3          6895 non-null   int64  \n",
            " 8   prop_x1         6895 non-null   float64\n",
            " 9   prop_x2         6895 non-null   float64\n",
            " 10  prop_x3         6895 non-null   float64\n",
            " 11  prop_mon_x1     6895 non-null   float64\n",
            " 12  prop_mon_x2     6895 non-null   float64\n",
            " 13  prop_mon_x3     6895 non-null   float64\n",
            " 14  label           6895 non-null   int64  \n",
            "dtypes: float64(6), int64(7), object(2)\n",
            "memory usage: 808.1+ KB\n"
          ]
        }
      ]
    },
    {
      "cell_type": "code",
      "source": [
        "df_metitarski_original.head()"
      ],
      "metadata": {
        "colab": {
          "base_uri": "https://localhost:8080/",
          "height": 206
        },
        "id": "IQdXyDGy2MdE",
        "outputId": "2895e79f-e5a7-4d56-cf85-e0d06e8aa90c"
      },
      "execution_count": null,
      "outputs": [
        {
          "output_type": "execute_result",
          "data": {
            "text/plain": [
              "   Unnamed: 0  file_id       input_file          label_file  nr_polynomials  \\\n",
              "0           0     3940  poly3940.txt.ml  comp_times3940.txt               4   \n",
              "1           1     5554  poly5554.txt.ml  comp_times5554.txt              12   \n",
              "2           2     4063  poly4063.txt.ml  comp_times4063.txt               9   \n",
              "3           3     4732  poly4732.txt.ml  comp_times4732.txt               7   \n",
              "4           4     5205  poly5205.txt.ml  comp_times5205.txt               6   \n",
              "\n",
              "   max_x1  max_x2  max_x3   prop_x1   prop_x2   prop_x3  prop_mon_x1  \\\n",
              "0       1       1       1  0.500000  0.500000  0.250000     0.400000   \n",
              "1      10       9       1  0.666667  0.666667  0.250000     0.418605   \n",
              "2       1       1       1  0.444444  0.444444  0.555556     0.307692   \n",
              "3       4       2       1  0.428571  0.285714  0.428571     0.500000   \n",
              "4      12       6       1  0.500000  0.333333  0.500000     0.440000   \n",
              "\n",
              "   prop_mon_x2  prop_mon_x3  label  \n",
              "0     0.400000     0.200000      0  \n",
              "1     0.511628     0.069767      4  \n",
              "2     0.307692     0.384615      5  \n",
              "3     0.200000     0.300000      2  \n",
              "4     0.440000     0.120000      5  "
            ],
            "text/html": [
              "\n",
              "  <div id=\"df-692bc03e-11c8-4a6f-82c8-b36c7c2b4464\">\n",
              "    <div class=\"colab-df-container\">\n",
              "      <div>\n",
              "<style scoped>\n",
              "    .dataframe tbody tr th:only-of-type {\n",
              "        vertical-align: middle;\n",
              "    }\n",
              "\n",
              "    .dataframe tbody tr th {\n",
              "        vertical-align: top;\n",
              "    }\n",
              "\n",
              "    .dataframe thead th {\n",
              "        text-align: right;\n",
              "    }\n",
              "</style>\n",
              "<table border=\"1\" class=\"dataframe\">\n",
              "  <thead>\n",
              "    <tr style=\"text-align: right;\">\n",
              "      <th></th>\n",
              "      <th>Unnamed: 0</th>\n",
              "      <th>file_id</th>\n",
              "      <th>input_file</th>\n",
              "      <th>label_file</th>\n",
              "      <th>nr_polynomials</th>\n",
              "      <th>max_x1</th>\n",
              "      <th>max_x2</th>\n",
              "      <th>max_x3</th>\n",
              "      <th>prop_x1</th>\n",
              "      <th>prop_x2</th>\n",
              "      <th>prop_x3</th>\n",
              "      <th>prop_mon_x1</th>\n",
              "      <th>prop_mon_x2</th>\n",
              "      <th>prop_mon_x3</th>\n",
              "      <th>label</th>\n",
              "    </tr>\n",
              "  </thead>\n",
              "  <tbody>\n",
              "    <tr>\n",
              "      <th>0</th>\n",
              "      <td>0</td>\n",
              "      <td>3940</td>\n",
              "      <td>poly3940.txt.ml</td>\n",
              "      <td>comp_times3940.txt</td>\n",
              "      <td>4</td>\n",
              "      <td>1</td>\n",
              "      <td>1</td>\n",
              "      <td>1</td>\n",
              "      <td>0.500000</td>\n",
              "      <td>0.500000</td>\n",
              "      <td>0.250000</td>\n",
              "      <td>0.400000</td>\n",
              "      <td>0.400000</td>\n",
              "      <td>0.200000</td>\n",
              "      <td>0</td>\n",
              "    </tr>\n",
              "    <tr>\n",
              "      <th>1</th>\n",
              "      <td>1</td>\n",
              "      <td>5554</td>\n",
              "      <td>poly5554.txt.ml</td>\n",
              "      <td>comp_times5554.txt</td>\n",
              "      <td>12</td>\n",
              "      <td>10</td>\n",
              "      <td>9</td>\n",
              "      <td>1</td>\n",
              "      <td>0.666667</td>\n",
              "      <td>0.666667</td>\n",
              "      <td>0.250000</td>\n",
              "      <td>0.418605</td>\n",
              "      <td>0.511628</td>\n",
              "      <td>0.069767</td>\n",
              "      <td>4</td>\n",
              "    </tr>\n",
              "    <tr>\n",
              "      <th>2</th>\n",
              "      <td>2</td>\n",
              "      <td>4063</td>\n",
              "      <td>poly4063.txt.ml</td>\n",
              "      <td>comp_times4063.txt</td>\n",
              "      <td>9</td>\n",
              "      <td>1</td>\n",
              "      <td>1</td>\n",
              "      <td>1</td>\n",
              "      <td>0.444444</td>\n",
              "      <td>0.444444</td>\n",
              "      <td>0.555556</td>\n",
              "      <td>0.307692</td>\n",
              "      <td>0.307692</td>\n",
              "      <td>0.384615</td>\n",
              "      <td>5</td>\n",
              "    </tr>\n",
              "    <tr>\n",
              "      <th>3</th>\n",
              "      <td>3</td>\n",
              "      <td>4732</td>\n",
              "      <td>poly4732.txt.ml</td>\n",
              "      <td>comp_times4732.txt</td>\n",
              "      <td>7</td>\n",
              "      <td>4</td>\n",
              "      <td>2</td>\n",
              "      <td>1</td>\n",
              "      <td>0.428571</td>\n",
              "      <td>0.285714</td>\n",
              "      <td>0.428571</td>\n",
              "      <td>0.500000</td>\n",
              "      <td>0.200000</td>\n",
              "      <td>0.300000</td>\n",
              "      <td>2</td>\n",
              "    </tr>\n",
              "    <tr>\n",
              "      <th>4</th>\n",
              "      <td>4</td>\n",
              "      <td>5205</td>\n",
              "      <td>poly5205.txt.ml</td>\n",
              "      <td>comp_times5205.txt</td>\n",
              "      <td>6</td>\n",
              "      <td>12</td>\n",
              "      <td>6</td>\n",
              "      <td>1</td>\n",
              "      <td>0.500000</td>\n",
              "      <td>0.333333</td>\n",
              "      <td>0.500000</td>\n",
              "      <td>0.440000</td>\n",
              "      <td>0.440000</td>\n",
              "      <td>0.120000</td>\n",
              "      <td>5</td>\n",
              "    </tr>\n",
              "  </tbody>\n",
              "</table>\n",
              "</div>\n",
              "      <button class=\"colab-df-convert\" onclick=\"convertToInteractive('df-692bc03e-11c8-4a6f-82c8-b36c7c2b4464')\"\n",
              "              title=\"Convert this dataframe to an interactive table.\"\n",
              "              style=\"display:none;\">\n",
              "        \n",
              "  <svg xmlns=\"http://www.w3.org/2000/svg\" height=\"24px\"viewBox=\"0 0 24 24\"\n",
              "       width=\"24px\">\n",
              "    <path d=\"M0 0h24v24H0V0z\" fill=\"none\"/>\n",
              "    <path d=\"M18.56 5.44l.94 2.06.94-2.06 2.06-.94-2.06-.94-.94-2.06-.94 2.06-2.06.94zm-11 1L8.5 8.5l.94-2.06 2.06-.94-2.06-.94L8.5 2.5l-.94 2.06-2.06.94zm10 10l.94 2.06.94-2.06 2.06-.94-2.06-.94-.94-2.06-.94 2.06-2.06.94z\"/><path d=\"M17.41 7.96l-1.37-1.37c-.4-.4-.92-.59-1.43-.59-.52 0-1.04.2-1.43.59L10.3 9.45l-7.72 7.72c-.78.78-.78 2.05 0 2.83L4 21.41c.39.39.9.59 1.41.59.51 0 1.02-.2 1.41-.59l7.78-7.78 2.81-2.81c.8-.78.8-2.07 0-2.86zM5.41 20L4 18.59l7.72-7.72 1.47 1.35L5.41 20z\"/>\n",
              "  </svg>\n",
              "      </button>\n",
              "      \n",
              "  <style>\n",
              "    .colab-df-container {\n",
              "      display:flex;\n",
              "      flex-wrap:wrap;\n",
              "      gap: 12px;\n",
              "    }\n",
              "\n",
              "    .colab-df-convert {\n",
              "      background-color: #E8F0FE;\n",
              "      border: none;\n",
              "      border-radius: 50%;\n",
              "      cursor: pointer;\n",
              "      display: none;\n",
              "      fill: #1967D2;\n",
              "      height: 32px;\n",
              "      padding: 0 0 0 0;\n",
              "      width: 32px;\n",
              "    }\n",
              "\n",
              "    .colab-df-convert:hover {\n",
              "      background-color: #E2EBFA;\n",
              "      box-shadow: 0px 1px 2px rgba(60, 64, 67, 0.3), 0px 1px 3px 1px rgba(60, 64, 67, 0.15);\n",
              "      fill: #174EA6;\n",
              "    }\n",
              "\n",
              "    [theme=dark] .colab-df-convert {\n",
              "      background-color: #3B4455;\n",
              "      fill: #D2E3FC;\n",
              "    }\n",
              "\n",
              "    [theme=dark] .colab-df-convert:hover {\n",
              "      background-color: #434B5C;\n",
              "      box-shadow: 0px 1px 3px 1px rgba(0, 0, 0, 0.15);\n",
              "      filter: drop-shadow(0px 1px 2px rgba(0, 0, 0, 0.3));\n",
              "      fill: #FFFFFF;\n",
              "    }\n",
              "  </style>\n",
              "\n",
              "      <script>\n",
              "        const buttonEl =\n",
              "          document.querySelector('#df-692bc03e-11c8-4a6f-82c8-b36c7c2b4464 button.colab-df-convert');\n",
              "        buttonEl.style.display =\n",
              "          google.colab.kernel.accessAllowed ? 'block' : 'none';\n",
              "\n",
              "        async function convertToInteractive(key) {\n",
              "          const element = document.querySelector('#df-692bc03e-11c8-4a6f-82c8-b36c7c2b4464');\n",
              "          const dataTable =\n",
              "            await google.colab.kernel.invokeFunction('convertToInteractive',\n",
              "                                                     [key], {});\n",
              "          if (!dataTable) return;\n",
              "\n",
              "          const docLinkHtml = 'Like what you see? Visit the ' +\n",
              "            '<a target=\"_blank\" href=https://colab.research.google.com/notebooks/data_table.ipynb>data table notebook</a>'\n",
              "            + ' to learn more about interactive tables.';\n",
              "          element.innerHTML = '';\n",
              "          dataTable['output_type'] = 'display_data';\n",
              "          await google.colab.output.renderOutput(dataTable, element);\n",
              "          const docLink = document.createElement('div');\n",
              "          docLink.innerHTML = docLinkHtml;\n",
              "          element.appendChild(docLink);\n",
              "        }\n",
              "      </script>\n",
              "    </div>\n",
              "  </div>\n",
              "  "
            ]
          },
          "metadata": {},
          "execution_count": 60
        }
      ]
    },
    {
      "cell_type": "code",
      "source": [
        "df_metitarski_original.label.unique()"
      ],
      "metadata": {
        "colab": {
          "base_uri": "https://localhost:8080/"
        },
        "id": "-68rUglL2Mk5",
        "outputId": "134c74df-fa66-4849-9156-0991936fcc88"
      },
      "execution_count": null,
      "outputs": [
        {
          "output_type": "execute_result",
          "data": {
            "text/plain": [
              "array([0, 4, 5, 2, 1, 3])"
            ]
          },
          "metadata": {},
          "execution_count": 61
        }
      ]
    },
    {
      "cell_type": "markdown",
      "source": [
        "## &#129504; MetiTarski RTF"
      ],
      "metadata": {
        "id": "H4S3txysZcwj"
      }
    },
    {
      "cell_type": "code",
      "source": [
        "FEATURE_COLUMNS = ['nr_polynomials', 'max_x1', 'max_x2', 'max_x3', 'prop_x1', 'prop_x2', 'prop_x3', 'prop_mon_x1', 'prop_mon_x2', 'prop_mon_x3']\n",
        "\n",
        "FEATURE_COLUMNS"
      ],
      "metadata": {
        "colab": {
          "base_uri": "https://localhost:8080/"
        },
        "id": "vZtaD9pxUHPp",
        "outputId": "f57aaba7-1a16-415d-dfd2-1a5d468001e5"
      },
      "execution_count": null,
      "outputs": [
        {
          "output_type": "execute_result",
          "data": {
            "text/plain": [
              "['nr_polynomials',\n",
              " 'max_x1',\n",
              " 'max_x2',\n",
              " 'max_x3',\n",
              " 'prop_x1',\n",
              " 'prop_x2',\n",
              " 'prop_x3',\n",
              " 'prop_mon_x1',\n",
              " 'prop_mon_x2',\n",
              " 'prop_mon_x3']"
            ]
          },
          "metadata": {},
          "execution_count": 18
        }
      ]
    },
    {
      "cell_type": "code",
      "source": [
        "def rescale_data(df: pd.DataFrame) -> pd.DataFrame:\n",
        "    \"\"\"Rescale all features using MinMaxScaler() to same scale, between 0 and 1.\"\"\"\n",
        "    \n",
        "    scaler = StandardScaler()\n",
        "    scaler = scaler.fit(df)\n",
        "\n",
        "    df_scaled = pd.DataFrame(scaler.transform(df), index=df.index, columns=df.columns)\n",
        "\n",
        "    return df_scaled"
      ],
      "metadata": {
        "id": "RS6dHTxeUHSw"
      },
      "execution_count": null,
      "outputs": []
    },
    {
      "cell_type": "code",
      "source": [
        "df_features = df_metitarski[FEATURE_COLUMNS].copy().reset_index()"
      ],
      "metadata": {
        "id": "AgywsYCXV0LC"
      },
      "execution_count": null,
      "outputs": []
    },
    {
      "cell_type": "code",
      "source": [
        "df_features.head()"
      ],
      "metadata": {
        "colab": {
          "base_uri": "https://localhost:8080/",
          "height": 206
        },
        "id": "dBDWvOotWKKc",
        "outputId": "7f07b912-cd54-4e12-9c67-9452fd7bd59f"
      },
      "execution_count": null,
      "outputs": [
        {
          "output_type": "execute_result",
          "data": {
            "text/plain": [
              "   index  nr_polynomials  max_x1  max_x2  max_x3   prop_x1   prop_x2  \\\n",
              "0      0              10       2       2       1  0.500000  0.500000   \n",
              "1      1               6       1       2       2  0.333333  0.666667   \n",
              "2      2               6      16       1       1  0.500000  0.333333   \n",
              "3      3               9       3       3       3  0.555556  0.555556   \n",
              "4      4              14       1       9       3  0.214286  0.785714   \n",
              "\n",
              "    prop_x3  prop_mon_x1  prop_mon_x2  prop_mon_x3  \n",
              "0  0.500000     0.333333     0.333333     0.333333  \n",
              "1  0.500000     0.269231     0.384615     0.346154  \n",
              "2  0.500000     0.666667     0.133333     0.200000  \n",
              "3  0.555556     0.333333     0.333333     0.333333  \n",
              "4  0.142857     0.187500     0.687500     0.125000  "
            ],
            "text/html": [
              "\n",
              "  <div id=\"df-8fb05ca5-8a79-458f-8ae2-e2f962a8d28a\">\n",
              "    <div class=\"colab-df-container\">\n",
              "      <div>\n",
              "<style scoped>\n",
              "    .dataframe tbody tr th:only-of-type {\n",
              "        vertical-align: middle;\n",
              "    }\n",
              "\n",
              "    .dataframe tbody tr th {\n",
              "        vertical-align: top;\n",
              "    }\n",
              "\n",
              "    .dataframe thead th {\n",
              "        text-align: right;\n",
              "    }\n",
              "</style>\n",
              "<table border=\"1\" class=\"dataframe\">\n",
              "  <thead>\n",
              "    <tr style=\"text-align: right;\">\n",
              "      <th></th>\n",
              "      <th>index</th>\n",
              "      <th>nr_polynomials</th>\n",
              "      <th>max_x1</th>\n",
              "      <th>max_x2</th>\n",
              "      <th>max_x3</th>\n",
              "      <th>prop_x1</th>\n",
              "      <th>prop_x2</th>\n",
              "      <th>prop_x3</th>\n",
              "      <th>prop_mon_x1</th>\n",
              "      <th>prop_mon_x2</th>\n",
              "      <th>prop_mon_x3</th>\n",
              "    </tr>\n",
              "  </thead>\n",
              "  <tbody>\n",
              "    <tr>\n",
              "      <th>0</th>\n",
              "      <td>0</td>\n",
              "      <td>10</td>\n",
              "      <td>2</td>\n",
              "      <td>2</td>\n",
              "      <td>1</td>\n",
              "      <td>0.500000</td>\n",
              "      <td>0.500000</td>\n",
              "      <td>0.500000</td>\n",
              "      <td>0.333333</td>\n",
              "      <td>0.333333</td>\n",
              "      <td>0.333333</td>\n",
              "    </tr>\n",
              "    <tr>\n",
              "      <th>1</th>\n",
              "      <td>1</td>\n",
              "      <td>6</td>\n",
              "      <td>1</td>\n",
              "      <td>2</td>\n",
              "      <td>2</td>\n",
              "      <td>0.333333</td>\n",
              "      <td>0.666667</td>\n",
              "      <td>0.500000</td>\n",
              "      <td>0.269231</td>\n",
              "      <td>0.384615</td>\n",
              "      <td>0.346154</td>\n",
              "    </tr>\n",
              "    <tr>\n",
              "      <th>2</th>\n",
              "      <td>2</td>\n",
              "      <td>6</td>\n",
              "      <td>16</td>\n",
              "      <td>1</td>\n",
              "      <td>1</td>\n",
              "      <td>0.500000</td>\n",
              "      <td>0.333333</td>\n",
              "      <td>0.500000</td>\n",
              "      <td>0.666667</td>\n",
              "      <td>0.133333</td>\n",
              "      <td>0.200000</td>\n",
              "    </tr>\n",
              "    <tr>\n",
              "      <th>3</th>\n",
              "      <td>3</td>\n",
              "      <td>9</td>\n",
              "      <td>3</td>\n",
              "      <td>3</td>\n",
              "      <td>3</td>\n",
              "      <td>0.555556</td>\n",
              "      <td>0.555556</td>\n",
              "      <td>0.555556</td>\n",
              "      <td>0.333333</td>\n",
              "      <td>0.333333</td>\n",
              "      <td>0.333333</td>\n",
              "    </tr>\n",
              "    <tr>\n",
              "      <th>4</th>\n",
              "      <td>4</td>\n",
              "      <td>14</td>\n",
              "      <td>1</td>\n",
              "      <td>9</td>\n",
              "      <td>3</td>\n",
              "      <td>0.214286</td>\n",
              "      <td>0.785714</td>\n",
              "      <td>0.142857</td>\n",
              "      <td>0.187500</td>\n",
              "      <td>0.687500</td>\n",
              "      <td>0.125000</td>\n",
              "    </tr>\n",
              "  </tbody>\n",
              "</table>\n",
              "</div>\n",
              "      <button class=\"colab-df-convert\" onclick=\"convertToInteractive('df-8fb05ca5-8a79-458f-8ae2-e2f962a8d28a')\"\n",
              "              title=\"Convert this dataframe to an interactive table.\"\n",
              "              style=\"display:none;\">\n",
              "        \n",
              "  <svg xmlns=\"http://www.w3.org/2000/svg\" height=\"24px\"viewBox=\"0 0 24 24\"\n",
              "       width=\"24px\">\n",
              "    <path d=\"M0 0h24v24H0V0z\" fill=\"none\"/>\n",
              "    <path d=\"M18.56 5.44l.94 2.06.94-2.06 2.06-.94-2.06-.94-.94-2.06-.94 2.06-2.06.94zm-11 1L8.5 8.5l.94-2.06 2.06-.94-2.06-.94L8.5 2.5l-.94 2.06-2.06.94zm10 10l.94 2.06.94-2.06 2.06-.94-2.06-.94-.94-2.06-.94 2.06-2.06.94z\"/><path d=\"M17.41 7.96l-1.37-1.37c-.4-.4-.92-.59-1.43-.59-.52 0-1.04.2-1.43.59L10.3 9.45l-7.72 7.72c-.78.78-.78 2.05 0 2.83L4 21.41c.39.39.9.59 1.41.59.51 0 1.02-.2 1.41-.59l7.78-7.78 2.81-2.81c.8-.78.8-2.07 0-2.86zM5.41 20L4 18.59l7.72-7.72 1.47 1.35L5.41 20z\"/>\n",
              "  </svg>\n",
              "      </button>\n",
              "      \n",
              "  <style>\n",
              "    .colab-df-container {\n",
              "      display:flex;\n",
              "      flex-wrap:wrap;\n",
              "      gap: 12px;\n",
              "    }\n",
              "\n",
              "    .colab-df-convert {\n",
              "      background-color: #E8F0FE;\n",
              "      border: none;\n",
              "      border-radius: 50%;\n",
              "      cursor: pointer;\n",
              "      display: none;\n",
              "      fill: #1967D2;\n",
              "      height: 32px;\n",
              "      padding: 0 0 0 0;\n",
              "      width: 32px;\n",
              "    }\n",
              "\n",
              "    .colab-df-convert:hover {\n",
              "      background-color: #E2EBFA;\n",
              "      box-shadow: 0px 1px 2px rgba(60, 64, 67, 0.3), 0px 1px 3px 1px rgba(60, 64, 67, 0.15);\n",
              "      fill: #174EA6;\n",
              "    }\n",
              "\n",
              "    [theme=dark] .colab-df-convert {\n",
              "      background-color: #3B4455;\n",
              "      fill: #D2E3FC;\n",
              "    }\n",
              "\n",
              "    [theme=dark] .colab-df-convert:hover {\n",
              "      background-color: #434B5C;\n",
              "      box-shadow: 0px 1px 3px 1px rgba(0, 0, 0, 0.15);\n",
              "      filter: drop-shadow(0px 1px 2px rgba(0, 0, 0, 0.3));\n",
              "      fill: #FFFFFF;\n",
              "    }\n",
              "  </style>\n",
              "\n",
              "      <script>\n",
              "        const buttonEl =\n",
              "          document.querySelector('#df-8fb05ca5-8a79-458f-8ae2-e2f962a8d28a button.colab-df-convert');\n",
              "        buttonEl.style.display =\n",
              "          google.colab.kernel.accessAllowed ? 'block' : 'none';\n",
              "\n",
              "        async function convertToInteractive(key) {\n",
              "          const element = document.querySelector('#df-8fb05ca5-8a79-458f-8ae2-e2f962a8d28a');\n",
              "          const dataTable =\n",
              "            await google.colab.kernel.invokeFunction('convertToInteractive',\n",
              "                                                     [key], {});\n",
              "          if (!dataTable) return;\n",
              "\n",
              "          const docLinkHtml = 'Like what you see? Visit the ' +\n",
              "            '<a target=\"_blank\" href=https://colab.research.google.com/notebooks/data_table.ipynb>data table notebook</a>'\n",
              "            + ' to learn more about interactive tables.';\n",
              "          element.innerHTML = '';\n",
              "          dataTable['output_type'] = 'display_data';\n",
              "          await google.colab.output.renderOutput(dataTable, element);\n",
              "          const docLink = document.createElement('div');\n",
              "          docLink.innerHTML = docLinkHtml;\n",
              "          element.appendChild(docLink);\n",
              "        }\n",
              "      </script>\n",
              "    </div>\n",
              "  </div>\n",
              "  "
            ]
          },
          "metadata": {},
          "execution_count": 21
        }
      ]
    },
    {
      "cell_type": "code",
      "source": [
        "df_features.drop(['index'], axis=1, inplace=True)"
      ],
      "metadata": {
        "id": "thWOs8lBWKNw"
      },
      "execution_count": null,
      "outputs": []
    },
    {
      "cell_type": "code",
      "source": [
        "X_train, X_test, y_train, y_test = train_test_split(df_features, df_metitarski.label, test_size=0.1)"
      ],
      "metadata": {
        "id": "_2sOKAYaVKOO"
      },
      "execution_count": null,
      "outputs": []
    },
    {
      "cell_type": "code",
      "source": [
        "X_train = rescale_data(X_train)"
      ],
      "metadata": {
        "id": "TbKCc0sRWKRV"
      },
      "execution_count": null,
      "outputs": []
    },
    {
      "cell_type": "code",
      "source": [
        "X_train.head()"
      ],
      "metadata": {
        "colab": {
          "base_uri": "https://localhost:8080/",
          "height": 206
        },
        "id": "RCRqxAnNWXOQ",
        "outputId": "bd775068-4874-49c6-b6a4-d5a4825f0f03"
      },
      "execution_count": null,
      "outputs": [
        {
          "output_type": "execute_result",
          "data": {
            "text/plain": [
              "       nr_polynomials    max_x1    max_x2    max_x3   prop_x1   prop_x2  \\\n",
              "6841        -1.434140 -0.485038 -0.485103 -0.483329  1.076331  1.083189   \n",
              "29783        0.665416 -0.485038  1.151779  0.680362 -1.192230  0.670078   \n",
              "6032        -0.234394 -0.485038 -0.251263 -0.483329 -0.396760 -0.392208   \n",
              "2204         1.265289  0.215165 -0.017422 -0.250591  0.560749  1.599578   \n",
              "32826       -0.534330 -0.485038 -0.485103 -0.483329 -0.985997  1.083189   \n",
              "\n",
              "        prop_x3  prop_mon_x1  prop_mon_x2  prop_mon_x3  \n",
              "6841   1.082436    -0.002511     0.002023     0.000489  \n",
              "29783  1.289016    -1.618603     1.127310     0.491841  \n",
              "6032   0.492209    -0.564630     0.002023     0.562035  \n",
              "2204  -0.466909     0.141009     0.145677    -0.286258  \n",
              "32826 -0.983358    -0.564630     1.127310    -0.561057  "
            ],
            "text/html": [
              "\n",
              "  <div id=\"df-7a6a0dd4-43ed-4213-8d07-ba7ee564d3fe\">\n",
              "    <div class=\"colab-df-container\">\n",
              "      <div>\n",
              "<style scoped>\n",
              "    .dataframe tbody tr th:only-of-type {\n",
              "        vertical-align: middle;\n",
              "    }\n",
              "\n",
              "    .dataframe tbody tr th {\n",
              "        vertical-align: top;\n",
              "    }\n",
              "\n",
              "    .dataframe thead th {\n",
              "        text-align: right;\n",
              "    }\n",
              "</style>\n",
              "<table border=\"1\" class=\"dataframe\">\n",
              "  <thead>\n",
              "    <tr style=\"text-align: right;\">\n",
              "      <th></th>\n",
              "      <th>nr_polynomials</th>\n",
              "      <th>max_x1</th>\n",
              "      <th>max_x2</th>\n",
              "      <th>max_x3</th>\n",
              "      <th>prop_x1</th>\n",
              "      <th>prop_x2</th>\n",
              "      <th>prop_x3</th>\n",
              "      <th>prop_mon_x1</th>\n",
              "      <th>prop_mon_x2</th>\n",
              "      <th>prop_mon_x3</th>\n",
              "    </tr>\n",
              "  </thead>\n",
              "  <tbody>\n",
              "    <tr>\n",
              "      <th>6841</th>\n",
              "      <td>-1.434140</td>\n",
              "      <td>-0.485038</td>\n",
              "      <td>-0.485103</td>\n",
              "      <td>-0.483329</td>\n",
              "      <td>1.076331</td>\n",
              "      <td>1.083189</td>\n",
              "      <td>1.082436</td>\n",
              "      <td>-0.002511</td>\n",
              "      <td>0.002023</td>\n",
              "      <td>0.000489</td>\n",
              "    </tr>\n",
              "    <tr>\n",
              "      <th>29783</th>\n",
              "      <td>0.665416</td>\n",
              "      <td>-0.485038</td>\n",
              "      <td>1.151779</td>\n",
              "      <td>0.680362</td>\n",
              "      <td>-1.192230</td>\n",
              "      <td>0.670078</td>\n",
              "      <td>1.289016</td>\n",
              "      <td>-1.618603</td>\n",
              "      <td>1.127310</td>\n",
              "      <td>0.491841</td>\n",
              "    </tr>\n",
              "    <tr>\n",
              "      <th>6032</th>\n",
              "      <td>-0.234394</td>\n",
              "      <td>-0.485038</td>\n",
              "      <td>-0.251263</td>\n",
              "      <td>-0.483329</td>\n",
              "      <td>-0.396760</td>\n",
              "      <td>-0.392208</td>\n",
              "      <td>0.492209</td>\n",
              "      <td>-0.564630</td>\n",
              "      <td>0.002023</td>\n",
              "      <td>0.562035</td>\n",
              "    </tr>\n",
              "    <tr>\n",
              "      <th>2204</th>\n",
              "      <td>1.265289</td>\n",
              "      <td>0.215165</td>\n",
              "      <td>-0.017422</td>\n",
              "      <td>-0.250591</td>\n",
              "      <td>0.560749</td>\n",
              "      <td>1.599578</td>\n",
              "      <td>-0.466909</td>\n",
              "      <td>0.141009</td>\n",
              "      <td>0.145677</td>\n",
              "      <td>-0.286258</td>\n",
              "    </tr>\n",
              "    <tr>\n",
              "      <th>32826</th>\n",
              "      <td>-0.534330</td>\n",
              "      <td>-0.485038</td>\n",
              "      <td>-0.485103</td>\n",
              "      <td>-0.483329</td>\n",
              "      <td>-0.985997</td>\n",
              "      <td>1.083189</td>\n",
              "      <td>-0.983358</td>\n",
              "      <td>-0.564630</td>\n",
              "      <td>1.127310</td>\n",
              "      <td>-0.561057</td>\n",
              "    </tr>\n",
              "  </tbody>\n",
              "</table>\n",
              "</div>\n",
              "      <button class=\"colab-df-convert\" onclick=\"convertToInteractive('df-7a6a0dd4-43ed-4213-8d07-ba7ee564d3fe')\"\n",
              "              title=\"Convert this dataframe to an interactive table.\"\n",
              "              style=\"display:none;\">\n",
              "        \n",
              "  <svg xmlns=\"http://www.w3.org/2000/svg\" height=\"24px\"viewBox=\"0 0 24 24\"\n",
              "       width=\"24px\">\n",
              "    <path d=\"M0 0h24v24H0V0z\" fill=\"none\"/>\n",
              "    <path d=\"M18.56 5.44l.94 2.06.94-2.06 2.06-.94-2.06-.94-.94-2.06-.94 2.06-2.06.94zm-11 1L8.5 8.5l.94-2.06 2.06-.94-2.06-.94L8.5 2.5l-.94 2.06-2.06.94zm10 10l.94 2.06.94-2.06 2.06-.94-2.06-.94-.94-2.06-.94 2.06-2.06.94z\"/><path d=\"M17.41 7.96l-1.37-1.37c-.4-.4-.92-.59-1.43-.59-.52 0-1.04.2-1.43.59L10.3 9.45l-7.72 7.72c-.78.78-.78 2.05 0 2.83L4 21.41c.39.39.9.59 1.41.59.51 0 1.02-.2 1.41-.59l7.78-7.78 2.81-2.81c.8-.78.8-2.07 0-2.86zM5.41 20L4 18.59l7.72-7.72 1.47 1.35L5.41 20z\"/>\n",
              "  </svg>\n",
              "      </button>\n",
              "      \n",
              "  <style>\n",
              "    .colab-df-container {\n",
              "      display:flex;\n",
              "      flex-wrap:wrap;\n",
              "      gap: 12px;\n",
              "    }\n",
              "\n",
              "    .colab-df-convert {\n",
              "      background-color: #E8F0FE;\n",
              "      border: none;\n",
              "      border-radius: 50%;\n",
              "      cursor: pointer;\n",
              "      display: none;\n",
              "      fill: #1967D2;\n",
              "      height: 32px;\n",
              "      padding: 0 0 0 0;\n",
              "      width: 32px;\n",
              "    }\n",
              "\n",
              "    .colab-df-convert:hover {\n",
              "      background-color: #E2EBFA;\n",
              "      box-shadow: 0px 1px 2px rgba(60, 64, 67, 0.3), 0px 1px 3px 1px rgba(60, 64, 67, 0.15);\n",
              "      fill: #174EA6;\n",
              "    }\n",
              "\n",
              "    [theme=dark] .colab-df-convert {\n",
              "      background-color: #3B4455;\n",
              "      fill: #D2E3FC;\n",
              "    }\n",
              "\n",
              "    [theme=dark] .colab-df-convert:hover {\n",
              "      background-color: #434B5C;\n",
              "      box-shadow: 0px 1px 3px 1px rgba(0, 0, 0, 0.15);\n",
              "      filter: drop-shadow(0px 1px 2px rgba(0, 0, 0, 0.3));\n",
              "      fill: #FFFFFF;\n",
              "    }\n",
              "  </style>\n",
              "\n",
              "      <script>\n",
              "        const buttonEl =\n",
              "          document.querySelector('#df-7a6a0dd4-43ed-4213-8d07-ba7ee564d3fe button.colab-df-convert');\n",
              "        buttonEl.style.display =\n",
              "          google.colab.kernel.accessAllowed ? 'block' : 'none';\n",
              "\n",
              "        async function convertToInteractive(key) {\n",
              "          const element = document.querySelector('#df-7a6a0dd4-43ed-4213-8d07-ba7ee564d3fe');\n",
              "          const dataTable =\n",
              "            await google.colab.kernel.invokeFunction('convertToInteractive',\n",
              "                                                     [key], {});\n",
              "          if (!dataTable) return;\n",
              "\n",
              "          const docLinkHtml = 'Like what you see? Visit the ' +\n",
              "            '<a target=\"_blank\" href=https://colab.research.google.com/notebooks/data_table.ipynb>data table notebook</a>'\n",
              "            + ' to learn more about interactive tables.';\n",
              "          element.innerHTML = '';\n",
              "          dataTable['output_type'] = 'display_data';\n",
              "          await google.colab.output.renderOutput(dataTable, element);\n",
              "          const docLink = document.createElement('div');\n",
              "          docLink.innerHTML = docLinkHtml;\n",
              "          element.appendChild(docLink);\n",
              "        }\n",
              "      </script>\n",
              "    </div>\n",
              "  </div>\n",
              "  "
            ]
          },
          "metadata": {},
          "execution_count": 25
        }
      ]
    },
    {
      "cell_type": "code",
      "source": [
        "X_test = rescale_data(X_test)"
      ],
      "metadata": {
        "id": "RqbZeiEMkzN0"
      },
      "execution_count": null,
      "outputs": []
    },
    {
      "cell_type": "code",
      "source": [
        "X_test.head()"
      ],
      "metadata": {
        "colab": {
          "base_uri": "https://localhost:8080/",
          "height": 206
        },
        "id": "D4ghtLM5kzRv",
        "outputId": "eaae2476-c79b-40d3-f45e-eeb8fdebdc07"
      },
      "execution_count": null,
      "outputs": [
        {
          "output_type": "execute_result",
          "data": {
            "text/plain": [
              "       nr_polynomials    max_x1    max_x2    max_x3   prop_x1   prop_x2  \\\n",
              "39260        1.564509 -0.473736 -0.473567 -0.488729  1.291472 -0.669567   \n",
              "13994       -0.528659 -0.473736  1.094646 -0.488729  0.088895  0.041286   \n",
              "38448       -0.229635 -0.473736 -0.473567 -0.488729  0.535566  0.481338   \n",
              "11926       -1.425731 -0.473736  0.198524  0.211365  1.131129 -0.985501   \n",
              "23564       -1.425731 -0.246138  0.198524 -0.488729 -0.953339 -0.985501   \n",
              "\n",
              "        prop_x3  prop_mon_x1  prop_mon_x2  prop_mon_x3  \n",
              "39260  0.759017     0.467489    -0.735087     0.276039  \n",
              "13994 -0.977243    -0.382291     1.387281    -1.025423  \n",
              "38448 -0.390973     0.224695     0.183100    -0.412970  \n",
              "11926 -0.977243    -0.534038     0.258362     0.276039  \n",
              "23564  1.074700    -0.867880     0.423936     0.444464  "
            ],
            "text/html": [
              "\n",
              "  <div id=\"df-4e009d14-ba6b-47ce-bfaf-9ef4d974e61c\">\n",
              "    <div class=\"colab-df-container\">\n",
              "      <div>\n",
              "<style scoped>\n",
              "    .dataframe tbody tr th:only-of-type {\n",
              "        vertical-align: middle;\n",
              "    }\n",
              "\n",
              "    .dataframe tbody tr th {\n",
              "        vertical-align: top;\n",
              "    }\n",
              "\n",
              "    .dataframe thead th {\n",
              "        text-align: right;\n",
              "    }\n",
              "</style>\n",
              "<table border=\"1\" class=\"dataframe\">\n",
              "  <thead>\n",
              "    <tr style=\"text-align: right;\">\n",
              "      <th></th>\n",
              "      <th>nr_polynomials</th>\n",
              "      <th>max_x1</th>\n",
              "      <th>max_x2</th>\n",
              "      <th>max_x3</th>\n",
              "      <th>prop_x1</th>\n",
              "      <th>prop_x2</th>\n",
              "      <th>prop_x3</th>\n",
              "      <th>prop_mon_x1</th>\n",
              "      <th>prop_mon_x2</th>\n",
              "      <th>prop_mon_x3</th>\n",
              "    </tr>\n",
              "  </thead>\n",
              "  <tbody>\n",
              "    <tr>\n",
              "      <th>39260</th>\n",
              "      <td>1.564509</td>\n",
              "      <td>-0.473736</td>\n",
              "      <td>-0.473567</td>\n",
              "      <td>-0.488729</td>\n",
              "      <td>1.291472</td>\n",
              "      <td>-0.669567</td>\n",
              "      <td>0.759017</td>\n",
              "      <td>0.467489</td>\n",
              "      <td>-0.735087</td>\n",
              "      <td>0.276039</td>\n",
              "    </tr>\n",
              "    <tr>\n",
              "      <th>13994</th>\n",
              "      <td>-0.528659</td>\n",
              "      <td>-0.473736</td>\n",
              "      <td>1.094646</td>\n",
              "      <td>-0.488729</td>\n",
              "      <td>0.088895</td>\n",
              "      <td>0.041286</td>\n",
              "      <td>-0.977243</td>\n",
              "      <td>-0.382291</td>\n",
              "      <td>1.387281</td>\n",
              "      <td>-1.025423</td>\n",
              "    </tr>\n",
              "    <tr>\n",
              "      <th>38448</th>\n",
              "      <td>-0.229635</td>\n",
              "      <td>-0.473736</td>\n",
              "      <td>-0.473567</td>\n",
              "      <td>-0.488729</td>\n",
              "      <td>0.535566</td>\n",
              "      <td>0.481338</td>\n",
              "      <td>-0.390973</td>\n",
              "      <td>0.224695</td>\n",
              "      <td>0.183100</td>\n",
              "      <td>-0.412970</td>\n",
              "    </tr>\n",
              "    <tr>\n",
              "      <th>11926</th>\n",
              "      <td>-1.425731</td>\n",
              "      <td>-0.473736</td>\n",
              "      <td>0.198524</td>\n",
              "      <td>0.211365</td>\n",
              "      <td>1.131129</td>\n",
              "      <td>-0.985501</td>\n",
              "      <td>-0.977243</td>\n",
              "      <td>-0.534038</td>\n",
              "      <td>0.258362</td>\n",
              "      <td>0.276039</td>\n",
              "    </tr>\n",
              "    <tr>\n",
              "      <th>23564</th>\n",
              "      <td>-1.425731</td>\n",
              "      <td>-0.246138</td>\n",
              "      <td>0.198524</td>\n",
              "      <td>-0.488729</td>\n",
              "      <td>-0.953339</td>\n",
              "      <td>-0.985501</td>\n",
              "      <td>1.074700</td>\n",
              "      <td>-0.867880</td>\n",
              "      <td>0.423936</td>\n",
              "      <td>0.444464</td>\n",
              "    </tr>\n",
              "  </tbody>\n",
              "</table>\n",
              "</div>\n",
              "      <button class=\"colab-df-convert\" onclick=\"convertToInteractive('df-4e009d14-ba6b-47ce-bfaf-9ef4d974e61c')\"\n",
              "              title=\"Convert this dataframe to an interactive table.\"\n",
              "              style=\"display:none;\">\n",
              "        \n",
              "  <svg xmlns=\"http://www.w3.org/2000/svg\" height=\"24px\"viewBox=\"0 0 24 24\"\n",
              "       width=\"24px\">\n",
              "    <path d=\"M0 0h24v24H0V0z\" fill=\"none\"/>\n",
              "    <path d=\"M18.56 5.44l.94 2.06.94-2.06 2.06-.94-2.06-.94-.94-2.06-.94 2.06-2.06.94zm-11 1L8.5 8.5l.94-2.06 2.06-.94-2.06-.94L8.5 2.5l-.94 2.06-2.06.94zm10 10l.94 2.06.94-2.06 2.06-.94-2.06-.94-.94-2.06-.94 2.06-2.06.94z\"/><path d=\"M17.41 7.96l-1.37-1.37c-.4-.4-.92-.59-1.43-.59-.52 0-1.04.2-1.43.59L10.3 9.45l-7.72 7.72c-.78.78-.78 2.05 0 2.83L4 21.41c.39.39.9.59 1.41.59.51 0 1.02-.2 1.41-.59l7.78-7.78 2.81-2.81c.8-.78.8-2.07 0-2.86zM5.41 20L4 18.59l7.72-7.72 1.47 1.35L5.41 20z\"/>\n",
              "  </svg>\n",
              "      </button>\n",
              "      \n",
              "  <style>\n",
              "    .colab-df-container {\n",
              "      display:flex;\n",
              "      flex-wrap:wrap;\n",
              "      gap: 12px;\n",
              "    }\n",
              "\n",
              "    .colab-df-convert {\n",
              "      background-color: #E8F0FE;\n",
              "      border: none;\n",
              "      border-radius: 50%;\n",
              "      cursor: pointer;\n",
              "      display: none;\n",
              "      fill: #1967D2;\n",
              "      height: 32px;\n",
              "      padding: 0 0 0 0;\n",
              "      width: 32px;\n",
              "    }\n",
              "\n",
              "    .colab-df-convert:hover {\n",
              "      background-color: #E2EBFA;\n",
              "      box-shadow: 0px 1px 2px rgba(60, 64, 67, 0.3), 0px 1px 3px 1px rgba(60, 64, 67, 0.15);\n",
              "      fill: #174EA6;\n",
              "    }\n",
              "\n",
              "    [theme=dark] .colab-df-convert {\n",
              "      background-color: #3B4455;\n",
              "      fill: #D2E3FC;\n",
              "    }\n",
              "\n",
              "    [theme=dark] .colab-df-convert:hover {\n",
              "      background-color: #434B5C;\n",
              "      box-shadow: 0px 1px 3px 1px rgba(0, 0, 0, 0.15);\n",
              "      filter: drop-shadow(0px 1px 2px rgba(0, 0, 0, 0.3));\n",
              "      fill: #FFFFFF;\n",
              "    }\n",
              "  </style>\n",
              "\n",
              "      <script>\n",
              "        const buttonEl =\n",
              "          document.querySelector('#df-4e009d14-ba6b-47ce-bfaf-9ef4d974e61c button.colab-df-convert');\n",
              "        buttonEl.style.display =\n",
              "          google.colab.kernel.accessAllowed ? 'block' : 'none';\n",
              "\n",
              "        async function convertToInteractive(key) {\n",
              "          const element = document.querySelector('#df-4e009d14-ba6b-47ce-bfaf-9ef4d974e61c');\n",
              "          const dataTable =\n",
              "            await google.colab.kernel.invokeFunction('convertToInteractive',\n",
              "                                                     [key], {});\n",
              "          if (!dataTable) return;\n",
              "\n",
              "          const docLinkHtml = 'Like what you see? Visit the ' +\n",
              "            '<a target=\"_blank\" href=https://colab.research.google.com/notebooks/data_table.ipynb>data table notebook</a>'\n",
              "            + ' to learn more about interactive tables.';\n",
              "          element.innerHTML = '';\n",
              "          dataTable['output_type'] = 'display_data';\n",
              "          await google.colab.output.renderOutput(dataTable, element);\n",
              "          const docLink = document.createElement('div');\n",
              "          docLink.innerHTML = docLinkHtml;\n",
              "          element.appendChild(docLink);\n",
              "        }\n",
              "      </script>\n",
              "    </div>\n",
              "  </div>\n",
              "  "
            ]
          },
          "metadata": {},
          "execution_count": 27
        }
      ]
    },
    {
      "cell_type": "markdown",
      "source": [
        "### Original Metitarski Data"
      ],
      "metadata": {
        "id": "rnJuaS2V2cAH"
      }
    },
    {
      "cell_type": "code",
      "source": [
        "df_features_original = df_metitarski_original[FEATURE_COLUMNS].copy().reset_index()"
      ],
      "metadata": {
        "id": "hx4Gu00s2gLL"
      },
      "execution_count": null,
      "outputs": []
    },
    {
      "cell_type": "code",
      "source": [
        "df_features_original.drop(['index'], axis=1, inplace=True)"
      ],
      "metadata": {
        "id": "SuaQscAV2gSc"
      },
      "execution_count": null,
      "outputs": []
    },
    {
      "cell_type": "code",
      "source": [
        "X_train_original, X_test_original, y_train_original, y_test_original = train_test_split(df_features_original, df_metitarski_original.label, test_size=0.1)"
      ],
      "metadata": {
        "id": "eOYWLqa32gW6"
      },
      "execution_count": null,
      "outputs": []
    },
    {
      "cell_type": "code",
      "source": [
        "X_train_original = rescale_data(X_train_original)"
      ],
      "metadata": {
        "id": "V04FTNZa2gbF"
      },
      "execution_count": null,
      "outputs": []
    },
    {
      "cell_type": "code",
      "source": [
        "X_test_original = rescale_data(X_test_original)"
      ],
      "metadata": {
        "id": "kbJlRznX2gfx"
      },
      "execution_count": null,
      "outputs": []
    },
    {
      "cell_type": "code",
      "source": [
        "### SVM on Original Metitarski Data\n",
        "clf_original = svm.SVC(C=316, kernel='rbf', gamma=0.08, tol=0.0316)\n",
        "\n",
        "#Train the model using the training sets\n",
        "clf_original.fit(X_train_original, y_train_original)\n",
        "\n",
        "#Predict the response for test dataset\n",
        "y_pred_original = clf_original.predict(X_test_original)"
      ],
      "metadata": {
        "id": "GuY9WDa92gkM"
      },
      "execution_count": null,
      "outputs": []
    },
    {
      "cell_type": "code",
      "source": [
        "print(\"Accuracy on original test set:\",metrics.accuracy_score(y_test_original, y_pred_original))"
      ],
      "metadata": {
        "colab": {
          "base_uri": "https://localhost:8080/"
        },
        "id": "8KD8uUKH2goo",
        "outputId": "07ed8057-15d6-4ff8-dbf1-f5fa338c7a22"
      },
      "execution_count": null,
      "outputs": [
        {
          "output_type": "stream",
          "name": "stdout",
          "text": [
            "Accuracy on original test set: 0.5840579710144927\n"
          ]
        }
      ]
    },
    {
      "cell_type": "code",
      "source": [
        "y_pred_train_original = clf_original.predict(X_train_original)"
      ],
      "metadata": {
        "id": "NrQ6V_Sd4Gl1"
      },
      "execution_count": null,
      "outputs": []
    },
    {
      "cell_type": "code",
      "source": [
        "print(\"Accuracy on original train set:\",metrics.accuracy_score(y_train_original, y_pred_train_original))"
      ],
      "metadata": {
        "colab": {
          "base_uri": "https://localhost:8080/"
        },
        "id": "V70hZ5PQ4Gqs",
        "outputId": "df425362-4276-4def-ea6a-fb3b74cbcf7c"
      },
      "execution_count": null,
      "outputs": [
        {
          "output_type": "stream",
          "name": "stdout",
          "text": [
            "Accuracy on original train set: 0.6643029814665592\n"
          ]
        }
      ]
    },
    {
      "cell_type": "code",
      "source": [
        "y_pred_new = clf_original.predict(X_test)"
      ],
      "metadata": {
        "id": "Wvubzmep2gtI"
      },
      "execution_count": null,
      "outputs": []
    },
    {
      "cell_type": "code",
      "source": [
        "print(\"Accuracy on new test set:\",metrics.accuracy_score(y_test, y_pred_new))"
      ],
      "metadata": {
        "colab": {
          "base_uri": "https://localhost:8080/"
        },
        "id": "9FDrtaGx2gyC",
        "outputId": "171254b4-fca9-453f-a5d9-e243198bad78"
      },
      "execution_count": null,
      "outputs": [
        {
          "output_type": "stream",
          "name": "stdout",
          "text": [
            "Accuracy on new test set: 0.20425429054870678\n"
          ]
        }
      ]
    },
    {
      "cell_type": "code",
      "source": [
        "y_pred_train_new = clf_original.predict(X_train)"
      ],
      "metadata": {
        "id": "Pb85dfce2g2M"
      },
      "execution_count": null,
      "outputs": []
    },
    {
      "cell_type": "code",
      "source": [
        "print(\"Accuracy on new train set:\",metrics.accuracy_score(y_train, y_pred_train_new))"
      ],
      "metadata": {
        "colab": {
          "base_uri": "https://localhost:8080/"
        },
        "id": "5xl4AgmR3xK8",
        "outputId": "456866b9-a29d-4eef-d70b-311853f3bc42"
      },
      "execution_count": null,
      "outputs": [
        {
          "output_type": "stream",
          "name": "stdout",
          "text": [
            "Accuracy on new train set: 0.20820799312419425\n"
          ]
        }
      ]
    },
    {
      "cell_type": "markdown",
      "source": [
        "### Support Vector Classifier (SVC)"
      ],
      "metadata": {
        "id": "PsJoebtaguxS"
      }
    },
    {
      "cell_type": "code",
      "source": [
        "#Create a svm Classifier\n",
        "# kernel: radial basis function\n",
        "clf = svm.SVC(C=316, kernel='rbf', gamma=0.08, tol=0.0316)\n",
        "\n",
        "#Train the model using the training sets\n",
        "clf.fit(X_train, y_train)\n",
        "\n",
        "#Predict the response for test dataset\n",
        "y_pred = clf.predict(X_test)"
      ],
      "metadata": {
        "id": "L1cokW3UVKRS"
      },
      "execution_count": null,
      "outputs": []
    },
    {
      "cell_type": "code",
      "source": [
        "y_pred"
      ],
      "metadata": {
        "colab": {
          "base_uri": "https://localhost:8080/"
        },
        "id": "ROQrxcMrZdME",
        "outputId": "3dae121c-0a09-4c73-a104-e89dbd2ee62e"
      },
      "execution_count": null,
      "outputs": [
        {
          "output_type": "execute_result",
          "data": {
            "text/plain": [
              "array([2, 4, 4, ..., 2, 2, 5])"
            ]
          },
          "metadata": {},
          "execution_count": 29
        }
      ]
    },
    {
      "cell_type": "code",
      "source": [
        "y_test.value_counts()"
      ],
      "metadata": {
        "colab": {
          "base_uri": "https://localhost:8080/"
        },
        "id": "uFZQG-Mzlryh",
        "outputId": "14092f35-f478-49b4-c055-a6a6d8fb8d0d"
      },
      "execution_count": null,
      "outputs": [
        {
          "output_type": "execute_result",
          "data": {
            "text/plain": [
              "0    928\n",
              "1    733\n",
              "2    687\n",
              "3    654\n",
              "5    570\n",
              "4    565\n",
              "Name: label, dtype: int64"
            ]
          },
          "metadata": {},
          "execution_count": 30
        }
      ]
    },
    {
      "cell_type": "code",
      "source": [
        "y_train.value_counts()"
      ],
      "metadata": {
        "colab": {
          "base_uri": "https://localhost:8080/"
        },
        "id": "npJNEf2ymUle",
        "outputId": "0a7b1698-cbe3-4eb4-aedd-76caad67853e"
      },
      "execution_count": null,
      "outputs": [
        {
          "output_type": "execute_result",
          "data": {
            "text/plain": [
              "0    7577\n",
              "1    6664\n",
              "3    6061\n",
              "2    6044\n",
              "4    5623\n",
              "5    5263\n",
              "Name: label, dtype: int64"
            ]
          },
          "metadata": {},
          "execution_count": 31
        }
      ]
    },
    {
      "cell_type": "code",
      "source": [
        "y_test[0:5]"
      ],
      "metadata": {
        "colab": {
          "base_uri": "https://localhost:8080/"
        },
        "id": "hG2kFK2TZfvX",
        "outputId": "72120a97-683b-418b-a83e-54af62854b20"
      },
      "execution_count": null,
      "outputs": [
        {
          "output_type": "execute_result",
          "data": {
            "text/plain": [
              "39260    2\n",
              "13994    1\n",
              "38448    0\n",
              "11926    0\n",
              "23564    5\n",
              "Name: label, dtype: int64"
            ]
          },
          "metadata": {},
          "execution_count": 32
        }
      ]
    },
    {
      "cell_type": "code",
      "source": [
        "print(\"Accuracy:\",metrics.accuracy_score(y_test, y_pred))"
      ],
      "metadata": {
        "colab": {
          "base_uri": "https://localhost:8080/"
        },
        "id": "aYckGfM4VKUC",
        "outputId": "9d958f62-3d5d-497b-d9cd-c1f332c6c5c9"
      },
      "execution_count": null,
      "outputs": [
        {
          "output_type": "stream",
          "name": "stdout",
          "text": [
            "Accuracy: 0.5450809765530578\n"
          ]
        }
      ]
    },
    {
      "cell_type": "markdown",
      "source": [
        "### K-Nearest Neighbours"
      ],
      "metadata": {
        "id": "XcBMeYS5g12A"
      }
    },
    {
      "cell_type": "code",
      "source": [
        "from sklearn.neighbors import KNeighborsClassifier"
      ],
      "metadata": {
        "id": "JQxdMhyQhRkv"
      },
      "execution_count": null,
      "outputs": []
    },
    {
      "cell_type": "code",
      "source": [
        "knn_clf = KNeighborsClassifier(weights='distance', algorithm='ball_tree')"
      ],
      "metadata": {
        "id": "GUTQVihDg0yD"
      },
      "execution_count": null,
      "outputs": []
    },
    {
      "cell_type": "code",
      "source": [
        "knn_clf.fit(X_train, y_train)"
      ],
      "metadata": {
        "colab": {
          "base_uri": "https://localhost:8080/"
        },
        "id": "CsXZ4BRkiMxo",
        "outputId": "9a3b809d-872b-4286-84ac-a655f76ca9ff"
      },
      "execution_count": null,
      "outputs": [
        {
          "output_type": "execute_result",
          "data": {
            "text/plain": [
              "KNeighborsClassifier(algorithm='ball_tree', weights='distance')"
            ]
          },
          "metadata": {},
          "execution_count": 36
        }
      ]
    },
    {
      "cell_type": "code",
      "source": [
        "y_pred = knn_clf.predict(X_test)"
      ],
      "metadata": {
        "id": "lZYPoI7ciM0o"
      },
      "execution_count": null,
      "outputs": []
    },
    {
      "cell_type": "code",
      "source": [
        "print(\"Accuracy:\",metrics.accuracy_score(y_test, y_pred))"
      ],
      "metadata": {
        "colab": {
          "base_uri": "https://localhost:8080/"
        },
        "id": "UQENJPAFiVT_",
        "outputId": "83fa6545-45e6-4577-dded-fce2d5c9bf19"
      },
      "execution_count": null,
      "outputs": [
        {
          "output_type": "stream",
          "name": "stdout",
          "text": [
            "Accuracy: 0.5523326081701716\n"
          ]
        }
      ]
    },
    {
      "cell_type": "markdown",
      "source": [
        "### Decision Trees"
      ],
      "metadata": {
        "id": "aA6O1feyFdfp"
      }
    },
    {
      "cell_type": "code",
      "source": [
        "from sklearn.tree import DecisionTreeClassifier"
      ],
      "metadata": {
        "id": "Bm1a1_x2FhCS"
      },
      "execution_count": null,
      "outputs": []
    },
    {
      "cell_type": "code",
      "source": [
        "dtc_clf = DecisionTreeClassifier(max_depth=17)"
      ],
      "metadata": {
        "id": "s04J2MgIFhGu"
      },
      "execution_count": null,
      "outputs": []
    },
    {
      "cell_type": "code",
      "source": [
        "dtc_clf.fit(X_train, y_train)"
      ],
      "metadata": {
        "colab": {
          "base_uri": "https://localhost:8080/"
        },
        "id": "VatUidfRFhMb",
        "outputId": "d1b3172f-d163-4f46-8dc4-85aac7328029"
      },
      "execution_count": null,
      "outputs": [
        {
          "output_type": "execute_result",
          "data": {
            "text/plain": [
              "DecisionTreeClassifier(max_depth=17)"
            ]
          },
          "metadata": {},
          "execution_count": 41
        }
      ]
    },
    {
      "cell_type": "code",
      "source": [
        "y_pred = dtc_clf.predict(X_test)"
      ],
      "metadata": {
        "id": "44LqPQ25FhbP"
      },
      "execution_count": null,
      "outputs": []
    },
    {
      "cell_type": "code",
      "source": [
        "print(\"Accuracy:\",metrics.accuracy_score(y_test, y_pred))"
      ],
      "metadata": {
        "colab": {
          "base_uri": "https://localhost:8080/"
        },
        "id": "F5vpsJ1tGP2p",
        "outputId": "1959e926-b0cf-4976-9329-ef6f11d5c22c"
      },
      "execution_count": null,
      "outputs": [
        {
          "output_type": "stream",
          "name": "stdout",
          "text": [
            "Accuracy: 0.5242929659173314\n"
          ]
        }
      ]
    },
    {
      "cell_type": "code",
      "source": [
        "score = dtc_clf.score(X_test, y_test)\n",
        "score"
      ],
      "metadata": {
        "colab": {
          "base_uri": "https://localhost:8080/"
        },
        "id": "09dQq63VGQAX",
        "outputId": "49d64dfe-b1ba-4074-ed85-f6629e81b013"
      },
      "execution_count": null,
      "outputs": [
        {
          "output_type": "execute_result",
          "data": {
            "text/plain": [
              "0.5242929659173314"
            ]
          },
          "metadata": {},
          "execution_count": 44
        }
      ]
    },
    {
      "cell_type": "markdown",
      "source": [
        "### MLP"
      ],
      "metadata": {
        "id": "UK7nBTvsGbHK"
      }
    },
    {
      "cell_type": "code",
      "source": [
        "from sklearn.neural_network import MLPClassifier"
      ],
      "metadata": {
        "id": "69fDVxwdGdM_"
      },
      "execution_count": null,
      "outputs": []
    },
    {
      "cell_type": "code",
      "source": [
        "mlp_clf = MLPClassifier(hidden_layer_sizes=(18,), activation='tanh', solver='lbfgs', alpha=0.00005)"
      ],
      "metadata": {
        "id": "euoQNzTrGdUR"
      },
      "execution_count": null,
      "outputs": []
    },
    {
      "cell_type": "code",
      "source": [
        "mlp_clf.fit(X_train, y_train)"
      ],
      "metadata": {
        "colab": {
          "base_uri": "https://localhost:8080/"
        },
        "id": "ALt1EwhoGdcw",
        "outputId": "63ce6f1a-c90c-41b3-aca5-8b5ce49396d8"
      },
      "execution_count": null,
      "outputs": [
        {
          "output_type": "execute_result",
          "data": {
            "text/plain": [
              "MLPClassifier(activation='tanh', alpha=5e-05, hidden_layer_sizes=(18,),\n",
              "              solver='lbfgs')"
            ]
          },
          "metadata": {},
          "execution_count": 47
        }
      ]
    },
    {
      "cell_type": "code",
      "source": [
        "y_pred = mlp_clf.predict(X_test)"
      ],
      "metadata": {
        "id": "SpEDmB4dGdl-"
      },
      "execution_count": null,
      "outputs": []
    },
    {
      "cell_type": "code",
      "source": [
        "print(\"Accuracy:\",metrics.accuracy_score(y_test, y_pred))"
      ],
      "metadata": {
        "colab": {
          "base_uri": "https://localhost:8080/"
        },
        "id": "VQNJohogGdtw",
        "outputId": "b22407ac-2bd7-4846-f086-86720a8035f6"
      },
      "execution_count": null,
      "outputs": [
        {
          "output_type": "stream",
          "name": "stdout",
          "text": [
            "Accuracy: 0.4757070340826686\n"
          ]
        }
      ]
    },
    {
      "cell_type": "code",
      "source": [
        "score = mlp_clf.score(X_test, y_test)\n",
        "score"
      ],
      "metadata": {
        "colab": {
          "base_uri": "https://localhost:8080/"
        },
        "id": "EogDQW5xGd8r",
        "outputId": "de063791-122b-422d-aee4-c42a9f2879fb"
      },
      "execution_count": null,
      "outputs": [
        {
          "output_type": "execute_result",
          "data": {
            "text/plain": [
              "0.4757070340826686"
            ]
          },
          "metadata": {},
          "execution_count": 50
        }
      ]
    },
    {
      "cell_type": "markdown",
      "source": [
        "### Random Forest (RF)"
      ],
      "metadata": {
        "id": "i9trZw5wHhDg"
      }
    },
    {
      "cell_type": "code",
      "source": [
        "from sklearn.ensemble import RandomForestClassifier"
      ],
      "metadata": {
        "id": "hX4xhhuRHkdu"
      },
      "execution_count": null,
      "outputs": []
    },
    {
      "cell_type": "code",
      "source": [
        "rf_clf = RandomForestClassifier()"
      ],
      "metadata": {
        "id": "V1paTUHxHkrV"
      },
      "execution_count": null,
      "outputs": []
    },
    {
      "cell_type": "code",
      "source": [
        "rf_clf.fit(X_train, y_train)"
      ],
      "metadata": {
        "colab": {
          "base_uri": "https://localhost:8080/"
        },
        "id": "iAWvL0OvHkw3",
        "outputId": "d815091a-f816-4c49-9fc9-8c5362565493"
      },
      "execution_count": null,
      "outputs": [
        {
          "output_type": "execute_result",
          "data": {
            "text/plain": [
              "RandomForestClassifier()"
            ]
          },
          "metadata": {},
          "execution_count": 53
        }
      ]
    },
    {
      "cell_type": "code",
      "source": [
        "y_pred = rf_clf.predict(X_test)"
      ],
      "metadata": {
        "id": "8wzgSuC5Hk5B"
      },
      "execution_count": null,
      "outputs": []
    },
    {
      "cell_type": "code",
      "source": [
        "score = rf_clf.score(X_test, y_test)\n",
        "score"
      ],
      "metadata": {
        "colab": {
          "base_uri": "https://localhost:8080/"
        },
        "id": "4iF7_ciUHlGq",
        "outputId": "f03e88a1-b3b5-431a-ef98-620bd59f3be8"
      },
      "execution_count": null,
      "outputs": [
        {
          "output_type": "execute_result",
          "data": {
            "text/plain": [
              "0.5363790186125211"
            ]
          },
          "metadata": {},
          "execution_count": 55
        }
      ]
    },
    {
      "cell_type": "markdown",
      "source": [
        "## &#128218; References"
      ],
      "metadata": {
        "id": "p7S0tnLqZjU0"
      }
    },
    {
      "cell_type": "markdown",
      "source": [
        "1. SVC, see [HERE](https://scikit-learn.org/stable/modules/generated/sklearn.svm.SVC.html).\n",
        "2. K-NN, see [HERE](https://scikit-learn.org/stable/modules/generated/sklearn.neighbors.KNeighborsClassifier.html)\n",
        "3. Decision Tree, see [HERE](https://scikit-learn.org/stable/modules/generated/sklearn.tree.DecisionTreeClassifier.html#sklearn.tree.DecisionTreeClassifier)\n",
        "4. MLP, see [HERE](https://scikit-learn.org/stable/modules/generated/sklearn.neural_network.MLPClassifier.html#sklearn.neural_network.MLPClassifier)\n",
        "5. RF, see [HERE](https://scikit-learn.org/stable/modules/generated/sklearn.ensemble.RandomForestClassifier.html#sklearn.ensemble.RandomForestClassifier)"
      ],
      "metadata": {
        "id": "_XIKr9W6bfiC"
      }
    }
  ]
}