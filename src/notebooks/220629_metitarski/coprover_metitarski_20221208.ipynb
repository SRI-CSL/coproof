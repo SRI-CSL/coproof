{
  "nbformat": 4,
  "nbformat_minor": 0,
  "metadata": {
    "colab": {
      "provenance": [],
      "collapsed_sections": [
        "Lo2z0RSY72Jw",
        "cDYWyTqT9img",
        "tvO3p8Iy_k2V",
        "L0VW38qVAUVD"
      ],
      "toc_visible": true,
      "authorship_tag": "ABX9TyPMjf745Bi7zlfF/uwbkqJa",
      "include_colab_link": true
    },
    "kernelspec": {
      "name": "python3",
      "display_name": "Python 3"
    },
    "language_info": {
      "name": "python"
    }
  },
  "cells": [
    {
      "cell_type": "markdown",
      "metadata": {
        "id": "view-in-github",
        "colab_type": "text"
      },
      "source": [
        "<a href=\"https://colab.research.google.com/github/SRI-CSL/CoProver/blob/main/src/notebooks/220629_metitarski/coprover_metitarski_20221208.ipynb\" target=\"_parent\"><img src=\"https://colab.research.google.com/assets/colab-badge.svg\" alt=\"Open In Colab\"/></a>"
      ]
    },
    {
      "cell_type": "markdown",
      "source": [
        "# CoProver: The Cueology of Proof \n",
        "\n",
        "## &#10024; `MetiTarski`- Variable Ordering Problem\n",
        "\n",
        "**Copyright 2022 SRI International.**"
      ],
      "metadata": {
        "id": "zoEo8BSG6O6m"
      }
    },
    {
      "cell_type": "markdown",
      "source": [
        "## &#9776; Imports"
      ],
      "metadata": {
        "id": "Z_5_ifV96x_9"
      }
    },
    {
      "cell_type": "code",
      "execution_count": 1,
      "metadata": {
        "id": "VcQBNYNq4S7j"
      },
      "outputs": [],
      "source": [
        "import os\n",
        "import sys\n",
        "import warnings\n",
        "\n",
        "import numpy as np\n",
        "import pandas as pd\n",
        "import matplotlib.pyplot as plt\n",
        "\n",
        "from matplotlib import rc\n",
        "from tqdm import tqdm"
      ]
    },
    {
      "cell_type": "code",
      "source": [
        "from sklearn import svm\n",
        "from sklearn.neighbors import KNeighborsClassifier\n",
        "from sklearn.tree import DecisionTreeClassifier\n",
        "from sklearn.ensemble import RandomForestClassifier\n",
        "from sklearn.neural_network import MLPClassifier\n",
        "\n",
        "from sklearn import metrics\n",
        "from sklearn.model_selection import train_test_split\n",
        "from sklearn.preprocessing import StandardScaler, MinMaxScaler"
      ],
      "metadata": {
        "id": "6or2dNsJ6-pL"
      },
      "execution_count": 2,
      "outputs": []
    },
    {
      "cell_type": "code",
      "source": [
        "try:\n",
        "    from google.colab import data_table\n",
        "    data_table.disable_dataframe_formatter()\n",
        "    \n",
        "    from google.colab import output\n",
        "    output.enable_custom_widget_manager()\n",
        "except Exception:\n",
        "    print(\"Launched notebook locally\")"
      ],
      "metadata": {
        "id": "H_aEjAgq7BDD"
      },
      "execution_count": 3,
      "outputs": []
    },
    {
      "cell_type": "code",
      "source": [
        "from typing import List, Any, Dict"
      ],
      "metadata": {
        "id": "QmBzeDMN7Qn8"
      },
      "execution_count": 4,
      "outputs": []
    },
    {
      "cell_type": "code",
      "source": [
        "# install gdown library for .csv files download\n",
        "try:\n",
        "    import gdown\n",
        "except ImportError:\n",
        "    !pip install gdown"
      ],
      "metadata": {
        "id": "tJy2Tt2N7VHA"
      },
      "execution_count": 5,
      "outputs": []
    },
    {
      "cell_type": "code",
      "source": [
        "## install lazypredict for evaluation of multiple classifiers simultaneously\n",
        "try:\n",
        "    import lazypredict\n",
        "except:\n",
        "    !pip install lazypredict"
      ],
      "metadata": {
        "id": "Qj4I2G8_7YaY"
      },
      "execution_count": 6,
      "outputs": []
    },
    {
      "cell_type": "code",
      "source": [
        "from lazypredict.Supervised import LazyClassifier"
      ],
      "metadata": {
        "id": "GDRkYvWP7m3P"
      },
      "execution_count": 7,
      "outputs": []
    },
    {
      "cell_type": "markdown",
      "source": [
        "## &#9997; Configuration"
      ],
      "metadata": {
        "id": "Lo2z0RSY72Jw"
      }
    },
    {
      "cell_type": "code",
      "source": [
        "warnings.filterwarnings('ignore')"
      ],
      "metadata": {
        "id": "OmJ2nVOy7ukw"
      },
      "execution_count": 8,
      "outputs": []
    },
    {
      "cell_type": "code",
      "source": [
        "# origins of the .csv data files used\n",
        "# True: originating within the signal-public GitHub repository\n",
        "# False: need to be downloaded from a provided URL, especially useful if running on Colab\n",
        "IS_LOCAL_FILE = False"
      ],
      "metadata": {
        "id": "YoQoMH2s8sWN"
      },
      "execution_count": 9,
      "outputs": []
    },
    {
      "cell_type": "code",
      "source": [
        "# dictionary of files for this notebook to work\n",
        "# the dictionary is composed of (filename, Google ID) key-value pairs\n",
        "\n",
        "# v3: https://drive.google.com/file/d/1uC0WDg7fyZxwpc9UIgJznDAgT5WPqtA9/view?usp=sharing\n",
        "# v4: https://drive.google.com/file/d/1uIoGOoHPsugXszScyU4HS9RKznX6tFeO/view?usp=sharing\n",
        "DATASET_DICT = {\n",
        "    'metitarski_dataset_v3.csv': '1uC0WDg7fyZxwpc9UIgJznDAgT5WPqtA9',\n",
        "    'metitarski_dataset_v4.csv': '1uIoGOoHPsugXszScyU4HS9RKznX6tFeO'\n",
        "    }"
      ],
      "metadata": {
        "id": "4D4Jkvmx8vhE"
      },
      "execution_count": 10,
      "outputs": []
    },
    {
      "cell_type": "markdown",
      "source": [
        "## &#9881; Functions"
      ],
      "metadata": {
        "id": "8HaGJXUN9dbv"
      }
    },
    {
      "cell_type": "markdown",
      "source": [
        "### &#9758; General"
      ],
      "metadata": {
        "id": "cDYWyTqT9img"
      }
    },
    {
      "cell_type": "code",
      "source": [
        "def path_exists(input_path: str) -> bool:\n",
        "    return os.path.exists(input_path)"
      ],
      "metadata": {
        "id": "UfCxTqeG8yaB"
      },
      "execution_count": 11,
      "outputs": []
    },
    {
      "cell_type": "code",
      "source": [
        "def check_file_status(input_path: str):\n",
        "    if path_exists(input_path=input_path):\n",
        "        print(f\"- File {input_path.split('/')[-1]} exists locally at {input_path}!\")\n",
        "    else:\n",
        "        if IS_LOCAL_FILE:\n",
        "            print(\"- Something went wrong with the download. Please try again!\")\n",
        "        else:\n",
        "            print(f\"- IS_LOCAL_FILE is set to {IS_LOCAL_FILE}. The file is accessed via a public GitHub link!\")"
      ],
      "metadata": {
        "id": "_22gfz7M_aeb"
      },
      "execution_count": 12,
      "outputs": []
    },
    {
      "cell_type": "code",
      "source": [
        "def download_dataset_from_google_drive(google_file_id: str, output_file_name: str, quiet_download: bool) -> str:\n",
        "    file_path = f'./{output_file_name}'\n",
        "\n",
        "    if not os.path.exists(file_path):\n",
        "        gdown.download(id=google_file_id, output=output_file_name, quiet=quiet_download)\n",
        "    else:\n",
        "        print(f\"{output_file_name} already exists!\")\n",
        "        \n",
        "    return file_path"
      ],
      "metadata": {
        "id": "zw1OVIO-_abF"
      },
      "execution_count": 13,
      "outputs": []
    },
    {
      "cell_type": "code",
      "source": [
        "def get_dataset(dataset_name: str, is_local_file: bool) -> str:\n",
        "    file_path = f'./{dataset_name}'\n",
        "\n",
        "    if is_local_file:\n",
        "        file_path = f'https://raw.githubusercontent.com/SRI-CSL/CoProver/main/data/{dataset_name}'\n",
        "    else:\n",
        "        if dataset_name in DATASET_DICT:\n",
        "            file_path = download_dataset_from_google_drive(google_file_id=DATASET_DICT[dataset_name], output_file_name=dataset_name, quiet_download=False)\n",
        "        else:\n",
        "            print(f\"{dataset_name} is not present in dataset dictionary! Please ensure the file name is correct!\")\n",
        "            return\n",
        "\n",
        "    return file_path"
      ],
      "metadata": {
        "id": "n1bfPsiE_aXX"
      },
      "execution_count": 14,
      "outputs": []
    },
    {
      "cell_type": "markdown",
      "source": [
        "### &#9758; Dataframe Manipulation"
      ],
      "metadata": {
        "id": "1STMwO5e9xP8"
      }
    },
    {
      "cell_type": "code",
      "source": [
        "def get_dataframe_differences(df_1: pd.DataFrame, df_2: pd.DataFrame, target_columns: List[str]) -> pd.DataFrame:\n",
        "    \"\"\"Obtain the records that are in df_1 but NOT in df_2\n",
        "       Solution inspired by: https://stackoverflow.com/questions/28901683/pandas-get-rows-which-are-not-in-other-dataframe\n",
        "\n",
        "    Args:\n",
        "      df_1: input dataframe 1\n",
        "      df_2: input dataframe 2\n",
        "      target_columns: list of columns to perform the difference operation upon\n",
        "\n",
        "    Returns:\n",
        "      A dataframe containing the records that are only in df_1 but not df_2\n",
        "    \"\"\"\n",
        "\n",
        "    tmp_df = df_1.merge(df_2.drop_duplicates(), on=target_columns, how='left', indicator=True)\n",
        "\n",
        "    result_df = tmp_df[tmp_df['_merge'] == 'left_only'][target_columns].copy()\n",
        "\n",
        "    return result_df"
      ],
      "metadata": {
        "id": "j_mAXC199zdM"
      },
      "execution_count": 15,
      "outputs": []
    },
    {
      "cell_type": "markdown",
      "source": [
        "### &#9758; Machine Learning Functions"
      ],
      "metadata": {
        "id": "2jQm-uJEEa4W"
      }
    },
    {
      "cell_type": "code",
      "source": [
        "def training_set_scaler(input_df: pd.DataFrame):\n",
        "    scaler = StandardScaler()\n",
        "    scaler = scaler.fit(input_df)\n",
        "\n",
        "    return scaler"
      ],
      "metadata": {
        "id": "AiJ5PqsUEgQu"
      },
      "execution_count": 16,
      "outputs": []
    },
    {
      "cell_type": "code",
      "source": [
        "def scale_data(input_df: pd.DataFrame, scaler):\n",
        "    df_scaled = pd.DataFrame(scaler.transform(input_df), index=input_df.index, columns=input_df.columns)\n",
        "\n",
        "    return df_scaled"
      ],
      "metadata": {
        "id": "B1A0fEVeEhSz"
      },
      "execution_count": 17,
      "outputs": []
    },
    {
      "cell_type": "markdown",
      "source": [
        "## &#9749; Downloads"
      ],
      "metadata": {
        "id": "tvO3p8Iy_k2V"
      }
    },
    {
      "cell_type": "code",
      "source": [
        "# metitarski_dataset_v3.csv\n",
        "path_metitarski_original = get_dataset(dataset_name='metitarski_dataset_v3.csv', is_local_file=IS_LOCAL_FILE)"
      ],
      "metadata": {
        "colab": {
          "base_uri": "https://localhost:8080/"
        },
        "id": "g4tA-pCx_kJZ",
        "outputId": "8c5bfae3-0027-4999-82fa-7a8eac374631"
      },
      "execution_count": 18,
      "outputs": [
        {
          "output_type": "stream",
          "name": "stdout",
          "text": [
            "metitarski_dataset_v3.csv already exists!\n"
          ]
        }
      ]
    },
    {
      "cell_type": "code",
      "source": [
        "check_file_status(input_path=path_metitarski_original)"
      ],
      "metadata": {
        "colab": {
          "base_uri": "https://localhost:8080/"
        },
        "id": "1uYx6oLh_tHy",
        "outputId": "701e06c8-d720-492c-db88-9aefa048b6f6"
      },
      "execution_count": 19,
      "outputs": [
        {
          "output_type": "stream",
          "name": "stdout",
          "text": [
            "- File metitarski_dataset_v3.csv exists locally at ./metitarski_dataset_v3.csv!\n"
          ]
        }
      ]
    },
    {
      "cell_type": "code",
      "source": [
        "# metitarski_dataset_v4.csv\n",
        "path_metitarski_augmented = get_dataset(dataset_name='metitarski_dataset_v4.csv', is_local_file=IS_LOCAL_FILE)"
      ],
      "metadata": {
        "colab": {
          "base_uri": "https://localhost:8080/"
        },
        "id": "sUBlHmuh_wDJ",
        "outputId": "509e0aa9-0786-4a0d-e022-f8de11728373"
      },
      "execution_count": 20,
      "outputs": [
        {
          "output_type": "stream",
          "name": "stdout",
          "text": [
            "metitarski_dataset_v4.csv already exists!\n"
          ]
        }
      ]
    },
    {
      "cell_type": "code",
      "source": [
        "check_file_status(input_path=path_metitarski_augmented)"
      ],
      "metadata": {
        "colab": {
          "base_uri": "https://localhost:8080/"
        },
        "id": "4WqWRuRQ_0_x",
        "outputId": "407b3a2d-13e3-443c-be7d-28d3f7c4df7a"
      },
      "execution_count": 21,
      "outputs": [
        {
          "output_type": "stream",
          "name": "stdout",
          "text": [
            "- File metitarski_dataset_v4.csv exists locally at ./metitarski_dataset_v4.csv!\n"
          ]
        }
      ]
    },
    {
      "cell_type": "markdown",
      "source": [
        "## &#128722; Load data"
      ],
      "metadata": {
        "id": "L0VW38qVAUVD"
      }
    },
    {
      "cell_type": "markdown",
      "source": [
        "**Naming Convention**\n",
        "\n",
        "* All original metitarski related content (data, variables) will be followed by the `_1` indicators.\n",
        "* The new dataset generated that consists of all possible variable permutations will be followed by `_2` indicators."
      ],
      "metadata": {
        "id": "pFwjGlcqAgWs"
      }
    },
    {
      "cell_type": "code",
      "source": [
        "df_metitarski_1 = pd.read_csv(path_metitarski_original, sep='\\t')"
      ],
      "metadata": {
        "id": "hCz7ZQnj_5FJ"
      },
      "execution_count": 22,
      "outputs": []
    },
    {
      "cell_type": "code",
      "source": [
        "df_metitarski_2 = pd.read_csv(path_metitarski_augmented, sep='\\t')"
      ],
      "metadata": {
        "id": "GWLxhCAjAbsH"
      },
      "execution_count": 23,
      "outputs": []
    },
    {
      "cell_type": "code",
      "source": [
        "df_metitarski_1.shape, df_metitarski_2.shape"
      ],
      "metadata": {
        "colab": {
          "base_uri": "https://localhost:8080/"
        },
        "id": "F5aNe9z0AnaM",
        "outputId": "faaf1d2b-65c3-4c67-a826-ee274629a6d3"
      },
      "execution_count": 24,
      "outputs": [
        {
          "output_type": "execute_result",
          "data": {
            "text/plain": [
              "((6895, 16), (41369, 16))"
            ]
          },
          "metadata": {},
          "execution_count": 24
        }
      ]
    },
    {
      "cell_type": "code",
      "source": [
        "df_metitarski_1.head()"
      ],
      "metadata": {
        "colab": {
          "base_uri": "https://localhost:8080/",
          "height": 0
        },
        "id": "y-SrUFX6AtXR",
        "outputId": "f0fad98a-bd73-4f21-9852-bf88bd1cc2b4"
      },
      "execution_count": 25,
      "outputs": [
        {
          "output_type": "execute_result",
          "data": {
            "text/plain": [
              "   Unnamed: 0  file_id       input_file          label_file  nr_polynomials  \\\n",
              "0           0     3940  poly3940.txt.ml  comp_times3940.txt               4   \n",
              "1           1     5554  poly5554.txt.ml  comp_times5554.txt              12   \n",
              "2           2     4063  poly4063.txt.ml  comp_times4063.txt               9   \n",
              "3           3     4732  poly4732.txt.ml  comp_times4732.txt               7   \n",
              "4           4     5205  poly5205.txt.ml  comp_times5205.txt               6   \n",
              "\n",
              "   max_total_degree  max_x1  max_x2  max_x3  prop_x1  prop_x2  prop_x3  \\\n",
              "0                 1       1       1       1     0.50     0.50     0.25   \n",
              "1                10      10       9       1     0.67     0.67     0.25   \n",
              "2                 1       1       1       1     0.44     0.44     0.56   \n",
              "3                 8       4       2       1     0.43     0.29     0.43   \n",
              "4                18      12       6       1     0.50     0.33     0.50   \n",
              "\n",
              "   prop_mon_x1  prop_mon_x2  prop_mon_x3  label  \n",
              "0         0.40         0.40         0.20      0  \n",
              "1         0.38         0.52         0.07      4  \n",
              "2         0.18         0.18         0.23      5  \n",
              "3         0.29         0.14         0.21      2  \n",
              "4         0.55         0.55         0.15      5  "
            ],
            "text/html": [
              "\n",
              "  <div id=\"df-fb66c747-1d07-4093-b37a-73e0858d0467\">\n",
              "    <div class=\"colab-df-container\">\n",
              "      <div>\n",
              "<style scoped>\n",
              "    .dataframe tbody tr th:only-of-type {\n",
              "        vertical-align: middle;\n",
              "    }\n",
              "\n",
              "    .dataframe tbody tr th {\n",
              "        vertical-align: top;\n",
              "    }\n",
              "\n",
              "    .dataframe thead th {\n",
              "        text-align: right;\n",
              "    }\n",
              "</style>\n",
              "<table border=\"1\" class=\"dataframe\">\n",
              "  <thead>\n",
              "    <tr style=\"text-align: right;\">\n",
              "      <th></th>\n",
              "      <th>Unnamed: 0</th>\n",
              "      <th>file_id</th>\n",
              "      <th>input_file</th>\n",
              "      <th>label_file</th>\n",
              "      <th>nr_polynomials</th>\n",
              "      <th>max_total_degree</th>\n",
              "      <th>max_x1</th>\n",
              "      <th>max_x2</th>\n",
              "      <th>max_x3</th>\n",
              "      <th>prop_x1</th>\n",
              "      <th>prop_x2</th>\n",
              "      <th>prop_x3</th>\n",
              "      <th>prop_mon_x1</th>\n",
              "      <th>prop_mon_x2</th>\n",
              "      <th>prop_mon_x3</th>\n",
              "      <th>label</th>\n",
              "    </tr>\n",
              "  </thead>\n",
              "  <tbody>\n",
              "    <tr>\n",
              "      <th>0</th>\n",
              "      <td>0</td>\n",
              "      <td>3940</td>\n",
              "      <td>poly3940.txt.ml</td>\n",
              "      <td>comp_times3940.txt</td>\n",
              "      <td>4</td>\n",
              "      <td>1</td>\n",
              "      <td>1</td>\n",
              "      <td>1</td>\n",
              "      <td>1</td>\n",
              "      <td>0.50</td>\n",
              "      <td>0.50</td>\n",
              "      <td>0.25</td>\n",
              "      <td>0.40</td>\n",
              "      <td>0.40</td>\n",
              "      <td>0.20</td>\n",
              "      <td>0</td>\n",
              "    </tr>\n",
              "    <tr>\n",
              "      <th>1</th>\n",
              "      <td>1</td>\n",
              "      <td>5554</td>\n",
              "      <td>poly5554.txt.ml</td>\n",
              "      <td>comp_times5554.txt</td>\n",
              "      <td>12</td>\n",
              "      <td>10</td>\n",
              "      <td>10</td>\n",
              "      <td>9</td>\n",
              "      <td>1</td>\n",
              "      <td>0.67</td>\n",
              "      <td>0.67</td>\n",
              "      <td>0.25</td>\n",
              "      <td>0.38</td>\n",
              "      <td>0.52</td>\n",
              "      <td>0.07</td>\n",
              "      <td>4</td>\n",
              "    </tr>\n",
              "    <tr>\n",
              "      <th>2</th>\n",
              "      <td>2</td>\n",
              "      <td>4063</td>\n",
              "      <td>poly4063.txt.ml</td>\n",
              "      <td>comp_times4063.txt</td>\n",
              "      <td>9</td>\n",
              "      <td>1</td>\n",
              "      <td>1</td>\n",
              "      <td>1</td>\n",
              "      <td>1</td>\n",
              "      <td>0.44</td>\n",
              "      <td>0.44</td>\n",
              "      <td>0.56</td>\n",
              "      <td>0.18</td>\n",
              "      <td>0.18</td>\n",
              "      <td>0.23</td>\n",
              "      <td>5</td>\n",
              "    </tr>\n",
              "    <tr>\n",
              "      <th>3</th>\n",
              "      <td>3</td>\n",
              "      <td>4732</td>\n",
              "      <td>poly4732.txt.ml</td>\n",
              "      <td>comp_times4732.txt</td>\n",
              "      <td>7</td>\n",
              "      <td>8</td>\n",
              "      <td>4</td>\n",
              "      <td>2</td>\n",
              "      <td>1</td>\n",
              "      <td>0.43</td>\n",
              "      <td>0.29</td>\n",
              "      <td>0.43</td>\n",
              "      <td>0.29</td>\n",
              "      <td>0.14</td>\n",
              "      <td>0.21</td>\n",
              "      <td>2</td>\n",
              "    </tr>\n",
              "    <tr>\n",
              "      <th>4</th>\n",
              "      <td>4</td>\n",
              "      <td>5205</td>\n",
              "      <td>poly5205.txt.ml</td>\n",
              "      <td>comp_times5205.txt</td>\n",
              "      <td>6</td>\n",
              "      <td>18</td>\n",
              "      <td>12</td>\n",
              "      <td>6</td>\n",
              "      <td>1</td>\n",
              "      <td>0.50</td>\n",
              "      <td>0.33</td>\n",
              "      <td>0.50</td>\n",
              "      <td>0.55</td>\n",
              "      <td>0.55</td>\n",
              "      <td>0.15</td>\n",
              "      <td>5</td>\n",
              "    </tr>\n",
              "  </tbody>\n",
              "</table>\n",
              "</div>\n",
              "      <button class=\"colab-df-convert\" onclick=\"convertToInteractive('df-fb66c747-1d07-4093-b37a-73e0858d0467')\"\n",
              "              title=\"Convert this dataframe to an interactive table.\"\n",
              "              style=\"display:none;\">\n",
              "        \n",
              "  <svg xmlns=\"http://www.w3.org/2000/svg\" height=\"24px\"viewBox=\"0 0 24 24\"\n",
              "       width=\"24px\">\n",
              "    <path d=\"M0 0h24v24H0V0z\" fill=\"none\"/>\n",
              "    <path d=\"M18.56 5.44l.94 2.06.94-2.06 2.06-.94-2.06-.94-.94-2.06-.94 2.06-2.06.94zm-11 1L8.5 8.5l.94-2.06 2.06-.94-2.06-.94L8.5 2.5l-.94 2.06-2.06.94zm10 10l.94 2.06.94-2.06 2.06-.94-2.06-.94-.94-2.06-.94 2.06-2.06.94z\"/><path d=\"M17.41 7.96l-1.37-1.37c-.4-.4-.92-.59-1.43-.59-.52 0-1.04.2-1.43.59L10.3 9.45l-7.72 7.72c-.78.78-.78 2.05 0 2.83L4 21.41c.39.39.9.59 1.41.59.51 0 1.02-.2 1.41-.59l7.78-7.78 2.81-2.81c.8-.78.8-2.07 0-2.86zM5.41 20L4 18.59l7.72-7.72 1.47 1.35L5.41 20z\"/>\n",
              "  </svg>\n",
              "      </button>\n",
              "      \n",
              "  <style>\n",
              "    .colab-df-container {\n",
              "      display:flex;\n",
              "      flex-wrap:wrap;\n",
              "      gap: 12px;\n",
              "    }\n",
              "\n",
              "    .colab-df-convert {\n",
              "      background-color: #E8F0FE;\n",
              "      border: none;\n",
              "      border-radius: 50%;\n",
              "      cursor: pointer;\n",
              "      display: none;\n",
              "      fill: #1967D2;\n",
              "      height: 32px;\n",
              "      padding: 0 0 0 0;\n",
              "      width: 32px;\n",
              "    }\n",
              "\n",
              "    .colab-df-convert:hover {\n",
              "      background-color: #E2EBFA;\n",
              "      box-shadow: 0px 1px 2px rgba(60, 64, 67, 0.3), 0px 1px 3px 1px rgba(60, 64, 67, 0.15);\n",
              "      fill: #174EA6;\n",
              "    }\n",
              "\n",
              "    [theme=dark] .colab-df-convert {\n",
              "      background-color: #3B4455;\n",
              "      fill: #D2E3FC;\n",
              "    }\n",
              "\n",
              "    [theme=dark] .colab-df-convert:hover {\n",
              "      background-color: #434B5C;\n",
              "      box-shadow: 0px 1px 3px 1px rgba(0, 0, 0, 0.15);\n",
              "      filter: drop-shadow(0px 1px 2px rgba(0, 0, 0, 0.3));\n",
              "      fill: #FFFFFF;\n",
              "    }\n",
              "  </style>\n",
              "\n",
              "      <script>\n",
              "        const buttonEl =\n",
              "          document.querySelector('#df-fb66c747-1d07-4093-b37a-73e0858d0467 button.colab-df-convert');\n",
              "        buttonEl.style.display =\n",
              "          google.colab.kernel.accessAllowed ? 'block' : 'none';\n",
              "\n",
              "        async function convertToInteractive(key) {\n",
              "          const element = document.querySelector('#df-fb66c747-1d07-4093-b37a-73e0858d0467');\n",
              "          const dataTable =\n",
              "            await google.colab.kernel.invokeFunction('convertToInteractive',\n",
              "                                                     [key], {});\n",
              "          if (!dataTable) return;\n",
              "\n",
              "          const docLinkHtml = 'Like what you see? Visit the ' +\n",
              "            '<a target=\"_blank\" href=https://colab.research.google.com/notebooks/data_table.ipynb>data table notebook</a>'\n",
              "            + ' to learn more about interactive tables.';\n",
              "          element.innerHTML = '';\n",
              "          dataTable['output_type'] = 'display_data';\n",
              "          await google.colab.output.renderOutput(dataTable, element);\n",
              "          const docLink = document.createElement('div');\n",
              "          docLink.innerHTML = docLinkHtml;\n",
              "          element.appendChild(docLink);\n",
              "        }\n",
              "      </script>\n",
              "    </div>\n",
              "  </div>\n",
              "  "
            ]
          },
          "metadata": {},
          "execution_count": 25
        }
      ]
    },
    {
      "cell_type": "code",
      "source": [
        "df_metitarski_2.head()"
      ],
      "metadata": {
        "colab": {
          "base_uri": "https://localhost:8080/",
          "height": 0
        },
        "id": "mefygHFkAw-v",
        "outputId": "b3fbf8ae-0348-4e38-fa97-fd53adcf556f"
      },
      "execution_count": 26,
      "outputs": [
        {
          "output_type": "execute_result",
          "data": {
            "text/plain": [
              "   Unnamed: 0  file_id             input_file                label_file  \\\n",
              "0           0      415   poly415-perm0.txt.ml   comp_times415-perm0.txt   \n",
              "1           1     2230  poly2230-perm2.txt.ml  comp_times2230-perm2.txt   \n",
              "2           2     6506  poly6506-perm3.txt.ml  comp_times6506-perm3.txt   \n",
              "3           3     3998  poly3998-perm5.txt.ml  comp_times3998-perm5.txt   \n",
              "4           4     3730  poly3730-perm2.txt.ml  comp_times3730-perm2.txt   \n",
              "\n",
              "   nr_polynomials  max_total_degree  max_x1  max_x2  max_x3  prop_x1  prop_x2  \\\n",
              "0              10                 2       2       2       1     0.50     0.50   \n",
              "1               6                 4       1       2       2     0.33     0.67   \n",
              "2               6                16      16       1       1     0.50     0.33   \n",
              "3               9                 3       3       3       3     0.56     0.56   \n",
              "4              14                 9       1       9       3     0.21     0.79   \n",
              "\n",
              "   prop_x3  prop_mon_x1  prop_mon_x2  prop_mon_x3  label  \n",
              "0     0.50         0.25         0.25         0.25      4  \n",
              "1     0.50         0.33         0.48         0.43      0  \n",
              "2     0.50         0.50         0.10         0.15      5  \n",
              "3     0.56         0.35         0.35         0.35      1  \n",
              "4     0.14         0.17         0.61         0.11      3  "
            ],
            "text/html": [
              "\n",
              "  <div id=\"df-38f2ad81-0c9b-4ddd-9550-7c5d7183a2e9\">\n",
              "    <div class=\"colab-df-container\">\n",
              "      <div>\n",
              "<style scoped>\n",
              "    .dataframe tbody tr th:only-of-type {\n",
              "        vertical-align: middle;\n",
              "    }\n",
              "\n",
              "    .dataframe tbody tr th {\n",
              "        vertical-align: top;\n",
              "    }\n",
              "\n",
              "    .dataframe thead th {\n",
              "        text-align: right;\n",
              "    }\n",
              "</style>\n",
              "<table border=\"1\" class=\"dataframe\">\n",
              "  <thead>\n",
              "    <tr style=\"text-align: right;\">\n",
              "      <th></th>\n",
              "      <th>Unnamed: 0</th>\n",
              "      <th>file_id</th>\n",
              "      <th>input_file</th>\n",
              "      <th>label_file</th>\n",
              "      <th>nr_polynomials</th>\n",
              "      <th>max_total_degree</th>\n",
              "      <th>max_x1</th>\n",
              "      <th>max_x2</th>\n",
              "      <th>max_x3</th>\n",
              "      <th>prop_x1</th>\n",
              "      <th>prop_x2</th>\n",
              "      <th>prop_x3</th>\n",
              "      <th>prop_mon_x1</th>\n",
              "      <th>prop_mon_x2</th>\n",
              "      <th>prop_mon_x3</th>\n",
              "      <th>label</th>\n",
              "    </tr>\n",
              "  </thead>\n",
              "  <tbody>\n",
              "    <tr>\n",
              "      <th>0</th>\n",
              "      <td>0</td>\n",
              "      <td>415</td>\n",
              "      <td>poly415-perm0.txt.ml</td>\n",
              "      <td>comp_times415-perm0.txt</td>\n",
              "      <td>10</td>\n",
              "      <td>2</td>\n",
              "      <td>2</td>\n",
              "      <td>2</td>\n",
              "      <td>1</td>\n",
              "      <td>0.50</td>\n",
              "      <td>0.50</td>\n",
              "      <td>0.50</td>\n",
              "      <td>0.25</td>\n",
              "      <td>0.25</td>\n",
              "      <td>0.25</td>\n",
              "      <td>4</td>\n",
              "    </tr>\n",
              "    <tr>\n",
              "      <th>1</th>\n",
              "      <td>1</td>\n",
              "      <td>2230</td>\n",
              "      <td>poly2230-perm2.txt.ml</td>\n",
              "      <td>comp_times2230-perm2.txt</td>\n",
              "      <td>6</td>\n",
              "      <td>4</td>\n",
              "      <td>1</td>\n",
              "      <td>2</td>\n",
              "      <td>2</td>\n",
              "      <td>0.33</td>\n",
              "      <td>0.67</td>\n",
              "      <td>0.50</td>\n",
              "      <td>0.33</td>\n",
              "      <td>0.48</td>\n",
              "      <td>0.43</td>\n",
              "      <td>0</td>\n",
              "    </tr>\n",
              "    <tr>\n",
              "      <th>2</th>\n",
              "      <td>2</td>\n",
              "      <td>6506</td>\n",
              "      <td>poly6506-perm3.txt.ml</td>\n",
              "      <td>comp_times6506-perm3.txt</td>\n",
              "      <td>6</td>\n",
              "      <td>16</td>\n",
              "      <td>16</td>\n",
              "      <td>1</td>\n",
              "      <td>1</td>\n",
              "      <td>0.50</td>\n",
              "      <td>0.33</td>\n",
              "      <td>0.50</td>\n",
              "      <td>0.50</td>\n",
              "      <td>0.10</td>\n",
              "      <td>0.15</td>\n",
              "      <td>5</td>\n",
              "    </tr>\n",
              "    <tr>\n",
              "      <th>3</th>\n",
              "      <td>3</td>\n",
              "      <td>3998</td>\n",
              "      <td>poly3998-perm5.txt.ml</td>\n",
              "      <td>comp_times3998-perm5.txt</td>\n",
              "      <td>9</td>\n",
              "      <td>3</td>\n",
              "      <td>3</td>\n",
              "      <td>3</td>\n",
              "      <td>3</td>\n",
              "      <td>0.56</td>\n",
              "      <td>0.56</td>\n",
              "      <td>0.56</td>\n",
              "      <td>0.35</td>\n",
              "      <td>0.35</td>\n",
              "      <td>0.35</td>\n",
              "      <td>1</td>\n",
              "    </tr>\n",
              "    <tr>\n",
              "      <th>4</th>\n",
              "      <td>4</td>\n",
              "      <td>3730</td>\n",
              "      <td>poly3730-perm2.txt.ml</td>\n",
              "      <td>comp_times3730-perm2.txt</td>\n",
              "      <td>14</td>\n",
              "      <td>9</td>\n",
              "      <td>1</td>\n",
              "      <td>9</td>\n",
              "      <td>3</td>\n",
              "      <td>0.21</td>\n",
              "      <td>0.79</td>\n",
              "      <td>0.14</td>\n",
              "      <td>0.17</td>\n",
              "      <td>0.61</td>\n",
              "      <td>0.11</td>\n",
              "      <td>3</td>\n",
              "    </tr>\n",
              "  </tbody>\n",
              "</table>\n",
              "</div>\n",
              "      <button class=\"colab-df-convert\" onclick=\"convertToInteractive('df-38f2ad81-0c9b-4ddd-9550-7c5d7183a2e9')\"\n",
              "              title=\"Convert this dataframe to an interactive table.\"\n",
              "              style=\"display:none;\">\n",
              "        \n",
              "  <svg xmlns=\"http://www.w3.org/2000/svg\" height=\"24px\"viewBox=\"0 0 24 24\"\n",
              "       width=\"24px\">\n",
              "    <path d=\"M0 0h24v24H0V0z\" fill=\"none\"/>\n",
              "    <path d=\"M18.56 5.44l.94 2.06.94-2.06 2.06-.94-2.06-.94-.94-2.06-.94 2.06-2.06.94zm-11 1L8.5 8.5l.94-2.06 2.06-.94-2.06-.94L8.5 2.5l-.94 2.06-2.06.94zm10 10l.94 2.06.94-2.06 2.06-.94-2.06-.94-.94-2.06-.94 2.06-2.06.94z\"/><path d=\"M17.41 7.96l-1.37-1.37c-.4-.4-.92-.59-1.43-.59-.52 0-1.04.2-1.43.59L10.3 9.45l-7.72 7.72c-.78.78-.78 2.05 0 2.83L4 21.41c.39.39.9.59 1.41.59.51 0 1.02-.2 1.41-.59l7.78-7.78 2.81-2.81c.8-.78.8-2.07 0-2.86zM5.41 20L4 18.59l7.72-7.72 1.47 1.35L5.41 20z\"/>\n",
              "  </svg>\n",
              "      </button>\n",
              "      \n",
              "  <style>\n",
              "    .colab-df-container {\n",
              "      display:flex;\n",
              "      flex-wrap:wrap;\n",
              "      gap: 12px;\n",
              "    }\n",
              "\n",
              "    .colab-df-convert {\n",
              "      background-color: #E8F0FE;\n",
              "      border: none;\n",
              "      border-radius: 50%;\n",
              "      cursor: pointer;\n",
              "      display: none;\n",
              "      fill: #1967D2;\n",
              "      height: 32px;\n",
              "      padding: 0 0 0 0;\n",
              "      width: 32px;\n",
              "    }\n",
              "\n",
              "    .colab-df-convert:hover {\n",
              "      background-color: #E2EBFA;\n",
              "      box-shadow: 0px 1px 2px rgba(60, 64, 67, 0.3), 0px 1px 3px 1px rgba(60, 64, 67, 0.15);\n",
              "      fill: #174EA6;\n",
              "    }\n",
              "\n",
              "    [theme=dark] .colab-df-convert {\n",
              "      background-color: #3B4455;\n",
              "      fill: #D2E3FC;\n",
              "    }\n",
              "\n",
              "    [theme=dark] .colab-df-convert:hover {\n",
              "      background-color: #434B5C;\n",
              "      box-shadow: 0px 1px 3px 1px rgba(0, 0, 0, 0.15);\n",
              "      filter: drop-shadow(0px 1px 2px rgba(0, 0, 0, 0.3));\n",
              "      fill: #FFFFFF;\n",
              "    }\n",
              "  </style>\n",
              "\n",
              "      <script>\n",
              "        const buttonEl =\n",
              "          document.querySelector('#df-38f2ad81-0c9b-4ddd-9550-7c5d7183a2e9 button.colab-df-convert');\n",
              "        buttonEl.style.display =\n",
              "          google.colab.kernel.accessAllowed ? 'block' : 'none';\n",
              "\n",
              "        async function convertToInteractive(key) {\n",
              "          const element = document.querySelector('#df-38f2ad81-0c9b-4ddd-9550-7c5d7183a2e9');\n",
              "          const dataTable =\n",
              "            await google.colab.kernel.invokeFunction('convertToInteractive',\n",
              "                                                     [key], {});\n",
              "          if (!dataTable) return;\n",
              "\n",
              "          const docLinkHtml = 'Like what you see? Visit the ' +\n",
              "            '<a target=\"_blank\" href=https://colab.research.google.com/notebooks/data_table.ipynb>data table notebook</a>'\n",
              "            + ' to learn more about interactive tables.';\n",
              "          element.innerHTML = '';\n",
              "          dataTable['output_type'] = 'display_data';\n",
              "          await google.colab.output.renderOutput(dataTable, element);\n",
              "          const docLink = document.createElement('div');\n",
              "          docLink.innerHTML = docLinkHtml;\n",
              "          element.appendChild(docLink);\n",
              "        }\n",
              "      </script>\n",
              "    </div>\n",
              "  </div>\n",
              "  "
            ]
          },
          "metadata": {},
          "execution_count": 26
        }
      ]
    },
    {
      "cell_type": "code",
      "source": [
        "tmp_labels_1 = df_metitarski_1.groupby(df_metitarski_1.label).size()\n",
        "tmp_labels_1"
      ],
      "metadata": {
        "colab": {
          "base_uri": "https://localhost:8080/"
        },
        "id": "2zxTbuEtAzXr",
        "outputId": "b6a59901-159e-4a0b-fe66-fef41b66bbe1"
      },
      "execution_count": 27,
      "outputs": [
        {
          "output_type": "execute_result",
          "data": {
            "text/plain": [
              "label\n",
              "0     580\n",
              "1     570\n",
              "2     637\n",
              "3    1215\n",
              "4    1236\n",
              "5    2657\n",
              "dtype: int64"
            ]
          },
          "metadata": {},
          "execution_count": 27
        }
      ]
    },
    {
      "cell_type": "code",
      "source": [
        "tmp_labels_1.plot.bar(\n",
        "    title=\"Polynomial Classes (Original MetiTarski)\", \n",
        "    xlabel=\"Labels\", \n",
        "    ylabel=\"No. of records\", \n",
        "    rot=0)"
      ],
      "metadata": {
        "colab": {
          "base_uri": "https://localhost:8080/",
          "height": 0
        },
        "id": "LOWhcCHxBxFH",
        "outputId": "60f761b0-6e09-4ea9-a0fa-86772ba76906"
      },
      "execution_count": 28,
      "outputs": [
        {
          "output_type": "execute_result",
          "data": {
            "text/plain": [
              "<matplotlib.axes._subplots.AxesSubplot at 0x7fbbb08624c0>"
            ]
          },
          "metadata": {},
          "execution_count": 28
        },
        {
          "output_type": "display_data",
          "data": {
            "text/plain": [
              "<Figure size 432x288 with 1 Axes>"
            ],
            "image/png": "[encoded data removed]"
          },
          "metadata": {
            "needs_background": "light"
          }
        }
      ]
    },
    {
      "cell_type": "code",
      "source": [
        "tmp_labels_2 = df_metitarski_2.groupby(df_metitarski_2.label).size()\n",
        "tmp_labels_2"
      ],
      "metadata": {
        "colab": {
          "base_uri": "https://localhost:8080/"
        },
        "id": "jpIeA8UoCCJo",
        "outputId": "728f8995-d8d1-4e7d-b29e-3ac900da705b"
      },
      "execution_count": 29,
      "outputs": [
        {
          "output_type": "execute_result",
          "data": {
            "text/plain": [
              "label\n",
              "0    8505\n",
              "1    7397\n",
              "2    6731\n",
              "3    6715\n",
              "4    6188\n",
              "5    5833\n",
              "dtype: int64"
            ]
          },
          "metadata": {},
          "execution_count": 29
        }
      ]
    },
    {
      "cell_type": "code",
      "source": [
        "tmp_labels_2.plot.bar(\n",
        "    title=\"Polynomial Classes (New Dataset)\", \n",
        "    xlabel=\"Labels\", \n",
        "    ylabel=\"No. of records\", \n",
        "    rot=0)"
      ],
      "metadata": {
        "colab": {
          "base_uri": "https://localhost:8080/",
          "height": 0
        },
        "id": "47P-K4kqCPeg",
        "outputId": "64153232-e218-46c1-b0df-005f2e28f232"
      },
      "execution_count": 30,
      "outputs": [
        {
          "output_type": "execute_result",
          "data": {
            "text/plain": [
              "<matplotlib.axes._subplots.AxesSubplot at 0x7fbbb07b2a00>"
            ]
          },
          "metadata": {},
          "execution_count": 30
        },
        {
          "output_type": "display_data",
          "data": {
            "text/plain": [
              "<Figure size 432x288 with 1 Axes>"
            ],
            "image/png": "[encoded data removed]"
          },
          "metadata": {
            "needs_background": "light"
          }
        }
      ]
    },
    {
      "cell_type": "markdown",
      "source": [
        "## &#129504; MetiTarski - Variable Ordering"
      ],
      "metadata": {
        "id": "ObJelzIVEFpW"
      }
    },
    {
      "cell_type": "code",
      "source": [
        "FEATURE_COLUMNS = ['nr_polynomials', 'max_total_degree', 'max_x1', 'max_x2', 'max_x3', 'prop_x1', 'prop_x2', 'prop_x3', 'prop_mon_x1', 'prop_mon_x2', 'prop_mon_x3']\n",
        "\n",
        "FEATURE_COLUMNS"
      ],
      "metadata": {
        "colab": {
          "base_uri": "https://localhost:8080/"
        },
        "id": "OCagd6RlCXEa",
        "outputId": "3bcdfcfd-4042-4207-bbba-4ce3b3eec01b"
      },
      "execution_count": 31,
      "outputs": [
        {
          "output_type": "execute_result",
          "data": {
            "text/plain": [
              "['nr_polynomials',\n",
              " 'max_total_degree',\n",
              " 'max_x1',\n",
              " 'max_x2',\n",
              " 'max_x3',\n",
              " 'prop_x1',\n",
              " 'prop_x2',\n",
              " 'prop_x3',\n",
              " 'prop_mon_x1',\n",
              " 'prop_mon_x2',\n",
              " 'prop_mon_x3']"
            ]
          },
          "metadata": {},
          "execution_count": 31
        }
      ]
    },
    {
      "cell_type": "markdown",
      "source": [
        "### &#9758; MetiTarski Original"
      ],
      "metadata": {
        "id": "CAj-YaKgE6Xz"
      }
    },
    {
      "cell_type": "code",
      "source": [
        "# original metitarski dataset features\n",
        "df_features_1 = df_metitarski_1[FEATURE_COLUMNS].copy().reset_index()"
      ],
      "metadata": {
        "id": "j2rjF0BpEROk"
      },
      "execution_count": 32,
      "outputs": []
    },
    {
      "cell_type": "code",
      "source": [
        "df_features_1.drop(['index'], axis=1, inplace=True)"
      ],
      "metadata": {
        "id": "xHayqcmpGNLV"
      },
      "execution_count": 33,
      "outputs": []
    },
    {
      "cell_type": "code",
      "source": [
        "X_train_1, X_test_1, y_train_1, y_test_1 = train_test_split(df_features_1, df_metitarski_1.label, test_size=0.1)"
      ],
      "metadata": {
        "id": "tx2GtLOKGNIH"
      },
      "execution_count": 34,
      "outputs": []
    },
    {
      "cell_type": "code",
      "source": [
        "X_train_1.shape, y_train_1.shape, X_test_1.shape, y_test_1.shape"
      ],
      "metadata": {
        "colab": {
          "base_uri": "https://localhost:8080/"
        },
        "id": "GmvFs3E1GNE6",
        "outputId": "63b625f6-5f7e-419a-edfc-9d8b0beec0c9"
      },
      "execution_count": 35,
      "outputs": [
        {
          "output_type": "execute_result",
          "data": {
            "text/plain": [
              "((6205, 11), (6205,), (690, 11), (690,))"
            ]
          },
          "metadata": {},
          "execution_count": 35
        }
      ]
    },
    {
      "cell_type": "code",
      "source": [
        "# scale original training set\n",
        "scaler_1 = training_set_scaler(input_df=X_train_1)"
      ],
      "metadata": {
        "id": "uHfvz61FHC06"
      },
      "execution_count": 36,
      "outputs": []
    },
    {
      "cell_type": "code",
      "source": [
        "# rescale data\n",
        "X_train_D1 = scale_data(input_df=X_train_1, scaler=scaler_1)\n",
        "X_train_D1.head()"
      ],
      "metadata": {
        "colab": {
          "base_uri": "https://localhost:8080/",
          "height": 206
        },
        "id": "qiYsKqp_HCxu",
        "outputId": "ea46e69e-69ed-4d67-f952-5c6bd27f747f"
      },
      "execution_count": 37,
      "outputs": [
        {
          "output_type": "execute_result",
          "data": {
            "text/plain": [
              "      nr_polynomials  max_total_degree  max_x1  max_x2  max_x3  prop_x1  \\\n",
              "3850           -1.13              1.51    1.64   -0.61   -0.44    -0.41   \n",
              "718            -0.53             -0.42   -0.60   -0.13    1.76    -0.41   \n",
              "352            -0.24             -0.42   -0.60   -0.13   -0.44     0.98   \n",
              "282            -0.24              6.01    6.13   -0.61   -0.44     0.06   \n",
              "2452            0.36             -0.42   -0.44   -0.13    1.76     0.67   \n",
              "\n",
              "      prop_x2  prop_x3  prop_mon_x1  prop_mon_x2  prop_mon_x3  \n",
              "3850    -0.10    -1.05         1.54        -1.13        -1.26  \n",
              "718      1.08     1.86        -0.13         0.70         0.64  \n",
              "352      0.40     0.20         0.42         0.98         1.55  \n",
              "282     -0.61    -0.80         2.46        -1.68        -1.53  \n",
              "2452     0.29     1.08         0.77         0.07         1.09  "
            ],
            "text/html": [
              "\n",
              "  <div id=\"df-48e19e05-6241-4f1a-bfb6-8a4f3acc2dd7\">\n",
              "    <div class=\"colab-df-container\">\n",
              "      <div>\n",
              "<style scoped>\n",
              "    .dataframe tbody tr th:only-of-type {\n",
              "        vertical-align: middle;\n",
              "    }\n",
              "\n",
              "    .dataframe tbody tr th {\n",
              "        vertical-align: top;\n",
              "    }\n",
              "\n",
              "    .dataframe thead th {\n",
              "        text-align: right;\n",
              "    }\n",
              "</style>\n",
              "<table border=\"1\" class=\"dataframe\">\n",
              "  <thead>\n",
              "    <tr style=\"text-align: right;\">\n",
              "      <th></th>\n",
              "      <th>nr_polynomials</th>\n",
              "      <th>max_total_degree</th>\n",
              "      <th>max_x1</th>\n",
              "      <th>max_x2</th>\n",
              "      <th>max_x3</th>\n",
              "      <th>prop_x1</th>\n",
              "      <th>prop_x2</th>\n",
              "      <th>prop_x3</th>\n",
              "      <th>prop_mon_x1</th>\n",
              "      <th>prop_mon_x2</th>\n",
              "      <th>prop_mon_x3</th>\n",
              "    </tr>\n",
              "  </thead>\n",
              "  <tbody>\n",
              "    <tr>\n",
              "      <th>3850</th>\n",
              "      <td>-1.13</td>\n",
              "      <td>1.51</td>\n",
              "      <td>1.64</td>\n",
              "      <td>-0.61</td>\n",
              "      <td>-0.44</td>\n",
              "      <td>-0.41</td>\n",
              "      <td>-0.10</td>\n",
              "      <td>-1.05</td>\n",
              "      <td>1.54</td>\n",
              "      <td>-1.13</td>\n",
              "      <td>-1.26</td>\n",
              "    </tr>\n",
              "    <tr>\n",
              "      <th>718</th>\n",
              "      <td>-0.53</td>\n",
              "      <td>-0.42</td>\n",
              "      <td>-0.60</td>\n",
              "      <td>-0.13</td>\n",
              "      <td>1.76</td>\n",
              "      <td>-0.41</td>\n",
              "      <td>1.08</td>\n",
              "      <td>1.86</td>\n",
              "      <td>-0.13</td>\n",
              "      <td>0.70</td>\n",
              "      <td>0.64</td>\n",
              "    </tr>\n",
              "    <tr>\n",
              "      <th>352</th>\n",
              "      <td>-0.24</td>\n",
              "      <td>-0.42</td>\n",
              "      <td>-0.60</td>\n",
              "      <td>-0.13</td>\n",
              "      <td>-0.44</td>\n",
              "      <td>0.98</td>\n",
              "      <td>0.40</td>\n",
              "      <td>0.20</td>\n",
              "      <td>0.42</td>\n",
              "      <td>0.98</td>\n",
              "      <td>1.55</td>\n",
              "    </tr>\n",
              "    <tr>\n",
              "      <th>282</th>\n",
              "      <td>-0.24</td>\n",
              "      <td>6.01</td>\n",
              "      <td>6.13</td>\n",
              "      <td>-0.61</td>\n",
              "      <td>-0.44</td>\n",
              "      <td>0.06</td>\n",
              "      <td>-0.61</td>\n",
              "      <td>-0.80</td>\n",
              "      <td>2.46</td>\n",
              "      <td>-1.68</td>\n",
              "      <td>-1.53</td>\n",
              "    </tr>\n",
              "    <tr>\n",
              "      <th>2452</th>\n",
              "      <td>0.36</td>\n",
              "      <td>-0.42</td>\n",
              "      <td>-0.44</td>\n",
              "      <td>-0.13</td>\n",
              "      <td>1.76</td>\n",
              "      <td>0.67</td>\n",
              "      <td>0.29</td>\n",
              "      <td>1.08</td>\n",
              "      <td>0.77</td>\n",
              "      <td>0.07</td>\n",
              "      <td>1.09</td>\n",
              "    </tr>\n",
              "  </tbody>\n",
              "</table>\n",
              "</div>\n",
              "      <button class=\"colab-df-convert\" onclick=\"convertToInteractive('df-48e19e05-6241-4f1a-bfb6-8a4f3acc2dd7')\"\n",
              "              title=\"Convert this dataframe to an interactive table.\"\n",
              "              style=\"display:none;\">\n",
              "        \n",
              "  <svg xmlns=\"http://www.w3.org/2000/svg\" height=\"24px\"viewBox=\"0 0 24 24\"\n",
              "       width=\"24px\">\n",
              "    <path d=\"M0 0h24v24H0V0z\" fill=\"none\"/>\n",
              "    <path d=\"M18.56 5.44l.94 2.06.94-2.06 2.06-.94-2.06-.94-.94-2.06-.94 2.06-2.06.94zm-11 1L8.5 8.5l.94-2.06 2.06-.94-2.06-.94L8.5 2.5l-.94 2.06-2.06.94zm10 10l.94 2.06.94-2.06 2.06-.94-2.06-.94-.94-2.06-.94 2.06-2.06.94z\"/><path d=\"M17.41 7.96l-1.37-1.37c-.4-.4-.92-.59-1.43-.59-.52 0-1.04.2-1.43.59L10.3 9.45l-7.72 7.72c-.78.78-.78 2.05 0 2.83L4 21.41c.39.39.9.59 1.41.59.51 0 1.02-.2 1.41-.59l7.78-7.78 2.81-2.81c.8-.78.8-2.07 0-2.86zM5.41 20L4 18.59l7.72-7.72 1.47 1.35L5.41 20z\"/>\n",
              "  </svg>\n",
              "      </button>\n",
              "      \n",
              "  <style>\n",
              "    .colab-df-container {\n",
              "      display:flex;\n",
              "      flex-wrap:wrap;\n",
              "      gap: 12px;\n",
              "    }\n",
              "\n",
              "    .colab-df-convert {\n",
              "      background-color: #E8F0FE;\n",
              "      border: none;\n",
              "      border-radius: 50%;\n",
              "      cursor: pointer;\n",
              "      display: none;\n",
              "      fill: #1967D2;\n",
              "      height: 32px;\n",
              "      padding: 0 0 0 0;\n",
              "      width: 32px;\n",
              "    }\n",
              "\n",
              "    .colab-df-convert:hover {\n",
              "      background-color: #E2EBFA;\n",
              "      box-shadow: 0px 1px 2px rgba(60, 64, 67, 0.3), 0px 1px 3px 1px rgba(60, 64, 67, 0.15);\n",
              "      fill: #174EA6;\n",
              "    }\n",
              "\n",
              "    [theme=dark] .colab-df-convert {\n",
              "      background-color: #3B4455;\n",
              "      fill: #D2E3FC;\n",
              "    }\n",
              "\n",
              "    [theme=dark] .colab-df-convert:hover {\n",
              "      background-color: #434B5C;\n",
              "      box-shadow: 0px 1px 3px 1px rgba(0, 0, 0, 0.15);\n",
              "      filter: drop-shadow(0px 1px 2px rgba(0, 0, 0, 0.3));\n",
              "      fill: #FFFFFF;\n",
              "    }\n",
              "  </style>\n",
              "\n",
              "      <script>\n",
              "        const buttonEl =\n",
              "          document.querySelector('#df-48e19e05-6241-4f1a-bfb6-8a4f3acc2dd7 button.colab-df-convert');\n",
              "        buttonEl.style.display =\n",
              "          google.colab.kernel.accessAllowed ? 'block' : 'none';\n",
              "\n",
              "        async function convertToInteractive(key) {\n",
              "          const element = document.querySelector('#df-48e19e05-6241-4f1a-bfb6-8a4f3acc2dd7');\n",
              "          const dataTable =\n",
              "            await google.colab.kernel.invokeFunction('convertToInteractive',\n",
              "                                                     [key], {});\n",
              "          if (!dataTable) return;\n",
              "\n",
              "          const docLinkHtml = 'Like what you see? Visit the ' +\n",
              "            '<a target=\"_blank\" href=https://colab.research.google.com/notebooks/data_table.ipynb>data table notebook</a>'\n",
              "            + ' to learn more about interactive tables.';\n",
              "          element.innerHTML = '';\n",
              "          dataTable['output_type'] = 'display_data';\n",
              "          await google.colab.output.renderOutput(dataTable, element);\n",
              "          const docLink = document.createElement('div');\n",
              "          docLink.innerHTML = docLinkHtml;\n",
              "          element.appendChild(docLink);\n",
              "        }\n",
              "      </script>\n",
              "    </div>\n",
              "  </div>\n",
              "  "
            ]
          },
          "metadata": {},
          "execution_count": 37
        }
      ]
    },
    {
      "cell_type": "code",
      "source": [
        "X_test_D1 = scale_data(input_df=X_test_1, scaler=scaler_1)\n",
        "X_test_D1.head()"
      ],
      "metadata": {
        "colab": {
          "base_uri": "https://localhost:8080/",
          "height": 206
        },
        "id": "kYRWMP-dHCt_",
        "outputId": "0928f0e7-8898-4f29-90c8-48df61011b13"
      },
      "execution_count": 38,
      "outputs": [
        {
          "output_type": "execute_result",
          "data": {
            "text/plain": [
              "      nr_polynomials  max_total_degree  max_x1  max_x2  max_x3  prop_x1  \\\n",
              "4862            0.06              0.86    0.36    0.81   -0.44    -0.41   \n",
              "6017           -0.83             -0.10    0.04   -0.61   -0.44     0.24   \n",
              "5881           -0.53              2.79    2.92   -0.61   -0.44    -0.41   \n",
              "1584            0.06              0.86    1.00   -0.13   -0.44    -1.21   \n",
              "6765           -0.24              0.54    0.68    3.66   -0.44    -0.87   \n",
              "\n",
              "      prop_x2  prop_x3  prop_mon_x1  prop_mon_x2  prop_mon_x3  \n",
              "4862    -0.10     0.70         0.17         1.28        -0.52  \n",
              "6017    -0.81    -1.40        -0.02        -0.96        -1.15  \n",
              "5881    -0.10    -0.47         1.30        -1.22        -1.11  \n",
              "1584    -0.10     0.70        -0.38        -0.86        -0.19  \n",
              "6765    -0.61     0.20         0.56         0.70        -0.50  "
            ],
            "text/html": [
              "\n",
              "  <div id=\"df-fa6c639f-e2d9-4abe-a3a5-662fe4219a33\">\n",
              "    <div class=\"colab-df-container\">\n",
              "      <div>\n",
              "<style scoped>\n",
              "    .dataframe tbody tr th:only-of-type {\n",
              "        vertical-align: middle;\n",
              "    }\n",
              "\n",
              "    .dataframe tbody tr th {\n",
              "        vertical-align: top;\n",
              "    }\n",
              "\n",
              "    .dataframe thead th {\n",
              "        text-align: right;\n",
              "    }\n",
              "</style>\n",
              "<table border=\"1\" class=\"dataframe\">\n",
              "  <thead>\n",
              "    <tr style=\"text-align: right;\">\n",
              "      <th></th>\n",
              "      <th>nr_polynomials</th>\n",
              "      <th>max_total_degree</th>\n",
              "      <th>max_x1</th>\n",
              "      <th>max_x2</th>\n",
              "      <th>max_x3</th>\n",
              "      <th>prop_x1</th>\n",
              "      <th>prop_x2</th>\n",
              "      <th>prop_x3</th>\n",
              "      <th>prop_mon_x1</th>\n",
              "      <th>prop_mon_x2</th>\n",
              "      <th>prop_mon_x3</th>\n",
              "    </tr>\n",
              "  </thead>\n",
              "  <tbody>\n",
              "    <tr>\n",
              "      <th>4862</th>\n",
              "      <td>0.06</td>\n",
              "      <td>0.86</td>\n",
              "      <td>0.36</td>\n",
              "      <td>0.81</td>\n",
              "      <td>-0.44</td>\n",
              "      <td>-0.41</td>\n",
              "      <td>-0.10</td>\n",
              "      <td>0.70</td>\n",
              "      <td>0.17</td>\n",
              "      <td>1.28</td>\n",
              "      <td>-0.52</td>\n",
              "    </tr>\n",
              "    <tr>\n",
              "      <th>6017</th>\n",
              "      <td>-0.83</td>\n",
              "      <td>-0.10</td>\n",
              "      <td>0.04</td>\n",
              "      <td>-0.61</td>\n",
              "      <td>-0.44</td>\n",
              "      <td>0.24</td>\n",
              "      <td>-0.81</td>\n",
              "      <td>-1.40</td>\n",
              "      <td>-0.02</td>\n",
              "      <td>-0.96</td>\n",
              "      <td>-1.15</td>\n",
              "    </tr>\n",
              "    <tr>\n",
              "      <th>5881</th>\n",
              "      <td>-0.53</td>\n",
              "      <td>2.79</td>\n",
              "      <td>2.92</td>\n",
              "      <td>-0.61</td>\n",
              "      <td>-0.44</td>\n",
              "      <td>-0.41</td>\n",
              "      <td>-0.10</td>\n",
              "      <td>-0.47</td>\n",
              "      <td>1.30</td>\n",
              "      <td>-1.22</td>\n",
              "      <td>-1.11</td>\n",
              "    </tr>\n",
              "    <tr>\n",
              "      <th>1584</th>\n",
              "      <td>0.06</td>\n",
              "      <td>0.86</td>\n",
              "      <td>1.00</td>\n",
              "      <td>-0.13</td>\n",
              "      <td>-0.44</td>\n",
              "      <td>-1.21</td>\n",
              "      <td>-0.10</td>\n",
              "      <td>0.70</td>\n",
              "      <td>-0.38</td>\n",
              "      <td>-0.86</td>\n",
              "      <td>-0.19</td>\n",
              "    </tr>\n",
              "    <tr>\n",
              "      <th>6765</th>\n",
              "      <td>-0.24</td>\n",
              "      <td>0.54</td>\n",
              "      <td>0.68</td>\n",
              "      <td>3.66</td>\n",
              "      <td>-0.44</td>\n",
              "      <td>-0.87</td>\n",
              "      <td>-0.61</td>\n",
              "      <td>0.20</td>\n",
              "      <td>0.56</td>\n",
              "      <td>0.70</td>\n",
              "      <td>-0.50</td>\n",
              "    </tr>\n",
              "  </tbody>\n",
              "</table>\n",
              "</div>\n",
              "      <button class=\"colab-df-convert\" onclick=\"convertToInteractive('df-fa6c639f-e2d9-4abe-a3a5-662fe4219a33')\"\n",
              "              title=\"Convert this dataframe to an interactive table.\"\n",
              "              style=\"display:none;\">\n",
              "        \n",
              "  <svg xmlns=\"http://www.w3.org/2000/svg\" height=\"24px\"viewBox=\"0 0 24 24\"\n",
              "       width=\"24px\">\n",
              "    <path d=\"M0 0h24v24H0V0z\" fill=\"none\"/>\n",
              "    <path d=\"M18.56 5.44l.94 2.06.94-2.06 2.06-.94-2.06-.94-.94-2.06-.94 2.06-2.06.94zm-11 1L8.5 8.5l.94-2.06 2.06-.94-2.06-.94L8.5 2.5l-.94 2.06-2.06.94zm10 10l.94 2.06.94-2.06 2.06-.94-2.06-.94-.94-2.06-.94 2.06-2.06.94z\"/><path d=\"M17.41 7.96l-1.37-1.37c-.4-.4-.92-.59-1.43-.59-.52 0-1.04.2-1.43.59L10.3 9.45l-7.72 7.72c-.78.78-.78 2.05 0 2.83L4 21.41c.39.39.9.59 1.41.59.51 0 1.02-.2 1.41-.59l7.78-7.78 2.81-2.81c.8-.78.8-2.07 0-2.86zM5.41 20L4 18.59l7.72-7.72 1.47 1.35L5.41 20z\"/>\n",
              "  </svg>\n",
              "      </button>\n",
              "      \n",
              "  <style>\n",
              "    .colab-df-container {\n",
              "      display:flex;\n",
              "      flex-wrap:wrap;\n",
              "      gap: 12px;\n",
              "    }\n",
              "\n",
              "    .colab-df-convert {\n",
              "      background-color: #E8F0FE;\n",
              "      border: none;\n",
              "      border-radius: 50%;\n",
              "      cursor: pointer;\n",
              "      display: none;\n",
              "      fill: #1967D2;\n",
              "      height: 32px;\n",
              "      padding: 0 0 0 0;\n",
              "      width: 32px;\n",
              "    }\n",
              "\n",
              "    .colab-df-convert:hover {\n",
              "      background-color: #E2EBFA;\n",
              "      box-shadow: 0px 1px 2px rgba(60, 64, 67, 0.3), 0px 1px 3px 1px rgba(60, 64, 67, 0.15);\n",
              "      fill: #174EA6;\n",
              "    }\n",
              "\n",
              "    [theme=dark] .colab-df-convert {\n",
              "      background-color: #3B4455;\n",
              "      fill: #D2E3FC;\n",
              "    }\n",
              "\n",
              "    [theme=dark] .colab-df-convert:hover {\n",
              "      background-color: #434B5C;\n",
              "      box-shadow: 0px 1px 3px 1px rgba(0, 0, 0, 0.15);\n",
              "      filter: drop-shadow(0px 1px 2px rgba(0, 0, 0, 0.3));\n",
              "      fill: #FFFFFF;\n",
              "    }\n",
              "  </style>\n",
              "\n",
              "      <script>\n",
              "        const buttonEl =\n",
              "          document.querySelector('#df-fa6c639f-e2d9-4abe-a3a5-662fe4219a33 button.colab-df-convert');\n",
              "        buttonEl.style.display =\n",
              "          google.colab.kernel.accessAllowed ? 'block' : 'none';\n",
              "\n",
              "        async function convertToInteractive(key) {\n",
              "          const element = document.querySelector('#df-fa6c639f-e2d9-4abe-a3a5-662fe4219a33');\n",
              "          const dataTable =\n",
              "            await google.colab.kernel.invokeFunction('convertToInteractive',\n",
              "                                                     [key], {});\n",
              "          if (!dataTable) return;\n",
              "\n",
              "          const docLinkHtml = 'Like what you see? Visit the ' +\n",
              "            '<a target=\"_blank\" href=https://colab.research.google.com/notebooks/data_table.ipynb>data table notebook</a>'\n",
              "            + ' to learn more about interactive tables.';\n",
              "          element.innerHTML = '';\n",
              "          dataTable['output_type'] = 'display_data';\n",
              "          await google.colab.output.renderOutput(dataTable, element);\n",
              "          const docLink = document.createElement('div');\n",
              "          docLink.innerHTML = docLinkHtml;\n",
              "          element.appendChild(docLink);\n",
              "        }\n",
              "      </script>\n",
              "    </div>\n",
              "  </div>\n",
              "  "
            ]
          },
          "metadata": {},
          "execution_count": 38
        }
      ]
    },
    {
      "cell_type": "code",
      "source": [
        "lazy_clf_1 = LazyClassifier(verbose=0, ignore_warnings=True, custom_metric=None)"
      ],
      "metadata": {
        "id": "h3MVhTPcHVpv"
      },
      "execution_count": 39,
      "outputs": []
    },
    {
      "cell_type": "code",
      "source": [
        "models_1, predictions_1 = lazy_clf_1.fit(X_train_D1, X_test_D1, y_train_1, y_test_1)"
      ],
      "metadata": {
        "colab": {
          "base_uri": "https://localhost:8080/"
        },
        "id": "LjLSJajtHVmW",
        "outputId": "e486235c-7b85-4ba3-ffd5-a014e2bfdae5"
      },
      "execution_count": 40,
      "outputs": [
        {
          "output_type": "stream",
          "name": "stderr",
          "text": [
            "100%|██████████| 29/29 [00:38<00:00,  1.33s/it]\n"
          ]
        }
      ]
    },
    {
      "cell_type": "code",
      "source": [
        "models_1"
      ],
      "metadata": {
        "colab": {
          "base_uri": "https://localhost:8080/",
          "height": 896
        },
        "id": "F3Va_9Y2HoPK",
        "outputId": "4498d279-f529-476c-df3f-5ab073d64723"
      },
      "execution_count": 41,
      "outputs": [
        {
          "output_type": "execute_result",
          "data": {
            "text/plain": [
              "                               Accuracy  Balanced Accuracy ROC AUC  F1 Score  \\\n",
              "Model                                                                          \n",
              "ExtraTreeClassifier                0.59               0.52    None      0.59   \n",
              "ExtraTreesClassifier               0.59               0.52    None      0.59   \n",
              "RandomForestClassifier             0.59               0.51    None      0.59   \n",
              "LGBMClassifier                     0.58               0.50    None      0.58   \n",
              "BaggingClassifier                  0.57               0.50    None      0.56   \n",
              "DecisionTreeClassifier             0.56               0.50    None      0.57   \n",
              "LabelPropagation                   0.58               0.49    None      0.58   \n",
              "LabelSpreading                     0.58               0.49    None      0.58   \n",
              "KNeighborsClassifier               0.55               0.47    None      0.55   \n",
              "SVC                                0.54               0.43    None      0.52   \n",
              "QuadraticDiscriminantAnalysis      0.46               0.42    None      0.48   \n",
              "XGBClassifier                      0.53               0.42    None      0.51   \n",
              "AdaBoostClassifier                 0.42               0.33    None      0.40   \n",
              "NearestCentroid                    0.35               0.31    None      0.37   \n",
              "LinearDiscriminantAnalysis         0.43               0.31    None      0.39   \n",
              "BernoulliNB                        0.39               0.31    None      0.37   \n",
              "LogisticRegression                 0.42               0.30    None      0.38   \n",
              "CalibratedClassifierCV             0.41               0.29    None      0.35   \n",
              "PassiveAggressiveClassifier        0.33               0.29    None      0.34   \n",
              "GaussianNB                         0.32               0.29    None      0.34   \n",
              "LinearSVC                          0.41               0.28    None      0.34   \n",
              "Perceptron                         0.32               0.27    None      0.33   \n",
              "RidgeClassifier                    0.40               0.24    None      0.31   \n",
              "RidgeClassifierCV                  0.40               0.24    None      0.31   \n",
              "SGDClassifier                      0.35               0.20    None      0.30   \n",
              "DummyClassifier                    0.37               0.17    None      0.20   \n",
              "\n",
              "                               Time Taken  \n",
              "Model                                      \n",
              "ExtraTreeClassifier                  0.02  \n",
              "ExtraTreesClassifier                 0.71  \n",
              "RandomForestClassifier               0.93  \n",
              "LGBMClassifier                       1.12  \n",
              "BaggingClassifier                    0.37  \n",
              "DecisionTreeClassifier               0.04  \n",
              "LabelPropagation                     2.29  \n",
              "LabelSpreading                       4.14  \n",
              "KNeighborsClassifier                 0.07  \n",
              "SVC                                  2.83  \n",
              "QuadraticDiscriminantAnalysis        0.04  \n",
              "XGBClassifier                        1.77  \n",
              "AdaBoostClassifier                   0.97  \n",
              "NearestCentroid                      0.03  \n",
              "LinearDiscriminantAnalysis           0.08  \n",
              "BernoulliNB                          0.07  \n",
              "LogisticRegression                   0.99  \n",
              "CalibratedClassifierCV              18.97  \n",
              "PassiveAggressiveClassifier          0.07  \n",
              "GaussianNB                           0.03  \n",
              "LinearSVC                            2.53  \n",
              "Perceptron                           0.05  \n",
              "RidgeClassifier                      0.05  \n",
              "RidgeClassifierCV                    0.07  \n",
              "SGDClassifier                        0.22  \n",
              "DummyClassifier                      0.02  "
            ],
            "text/html": [
              "\n",
              "  <div id=\"df-56e5b6f2-73e7-418d-a01e-bca506eaa7e8\">\n",
              "    <div class=\"colab-df-container\">\n",
              "      <div>\n",
              "<style scoped>\n",
              "    .dataframe tbody tr th:only-of-type {\n",
              "        vertical-align: middle;\n",
              "    }\n",
              "\n",
              "    .dataframe tbody tr th {\n",
              "        vertical-align: top;\n",
              "    }\n",
              "\n",
              "    .dataframe thead th {\n",
              "        text-align: right;\n",
              "    }\n",
              "</style>\n",
              "<table border=\"1\" class=\"dataframe\">\n",
              "  <thead>\n",
              "    <tr style=\"text-align: right;\">\n",
              "      <th></th>\n",
              "      <th>Accuracy</th>\n",
              "      <th>Balanced Accuracy</th>\n",
              "      <th>ROC AUC</th>\n",
              "      <th>F1 Score</th>\n",
              "      <th>Time Taken</th>\n",
              "    </tr>\n",
              "    <tr>\n",
              "      <th>Model</th>\n",
              "      <th></th>\n",
              "      <th></th>\n",
              "      <th></th>\n",
              "      <th></th>\n",
              "      <th></th>\n",
              "    </tr>\n",
              "  </thead>\n",
              "  <tbody>\n",
              "    <tr>\n",
              "      <th>ExtraTreeClassifier</th>\n",
              "      <td>0.59</td>\n",
              "      <td>0.52</td>\n",
              "      <td>None</td>\n",
              "      <td>0.59</td>\n",
              "      <td>0.02</td>\n",
              "    </tr>\n",
              "    <tr>\n",
              "      <th>ExtraTreesClassifier</th>\n",
              "      <td>0.59</td>\n",
              "      <td>0.52</td>\n",
              "      <td>None</td>\n",
              "      <td>0.59</td>\n",
              "      <td>0.71</td>\n",
              "    </tr>\n",
              "    <tr>\n",
              "      <th>RandomForestClassifier</th>\n",
              "      <td>0.59</td>\n",
              "      <td>0.51</td>\n",
              "      <td>None</td>\n",
              "      <td>0.59</td>\n",
              "      <td>0.93</td>\n",
              "    </tr>\n",
              "    <tr>\n",
              "      <th>LGBMClassifier</th>\n",
              "      <td>0.58</td>\n",
              "      <td>0.50</td>\n",
              "      <td>None</td>\n",
              "      <td>0.58</td>\n",
              "      <td>1.12</td>\n",
              "    </tr>\n",
              "    <tr>\n",
              "      <th>BaggingClassifier</th>\n",
              "      <td>0.57</td>\n",
              "      <td>0.50</td>\n",
              "      <td>None</td>\n",
              "      <td>0.56</td>\n",
              "      <td>0.37</td>\n",
              "    </tr>\n",
              "    <tr>\n",
              "      <th>DecisionTreeClassifier</th>\n",
              "      <td>0.56</td>\n",
              "      <td>0.50</td>\n",
              "      <td>None</td>\n",
              "      <td>0.57</td>\n",
              "      <td>0.04</td>\n",
              "    </tr>\n",
              "    <tr>\n",
              "      <th>LabelPropagation</th>\n",
              "      <td>0.58</td>\n",
              "      <td>0.49</td>\n",
              "      <td>None</td>\n",
              "      <td>0.58</td>\n",
              "      <td>2.29</td>\n",
              "    </tr>\n",
              "    <tr>\n",
              "      <th>LabelSpreading</th>\n",
              "      <td>0.58</td>\n",
              "      <td>0.49</td>\n",
              "      <td>None</td>\n",
              "      <td>0.58</td>\n",
              "      <td>4.14</td>\n",
              "    </tr>\n",
              "    <tr>\n",
              "      <th>KNeighborsClassifier</th>\n",
              "      <td>0.55</td>\n",
              "      <td>0.47</td>\n",
              "      <td>None</td>\n",
              "      <td>0.55</td>\n",
              "      <td>0.07</td>\n",
              "    </tr>\n",
              "    <tr>\n",
              "      <th>SVC</th>\n",
              "      <td>0.54</td>\n",
              "      <td>0.43</td>\n",
              "      <td>None</td>\n",
              "      <td>0.52</td>\n",
              "      <td>2.83</td>\n",
              "    </tr>\n",
              "    <tr>\n",
              "      <th>QuadraticDiscriminantAnalysis</th>\n",
              "      <td>0.46</td>\n",
              "      <td>0.42</td>\n",
              "      <td>None</td>\n",
              "      <td>0.48</td>\n",
              "      <td>0.04</td>\n",
              "    </tr>\n",
              "    <tr>\n",
              "      <th>XGBClassifier</th>\n",
              "      <td>0.53</td>\n",
              "      <td>0.42</td>\n",
              "      <td>None</td>\n",
              "      <td>0.51</td>\n",
              "      <td>1.77</td>\n",
              "    </tr>\n",
              "    <tr>\n",
              "      <th>AdaBoostClassifier</th>\n",
              "      <td>0.42</td>\n",
              "      <td>0.33</td>\n",
              "      <td>None</td>\n",
              "      <td>0.40</td>\n",
              "      <td>0.97</td>\n",
              "    </tr>\n",
              "    <tr>\n",
              "      <th>NearestCentroid</th>\n",
              "      <td>0.35</td>\n",
              "      <td>0.31</td>\n",
              "      <td>None</td>\n",
              "      <td>0.37</td>\n",
              "      <td>0.03</td>\n",
              "    </tr>\n",
              "    <tr>\n",
              "      <th>LinearDiscriminantAnalysis</th>\n",
              "      <td>0.43</td>\n",
              "      <td>0.31</td>\n",
              "      <td>None</td>\n",
              "      <td>0.39</td>\n",
              "      <td>0.08</td>\n",
              "    </tr>\n",
              "    <tr>\n",
              "      <th>BernoulliNB</th>\n",
              "      <td>0.39</td>\n",
              "      <td>0.31</td>\n",
              "      <td>None</td>\n",
              "      <td>0.37</td>\n",
              "      <td>0.07</td>\n",
              "    </tr>\n",
              "    <tr>\n",
              "      <th>LogisticRegression</th>\n",
              "      <td>0.42</td>\n",
              "      <td>0.30</td>\n",
              "      <td>None</td>\n",
              "      <td>0.38</td>\n",
              "      <td>0.99</td>\n",
              "    </tr>\n",
              "    <tr>\n",
              "      <th>CalibratedClassifierCV</th>\n",
              "      <td>0.41</td>\n",
              "      <td>0.29</td>\n",
              "      <td>None</td>\n",
              "      <td>0.35</td>\n",
              "      <td>18.97</td>\n",
              "    </tr>\n",
              "    <tr>\n",
              "      <th>PassiveAggressiveClassifier</th>\n",
              "      <td>0.33</td>\n",
              "      <td>0.29</td>\n",
              "      <td>None</td>\n",
              "      <td>0.34</td>\n",
              "      <td>0.07</td>\n",
              "    </tr>\n",
              "    <tr>\n",
              "      <th>GaussianNB</th>\n",
              "      <td>0.32</td>\n",
              "      <td>0.29</td>\n",
              "      <td>None</td>\n",
              "      <td>0.34</td>\n",
              "      <td>0.03</td>\n",
              "    </tr>\n",
              "    <tr>\n",
              "      <th>LinearSVC</th>\n",
              "      <td>0.41</td>\n",
              "      <td>0.28</td>\n",
              "      <td>None</td>\n",
              "      <td>0.34</td>\n",
              "      <td>2.53</td>\n",
              "    </tr>\n",
              "    <tr>\n",
              "      <th>Perceptron</th>\n",
              "      <td>0.32</td>\n",
              "      <td>0.27</td>\n",
              "      <td>None</td>\n",
              "      <td>0.33</td>\n",
              "      <td>0.05</td>\n",
              "    </tr>\n",
              "    <tr>\n",
              "      <th>RidgeClassifier</th>\n",
              "      <td>0.40</td>\n",
              "      <td>0.24</td>\n",
              "      <td>None</td>\n",
              "      <td>0.31</td>\n",
              "      <td>0.05</td>\n",
              "    </tr>\n",
              "    <tr>\n",
              "      <th>RidgeClassifierCV</th>\n",
              "      <td>0.40</td>\n",
              "      <td>0.24</td>\n",
              "      <td>None</td>\n",
              "      <td>0.31</td>\n",
              "      <td>0.07</td>\n",
              "    </tr>\n",
              "    <tr>\n",
              "      <th>SGDClassifier</th>\n",
              "      <td>0.35</td>\n",
              "      <td>0.20</td>\n",
              "      <td>None</td>\n",
              "      <td>0.30</td>\n",
              "      <td>0.22</td>\n",
              "    </tr>\n",
              "    <tr>\n",
              "      <th>DummyClassifier</th>\n",
              "      <td>0.37</td>\n",
              "      <td>0.17</td>\n",
              "      <td>None</td>\n",
              "      <td>0.20</td>\n",
              "      <td>0.02</td>\n",
              "    </tr>\n",
              "  </tbody>\n",
              "</table>\n",
              "</div>\n",
              "      <button class=\"colab-df-convert\" onclick=\"convertToInteractive('df-56e5b6f2-73e7-418d-a01e-bca506eaa7e8')\"\n",
              "              title=\"Convert this dataframe to an interactive table.\"\n",
              "              style=\"display:none;\">\n",
              "        \n",
              "  <svg xmlns=\"http://www.w3.org/2000/svg\" height=\"24px\"viewBox=\"0 0 24 24\"\n",
              "       width=\"24px\">\n",
              "    <path d=\"M0 0h24v24H0V0z\" fill=\"none\"/>\n",
              "    <path d=\"M18.56 5.44l.94 2.06.94-2.06 2.06-.94-2.06-.94-.94-2.06-.94 2.06-2.06.94zm-11 1L8.5 8.5l.94-2.06 2.06-.94-2.06-.94L8.5 2.5l-.94 2.06-2.06.94zm10 10l.94 2.06.94-2.06 2.06-.94-2.06-.94-.94-2.06-.94 2.06-2.06.94z\"/><path d=\"M17.41 7.96l-1.37-1.37c-.4-.4-.92-.59-1.43-.59-.52 0-1.04.2-1.43.59L10.3 9.45l-7.72 7.72c-.78.78-.78 2.05 0 2.83L4 21.41c.39.39.9.59 1.41.59.51 0 1.02-.2 1.41-.59l7.78-7.78 2.81-2.81c.8-.78.8-2.07 0-2.86zM5.41 20L4 18.59l7.72-7.72 1.47 1.35L5.41 20z\"/>\n",
              "  </svg>\n",
              "      </button>\n",
              "      \n",
              "  <style>\n",
              "    .colab-df-container {\n",
              "      display:flex;\n",
              "      flex-wrap:wrap;\n",
              "      gap: 12px;\n",
              "    }\n",
              "\n",
              "    .colab-df-convert {\n",
              "      background-color: #E8F0FE;\n",
              "      border: none;\n",
              "      border-radius: 50%;\n",
              "      cursor: pointer;\n",
              "      display: none;\n",
              "      fill: #1967D2;\n",
              "      height: 32px;\n",
              "      padding: 0 0 0 0;\n",
              "      width: 32px;\n",
              "    }\n",
              "\n",
              "    .colab-df-convert:hover {\n",
              "      background-color: #E2EBFA;\n",
              "      box-shadow: 0px 1px 2px rgba(60, 64, 67, 0.3), 0px 1px 3px 1px rgba(60, 64, 67, 0.15);\n",
              "      fill: #174EA6;\n",
              "    }\n",
              "\n",
              "    [theme=dark] .colab-df-convert {\n",
              "      background-color: #3B4455;\n",
              "      fill: #D2E3FC;\n",
              "    }\n",
              "\n",
              "    [theme=dark] .colab-df-convert:hover {\n",
              "      background-color: #434B5C;\n",
              "      box-shadow: 0px 1px 3px 1px rgba(0, 0, 0, 0.15);\n",
              "      filter: drop-shadow(0px 1px 2px rgba(0, 0, 0, 0.3));\n",
              "      fill: #FFFFFF;\n",
              "    }\n",
              "  </style>\n",
              "\n",
              "      <script>\n",
              "        const buttonEl =\n",
              "          document.querySelector('#df-56e5b6f2-73e7-418d-a01e-bca506eaa7e8 button.colab-df-convert');\n",
              "        buttonEl.style.display =\n",
              "          google.colab.kernel.accessAllowed ? 'block' : 'none';\n",
              "\n",
              "        async function convertToInteractive(key) {\n",
              "          const element = document.querySelector('#df-56e5b6f2-73e7-418d-a01e-bca506eaa7e8');\n",
              "          const dataTable =\n",
              "            await google.colab.kernel.invokeFunction('convertToInteractive',\n",
              "                                                     [key], {});\n",
              "          if (!dataTable) return;\n",
              "\n",
              "          const docLinkHtml = 'Like what you see? Visit the ' +\n",
              "            '<a target=\"_blank\" href=https://colab.research.google.com/notebooks/data_table.ipynb>data table notebook</a>'\n",
              "            + ' to learn more about interactive tables.';\n",
              "          element.innerHTML = '';\n",
              "          dataTable['output_type'] = 'display_data';\n",
              "          await google.colab.output.renderOutput(dataTable, element);\n",
              "          const docLink = document.createElement('div');\n",
              "          docLink.innerHTML = docLinkHtml;\n",
              "          element.appendChild(docLink);\n",
              "        }\n",
              "      </script>\n",
              "    </div>\n",
              "  </div>\n",
              "  "
            ]
          },
          "metadata": {},
          "execution_count": 41
        }
      ]
    },
    {
      "cell_type": "markdown",
      "source": [
        "### &#9758; MetiTarski Augmented"
      ],
      "metadata": {
        "id": "Bkc1BTSnFAsv"
      }
    },
    {
      "cell_type": "code",
      "source": [
        "# augmented metitarski dataset features\n",
        "df_features_2 = df_metitarski_2[FEATURE_COLUMNS].copy().reset_index()"
      ],
      "metadata": {
        "id": "3RpJGE8jFCuq"
      },
      "execution_count": 42,
      "outputs": []
    },
    {
      "cell_type": "code",
      "source": [
        "df_features_2.drop(['index'], axis=1, inplace=True)"
      ],
      "metadata": {
        "id": "alWYrVoCIUzL"
      },
      "execution_count": 43,
      "outputs": []
    },
    {
      "cell_type": "code",
      "source": [
        "X_train_2, X_test_2, y_train_2, y_test_2 = train_test_split(df_features_2, df_metitarski_2.label, test_size=0.1)"
      ],
      "metadata": {
        "id": "rz8o4v8_IX5p"
      },
      "execution_count": 44,
      "outputs": []
    },
    {
      "cell_type": "code",
      "source": [
        "X_train_2.shape, y_train_2.shape, X_test_2.shape, y_test_2.shape"
      ],
      "metadata": {
        "colab": {
          "base_uri": "https://localhost:8080/"
        },
        "id": "6TloatLdIfj1",
        "outputId": "69b1ad42-0c0f-48fb-eab0-f8388d82d528"
      },
      "execution_count": 45,
      "outputs": [
        {
          "output_type": "execute_result",
          "data": {
            "text/plain": [
              "((37232, 11), (37232,), (4137, 11), (4137,))"
            ]
          },
          "metadata": {},
          "execution_count": 45
        }
      ]
    },
    {
      "cell_type": "code",
      "source": [
        "scaler_2 = training_set_scaler(input_df=X_train_2)"
      ],
      "metadata": {
        "id": "2OROPiHPImaE"
      },
      "execution_count": 46,
      "outputs": []
    },
    {
      "cell_type": "code",
      "source": [
        "# rescale data\n",
        "X_train_D2 = scale_data(input_df=X_train_2, scaler=scaler_2)\n",
        "X_train_D2.head()"
      ],
      "metadata": {
        "colab": {
          "base_uri": "https://localhost:8080/",
          "height": 206
        },
        "id": "IZviTSGSIq4t",
        "outputId": "e9d61860-7805-4849-bda1-f3c95f7bfc46"
      },
      "execution_count": 47,
      "outputs": [
        {
          "output_type": "execute_result",
          "data": {
            "text/plain": [
              "       nr_polynomials  max_total_degree  max_x1  max_x2  max_x3  prop_x1  \\\n",
              "31418            0.66             -0.10   -0.48   -0.25   -0.02    -0.57   \n",
              "6433             0.36             -0.26   -0.25    0.22   -0.02     1.08   \n",
              "34132            0.96             -0.58   -0.25   -0.48   -0.49     2.02   \n",
              "6637            -0.53              0.54   -0.48   -0.25    1.61     0.05   \n",
              "10689            0.06             -0.10    0.68   -0.48   -0.49     0.05   \n",
              "\n",
              "       prop_x2  prop_x3  prop_mon_x1  prop_mon_x2  prop_mon_x3  \n",
              "31418     1.29     0.67         0.21         1.14         1.29  \n",
              "6433      0.39     1.08         0.45         1.76         1.11  \n",
              "34132     0.33    -0.23         0.93         0.17        -0.22  \n",
              "6637      0.05    -2.02        -0.82        -0.82        -0.09  \n",
              "10689    -1.50    -0.73         0.16        -0.89        -0.36  "
            ],
            "text/html": [
              "\n",
              "  <div id=\"df-82bac3a9-ce7b-4376-b200-bb305f5750a2\">\n",
              "    <div class=\"colab-df-container\">\n",
              "      <div>\n",
              "<style scoped>\n",
              "    .dataframe tbody tr th:only-of-type {\n",
              "        vertical-align: middle;\n",
              "    }\n",
              "\n",
              "    .dataframe tbody tr th {\n",
              "        vertical-align: top;\n",
              "    }\n",
              "\n",
              "    .dataframe thead th {\n",
              "        text-align: right;\n",
              "    }\n",
              "</style>\n",
              "<table border=\"1\" class=\"dataframe\">\n",
              "  <thead>\n",
              "    <tr style=\"text-align: right;\">\n",
              "      <th></th>\n",
              "      <th>nr_polynomials</th>\n",
              "      <th>max_total_degree</th>\n",
              "      <th>max_x1</th>\n",
              "      <th>max_x2</th>\n",
              "      <th>max_x3</th>\n",
              "      <th>prop_x1</th>\n",
              "      <th>prop_x2</th>\n",
              "      <th>prop_x3</th>\n",
              "      <th>prop_mon_x1</th>\n",
              "      <th>prop_mon_x2</th>\n",
              "      <th>prop_mon_x3</th>\n",
              "    </tr>\n",
              "  </thead>\n",
              "  <tbody>\n",
              "    <tr>\n",
              "      <th>31418</th>\n",
              "      <td>0.66</td>\n",
              "      <td>-0.10</td>\n",
              "      <td>-0.48</td>\n",
              "      <td>-0.25</td>\n",
              "      <td>-0.02</td>\n",
              "      <td>-0.57</td>\n",
              "      <td>1.29</td>\n",
              "      <td>0.67</td>\n",
              "      <td>0.21</td>\n",
              "      <td>1.14</td>\n",
              "      <td>1.29</td>\n",
              "    </tr>\n",
              "    <tr>\n",
              "      <th>6433</th>\n",
              "      <td>0.36</td>\n",
              "      <td>-0.26</td>\n",
              "      <td>-0.25</td>\n",
              "      <td>0.22</td>\n",
              "      <td>-0.02</td>\n",
              "      <td>1.08</td>\n",
              "      <td>0.39</td>\n",
              "      <td>1.08</td>\n",
              "      <td>0.45</td>\n",
              "      <td>1.76</td>\n",
              "      <td>1.11</td>\n",
              "    </tr>\n",
              "    <tr>\n",
              "      <th>34132</th>\n",
              "      <td>0.96</td>\n",
              "      <td>-0.58</td>\n",
              "      <td>-0.25</td>\n",
              "      <td>-0.48</td>\n",
              "      <td>-0.49</td>\n",
              "      <td>2.02</td>\n",
              "      <td>0.33</td>\n",
              "      <td>-0.23</td>\n",
              "      <td>0.93</td>\n",
              "      <td>0.17</td>\n",
              "      <td>-0.22</td>\n",
              "    </tr>\n",
              "    <tr>\n",
              "      <th>6637</th>\n",
              "      <td>-0.53</td>\n",
              "      <td>0.54</td>\n",
              "      <td>-0.48</td>\n",
              "      <td>-0.25</td>\n",
              "      <td>1.61</td>\n",
              "      <td>0.05</td>\n",
              "      <td>0.05</td>\n",
              "      <td>-2.02</td>\n",
              "      <td>-0.82</td>\n",
              "      <td>-0.82</td>\n",
              "      <td>-0.09</td>\n",
              "    </tr>\n",
              "    <tr>\n",
              "      <th>10689</th>\n",
              "      <td>0.06</td>\n",
              "      <td>-0.10</td>\n",
              "      <td>0.68</td>\n",
              "      <td>-0.48</td>\n",
              "      <td>-0.49</td>\n",
              "      <td>0.05</td>\n",
              "      <td>-1.50</td>\n",
              "      <td>-0.73</td>\n",
              "      <td>0.16</td>\n",
              "      <td>-0.89</td>\n",
              "      <td>-0.36</td>\n",
              "    </tr>\n",
              "  </tbody>\n",
              "</table>\n",
              "</div>\n",
              "      <button class=\"colab-df-convert\" onclick=\"convertToInteractive('df-82bac3a9-ce7b-4376-b200-bb305f5750a2')\"\n",
              "              title=\"Convert this dataframe to an interactive table.\"\n",
              "              style=\"display:none;\">\n",
              "        \n",
              "  <svg xmlns=\"http://www.w3.org/2000/svg\" height=\"24px\"viewBox=\"0 0 24 24\"\n",
              "       width=\"24px\">\n",
              "    <path d=\"M0 0h24v24H0V0z\" fill=\"none\"/>\n",
              "    <path d=\"M18.56 5.44l.94 2.06.94-2.06 2.06-.94-2.06-.94-.94-2.06-.94 2.06-2.06.94zm-11 1L8.5 8.5l.94-2.06 2.06-.94-2.06-.94L8.5 2.5l-.94 2.06-2.06.94zm10 10l.94 2.06.94-2.06 2.06-.94-2.06-.94-.94-2.06-.94 2.06-2.06.94z\"/><path d=\"M17.41 7.96l-1.37-1.37c-.4-.4-.92-.59-1.43-.59-.52 0-1.04.2-1.43.59L10.3 9.45l-7.72 7.72c-.78.78-.78 2.05 0 2.83L4 21.41c.39.39.9.59 1.41.59.51 0 1.02-.2 1.41-.59l7.78-7.78 2.81-2.81c.8-.78.8-2.07 0-2.86zM5.41 20L4 18.59l7.72-7.72 1.47 1.35L5.41 20z\"/>\n",
              "  </svg>\n",
              "      </button>\n",
              "      \n",
              "  <style>\n",
              "    .colab-df-container {\n",
              "      display:flex;\n",
              "      flex-wrap:wrap;\n",
              "      gap: 12px;\n",
              "    }\n",
              "\n",
              "    .colab-df-convert {\n",
              "      background-color: #E8F0FE;\n",
              "      border: none;\n",
              "      border-radius: 50%;\n",
              "      cursor: pointer;\n",
              "      display: none;\n",
              "      fill: #1967D2;\n",
              "      height: 32px;\n",
              "      padding: 0 0 0 0;\n",
              "      width: 32px;\n",
              "    }\n",
              "\n",
              "    .colab-df-convert:hover {\n",
              "      background-color: #E2EBFA;\n",
              "      box-shadow: 0px 1px 2px rgba(60, 64, 67, 0.3), 0px 1px 3px 1px rgba(60, 64, 67, 0.15);\n",
              "      fill: #174EA6;\n",
              "    }\n",
              "\n",
              "    [theme=dark] .colab-df-convert {\n",
              "      background-color: #3B4455;\n",
              "      fill: #D2E3FC;\n",
              "    }\n",
              "\n",
              "    [theme=dark] .colab-df-convert:hover {\n",
              "      background-color: #434B5C;\n",
              "      box-shadow: 0px 1px 3px 1px rgba(0, 0, 0, 0.15);\n",
              "      filter: drop-shadow(0px 1px 2px rgba(0, 0, 0, 0.3));\n",
              "      fill: #FFFFFF;\n",
              "    }\n",
              "  </style>\n",
              "\n",
              "      <script>\n",
              "        const buttonEl =\n",
              "          document.querySelector('#df-82bac3a9-ce7b-4376-b200-bb305f5750a2 button.colab-df-convert');\n",
              "        buttonEl.style.display =\n",
              "          google.colab.kernel.accessAllowed ? 'block' : 'none';\n",
              "\n",
              "        async function convertToInteractive(key) {\n",
              "          const element = document.querySelector('#df-82bac3a9-ce7b-4376-b200-bb305f5750a2');\n",
              "          const dataTable =\n",
              "            await google.colab.kernel.invokeFunction('convertToInteractive',\n",
              "                                                     [key], {});\n",
              "          if (!dataTable) return;\n",
              "\n",
              "          const docLinkHtml = 'Like what you see? Visit the ' +\n",
              "            '<a target=\"_blank\" href=https://colab.research.google.com/notebooks/data_table.ipynb>data table notebook</a>'\n",
              "            + ' to learn more about interactive tables.';\n",
              "          element.innerHTML = '';\n",
              "          dataTable['output_type'] = 'display_data';\n",
              "          await google.colab.output.renderOutput(dataTable, element);\n",
              "          const docLink = document.createElement('div');\n",
              "          docLink.innerHTML = docLinkHtml;\n",
              "          element.appendChild(docLink);\n",
              "        }\n",
              "      </script>\n",
              "    </div>\n",
              "  </div>\n",
              "  "
            ]
          },
          "metadata": {},
          "execution_count": 47
        }
      ]
    },
    {
      "cell_type": "code",
      "source": [
        "X_test_D2 = scale_data(input_df=X_test_2, scaler=scaler_2)\n",
        "X_test_D2.head()"
      ],
      "metadata": {
        "colab": {
          "base_uri": "https://localhost:8080/",
          "height": 206
        },
        "id": "nLzU1AFNIwRk",
        "outputId": "8def5c88-41ee-4c7b-b129-4977ff05d296"
      },
      "execution_count": 48,
      "outputs": [
        {
          "output_type": "execute_result",
          "data": {
            "text/plain": [
              "       nr_polynomials  max_total_degree  max_x1  max_x2  max_x3  prop_x1  \\\n",
              "3744            -0.53             -0.74   -0.48   -0.48   -0.25    -0.98   \n",
              "40205           -0.53             -0.10    0.68   -0.48   -0.49     1.08   \n",
              "37608           -0.23             -0.10   -0.48   -0.48    0.68    -0.39   \n",
              "4465             1.26             -0.10    0.68   -0.48   -0.02     1.59   \n",
              "19979           -0.53             -0.90   -0.48   -0.48   -0.49    -0.98   \n",
              "\n",
              "       prop_x2  prop_x3  prop_mon_x1  prop_mon_x2  prop_mon_x3  \n",
              "3744      0.05    -0.98        -0.68        -0.04        -0.68  \n",
              "40205    -0.98    -2.02         0.76        -1.04        -1.49  \n",
              "37608    -1.28     0.49        -0.99        -1.31         0.58  \n",
              "4465     -1.50     1.60         1.56        -1.24         0.63  \n",
              "19979    -0.98     1.08        -0.79        -0.79         0.35  "
            ],
            "text/html": [
              "\n",
              "  <div id=\"df-5644c45e-c9cd-410c-aad6-727897c370f0\">\n",
              "    <div class=\"colab-df-container\">\n",
              "      <div>\n",
              "<style scoped>\n",
              "    .dataframe tbody tr th:only-of-type {\n",
              "        vertical-align: middle;\n",
              "    }\n",
              "\n",
              "    .dataframe tbody tr th {\n",
              "        vertical-align: top;\n",
              "    }\n",
              "\n",
              "    .dataframe thead th {\n",
              "        text-align: right;\n",
              "    }\n",
              "</style>\n",
              "<table border=\"1\" class=\"dataframe\">\n",
              "  <thead>\n",
              "    <tr style=\"text-align: right;\">\n",
              "      <th></th>\n",
              "      <th>nr_polynomials</th>\n",
              "      <th>max_total_degree</th>\n",
              "      <th>max_x1</th>\n",
              "      <th>max_x2</th>\n",
              "      <th>max_x3</th>\n",
              "      <th>prop_x1</th>\n",
              "      <th>prop_x2</th>\n",
              "      <th>prop_x3</th>\n",
              "      <th>prop_mon_x1</th>\n",
              "      <th>prop_mon_x2</th>\n",
              "      <th>prop_mon_x3</th>\n",
              "    </tr>\n",
              "  </thead>\n",
              "  <tbody>\n",
              "    <tr>\n",
              "      <th>3744</th>\n",
              "      <td>-0.53</td>\n",
              "      <td>-0.74</td>\n",
              "      <td>-0.48</td>\n",
              "      <td>-0.48</td>\n",
              "      <td>-0.25</td>\n",
              "      <td>-0.98</td>\n",
              "      <td>0.05</td>\n",
              "      <td>-0.98</td>\n",
              "      <td>-0.68</td>\n",
              "      <td>-0.04</td>\n",
              "      <td>-0.68</td>\n",
              "    </tr>\n",
              "    <tr>\n",
              "      <th>40205</th>\n",
              "      <td>-0.53</td>\n",
              "      <td>-0.10</td>\n",
              "      <td>0.68</td>\n",
              "      <td>-0.48</td>\n",
              "      <td>-0.49</td>\n",
              "      <td>1.08</td>\n",
              "      <td>-0.98</td>\n",
              "      <td>-2.02</td>\n",
              "      <td>0.76</td>\n",
              "      <td>-1.04</td>\n",
              "      <td>-1.49</td>\n",
              "    </tr>\n",
              "    <tr>\n",
              "      <th>37608</th>\n",
              "      <td>-0.23</td>\n",
              "      <td>-0.10</td>\n",
              "      <td>-0.48</td>\n",
              "      <td>-0.48</td>\n",
              "      <td>0.68</td>\n",
              "      <td>-0.39</td>\n",
              "      <td>-1.28</td>\n",
              "      <td>0.49</td>\n",
              "      <td>-0.99</td>\n",
              "      <td>-1.31</td>\n",
              "      <td>0.58</td>\n",
              "    </tr>\n",
              "    <tr>\n",
              "      <th>4465</th>\n",
              "      <td>1.26</td>\n",
              "      <td>-0.10</td>\n",
              "      <td>0.68</td>\n",
              "      <td>-0.48</td>\n",
              "      <td>-0.02</td>\n",
              "      <td>1.59</td>\n",
              "      <td>-1.50</td>\n",
              "      <td>1.60</td>\n",
              "      <td>1.56</td>\n",
              "      <td>-1.24</td>\n",
              "      <td>0.63</td>\n",
              "    </tr>\n",
              "    <tr>\n",
              "      <th>19979</th>\n",
              "      <td>-0.53</td>\n",
              "      <td>-0.90</td>\n",
              "      <td>-0.48</td>\n",
              "      <td>-0.48</td>\n",
              "      <td>-0.49</td>\n",
              "      <td>-0.98</td>\n",
              "      <td>-0.98</td>\n",
              "      <td>1.08</td>\n",
              "      <td>-0.79</td>\n",
              "      <td>-0.79</td>\n",
              "      <td>0.35</td>\n",
              "    </tr>\n",
              "  </tbody>\n",
              "</table>\n",
              "</div>\n",
              "      <button class=\"colab-df-convert\" onclick=\"convertToInteractive('df-5644c45e-c9cd-410c-aad6-727897c370f0')\"\n",
              "              title=\"Convert this dataframe to an interactive table.\"\n",
              "              style=\"display:none;\">\n",
              "        \n",
              "  <svg xmlns=\"http://www.w3.org/2000/svg\" height=\"24px\"viewBox=\"0 0 24 24\"\n",
              "       width=\"24px\">\n",
              "    <path d=\"M0 0h24v24H0V0z\" fill=\"none\"/>\n",
              "    <path d=\"M18.56 5.44l.94 2.06.94-2.06 2.06-.94-2.06-.94-.94-2.06-.94 2.06-2.06.94zm-11 1L8.5 8.5l.94-2.06 2.06-.94-2.06-.94L8.5 2.5l-.94 2.06-2.06.94zm10 10l.94 2.06.94-2.06 2.06-.94-2.06-.94-.94-2.06-.94 2.06-2.06.94z\"/><path d=\"M17.41 7.96l-1.37-1.37c-.4-.4-.92-.59-1.43-.59-.52 0-1.04.2-1.43.59L10.3 9.45l-7.72 7.72c-.78.78-.78 2.05 0 2.83L4 21.41c.39.39.9.59 1.41.59.51 0 1.02-.2 1.41-.59l7.78-7.78 2.81-2.81c.8-.78.8-2.07 0-2.86zM5.41 20L4 18.59l7.72-7.72 1.47 1.35L5.41 20z\"/>\n",
              "  </svg>\n",
              "      </button>\n",
              "      \n",
              "  <style>\n",
              "    .colab-df-container {\n",
              "      display:flex;\n",
              "      flex-wrap:wrap;\n",
              "      gap: 12px;\n",
              "    }\n",
              "\n",
              "    .colab-df-convert {\n",
              "      background-color: #E8F0FE;\n",
              "      border: none;\n",
              "      border-radius: 50%;\n",
              "      cursor: pointer;\n",
              "      display: none;\n",
              "      fill: #1967D2;\n",
              "      height: 32px;\n",
              "      padding: 0 0 0 0;\n",
              "      width: 32px;\n",
              "    }\n",
              "\n",
              "    .colab-df-convert:hover {\n",
              "      background-color: #E2EBFA;\n",
              "      box-shadow: 0px 1px 2px rgba(60, 64, 67, 0.3), 0px 1px 3px 1px rgba(60, 64, 67, 0.15);\n",
              "      fill: #174EA6;\n",
              "    }\n",
              "\n",
              "    [theme=dark] .colab-df-convert {\n",
              "      background-color: #3B4455;\n",
              "      fill: #D2E3FC;\n",
              "    }\n",
              "\n",
              "    [theme=dark] .colab-df-convert:hover {\n",
              "      background-color: #434B5C;\n",
              "      box-shadow: 0px 1px 3px 1px rgba(0, 0, 0, 0.15);\n",
              "      filter: drop-shadow(0px 1px 2px rgba(0, 0, 0, 0.3));\n",
              "      fill: #FFFFFF;\n",
              "    }\n",
              "  </style>\n",
              "\n",
              "      <script>\n",
              "        const buttonEl =\n",
              "          document.querySelector('#df-5644c45e-c9cd-410c-aad6-727897c370f0 button.colab-df-convert');\n",
              "        buttonEl.style.display =\n",
              "          google.colab.kernel.accessAllowed ? 'block' : 'none';\n",
              "\n",
              "        async function convertToInteractive(key) {\n",
              "          const element = document.querySelector('#df-5644c45e-c9cd-410c-aad6-727897c370f0');\n",
              "          const dataTable =\n",
              "            await google.colab.kernel.invokeFunction('convertToInteractive',\n",
              "                                                     [key], {});\n",
              "          if (!dataTable) return;\n",
              "\n",
              "          const docLinkHtml = 'Like what you see? Visit the ' +\n",
              "            '<a target=\"_blank\" href=https://colab.research.google.com/notebooks/data_table.ipynb>data table notebook</a>'\n",
              "            + ' to learn more about interactive tables.';\n",
              "          element.innerHTML = '';\n",
              "          dataTable['output_type'] = 'display_data';\n",
              "          await google.colab.output.renderOutput(dataTable, element);\n",
              "          const docLink = document.createElement('div');\n",
              "          docLink.innerHTML = docLinkHtml;\n",
              "          element.appendChild(docLink);\n",
              "        }\n",
              "      </script>\n",
              "    </div>\n",
              "  </div>\n",
              "  "
            ]
          },
          "metadata": {},
          "execution_count": 48
        }
      ]
    },
    {
      "cell_type": "code",
      "source": [
        "# lazy_clf_2 = LazyClassifier(verbose=0, ignore_warnings=True, custom_metric=None)"
      ],
      "metadata": {
        "id": "yhLd-VxgI3g8"
      },
      "execution_count": 49,
      "outputs": []
    },
    {
      "cell_type": "code",
      "source": [
        "# models_2, predictions_2 = lazy_clf_2.fit(X_train_D2, X_test_D2, y_train_2, y_test_2)"
      ],
      "metadata": {
        "id": "S8zas8G5I803"
      },
      "execution_count": 50,
      "outputs": []
    },
    {
      "cell_type": "code",
      "source": [
        "svm_D2 = svm.SVC(C=316, kernel='rbf', gamma=0.08, tol=0.0316)\n",
        "\n",
        "svm_D2.fit(X_train_D2, y_train_2)"
      ],
      "metadata": {
        "colab": {
          "base_uri": "https://localhost:8080/"
        },
        "id": "b1QZRRPDJFaN",
        "outputId": "7dfbe9c0-9eef-4aa0-df0d-d2662249bcb3"
      },
      "execution_count": 51,
      "outputs": [
        {
          "output_type": "execute_result",
          "data": {
            "text/plain": [
              "SVC(C=316, gamma=0.08, tol=0.0316)"
            ]
          },
          "metadata": {},
          "execution_count": 51
        }
      ]
    },
    {
      "cell_type": "code",
      "source": [
        "svm_score_D2 = svm_D2.score(X_test_D2, y_test_2)\n",
        "svm_score_D2"
      ],
      "metadata": {
        "colab": {
          "base_uri": "https://localhost:8080/"
        },
        "id": "kjUEW0QbO_G4",
        "outputId": "674f4ca5-b5e3-422e-b907-b4109f889334"
      },
      "execution_count": 52,
      "outputs": [
        {
          "output_type": "execute_result",
          "data": {
            "text/plain": [
              "0.5680444766739183"
            ]
          },
          "metadata": {},
          "execution_count": 52
        }
      ]
    }
  ]
}