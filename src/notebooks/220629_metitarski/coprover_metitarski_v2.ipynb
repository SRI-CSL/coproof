{
  "nbformat": 4,
  "nbformat_minor": 0,
  "metadata": {
    "colab": {
      "name": "coprover-metitarski-v2.ipynb",
      "provenance": [],
      "collapsed_sections": [],
      "toc_visible": true,
      "authorship_tag": "ABX9TyPB3FjtRzdoyY0Uar+1KQxx",
      "include_colab_link": true
    },
    "kernelspec": {
      "name": "python3",
      "display_name": "Python 3"
    },
    "language_info": {
      "name": "python"
    }
  },
  "cells": [
    {
      "cell_type": "markdown",
      "metadata": {
        "id": "view-in-github",
        "colab_type": "text"
      },
      "source": [
        "<a href=\"https://colab.research.google.com/github/SRI-CSL/CoProver/blob/main/src/notebooks/220629_metitarski/coprover_metitarski_v2.ipynb\" target=\"_parent\"><img src=\"https://colab.research.google.com/assets/colab-badge.svg\" alt=\"Open In Colab\"/></a>"
      ]
    },
    {
      "cell_type": "markdown",
      "source": [
        "# CoProver \n",
        "\n",
        "## &#10024; `MetiTarski`- problem\n",
        "\n",
        "**Description:** Updated notebook to process v3 and v4 versions of MetiTarski data.\n",
        "\n",
        "**Copyright 2022 SRI International.**"
      ],
      "metadata": {
        "id": "LGn1kkqPSNP6"
      }
    },
    {
      "cell_type": "markdown",
      "source": [
        "## &#9776; Import `needed` libraries"
      ],
      "metadata": {
        "id": "8eFP_-fISjCi"
      }
    },
    {
      "cell_type": "code",
      "execution_count": 1,
      "metadata": {
        "id": "A_SrsHZARt96"
      },
      "outputs": [],
      "source": [
        "import os\n",
        "import sys\n",
        "import warnings\n",
        "\n",
        "import numpy as np\n",
        "import pandas as pd\n",
        "import matplotlib.pyplot as plt\n",
        "\n",
        "from matplotlib import rc\n",
        "from tqdm import tqdm"
      ]
    },
    {
      "cell_type": "code",
      "source": [
        "from sklearn import svm\n",
        "from sklearn.neighbors import KNeighborsClassifier\n",
        "from sklearn.tree import DecisionTreeClassifier\n",
        "from sklearn.ensemble import RandomForestClassifier\n",
        "from sklearn.neural_network import MLPClassifier\n",
        "\n",
        "from sklearn import metrics\n",
        "from sklearn.model_selection import train_test_split\n",
        "from sklearn.preprocessing import StandardScaler, MinMaxScaler"
      ],
      "metadata": {
        "id": "N9uhPqllploq"
      },
      "execution_count": 2,
      "outputs": []
    },
    {
      "cell_type": "code",
      "source": [
        "try:\n",
        "    from google.colab import data_table\n",
        "    data_table.disable_dataframe_formatter()\n",
        "    \n",
        "    from google.colab import output\n",
        "    output.enable_custom_widget_manager()\n",
        "except Exception:\n",
        "    print(\"Launched notebook locally\")"
      ],
      "metadata": {
        "id": "Cpud45PmSn-x"
      },
      "execution_count": 3,
      "outputs": []
    },
    {
      "cell_type": "code",
      "source": [
        "from typing import List, Any, Dict"
      ],
      "metadata": {
        "id": "Y6KXOR37WSVP"
      },
      "execution_count": 4,
      "outputs": []
    },
    {
      "cell_type": "code",
      "source": [
        "# install gdown library for .csv files download\n",
        "try:\n",
        "    import gdown\n",
        "except ImportError:\n",
        "    !pip install gdown"
      ],
      "metadata": {
        "id": "bqBfbG4XWVcH"
      },
      "execution_count": 5,
      "outputs": []
    },
    {
      "cell_type": "markdown",
      "source": [
        "## &#9997; Set `needed` configuration"
      ],
      "metadata": {
        "id": "cO6YhKy5We-z"
      }
    },
    {
      "cell_type": "code",
      "source": [
        "warnings.filterwarnings('ignore')"
      ],
      "metadata": {
        "id": "EZLqh4CdWYZQ"
      },
      "execution_count": 6,
      "outputs": []
    },
    {
      "cell_type": "code",
      "source": [
        "# origins of the .csv data files used\n",
        "# True: originating within the signal-public GitHub repository\n",
        "# False: need to be downloaded from a provided URL, especially useful if running on Colab\n",
        "IS_LOCAL_FILE = False"
      ],
      "metadata": {
        "id": "CEbN6ePzWigg"
      },
      "execution_count": 7,
      "outputs": []
    },
    {
      "cell_type": "code",
      "source": [
        "# dictionary of files for this notebook to work\n",
        "# the dictionary is composed of (filename, Google ID) key-value pairs\n",
        "\n",
        "# v3: https://drive.google.com/file/d/1uC0WDg7fyZxwpc9UIgJznDAgT5WPqtA9/view?usp=sharing\n",
        "# v4: https://drive.google.com/file/d/1uIoGOoHPsugXszScyU4HS9RKznX6tFeO/view?usp=sharing\n",
        "DATASET_DICT = {\n",
        "    'metitarski_dataset_v3.csv': '1uC0WDg7fyZxwpc9UIgJznDAgT5WPqtA9',\n",
        "    'metitarski_dataset_v4.csv': '1uIoGOoHPsugXszScyU4HS9RKznX6tFeO'\n",
        "    }"
      ],
      "metadata": {
        "id": "H_3evvH1Wk64"
      },
      "execution_count": 8,
      "outputs": []
    },
    {
      "cell_type": "markdown",
      "source": [
        "## &#9881; Define `needed` functions"
      ],
      "metadata": {
        "id": "JS_H95CNWv2g"
      }
    },
    {
      "cell_type": "code",
      "source": [
        "def path_exists(input_path: str) -> bool:\n",
        "    return os.path.exists(input_path)"
      ],
      "metadata": {
        "id": "9pmj0z4TWqpI"
      },
      "execution_count": 9,
      "outputs": []
    },
    {
      "cell_type": "code",
      "source": [
        "def check_file_status(input_path: str):\n",
        "    if path_exists(input_path=input_path):\n",
        "        print(f\"- File {input_path.split('/')[-1]} exists locally at {input_path}!\")\n",
        "    else:\n",
        "        if IS_LOCAL_FILE:\n",
        "            print(\"- Something went wrong with the download. Please try again!\")\n",
        "        else:\n",
        "            print(f\"- IS_LOCAL_FILE is set to {IS_LOCAL_FILE}. The file is accessed via a public GitHub link!\")"
      ],
      "metadata": {
        "id": "BchjZsQaW2Dh"
      },
      "execution_count": 10,
      "outputs": []
    },
    {
      "cell_type": "code",
      "source": [
        "def download_dataset_from_google_drive(google_file_id: str, output_file_name: str, quiet_download: bool) -> str:\n",
        "    file_path = f'./{output_file_name}'\n",
        "\n",
        "    if not os.path.exists(file_path):\n",
        "        gdown.download(id=google_file_id, output=output_file_name, quiet=quiet_download)\n",
        "    else:\n",
        "        print(f\"{output_file_name} already exists!\")\n",
        "        \n",
        "    return file_path"
      ],
      "metadata": {
        "id": "53SObIjeW4_-"
      },
      "execution_count": 11,
      "outputs": []
    },
    {
      "cell_type": "code",
      "source": [
        "def get_dataset(dataset_name: str, is_local_file: bool) -> str:\n",
        "    file_path = f'./{dataset_name}'\n",
        "\n",
        "    if is_local_file:\n",
        "        file_path = f'https://raw.githubusercontent.com/SRI-CSL/CoProver/main/data/{dataset_name}'\n",
        "    else:\n",
        "        if dataset_name in DATASET_DICT:\n",
        "            file_path = download_dataset_from_google_drive(google_file_id=DATASET_DICT[dataset_name], output_file_name=dataset_name, quiet_download=False)\n",
        "        else:\n",
        "            print(f\"{dataset_name} is not present in dataset dictionary! Please ensure the file name is correct!\")\n",
        "            return\n",
        "\n",
        "    return file_path"
      ],
      "metadata": {
        "id": "HZnRk5RdW8QW"
      },
      "execution_count": 12,
      "outputs": []
    },
    {
      "cell_type": "markdown",
      "source": [
        "## &#9749; Download datasets"
      ],
      "metadata": {
        "id": "uOq2Ad_EYiGW"
      }
    },
    {
      "cell_type": "code",
      "source": [
        "# metitarski_dataset_v1.csv\n",
        "path_metitarski_original = get_dataset(dataset_name='metitarski_dataset_v3.csv', is_local_file=IS_LOCAL_FILE)"
      ],
      "metadata": {
        "colab": {
          "base_uri": "https://localhost:8080/"
        },
        "id": "sRyYXkOj11mq",
        "outputId": "a07aeef1-8f02-44c0-ff52-9ccaccfdbbb4"
      },
      "execution_count": 13,
      "outputs": [
        {
          "output_type": "stream",
          "name": "stdout",
          "text": [
            "metitarski_dataset_v3.csv already exists!\n"
          ]
        }
      ]
    },
    {
      "cell_type": "code",
      "source": [
        "check_file_status(input_path=path_metitarski_original)"
      ],
      "metadata": {
        "colab": {
          "base_uri": "https://localhost:8080/"
        },
        "id": "EZxHCLm711uh",
        "outputId": "ca689dce-4c17-4a07-f7b9-cd5fe16cf507"
      },
      "execution_count": 14,
      "outputs": [
        {
          "output_type": "stream",
          "name": "stdout",
          "text": [
            "- File metitarski_dataset_v3.csv exists locally at ./metitarski_dataset_v3.csv!\n"
          ]
        }
      ]
    },
    {
      "cell_type": "code",
      "source": [
        "# metitarski_dataset_v4.csv\n",
        "path_metitarski = get_dataset(dataset_name='metitarski_dataset_v4.csv', is_local_file=IS_LOCAL_FILE)"
      ],
      "metadata": {
        "id": "w2LwKmjHXJsi",
        "colab": {
          "base_uri": "https://localhost:8080/"
        },
        "outputId": "57feeb4f-5c55-4243-8eae-360a81bb7bde"
      },
      "execution_count": 15,
      "outputs": [
        {
          "output_type": "stream",
          "name": "stdout",
          "text": [
            "metitarski_dataset_v4.csv already exists!\n"
          ]
        }
      ]
    },
    {
      "cell_type": "code",
      "source": [
        "check_file_status(input_path=path_metitarski)"
      ],
      "metadata": {
        "colab": {
          "base_uri": "https://localhost:8080/"
        },
        "id": "6F3SojMyeW5M",
        "outputId": "a02bcd4e-9bef-4ea0-959d-ff88f7c37c0a"
      },
      "execution_count": 16,
      "outputs": [
        {
          "output_type": "stream",
          "name": "stdout",
          "text": [
            "- File metitarski_dataset_v4.csv exists locally at ./metitarski_dataset_v4.csv!\n"
          ]
        }
      ]
    },
    {
      "cell_type": "markdown",
      "source": [
        "## &#128722; Load data"
      ],
      "metadata": {
        "id": "hqoJppuQYjs0"
      }
    },
    {
      "cell_type": "code",
      "source": [
        "df_metitarski = pd.read_csv(path_metitarski, sep='\\t')"
      ],
      "metadata": {
        "id": "E2792JhxYnl_"
      },
      "execution_count": 17,
      "outputs": []
    },
    {
      "cell_type": "code",
      "source": [
        "df_metitarski.info()"
      ],
      "metadata": {
        "colab": {
          "base_uri": "https://localhost:8080/"
        },
        "id": "XTGsjMIIecPn",
        "outputId": "1b66a764-260b-441b-e5d1-e3d650111584"
      },
      "execution_count": 18,
      "outputs": [
        {
          "output_type": "stream",
          "name": "stdout",
          "text": [
            "<class 'pandas.core.frame.DataFrame'>\n",
            "RangeIndex: 41369 entries, 0 to 41368\n",
            "Data columns (total 16 columns):\n",
            " #   Column            Non-Null Count  Dtype  \n",
            "---  ------            --------------  -----  \n",
            " 0   Unnamed: 0        41369 non-null  int64  \n",
            " 1   file_id           41369 non-null  int64  \n",
            " 2   input_file        41369 non-null  object \n",
            " 3   label_file        41369 non-null  object \n",
            " 4   nr_polynomials    41369 non-null  int64  \n",
            " 5   max_total_degree  41369 non-null  int64  \n",
            " 6   max_x1            41369 non-null  int64  \n",
            " 7   max_x2            41369 non-null  int64  \n",
            " 8   max_x3            41369 non-null  int64  \n",
            " 9   prop_x1           41369 non-null  float64\n",
            " 10  prop_x2           41369 non-null  float64\n",
            " 11  prop_x3           41369 non-null  float64\n",
            " 12  prop_mon_x1       41369 non-null  float64\n",
            " 13  prop_mon_x2       41369 non-null  float64\n",
            " 14  prop_mon_x3       41369 non-null  float64\n",
            " 15  label             41369 non-null  int64  \n",
            "dtypes: float64(6), int64(8), object(2)\n",
            "memory usage: 5.1+ MB\n"
          ]
        }
      ]
    },
    {
      "cell_type": "code",
      "source": [
        "df_metitarski.head()"
      ],
      "metadata": {
        "colab": {
          "base_uri": "https://localhost:8080/",
          "height": 206
        },
        "id": "pMepsqmNecTL",
        "outputId": "db2c7bc3-98de-433d-e84b-a0798002db03"
      },
      "execution_count": 19,
      "outputs": [
        {
          "output_type": "execute_result",
          "data": {
            "text/plain": [
              "   Unnamed: 0  file_id             input_file                label_file  \\\n",
              "0           0      415   poly415-perm0.txt.ml   comp_times415-perm0.txt   \n",
              "1           1     2230  poly2230-perm2.txt.ml  comp_times2230-perm2.txt   \n",
              "2           2     6506  poly6506-perm3.txt.ml  comp_times6506-perm3.txt   \n",
              "3           3     3998  poly3998-perm5.txt.ml  comp_times3998-perm5.txt   \n",
              "4           4     3730  poly3730-perm2.txt.ml  comp_times3730-perm2.txt   \n",
              "\n",
              "   nr_polynomials  max_total_degree  max_x1  max_x2  max_x3   prop_x1  \\\n",
              "0              10                 2       2       2       1  0.500000   \n",
              "1               6                 4       1       2       2  0.333333   \n",
              "2               6                16      16       1       1  0.500000   \n",
              "3               9                 3       3       3       3  0.555556   \n",
              "4              14                 9       1       9       3  0.214286   \n",
              "\n",
              "    prop_x2   prop_x3  prop_mon_x1  prop_mon_x2  prop_mon_x3  label  \n",
              "0  0.500000  0.500000     0.250000     0.250000     0.250000      4  \n",
              "1  0.666667  0.500000     0.333333     0.476190     0.428571      0  \n",
              "2  0.333333  0.500000     0.500000     0.100000     0.150000      5  \n",
              "3  0.555556  0.555556     0.350000     0.350000     0.350000      1  \n",
              "4  0.785714  0.142857     0.166667     0.611111     0.111111      3  "
            ],
            "text/html": [
              "\n",
              "  <div id=\"df-ec031a0f-b943-40c5-96fd-479e99c730b2\">\n",
              "    <div class=\"colab-df-container\">\n",
              "      <div>\n",
              "<style scoped>\n",
              "    .dataframe tbody tr th:only-of-type {\n",
              "        vertical-align: middle;\n",
              "    }\n",
              "\n",
              "    .dataframe tbody tr th {\n",
              "        vertical-align: top;\n",
              "    }\n",
              "\n",
              "    .dataframe thead th {\n",
              "        text-align: right;\n",
              "    }\n",
              "</style>\n",
              "<table border=\"1\" class=\"dataframe\">\n",
              "  <thead>\n",
              "    <tr style=\"text-align: right;\">\n",
              "      <th></th>\n",
              "      <th>Unnamed: 0</th>\n",
              "      <th>file_id</th>\n",
              "      <th>input_file</th>\n",
              "      <th>label_file</th>\n",
              "      <th>nr_polynomials</th>\n",
              "      <th>max_total_degree</th>\n",
              "      <th>max_x1</th>\n",
              "      <th>max_x2</th>\n",
              "      <th>max_x3</th>\n",
              "      <th>prop_x1</th>\n",
              "      <th>prop_x2</th>\n",
              "      <th>prop_x3</th>\n",
              "      <th>prop_mon_x1</th>\n",
              "      <th>prop_mon_x2</th>\n",
              "      <th>prop_mon_x3</th>\n",
              "      <th>label</th>\n",
              "    </tr>\n",
              "  </thead>\n",
              "  <tbody>\n",
              "    <tr>\n",
              "      <th>0</th>\n",
              "      <td>0</td>\n",
              "      <td>415</td>\n",
              "      <td>poly415-perm0.txt.ml</td>\n",
              "      <td>comp_times415-perm0.txt</td>\n",
              "      <td>10</td>\n",
              "      <td>2</td>\n",
              "      <td>2</td>\n",
              "      <td>2</td>\n",
              "      <td>1</td>\n",
              "      <td>0.500000</td>\n",
              "      <td>0.500000</td>\n",
              "      <td>0.500000</td>\n",
              "      <td>0.250000</td>\n",
              "      <td>0.250000</td>\n",
              "      <td>0.250000</td>\n",
              "      <td>4</td>\n",
              "    </tr>\n",
              "    <tr>\n",
              "      <th>1</th>\n",
              "      <td>1</td>\n",
              "      <td>2230</td>\n",
              "      <td>poly2230-perm2.txt.ml</td>\n",
              "      <td>comp_times2230-perm2.txt</td>\n",
              "      <td>6</td>\n",
              "      <td>4</td>\n",
              "      <td>1</td>\n",
              "      <td>2</td>\n",
              "      <td>2</td>\n",
              "      <td>0.333333</td>\n",
              "      <td>0.666667</td>\n",
              "      <td>0.500000</td>\n",
              "      <td>0.333333</td>\n",
              "      <td>0.476190</td>\n",
              "      <td>0.428571</td>\n",
              "      <td>0</td>\n",
              "    </tr>\n",
              "    <tr>\n",
              "      <th>2</th>\n",
              "      <td>2</td>\n",
              "      <td>6506</td>\n",
              "      <td>poly6506-perm3.txt.ml</td>\n",
              "      <td>comp_times6506-perm3.txt</td>\n",
              "      <td>6</td>\n",
              "      <td>16</td>\n",
              "      <td>16</td>\n",
              "      <td>1</td>\n",
              "      <td>1</td>\n",
              "      <td>0.500000</td>\n",
              "      <td>0.333333</td>\n",
              "      <td>0.500000</td>\n",
              "      <td>0.500000</td>\n",
              "      <td>0.100000</td>\n",
              "      <td>0.150000</td>\n",
              "      <td>5</td>\n",
              "    </tr>\n",
              "    <tr>\n",
              "      <th>3</th>\n",
              "      <td>3</td>\n",
              "      <td>3998</td>\n",
              "      <td>poly3998-perm5.txt.ml</td>\n",
              "      <td>comp_times3998-perm5.txt</td>\n",
              "      <td>9</td>\n",
              "      <td>3</td>\n",
              "      <td>3</td>\n",
              "      <td>3</td>\n",
              "      <td>3</td>\n",
              "      <td>0.555556</td>\n",
              "      <td>0.555556</td>\n",
              "      <td>0.555556</td>\n",
              "      <td>0.350000</td>\n",
              "      <td>0.350000</td>\n",
              "      <td>0.350000</td>\n",
              "      <td>1</td>\n",
              "    </tr>\n",
              "    <tr>\n",
              "      <th>4</th>\n",
              "      <td>4</td>\n",
              "      <td>3730</td>\n",
              "      <td>poly3730-perm2.txt.ml</td>\n",
              "      <td>comp_times3730-perm2.txt</td>\n",
              "      <td>14</td>\n",
              "      <td>9</td>\n",
              "      <td>1</td>\n",
              "      <td>9</td>\n",
              "      <td>3</td>\n",
              "      <td>0.214286</td>\n",
              "      <td>0.785714</td>\n",
              "      <td>0.142857</td>\n",
              "      <td>0.166667</td>\n",
              "      <td>0.611111</td>\n",
              "      <td>0.111111</td>\n",
              "      <td>3</td>\n",
              "    </tr>\n",
              "  </tbody>\n",
              "</table>\n",
              "</div>\n",
              "      <button class=\"colab-df-convert\" onclick=\"convertToInteractive('df-ec031a0f-b943-40c5-96fd-479e99c730b2')\"\n",
              "              title=\"Convert this dataframe to an interactive table.\"\n",
              "              style=\"display:none;\">\n",
              "        \n",
              "  <svg xmlns=\"http://www.w3.org/2000/svg\" height=\"24px\"viewBox=\"0 0 24 24\"\n",
              "       width=\"24px\">\n",
              "    <path d=\"M0 0h24v24H0V0z\" fill=\"none\"/>\n",
              "    <path d=\"M18.56 5.44l.94 2.06.94-2.06 2.06-.94-2.06-.94-.94-2.06-.94 2.06-2.06.94zm-11 1L8.5 8.5l.94-2.06 2.06-.94-2.06-.94L8.5 2.5l-.94 2.06-2.06.94zm10 10l.94 2.06.94-2.06 2.06-.94-2.06-.94-.94-2.06-.94 2.06-2.06.94z\"/><path d=\"M17.41 7.96l-1.37-1.37c-.4-.4-.92-.59-1.43-.59-.52 0-1.04.2-1.43.59L10.3 9.45l-7.72 7.72c-.78.78-.78 2.05 0 2.83L4 21.41c.39.39.9.59 1.41.59.51 0 1.02-.2 1.41-.59l7.78-7.78 2.81-2.81c.8-.78.8-2.07 0-2.86zM5.41 20L4 18.59l7.72-7.72 1.47 1.35L5.41 20z\"/>\n",
              "  </svg>\n",
              "      </button>\n",
              "      \n",
              "  <style>\n",
              "    .colab-df-container {\n",
              "      display:flex;\n",
              "      flex-wrap:wrap;\n",
              "      gap: 12px;\n",
              "    }\n",
              "\n",
              "    .colab-df-convert {\n",
              "      background-color: #E8F0FE;\n",
              "      border: none;\n",
              "      border-radius: 50%;\n",
              "      cursor: pointer;\n",
              "      display: none;\n",
              "      fill: #1967D2;\n",
              "      height: 32px;\n",
              "      padding: 0 0 0 0;\n",
              "      width: 32px;\n",
              "    }\n",
              "\n",
              "    .colab-df-convert:hover {\n",
              "      background-color: #E2EBFA;\n",
              "      box-shadow: 0px 1px 2px rgba(60, 64, 67, 0.3), 0px 1px 3px 1px rgba(60, 64, 67, 0.15);\n",
              "      fill: #174EA6;\n",
              "    }\n",
              "\n",
              "    [theme=dark] .colab-df-convert {\n",
              "      background-color: #3B4455;\n",
              "      fill: #D2E3FC;\n",
              "    }\n",
              "\n",
              "    [theme=dark] .colab-df-convert:hover {\n",
              "      background-color: #434B5C;\n",
              "      box-shadow: 0px 1px 3px 1px rgba(0, 0, 0, 0.15);\n",
              "      filter: drop-shadow(0px 1px 2px rgba(0, 0, 0, 0.3));\n",
              "      fill: #FFFFFF;\n",
              "    }\n",
              "  </style>\n",
              "\n",
              "      <script>\n",
              "        const buttonEl =\n",
              "          document.querySelector('#df-ec031a0f-b943-40c5-96fd-479e99c730b2 button.colab-df-convert');\n",
              "        buttonEl.style.display =\n",
              "          google.colab.kernel.accessAllowed ? 'block' : 'none';\n",
              "\n",
              "        async function convertToInteractive(key) {\n",
              "          const element = document.querySelector('#df-ec031a0f-b943-40c5-96fd-479e99c730b2');\n",
              "          const dataTable =\n",
              "            await google.colab.kernel.invokeFunction('convertToInteractive',\n",
              "                                                     [key], {});\n",
              "          if (!dataTable) return;\n",
              "\n",
              "          const docLinkHtml = 'Like what you see? Visit the ' +\n",
              "            '<a target=\"_blank\" href=https://colab.research.google.com/notebooks/data_table.ipynb>data table notebook</a>'\n",
              "            + ' to learn more about interactive tables.';\n",
              "          element.innerHTML = '';\n",
              "          dataTable['output_type'] = 'display_data';\n",
              "          await google.colab.output.renderOutput(dataTable, element);\n",
              "          const docLink = document.createElement('div');\n",
              "          docLink.innerHTML = docLinkHtml;\n",
              "          element.appendChild(docLink);\n",
              "        }\n",
              "      </script>\n",
              "    </div>\n",
              "  </div>\n",
              "  "
            ]
          },
          "metadata": {},
          "execution_count": 19
        }
      ]
    },
    {
      "cell_type": "code",
      "source": [
        "df_metitarski.label.unique()"
      ],
      "metadata": {
        "colab": {
          "base_uri": "https://localhost:8080/"
        },
        "id": "hokmQgrynMya",
        "outputId": "f3527f08-7db8-47f7-ab50-421d8579ad86"
      },
      "execution_count": 20,
      "outputs": [
        {
          "output_type": "execute_result",
          "data": {
            "text/plain": [
              "array([4, 0, 5, 1, 3, 2])"
            ]
          },
          "metadata": {},
          "execution_count": 20
        }
      ]
    },
    {
      "cell_type": "code",
      "source": [
        "df_metitarski_original = pd.read_csv(path_metitarski_original, sep='\\t')"
      ],
      "metadata": {
        "id": "yUwCZ-yu2C9u"
      },
      "execution_count": 21,
      "outputs": []
    },
    {
      "cell_type": "code",
      "source": [
        "df_metitarski_original.info()"
      ],
      "metadata": {
        "colab": {
          "base_uri": "https://localhost:8080/"
        },
        "id": "XIja9j4X2Icn",
        "outputId": "c9ae2c73-24c0-4bd0-a716-8486baafec3c"
      },
      "execution_count": 22,
      "outputs": [
        {
          "output_type": "stream",
          "name": "stdout",
          "text": [
            "<class 'pandas.core.frame.DataFrame'>\n",
            "RangeIndex: 6895 entries, 0 to 6894\n",
            "Data columns (total 16 columns):\n",
            " #   Column            Non-Null Count  Dtype  \n",
            "---  ------            --------------  -----  \n",
            " 0   Unnamed: 0        6895 non-null   int64  \n",
            " 1   file_id           6895 non-null   int64  \n",
            " 2   input_file        6895 non-null   object \n",
            " 3   label_file        6895 non-null   object \n",
            " 4   nr_polynomials    6895 non-null   int64  \n",
            " 5   max_total_degree  6895 non-null   int64  \n",
            " 6   max_x1            6895 non-null   int64  \n",
            " 7   max_x2            6895 non-null   int64  \n",
            " 8   max_x3            6895 non-null   int64  \n",
            " 9   prop_x1           6895 non-null   float64\n",
            " 10  prop_x2           6895 non-null   float64\n",
            " 11  prop_x3           6895 non-null   float64\n",
            " 12  prop_mon_x1       6895 non-null   float64\n",
            " 13  prop_mon_x2       6895 non-null   float64\n",
            " 14  prop_mon_x3       6895 non-null   float64\n",
            " 15  label             6895 non-null   int64  \n",
            "dtypes: float64(6), int64(8), object(2)\n",
            "memory usage: 862.0+ KB\n"
          ]
        }
      ]
    },
    {
      "cell_type": "code",
      "source": [
        "df_metitarski_original.head()"
      ],
      "metadata": {
        "colab": {
          "base_uri": "https://localhost:8080/",
          "height": 206
        },
        "id": "IQdXyDGy2MdE",
        "outputId": "5de4c0b5-8b7e-4de5-8c09-3bc0827394c8"
      },
      "execution_count": 23,
      "outputs": [
        {
          "output_type": "execute_result",
          "data": {
            "text/plain": [
              "   Unnamed: 0  file_id       input_file          label_file  nr_polynomials  \\\n",
              "0           0     3940  poly3940.txt.ml  comp_times3940.txt               4   \n",
              "1           1     5554  poly5554.txt.ml  comp_times5554.txt              12   \n",
              "2           2     4063  poly4063.txt.ml  comp_times4063.txt               9   \n",
              "3           3     4732  poly4732.txt.ml  comp_times4732.txt               7   \n",
              "4           4     5205  poly5205.txt.ml  comp_times5205.txt               6   \n",
              "\n",
              "   max_total_degree  max_x1  max_x2  max_x3   prop_x1   prop_x2   prop_x3  \\\n",
              "0                 1       1       1       1  0.500000  0.500000  0.250000   \n",
              "1                10      10       9       1  0.666667  0.666667  0.250000   \n",
              "2                 1       1       1       1  0.444444  0.444444  0.555556   \n",
              "3                 8       4       2       1  0.428571  0.285714  0.428571   \n",
              "4                18      12       6       1  0.500000  0.333333  0.500000   \n",
              "\n",
              "   prop_mon_x1  prop_mon_x2  prop_mon_x3  label  \n",
              "0     0.400000     0.400000     0.200000      0  \n",
              "1     0.380952     0.523810     0.071429      4  \n",
              "2     0.181818     0.181818     0.227273      5  \n",
              "3     0.285714     0.142857     0.214286      2  \n",
              "4     0.550000     0.550000     0.150000      5  "
            ],
            "text/html": [
              "\n",
              "  <div id=\"df-d1321cb2-e161-4f5a-8b92-bce3f485b330\">\n",
              "    <div class=\"colab-df-container\">\n",
              "      <div>\n",
              "<style scoped>\n",
              "    .dataframe tbody tr th:only-of-type {\n",
              "        vertical-align: middle;\n",
              "    }\n",
              "\n",
              "    .dataframe tbody tr th {\n",
              "        vertical-align: top;\n",
              "    }\n",
              "\n",
              "    .dataframe thead th {\n",
              "        text-align: right;\n",
              "    }\n",
              "</style>\n",
              "<table border=\"1\" class=\"dataframe\">\n",
              "  <thead>\n",
              "    <tr style=\"text-align: right;\">\n",
              "      <th></th>\n",
              "      <th>Unnamed: 0</th>\n",
              "      <th>file_id</th>\n",
              "      <th>input_file</th>\n",
              "      <th>label_file</th>\n",
              "      <th>nr_polynomials</th>\n",
              "      <th>max_total_degree</th>\n",
              "      <th>max_x1</th>\n",
              "      <th>max_x2</th>\n",
              "      <th>max_x3</th>\n",
              "      <th>prop_x1</th>\n",
              "      <th>prop_x2</th>\n",
              "      <th>prop_x3</th>\n",
              "      <th>prop_mon_x1</th>\n",
              "      <th>prop_mon_x2</th>\n",
              "      <th>prop_mon_x3</th>\n",
              "      <th>label</th>\n",
              "    </tr>\n",
              "  </thead>\n",
              "  <tbody>\n",
              "    <tr>\n",
              "      <th>0</th>\n",
              "      <td>0</td>\n",
              "      <td>3940</td>\n",
              "      <td>poly3940.txt.ml</td>\n",
              "      <td>comp_times3940.txt</td>\n",
              "      <td>4</td>\n",
              "      <td>1</td>\n",
              "      <td>1</td>\n",
              "      <td>1</td>\n",
              "      <td>1</td>\n",
              "      <td>0.500000</td>\n",
              "      <td>0.500000</td>\n",
              "      <td>0.250000</td>\n",
              "      <td>0.400000</td>\n",
              "      <td>0.400000</td>\n",
              "      <td>0.200000</td>\n",
              "      <td>0</td>\n",
              "    </tr>\n",
              "    <tr>\n",
              "      <th>1</th>\n",
              "      <td>1</td>\n",
              "      <td>5554</td>\n",
              "      <td>poly5554.txt.ml</td>\n",
              "      <td>comp_times5554.txt</td>\n",
              "      <td>12</td>\n",
              "      <td>10</td>\n",
              "      <td>10</td>\n",
              "      <td>9</td>\n",
              "      <td>1</td>\n",
              "      <td>0.666667</td>\n",
              "      <td>0.666667</td>\n",
              "      <td>0.250000</td>\n",
              "      <td>0.380952</td>\n",
              "      <td>0.523810</td>\n",
              "      <td>0.071429</td>\n",
              "      <td>4</td>\n",
              "    </tr>\n",
              "    <tr>\n",
              "      <th>2</th>\n",
              "      <td>2</td>\n",
              "      <td>4063</td>\n",
              "      <td>poly4063.txt.ml</td>\n",
              "      <td>comp_times4063.txt</td>\n",
              "      <td>9</td>\n",
              "      <td>1</td>\n",
              "      <td>1</td>\n",
              "      <td>1</td>\n",
              "      <td>1</td>\n",
              "      <td>0.444444</td>\n",
              "      <td>0.444444</td>\n",
              "      <td>0.555556</td>\n",
              "      <td>0.181818</td>\n",
              "      <td>0.181818</td>\n",
              "      <td>0.227273</td>\n",
              "      <td>5</td>\n",
              "    </tr>\n",
              "    <tr>\n",
              "      <th>3</th>\n",
              "      <td>3</td>\n",
              "      <td>4732</td>\n",
              "      <td>poly4732.txt.ml</td>\n",
              "      <td>comp_times4732.txt</td>\n",
              "      <td>7</td>\n",
              "      <td>8</td>\n",
              "      <td>4</td>\n",
              "      <td>2</td>\n",
              "      <td>1</td>\n",
              "      <td>0.428571</td>\n",
              "      <td>0.285714</td>\n",
              "      <td>0.428571</td>\n",
              "      <td>0.285714</td>\n",
              "      <td>0.142857</td>\n",
              "      <td>0.214286</td>\n",
              "      <td>2</td>\n",
              "    </tr>\n",
              "    <tr>\n",
              "      <th>4</th>\n",
              "      <td>4</td>\n",
              "      <td>5205</td>\n",
              "      <td>poly5205.txt.ml</td>\n",
              "      <td>comp_times5205.txt</td>\n",
              "      <td>6</td>\n",
              "      <td>18</td>\n",
              "      <td>12</td>\n",
              "      <td>6</td>\n",
              "      <td>1</td>\n",
              "      <td>0.500000</td>\n",
              "      <td>0.333333</td>\n",
              "      <td>0.500000</td>\n",
              "      <td>0.550000</td>\n",
              "      <td>0.550000</td>\n",
              "      <td>0.150000</td>\n",
              "      <td>5</td>\n",
              "    </tr>\n",
              "  </tbody>\n",
              "</table>\n",
              "</div>\n",
              "      <button class=\"colab-df-convert\" onclick=\"convertToInteractive('df-d1321cb2-e161-4f5a-8b92-bce3f485b330')\"\n",
              "              title=\"Convert this dataframe to an interactive table.\"\n",
              "              style=\"display:none;\">\n",
              "        \n",
              "  <svg xmlns=\"http://www.w3.org/2000/svg\" height=\"24px\"viewBox=\"0 0 24 24\"\n",
              "       width=\"24px\">\n",
              "    <path d=\"M0 0h24v24H0V0z\" fill=\"none\"/>\n",
              "    <path d=\"M18.56 5.44l.94 2.06.94-2.06 2.06-.94-2.06-.94-.94-2.06-.94 2.06-2.06.94zm-11 1L8.5 8.5l.94-2.06 2.06-.94-2.06-.94L8.5 2.5l-.94 2.06-2.06.94zm10 10l.94 2.06.94-2.06 2.06-.94-2.06-.94-.94-2.06-.94 2.06-2.06.94z\"/><path d=\"M17.41 7.96l-1.37-1.37c-.4-.4-.92-.59-1.43-.59-.52 0-1.04.2-1.43.59L10.3 9.45l-7.72 7.72c-.78.78-.78 2.05 0 2.83L4 21.41c.39.39.9.59 1.41.59.51 0 1.02-.2 1.41-.59l7.78-7.78 2.81-2.81c.8-.78.8-2.07 0-2.86zM5.41 20L4 18.59l7.72-7.72 1.47 1.35L5.41 20z\"/>\n",
              "  </svg>\n",
              "      </button>\n",
              "      \n",
              "  <style>\n",
              "    .colab-df-container {\n",
              "      display:flex;\n",
              "      flex-wrap:wrap;\n",
              "      gap: 12px;\n",
              "    }\n",
              "\n",
              "    .colab-df-convert {\n",
              "      background-color: #E8F0FE;\n",
              "      border: none;\n",
              "      border-radius: 50%;\n",
              "      cursor: pointer;\n",
              "      display: none;\n",
              "      fill: #1967D2;\n",
              "      height: 32px;\n",
              "      padding: 0 0 0 0;\n",
              "      width: 32px;\n",
              "    }\n",
              "\n",
              "    .colab-df-convert:hover {\n",
              "      background-color: #E2EBFA;\n",
              "      box-shadow: 0px 1px 2px rgba(60, 64, 67, 0.3), 0px 1px 3px 1px rgba(60, 64, 67, 0.15);\n",
              "      fill: #174EA6;\n",
              "    }\n",
              "\n",
              "    [theme=dark] .colab-df-convert {\n",
              "      background-color: #3B4455;\n",
              "      fill: #D2E3FC;\n",
              "    }\n",
              "\n",
              "    [theme=dark] .colab-df-convert:hover {\n",
              "      background-color: #434B5C;\n",
              "      box-shadow: 0px 1px 3px 1px rgba(0, 0, 0, 0.15);\n",
              "      filter: drop-shadow(0px 1px 2px rgba(0, 0, 0, 0.3));\n",
              "      fill: #FFFFFF;\n",
              "    }\n",
              "  </style>\n",
              "\n",
              "      <script>\n",
              "        const buttonEl =\n",
              "          document.querySelector('#df-d1321cb2-e161-4f5a-8b92-bce3f485b330 button.colab-df-convert');\n",
              "        buttonEl.style.display =\n",
              "          google.colab.kernel.accessAllowed ? 'block' : 'none';\n",
              "\n",
              "        async function convertToInteractive(key) {\n",
              "          const element = document.querySelector('#df-d1321cb2-e161-4f5a-8b92-bce3f485b330');\n",
              "          const dataTable =\n",
              "            await google.colab.kernel.invokeFunction('convertToInteractive',\n",
              "                                                     [key], {});\n",
              "          if (!dataTable) return;\n",
              "\n",
              "          const docLinkHtml = 'Like what you see? Visit the ' +\n",
              "            '<a target=\"_blank\" href=https://colab.research.google.com/notebooks/data_table.ipynb>data table notebook</a>'\n",
              "            + ' to learn more about interactive tables.';\n",
              "          element.innerHTML = '';\n",
              "          dataTable['output_type'] = 'display_data';\n",
              "          await google.colab.output.renderOutput(dataTable, element);\n",
              "          const docLink = document.createElement('div');\n",
              "          docLink.innerHTML = docLinkHtml;\n",
              "          element.appendChild(docLink);\n",
              "        }\n",
              "      </script>\n",
              "    </div>\n",
              "  </div>\n",
              "  "
            ]
          },
          "metadata": {},
          "execution_count": 23
        }
      ]
    },
    {
      "cell_type": "code",
      "source": [
        "df_metitarski_original.label.unique()"
      ],
      "metadata": {
        "colab": {
          "base_uri": "https://localhost:8080/"
        },
        "id": "-68rUglL2Mk5",
        "outputId": "2e3674b4-4bbb-4d0c-b428-c096e91b8043"
      },
      "execution_count": 24,
      "outputs": [
        {
          "output_type": "execute_result",
          "data": {
            "text/plain": [
              "array([0, 4, 5, 2, 1, 3])"
            ]
          },
          "metadata": {},
          "execution_count": 24
        }
      ]
    },
    {
      "cell_type": "markdown",
      "source": [
        "## &#129504; MetiTarski RTF"
      ],
      "metadata": {
        "id": "H4S3txysZcwj"
      }
    },
    {
      "cell_type": "code",
      "source": [
        "FEATURE_COLUMNS = ['nr_polynomials', 'max_total_degree', 'max_x1', 'max_x2', 'max_x3', 'prop_x1', 'prop_x2', 'prop_x3', 'prop_mon_x1', 'prop_mon_x2', 'prop_mon_x3']\n",
        "\n",
        "FEATURE_COLUMNS"
      ],
      "metadata": {
        "colab": {
          "base_uri": "https://localhost:8080/"
        },
        "id": "vZtaD9pxUHPp",
        "outputId": "be716c6f-b8fe-4277-9ed9-330d564e4758"
      },
      "execution_count": 25,
      "outputs": [
        {
          "output_type": "execute_result",
          "data": {
            "text/plain": [
              "['nr_polynomials',\n",
              " 'max_total_degree',\n",
              " 'max_x1',\n",
              " 'max_x2',\n",
              " 'max_x3',\n",
              " 'prop_x1',\n",
              " 'prop_x2',\n",
              " 'prop_x3',\n",
              " 'prop_mon_x1',\n",
              " 'prop_mon_x2',\n",
              " 'prop_mon_x3']"
            ]
          },
          "metadata": {},
          "execution_count": 25
        }
      ]
    },
    {
      "cell_type": "code",
      "source": [
        "def training_set_scaler(input_df: pd.DataFrame):\n",
        "    scaler = StandardScaler()\n",
        "    scaler = scaler.fit(input_df)\n",
        "\n",
        "    return scaler"
      ],
      "metadata": {
        "id": "x4vf3x3uY-B3"
      },
      "execution_count": 26,
      "outputs": []
    },
    {
      "cell_type": "code",
      "source": [
        "def scale_data(input_df: pd.DataFrame, scaler):\n",
        "    df_scaled = pd.DataFrame(scaler.transform(input_df), index=input_df.index, columns=input_df.columns)\n",
        "\n",
        "    return df_scaled"
      ],
      "metadata": {
        "id": "gPHHXjG1cQWL"
      },
      "execution_count": 27,
      "outputs": []
    },
    {
      "cell_type": "markdown",
      "source": [
        "### D1: Original MetiTarski Data"
      ],
      "metadata": {
        "id": "8hi8osi2dbLQ"
      }
    },
    {
      "cell_type": "code",
      "source": [
        "# original metitarski dataset features\n",
        "df_features_original = df_metitarski_original[FEATURE_COLUMNS].copy().reset_index()"
      ],
      "metadata": {
        "id": "WeSEPZ20dIPX"
      },
      "execution_count": 28,
      "outputs": []
    },
    {
      "cell_type": "code",
      "source": [
        "df_features_original.drop(['index'], axis=1, inplace=True)"
      ],
      "metadata": {
        "id": "hfvJ4eJVdIMQ"
      },
      "execution_count": 29,
      "outputs": []
    },
    {
      "cell_type": "code",
      "source": [
        "X_train_original, X_test_original, y_train_original, y_test_original = train_test_split(df_features_original, df_metitarski_original.label, test_size=0.1)\n",
        "X_train_original.shape, X_test_original.shape, y_train_original.shape, y_test_original.shape"
      ],
      "metadata": {
        "colab": {
          "base_uri": "https://localhost:8080/"
        },
        "id": "RykSrfN0dII-",
        "outputId": "b7cd3a88-4df1-4490-f886-e829f19bddbb"
      },
      "execution_count": 30,
      "outputs": [
        {
          "output_type": "execute_result",
          "data": {
            "text/plain": [
              "((6205, 11), (690, 11), (6205,), (690,))"
            ]
          },
          "metadata": {},
          "execution_count": 30
        }
      ]
    },
    {
      "cell_type": "code",
      "source": [
        "# scale original training set\n",
        "scaler_original = training_set_scaler(input_df=X_train_original)"
      ],
      "metadata": {
        "id": "s_XOXSKJdH_e"
      },
      "execution_count": 31,
      "outputs": []
    },
    {
      "cell_type": "code",
      "source": [
        "# rescale data\n",
        "X_train_D1 = scale_data(input_df=X_train_original, scaler=scaler_original)\n",
        "X_train_D1.head()"
      ],
      "metadata": {
        "colab": {
          "base_uri": "https://localhost:8080/",
          "height": 206
        },
        "id": "2rebRKwIe9dZ",
        "outputId": "0b5ee325-ffd4-447d-ee8d-d5bfae734fc0"
      },
      "execution_count": 32,
      "outputs": [
        {
          "output_type": "execute_result",
          "data": {
            "text/plain": [
              "      nr_polynomials  max_total_degree    max_x1    max_x2    max_x3  \\\n",
              "5719        0.660058          0.225138  0.044509 -0.130596 -0.441678   \n",
              "3751       -0.537591          1.513419  1.647402 -0.608678 -0.441678   \n",
              "2028       -1.136415         -0.741073 -0.596648 -0.130596 -0.441678   \n",
              "1923       -0.537591         -0.741073 -0.596648 -0.608678 -0.441678   \n",
              "5292        0.360646         -0.580038 -0.756938 -0.608678 -0.441678   \n",
              "\n",
              "       prop_x1   prop_x2   prop_x3  prop_mon_x1  prop_mon_x2  prop_mon_x3  \n",
              "5719  0.236028  1.322997  0.004920     1.502599     1.478539     1.770495  \n",
              "3751 -0.408840 -0.095131 -0.465230     0.563515    -1.086798    -0.987013  \n",
              "2028 -0.408840 -0.095131  0.710144    -1.349434    -0.570844     0.208895  \n",
              "1923 -0.408840 -0.095131 -0.465230    -1.290574    -0.509785    -0.460145  \n",
              "5292  1.382460 -0.489055 -0.465230     0.114387     0.015859     0.161626  "
            ],
            "text/html": [
              "\n",
              "  <div id=\"df-bec19c02-243f-4f6e-a26e-edaddcb51e3a\">\n",
              "    <div class=\"colab-df-container\">\n",
              "      <div>\n",
              "<style scoped>\n",
              "    .dataframe tbody tr th:only-of-type {\n",
              "        vertical-align: middle;\n",
              "    }\n",
              "\n",
              "    .dataframe tbody tr th {\n",
              "        vertical-align: top;\n",
              "    }\n",
              "\n",
              "    .dataframe thead th {\n",
              "        text-align: right;\n",
              "    }\n",
              "</style>\n",
              "<table border=\"1\" class=\"dataframe\">\n",
              "  <thead>\n",
              "    <tr style=\"text-align: right;\">\n",
              "      <th></th>\n",
              "      <th>nr_polynomials</th>\n",
              "      <th>max_total_degree</th>\n",
              "      <th>max_x1</th>\n",
              "      <th>max_x2</th>\n",
              "      <th>max_x3</th>\n",
              "      <th>prop_x1</th>\n",
              "      <th>prop_x2</th>\n",
              "      <th>prop_x3</th>\n",
              "      <th>prop_mon_x1</th>\n",
              "      <th>prop_mon_x2</th>\n",
              "      <th>prop_mon_x3</th>\n",
              "    </tr>\n",
              "  </thead>\n",
              "  <tbody>\n",
              "    <tr>\n",
              "      <th>5719</th>\n",
              "      <td>0.660058</td>\n",
              "      <td>0.225138</td>\n",
              "      <td>0.044509</td>\n",
              "      <td>-0.130596</td>\n",
              "      <td>-0.441678</td>\n",
              "      <td>0.236028</td>\n",
              "      <td>1.322997</td>\n",
              "      <td>0.004920</td>\n",
              "      <td>1.502599</td>\n",
              "      <td>1.478539</td>\n",
              "      <td>1.770495</td>\n",
              "    </tr>\n",
              "    <tr>\n",
              "      <th>3751</th>\n",
              "      <td>-0.537591</td>\n",
              "      <td>1.513419</td>\n",
              "      <td>1.647402</td>\n",
              "      <td>-0.608678</td>\n",
              "      <td>-0.441678</td>\n",
              "      <td>-0.408840</td>\n",
              "      <td>-0.095131</td>\n",
              "      <td>-0.465230</td>\n",
              "      <td>0.563515</td>\n",
              "      <td>-1.086798</td>\n",
              "      <td>-0.987013</td>\n",
              "    </tr>\n",
              "    <tr>\n",
              "      <th>2028</th>\n",
              "      <td>-1.136415</td>\n",
              "      <td>-0.741073</td>\n",
              "      <td>-0.596648</td>\n",
              "      <td>-0.130596</td>\n",
              "      <td>-0.441678</td>\n",
              "      <td>-0.408840</td>\n",
              "      <td>-0.095131</td>\n",
              "      <td>0.710144</td>\n",
              "      <td>-1.349434</td>\n",
              "      <td>-0.570844</td>\n",
              "      <td>0.208895</td>\n",
              "    </tr>\n",
              "    <tr>\n",
              "      <th>1923</th>\n",
              "      <td>-0.537591</td>\n",
              "      <td>-0.741073</td>\n",
              "      <td>-0.596648</td>\n",
              "      <td>-0.608678</td>\n",
              "      <td>-0.441678</td>\n",
              "      <td>-0.408840</td>\n",
              "      <td>-0.095131</td>\n",
              "      <td>-0.465230</td>\n",
              "      <td>-1.290574</td>\n",
              "      <td>-0.509785</td>\n",
              "      <td>-0.460145</td>\n",
              "    </tr>\n",
              "    <tr>\n",
              "      <th>5292</th>\n",
              "      <td>0.360646</td>\n",
              "      <td>-0.580038</td>\n",
              "      <td>-0.756938</td>\n",
              "      <td>-0.608678</td>\n",
              "      <td>-0.441678</td>\n",
              "      <td>1.382460</td>\n",
              "      <td>-0.489055</td>\n",
              "      <td>-0.465230</td>\n",
              "      <td>0.114387</td>\n",
              "      <td>0.015859</td>\n",
              "      <td>0.161626</td>\n",
              "    </tr>\n",
              "  </tbody>\n",
              "</table>\n",
              "</div>\n",
              "      <button class=\"colab-df-convert\" onclick=\"convertToInteractive('df-bec19c02-243f-4f6e-a26e-edaddcb51e3a')\"\n",
              "              title=\"Convert this dataframe to an interactive table.\"\n",
              "              style=\"display:none;\">\n",
              "        \n",
              "  <svg xmlns=\"http://www.w3.org/2000/svg\" height=\"24px\"viewBox=\"0 0 24 24\"\n",
              "       width=\"24px\">\n",
              "    <path d=\"M0 0h24v24H0V0z\" fill=\"none\"/>\n",
              "    <path d=\"M18.56 5.44l.94 2.06.94-2.06 2.06-.94-2.06-.94-.94-2.06-.94 2.06-2.06.94zm-11 1L8.5 8.5l.94-2.06 2.06-.94-2.06-.94L8.5 2.5l-.94 2.06-2.06.94zm10 10l.94 2.06.94-2.06 2.06-.94-2.06-.94-.94-2.06-.94 2.06-2.06.94z\"/><path d=\"M17.41 7.96l-1.37-1.37c-.4-.4-.92-.59-1.43-.59-.52 0-1.04.2-1.43.59L10.3 9.45l-7.72 7.72c-.78.78-.78 2.05 0 2.83L4 21.41c.39.39.9.59 1.41.59.51 0 1.02-.2 1.41-.59l7.78-7.78 2.81-2.81c.8-.78.8-2.07 0-2.86zM5.41 20L4 18.59l7.72-7.72 1.47 1.35L5.41 20z\"/>\n",
              "  </svg>\n",
              "      </button>\n",
              "      \n",
              "  <style>\n",
              "    .colab-df-container {\n",
              "      display:flex;\n",
              "      flex-wrap:wrap;\n",
              "      gap: 12px;\n",
              "    }\n",
              "\n",
              "    .colab-df-convert {\n",
              "      background-color: #E8F0FE;\n",
              "      border: none;\n",
              "      border-radius: 50%;\n",
              "      cursor: pointer;\n",
              "      display: none;\n",
              "      fill: #1967D2;\n",
              "      height: 32px;\n",
              "      padding: 0 0 0 0;\n",
              "      width: 32px;\n",
              "    }\n",
              "\n",
              "    .colab-df-convert:hover {\n",
              "      background-color: #E2EBFA;\n",
              "      box-shadow: 0px 1px 2px rgba(60, 64, 67, 0.3), 0px 1px 3px 1px rgba(60, 64, 67, 0.15);\n",
              "      fill: #174EA6;\n",
              "    }\n",
              "\n",
              "    [theme=dark] .colab-df-convert {\n",
              "      background-color: #3B4455;\n",
              "      fill: #D2E3FC;\n",
              "    }\n",
              "\n",
              "    [theme=dark] .colab-df-convert:hover {\n",
              "      background-color: #434B5C;\n",
              "      box-shadow: 0px 1px 3px 1px rgba(0, 0, 0, 0.15);\n",
              "      filter: drop-shadow(0px 1px 2px rgba(0, 0, 0, 0.3));\n",
              "      fill: #FFFFFF;\n",
              "    }\n",
              "  </style>\n",
              "\n",
              "      <script>\n",
              "        const buttonEl =\n",
              "          document.querySelector('#df-bec19c02-243f-4f6e-a26e-edaddcb51e3a button.colab-df-convert');\n",
              "        buttonEl.style.display =\n",
              "          google.colab.kernel.accessAllowed ? 'block' : 'none';\n",
              "\n",
              "        async function convertToInteractive(key) {\n",
              "          const element = document.querySelector('#df-bec19c02-243f-4f6e-a26e-edaddcb51e3a');\n",
              "          const dataTable =\n",
              "            await google.colab.kernel.invokeFunction('convertToInteractive',\n",
              "                                                     [key], {});\n",
              "          if (!dataTable) return;\n",
              "\n",
              "          const docLinkHtml = 'Like what you see? Visit the ' +\n",
              "            '<a target=\"_blank\" href=https://colab.research.google.com/notebooks/data_table.ipynb>data table notebook</a>'\n",
              "            + ' to learn more about interactive tables.';\n",
              "          element.innerHTML = '';\n",
              "          dataTable['output_type'] = 'display_data';\n",
              "          await google.colab.output.renderOutput(dataTable, element);\n",
              "          const docLink = document.createElement('div');\n",
              "          docLink.innerHTML = docLinkHtml;\n",
              "          element.appendChild(docLink);\n",
              "        }\n",
              "      </script>\n",
              "    </div>\n",
              "  </div>\n",
              "  "
            ]
          },
          "metadata": {},
          "execution_count": 32
        }
      ]
    },
    {
      "cell_type": "code",
      "source": [
        "X_test_D1 = scale_data(input_df=X_test_original, scaler=scaler_original)\n",
        "X_test_D1.head()"
      ],
      "metadata": {
        "colab": {
          "base_uri": "https://localhost:8080/",
          "height": 206
        },
        "id": "Z-X6zLDBfHJs",
        "outputId": "16c4e9f9-5621-4d2f-85f3-aa761324f01b"
      },
      "execution_count": 33,
      "outputs": [
        {
          "output_type": "execute_result",
          "data": {
            "text/plain": [
              "      nr_polynomials  max_total_degree    max_x1    max_x2    max_x3  prop_x1  \\\n",
              "5306       -1.435827         -0.902108 -0.756938 -0.608678 -0.441678  0.66594   \n",
              "6001       -0.238179          0.225138 -0.276070  0.825567 -0.441678 -0.86946   \n",
              "2820       -1.136415          2.801700  2.929717 -0.608678 -0.441678 -0.40884   \n",
              "1036       -0.537591          1.513419  1.647402 -0.608678 -0.441678 -0.40884   \n",
              "2104       -0.238179          0.064103  0.044509 -0.130596  1.742078  0.05178   \n",
              "\n",
              "       prop_x2   prop_x3  prop_mon_x1  prop_mon_x2  prop_mon_x3  \n",
              "5306 -1.276904 -0.465230    -0.125147    -0.729600    -0.008543  \n",
              "6001 -0.601605  1.213876     0.019834     0.097598     0.094454  \n",
              "2820 -0.095131 -1.052917     2.093874    -1.364620    -1.421889  \n",
              "1036 -0.095131 -0.465230     0.744741    -1.030399    -0.935515  \n",
              "2104  0.411343  1.213876     1.358124     1.138826     1.797865  "
            ],
            "text/html": [
              "\n",
              "  <div id=\"df-e334caf9-2c67-4d65-b81a-af3ff446992d\">\n",
              "    <div class=\"colab-df-container\">\n",
              "      <div>\n",
              "<style scoped>\n",
              "    .dataframe tbody tr th:only-of-type {\n",
              "        vertical-align: middle;\n",
              "    }\n",
              "\n",
              "    .dataframe tbody tr th {\n",
              "        vertical-align: top;\n",
              "    }\n",
              "\n",
              "    .dataframe thead th {\n",
              "        text-align: right;\n",
              "    }\n",
              "</style>\n",
              "<table border=\"1\" class=\"dataframe\">\n",
              "  <thead>\n",
              "    <tr style=\"text-align: right;\">\n",
              "      <th></th>\n",
              "      <th>nr_polynomials</th>\n",
              "      <th>max_total_degree</th>\n",
              "      <th>max_x1</th>\n",
              "      <th>max_x2</th>\n",
              "      <th>max_x3</th>\n",
              "      <th>prop_x1</th>\n",
              "      <th>prop_x2</th>\n",
              "      <th>prop_x3</th>\n",
              "      <th>prop_mon_x1</th>\n",
              "      <th>prop_mon_x2</th>\n",
              "      <th>prop_mon_x3</th>\n",
              "    </tr>\n",
              "  </thead>\n",
              "  <tbody>\n",
              "    <tr>\n",
              "      <th>5306</th>\n",
              "      <td>-1.435827</td>\n",
              "      <td>-0.902108</td>\n",
              "      <td>-0.756938</td>\n",
              "      <td>-0.608678</td>\n",
              "      <td>-0.441678</td>\n",
              "      <td>0.66594</td>\n",
              "      <td>-1.276904</td>\n",
              "      <td>-0.465230</td>\n",
              "      <td>-0.125147</td>\n",
              "      <td>-0.729600</td>\n",
              "      <td>-0.008543</td>\n",
              "    </tr>\n",
              "    <tr>\n",
              "      <th>6001</th>\n",
              "      <td>-0.238179</td>\n",
              "      <td>0.225138</td>\n",
              "      <td>-0.276070</td>\n",
              "      <td>0.825567</td>\n",
              "      <td>-0.441678</td>\n",
              "      <td>-0.86946</td>\n",
              "      <td>-0.601605</td>\n",
              "      <td>1.213876</td>\n",
              "      <td>0.019834</td>\n",
              "      <td>0.097598</td>\n",
              "      <td>0.094454</td>\n",
              "    </tr>\n",
              "    <tr>\n",
              "      <th>2820</th>\n",
              "      <td>-1.136415</td>\n",
              "      <td>2.801700</td>\n",
              "      <td>2.929717</td>\n",
              "      <td>-0.608678</td>\n",
              "      <td>-0.441678</td>\n",
              "      <td>-0.40884</td>\n",
              "      <td>-0.095131</td>\n",
              "      <td>-1.052917</td>\n",
              "      <td>2.093874</td>\n",
              "      <td>-1.364620</td>\n",
              "      <td>-1.421889</td>\n",
              "    </tr>\n",
              "    <tr>\n",
              "      <th>1036</th>\n",
              "      <td>-0.537591</td>\n",
              "      <td>1.513419</td>\n",
              "      <td>1.647402</td>\n",
              "      <td>-0.608678</td>\n",
              "      <td>-0.441678</td>\n",
              "      <td>-0.40884</td>\n",
              "      <td>-0.095131</td>\n",
              "      <td>-0.465230</td>\n",
              "      <td>0.744741</td>\n",
              "      <td>-1.030399</td>\n",
              "      <td>-0.935515</td>\n",
              "    </tr>\n",
              "    <tr>\n",
              "      <th>2104</th>\n",
              "      <td>-0.238179</td>\n",
              "      <td>0.064103</td>\n",
              "      <td>0.044509</td>\n",
              "      <td>-0.130596</td>\n",
              "      <td>1.742078</td>\n",
              "      <td>0.05178</td>\n",
              "      <td>0.411343</td>\n",
              "      <td>1.213876</td>\n",
              "      <td>1.358124</td>\n",
              "      <td>1.138826</td>\n",
              "      <td>1.797865</td>\n",
              "    </tr>\n",
              "  </tbody>\n",
              "</table>\n",
              "</div>\n",
              "      <button class=\"colab-df-convert\" onclick=\"convertToInteractive('df-e334caf9-2c67-4d65-b81a-af3ff446992d')\"\n",
              "              title=\"Convert this dataframe to an interactive table.\"\n",
              "              style=\"display:none;\">\n",
              "        \n",
              "  <svg xmlns=\"http://www.w3.org/2000/svg\" height=\"24px\"viewBox=\"0 0 24 24\"\n",
              "       width=\"24px\">\n",
              "    <path d=\"M0 0h24v24H0V0z\" fill=\"none\"/>\n",
              "    <path d=\"M18.56 5.44l.94 2.06.94-2.06 2.06-.94-2.06-.94-.94-2.06-.94 2.06-2.06.94zm-11 1L8.5 8.5l.94-2.06 2.06-.94-2.06-.94L8.5 2.5l-.94 2.06-2.06.94zm10 10l.94 2.06.94-2.06 2.06-.94-2.06-.94-.94-2.06-.94 2.06-2.06.94z\"/><path d=\"M17.41 7.96l-1.37-1.37c-.4-.4-.92-.59-1.43-.59-.52 0-1.04.2-1.43.59L10.3 9.45l-7.72 7.72c-.78.78-.78 2.05 0 2.83L4 21.41c.39.39.9.59 1.41.59.51 0 1.02-.2 1.41-.59l7.78-7.78 2.81-2.81c.8-.78.8-2.07 0-2.86zM5.41 20L4 18.59l7.72-7.72 1.47 1.35L5.41 20z\"/>\n",
              "  </svg>\n",
              "      </button>\n",
              "      \n",
              "  <style>\n",
              "    .colab-df-container {\n",
              "      display:flex;\n",
              "      flex-wrap:wrap;\n",
              "      gap: 12px;\n",
              "    }\n",
              "\n",
              "    .colab-df-convert {\n",
              "      background-color: #E8F0FE;\n",
              "      border: none;\n",
              "      border-radius: 50%;\n",
              "      cursor: pointer;\n",
              "      display: none;\n",
              "      fill: #1967D2;\n",
              "      height: 32px;\n",
              "      padding: 0 0 0 0;\n",
              "      width: 32px;\n",
              "    }\n",
              "\n",
              "    .colab-df-convert:hover {\n",
              "      background-color: #E2EBFA;\n",
              "      box-shadow: 0px 1px 2px rgba(60, 64, 67, 0.3), 0px 1px 3px 1px rgba(60, 64, 67, 0.15);\n",
              "      fill: #174EA6;\n",
              "    }\n",
              "\n",
              "    [theme=dark] .colab-df-convert {\n",
              "      background-color: #3B4455;\n",
              "      fill: #D2E3FC;\n",
              "    }\n",
              "\n",
              "    [theme=dark] .colab-df-convert:hover {\n",
              "      background-color: #434B5C;\n",
              "      box-shadow: 0px 1px 3px 1px rgba(0, 0, 0, 0.15);\n",
              "      filter: drop-shadow(0px 1px 2px rgba(0, 0, 0, 0.3));\n",
              "      fill: #FFFFFF;\n",
              "    }\n",
              "  </style>\n",
              "\n",
              "      <script>\n",
              "        const buttonEl =\n",
              "          document.querySelector('#df-e334caf9-2c67-4d65-b81a-af3ff446992d button.colab-df-convert');\n",
              "        buttonEl.style.display =\n",
              "          google.colab.kernel.accessAllowed ? 'block' : 'none';\n",
              "\n",
              "        async function convertToInteractive(key) {\n",
              "          const element = document.querySelector('#df-e334caf9-2c67-4d65-b81a-af3ff446992d');\n",
              "          const dataTable =\n",
              "            await google.colab.kernel.invokeFunction('convertToInteractive',\n",
              "                                                     [key], {});\n",
              "          if (!dataTable) return;\n",
              "\n",
              "          const docLinkHtml = 'Like what you see? Visit the ' +\n",
              "            '<a target=\"_blank\" href=https://colab.research.google.com/notebooks/data_table.ipynb>data table notebook</a>'\n",
              "            + ' to learn more about interactive tables.';\n",
              "          element.innerHTML = '';\n",
              "          dataTable['output_type'] = 'display_data';\n",
              "          await google.colab.output.renderOutput(dataTable, element);\n",
              "          const docLink = document.createElement('div');\n",
              "          docLink.innerHTML = docLinkHtml;\n",
              "          element.appendChild(docLink);\n",
              "        }\n",
              "      </script>\n",
              "    </div>\n",
              "  </div>\n",
              "  "
            ]
          },
          "metadata": {},
          "execution_count": 33
        }
      ]
    },
    {
      "cell_type": "markdown",
      "source": [
        "### D2: New (Larger) MetiTarski Data"
      ],
      "metadata": {
        "id": "FevOzRVxdfvt"
      }
    },
    {
      "cell_type": "code",
      "source": [
        "df_features = df_metitarski[FEATURE_COLUMNS].copy().reset_index()"
      ],
      "metadata": {
        "id": "AgywsYCXV0LC"
      },
      "execution_count": 34,
      "outputs": []
    },
    {
      "cell_type": "code",
      "source": [
        "df_features.head()"
      ],
      "metadata": {
        "colab": {
          "base_uri": "https://localhost:8080/",
          "height": 206
        },
        "id": "dBDWvOotWKKc",
        "outputId": "b92cae78-d4ac-4860-8d3e-33ece9a8dcd1"
      },
      "execution_count": 35,
      "outputs": [
        {
          "output_type": "execute_result",
          "data": {
            "text/plain": [
              "   index  nr_polynomials  max_total_degree  max_x1  max_x2  max_x3   prop_x1  \\\n",
              "0      0              10                 2       2       2       1  0.500000   \n",
              "1      1               6                 4       1       2       2  0.333333   \n",
              "2      2               6                16      16       1       1  0.500000   \n",
              "3      3               9                 3       3       3       3  0.555556   \n",
              "4      4              14                 9       1       9       3  0.214286   \n",
              "\n",
              "    prop_x2   prop_x3  prop_mon_x1  prop_mon_x2  prop_mon_x3  \n",
              "0  0.500000  0.500000     0.250000     0.250000     0.250000  \n",
              "1  0.666667  0.500000     0.333333     0.476190     0.428571  \n",
              "2  0.333333  0.500000     0.500000     0.100000     0.150000  \n",
              "3  0.555556  0.555556     0.350000     0.350000     0.350000  \n",
              "4  0.785714  0.142857     0.166667     0.611111     0.111111  "
            ],
            "text/html": [
              "\n",
              "  <div id=\"df-2d494e1f-138c-44a7-a7d0-dd296c6eeac5\">\n",
              "    <div class=\"colab-df-container\">\n",
              "      <div>\n",
              "<style scoped>\n",
              "    .dataframe tbody tr th:only-of-type {\n",
              "        vertical-align: middle;\n",
              "    }\n",
              "\n",
              "    .dataframe tbody tr th {\n",
              "        vertical-align: top;\n",
              "    }\n",
              "\n",
              "    .dataframe thead th {\n",
              "        text-align: right;\n",
              "    }\n",
              "</style>\n",
              "<table border=\"1\" class=\"dataframe\">\n",
              "  <thead>\n",
              "    <tr style=\"text-align: right;\">\n",
              "      <th></th>\n",
              "      <th>index</th>\n",
              "      <th>nr_polynomials</th>\n",
              "      <th>max_total_degree</th>\n",
              "      <th>max_x1</th>\n",
              "      <th>max_x2</th>\n",
              "      <th>max_x3</th>\n",
              "      <th>prop_x1</th>\n",
              "      <th>prop_x2</th>\n",
              "      <th>prop_x3</th>\n",
              "      <th>prop_mon_x1</th>\n",
              "      <th>prop_mon_x2</th>\n",
              "      <th>prop_mon_x3</th>\n",
              "    </tr>\n",
              "  </thead>\n",
              "  <tbody>\n",
              "    <tr>\n",
              "      <th>0</th>\n",
              "      <td>0</td>\n",
              "      <td>10</td>\n",
              "      <td>2</td>\n",
              "      <td>2</td>\n",
              "      <td>2</td>\n",
              "      <td>1</td>\n",
              "      <td>0.500000</td>\n",
              "      <td>0.500000</td>\n",
              "      <td>0.500000</td>\n",
              "      <td>0.250000</td>\n",
              "      <td>0.250000</td>\n",
              "      <td>0.250000</td>\n",
              "    </tr>\n",
              "    <tr>\n",
              "      <th>1</th>\n",
              "      <td>1</td>\n",
              "      <td>6</td>\n",
              "      <td>4</td>\n",
              "      <td>1</td>\n",
              "      <td>2</td>\n",
              "      <td>2</td>\n",
              "      <td>0.333333</td>\n",
              "      <td>0.666667</td>\n",
              "      <td>0.500000</td>\n",
              "      <td>0.333333</td>\n",
              "      <td>0.476190</td>\n",
              "      <td>0.428571</td>\n",
              "    </tr>\n",
              "    <tr>\n",
              "      <th>2</th>\n",
              "      <td>2</td>\n",
              "      <td>6</td>\n",
              "      <td>16</td>\n",
              "      <td>16</td>\n",
              "      <td>1</td>\n",
              "      <td>1</td>\n",
              "      <td>0.500000</td>\n",
              "      <td>0.333333</td>\n",
              "      <td>0.500000</td>\n",
              "      <td>0.500000</td>\n",
              "      <td>0.100000</td>\n",
              "      <td>0.150000</td>\n",
              "    </tr>\n",
              "    <tr>\n",
              "      <th>3</th>\n",
              "      <td>3</td>\n",
              "      <td>9</td>\n",
              "      <td>3</td>\n",
              "      <td>3</td>\n",
              "      <td>3</td>\n",
              "      <td>3</td>\n",
              "      <td>0.555556</td>\n",
              "      <td>0.555556</td>\n",
              "      <td>0.555556</td>\n",
              "      <td>0.350000</td>\n",
              "      <td>0.350000</td>\n",
              "      <td>0.350000</td>\n",
              "    </tr>\n",
              "    <tr>\n",
              "      <th>4</th>\n",
              "      <td>4</td>\n",
              "      <td>14</td>\n",
              "      <td>9</td>\n",
              "      <td>1</td>\n",
              "      <td>9</td>\n",
              "      <td>3</td>\n",
              "      <td>0.214286</td>\n",
              "      <td>0.785714</td>\n",
              "      <td>0.142857</td>\n",
              "      <td>0.166667</td>\n",
              "      <td>0.611111</td>\n",
              "      <td>0.111111</td>\n",
              "    </tr>\n",
              "  </tbody>\n",
              "</table>\n",
              "</div>\n",
              "      <button class=\"colab-df-convert\" onclick=\"convertToInteractive('df-2d494e1f-138c-44a7-a7d0-dd296c6eeac5')\"\n",
              "              title=\"Convert this dataframe to an interactive table.\"\n",
              "              style=\"display:none;\">\n",
              "        \n",
              "  <svg xmlns=\"http://www.w3.org/2000/svg\" height=\"24px\"viewBox=\"0 0 24 24\"\n",
              "       width=\"24px\">\n",
              "    <path d=\"M0 0h24v24H0V0z\" fill=\"none\"/>\n",
              "    <path d=\"M18.56 5.44l.94 2.06.94-2.06 2.06-.94-2.06-.94-.94-2.06-.94 2.06-2.06.94zm-11 1L8.5 8.5l.94-2.06 2.06-.94-2.06-.94L8.5 2.5l-.94 2.06-2.06.94zm10 10l.94 2.06.94-2.06 2.06-.94-2.06-.94-.94-2.06-.94 2.06-2.06.94z\"/><path d=\"M17.41 7.96l-1.37-1.37c-.4-.4-.92-.59-1.43-.59-.52 0-1.04.2-1.43.59L10.3 9.45l-7.72 7.72c-.78.78-.78 2.05 0 2.83L4 21.41c.39.39.9.59 1.41.59.51 0 1.02-.2 1.41-.59l7.78-7.78 2.81-2.81c.8-.78.8-2.07 0-2.86zM5.41 20L4 18.59l7.72-7.72 1.47 1.35L5.41 20z\"/>\n",
              "  </svg>\n",
              "      </button>\n",
              "      \n",
              "  <style>\n",
              "    .colab-df-container {\n",
              "      display:flex;\n",
              "      flex-wrap:wrap;\n",
              "      gap: 12px;\n",
              "    }\n",
              "\n",
              "    .colab-df-convert {\n",
              "      background-color: #E8F0FE;\n",
              "      border: none;\n",
              "      border-radius: 50%;\n",
              "      cursor: pointer;\n",
              "      display: none;\n",
              "      fill: #1967D2;\n",
              "      height: 32px;\n",
              "      padding: 0 0 0 0;\n",
              "      width: 32px;\n",
              "    }\n",
              "\n",
              "    .colab-df-convert:hover {\n",
              "      background-color: #E2EBFA;\n",
              "      box-shadow: 0px 1px 2px rgba(60, 64, 67, 0.3), 0px 1px 3px 1px rgba(60, 64, 67, 0.15);\n",
              "      fill: #174EA6;\n",
              "    }\n",
              "\n",
              "    [theme=dark] .colab-df-convert {\n",
              "      background-color: #3B4455;\n",
              "      fill: #D2E3FC;\n",
              "    }\n",
              "\n",
              "    [theme=dark] .colab-df-convert:hover {\n",
              "      background-color: #434B5C;\n",
              "      box-shadow: 0px 1px 3px 1px rgba(0, 0, 0, 0.15);\n",
              "      filter: drop-shadow(0px 1px 2px rgba(0, 0, 0, 0.3));\n",
              "      fill: #FFFFFF;\n",
              "    }\n",
              "  </style>\n",
              "\n",
              "      <script>\n",
              "        const buttonEl =\n",
              "          document.querySelector('#df-2d494e1f-138c-44a7-a7d0-dd296c6eeac5 button.colab-df-convert');\n",
              "        buttonEl.style.display =\n",
              "          google.colab.kernel.accessAllowed ? 'block' : 'none';\n",
              "\n",
              "        async function convertToInteractive(key) {\n",
              "          const element = document.querySelector('#df-2d494e1f-138c-44a7-a7d0-dd296c6eeac5');\n",
              "          const dataTable =\n",
              "            await google.colab.kernel.invokeFunction('convertToInteractive',\n",
              "                                                     [key], {});\n",
              "          if (!dataTable) return;\n",
              "\n",
              "          const docLinkHtml = 'Like what you see? Visit the ' +\n",
              "            '<a target=\"_blank\" href=https://colab.research.google.com/notebooks/data_table.ipynb>data table notebook</a>'\n",
              "            + ' to learn more about interactive tables.';\n",
              "          element.innerHTML = '';\n",
              "          dataTable['output_type'] = 'display_data';\n",
              "          await google.colab.output.renderOutput(dataTable, element);\n",
              "          const docLink = document.createElement('div');\n",
              "          docLink.innerHTML = docLinkHtml;\n",
              "          element.appendChild(docLink);\n",
              "        }\n",
              "      </script>\n",
              "    </div>\n",
              "  </div>\n",
              "  "
            ]
          },
          "metadata": {},
          "execution_count": 35
        }
      ]
    },
    {
      "cell_type": "code",
      "source": [
        "df_features.drop(['index'], axis=1, inplace=True)"
      ],
      "metadata": {
        "id": "thWOs8lBWKNw"
      },
      "execution_count": 36,
      "outputs": []
    },
    {
      "cell_type": "code",
      "source": [
        "X_train, X_test, y_train, y_test = train_test_split(df_features, df_metitarski.label, test_size=0.1)\n",
        "X_train.shape, X_test.shape, y_train.shape, y_test.shape"
      ],
      "metadata": {
        "id": "_2sOKAYaVKOO",
        "colab": {
          "base_uri": "https://localhost:8080/"
        },
        "outputId": "d91720aa-7ee7-41b3-ba22-b60cc6e419b4"
      },
      "execution_count": 37,
      "outputs": [
        {
          "output_type": "execute_result",
          "data": {
            "text/plain": [
              "((37232, 11), (4137, 11), (37232,), (4137,))"
            ]
          },
          "metadata": {},
          "execution_count": 37
        }
      ]
    },
    {
      "cell_type": "code",
      "source": [
        "# scale the new training set\n",
        "scaler_new_dataset = training_set_scaler(input_df=X_train)"
      ],
      "metadata": {
        "id": "i3Lo-jXsdF15"
      },
      "execution_count": 38,
      "outputs": []
    },
    {
      "cell_type": "code",
      "source": [
        "# rescale data\n",
        "X_train_D2 = scale_data(input_df=X_train, scaler=scaler_new_dataset)\n",
        "X_train_D2.head()"
      ],
      "metadata": {
        "colab": {
          "base_uri": "https://localhost:8080/",
          "height": 206
        },
        "id": "24gkJN5_dFh-",
        "outputId": "f4d244d6-21b3-4267-99d4-47b8d0cbbdca"
      },
      "execution_count": 39,
      "outputs": [
        {
          "output_type": "execute_result",
          "data": {
            "text/plain": [
              "       nr_polynomials  max_total_degree    max_x1    max_x2    max_x3  \\\n",
              "31658       -0.533866         -0.584127 -0.017542 -0.483675 -0.019644   \n",
              "3924         0.666991         -0.744384 -0.251803 -0.250312 -0.482845   \n",
              "4229         1.567634         -0.103355 -0.017542  0.683143 -0.482845   \n",
              "31880       -1.134294         -0.423869  0.216719 -0.483675 -0.482845   \n",
              "7182         0.366777         -0.744384 -0.486064 -0.250312 -0.251244   \n",
              "\n",
              "        prop_x1   prop_x2   prop_x3  prop_mon_x1  prop_mon_x2  prop_mon_x3  \n",
              "31658 -0.979982  0.050510  0.047988    -1.036110    -0.584845     0.311387  \n",
              "3924   0.052550  0.050510  0.047988    -0.183700    -0.184604    -0.188133  \n",
              "4229   0.767379  1.719449 -1.615424     0.167293     1.636490    -1.307060  \n",
              "31880  0.052550 -1.499218  0.047988     0.167293    -1.235236    -0.537798  \n",
              "7182  -0.291627  0.394895  0.391231    -0.608586    -0.276765    -0.280151  "
            ],
            "text/html": [
              "\n",
              "  <div id=\"df-4b4631c6-7f50-4b63-ac7e-9516dabc0c5a\">\n",
              "    <div class=\"colab-df-container\">\n",
              "      <div>\n",
              "<style scoped>\n",
              "    .dataframe tbody tr th:only-of-type {\n",
              "        vertical-align: middle;\n",
              "    }\n",
              "\n",
              "    .dataframe tbody tr th {\n",
              "        vertical-align: top;\n",
              "    }\n",
              "\n",
              "    .dataframe thead th {\n",
              "        text-align: right;\n",
              "    }\n",
              "</style>\n",
              "<table border=\"1\" class=\"dataframe\">\n",
              "  <thead>\n",
              "    <tr style=\"text-align: right;\">\n",
              "      <th></th>\n",
              "      <th>nr_polynomials</th>\n",
              "      <th>max_total_degree</th>\n",
              "      <th>max_x1</th>\n",
              "      <th>max_x2</th>\n",
              "      <th>max_x3</th>\n",
              "      <th>prop_x1</th>\n",
              "      <th>prop_x2</th>\n",
              "      <th>prop_x3</th>\n",
              "      <th>prop_mon_x1</th>\n",
              "      <th>prop_mon_x2</th>\n",
              "      <th>prop_mon_x3</th>\n",
              "    </tr>\n",
              "  </thead>\n",
              "  <tbody>\n",
              "    <tr>\n",
              "      <th>31658</th>\n",
              "      <td>-0.533866</td>\n",
              "      <td>-0.584127</td>\n",
              "      <td>-0.017542</td>\n",
              "      <td>-0.483675</td>\n",
              "      <td>-0.019644</td>\n",
              "      <td>-0.979982</td>\n",
              "      <td>0.050510</td>\n",
              "      <td>0.047988</td>\n",
              "      <td>-1.036110</td>\n",
              "      <td>-0.584845</td>\n",
              "      <td>0.311387</td>\n",
              "    </tr>\n",
              "    <tr>\n",
              "      <th>3924</th>\n",
              "      <td>0.666991</td>\n",
              "      <td>-0.744384</td>\n",
              "      <td>-0.251803</td>\n",
              "      <td>-0.250312</td>\n",
              "      <td>-0.482845</td>\n",
              "      <td>0.052550</td>\n",
              "      <td>0.050510</td>\n",
              "      <td>0.047988</td>\n",
              "      <td>-0.183700</td>\n",
              "      <td>-0.184604</td>\n",
              "      <td>-0.188133</td>\n",
              "    </tr>\n",
              "    <tr>\n",
              "      <th>4229</th>\n",
              "      <td>1.567634</td>\n",
              "      <td>-0.103355</td>\n",
              "      <td>-0.017542</td>\n",
              "      <td>0.683143</td>\n",
              "      <td>-0.482845</td>\n",
              "      <td>0.767379</td>\n",
              "      <td>1.719449</td>\n",
              "      <td>-1.615424</td>\n",
              "      <td>0.167293</td>\n",
              "      <td>1.636490</td>\n",
              "      <td>-1.307060</td>\n",
              "    </tr>\n",
              "    <tr>\n",
              "      <th>31880</th>\n",
              "      <td>-1.134294</td>\n",
              "      <td>-0.423869</td>\n",
              "      <td>0.216719</td>\n",
              "      <td>-0.483675</td>\n",
              "      <td>-0.482845</td>\n",
              "      <td>0.052550</td>\n",
              "      <td>-1.499218</td>\n",
              "      <td>0.047988</td>\n",
              "      <td>0.167293</td>\n",
              "      <td>-1.235236</td>\n",
              "      <td>-0.537798</td>\n",
              "    </tr>\n",
              "    <tr>\n",
              "      <th>7182</th>\n",
              "      <td>0.366777</td>\n",
              "      <td>-0.744384</td>\n",
              "      <td>-0.486064</td>\n",
              "      <td>-0.250312</td>\n",
              "      <td>-0.251244</td>\n",
              "      <td>-0.291627</td>\n",
              "      <td>0.394895</td>\n",
              "      <td>0.391231</td>\n",
              "      <td>-0.608586</td>\n",
              "      <td>-0.276765</td>\n",
              "      <td>-0.280151</td>\n",
              "    </tr>\n",
              "  </tbody>\n",
              "</table>\n",
              "</div>\n",
              "      <button class=\"colab-df-convert\" onclick=\"convertToInteractive('df-4b4631c6-7f50-4b63-ac7e-9516dabc0c5a')\"\n",
              "              title=\"Convert this dataframe to an interactive table.\"\n",
              "              style=\"display:none;\">\n",
              "        \n",
              "  <svg xmlns=\"http://www.w3.org/2000/svg\" height=\"24px\"viewBox=\"0 0 24 24\"\n",
              "       width=\"24px\">\n",
              "    <path d=\"M0 0h24v24H0V0z\" fill=\"none\"/>\n",
              "    <path d=\"M18.56 5.44l.94 2.06.94-2.06 2.06-.94-2.06-.94-.94-2.06-.94 2.06-2.06.94zm-11 1L8.5 8.5l.94-2.06 2.06-.94-2.06-.94L8.5 2.5l-.94 2.06-2.06.94zm10 10l.94 2.06.94-2.06 2.06-.94-2.06-.94-.94-2.06-.94 2.06-2.06.94z\"/><path d=\"M17.41 7.96l-1.37-1.37c-.4-.4-.92-.59-1.43-.59-.52 0-1.04.2-1.43.59L10.3 9.45l-7.72 7.72c-.78.78-.78 2.05 0 2.83L4 21.41c.39.39.9.59 1.41.59.51 0 1.02-.2 1.41-.59l7.78-7.78 2.81-2.81c.8-.78.8-2.07 0-2.86zM5.41 20L4 18.59l7.72-7.72 1.47 1.35L5.41 20z\"/>\n",
              "  </svg>\n",
              "      </button>\n",
              "      \n",
              "  <style>\n",
              "    .colab-df-container {\n",
              "      display:flex;\n",
              "      flex-wrap:wrap;\n",
              "      gap: 12px;\n",
              "    }\n",
              "\n",
              "    .colab-df-convert {\n",
              "      background-color: #E8F0FE;\n",
              "      border: none;\n",
              "      border-radius: 50%;\n",
              "      cursor: pointer;\n",
              "      display: none;\n",
              "      fill: #1967D2;\n",
              "      height: 32px;\n",
              "      padding: 0 0 0 0;\n",
              "      width: 32px;\n",
              "    }\n",
              "\n",
              "    .colab-df-convert:hover {\n",
              "      background-color: #E2EBFA;\n",
              "      box-shadow: 0px 1px 2px rgba(60, 64, 67, 0.3), 0px 1px 3px 1px rgba(60, 64, 67, 0.15);\n",
              "      fill: #174EA6;\n",
              "    }\n",
              "\n",
              "    [theme=dark] .colab-df-convert {\n",
              "      background-color: #3B4455;\n",
              "      fill: #D2E3FC;\n",
              "    }\n",
              "\n",
              "    [theme=dark] .colab-df-convert:hover {\n",
              "      background-color: #434B5C;\n",
              "      box-shadow: 0px 1px 3px 1px rgba(0, 0, 0, 0.15);\n",
              "      filter: drop-shadow(0px 1px 2px rgba(0, 0, 0, 0.3));\n",
              "      fill: #FFFFFF;\n",
              "    }\n",
              "  </style>\n",
              "\n",
              "      <script>\n",
              "        const buttonEl =\n",
              "          document.querySelector('#df-4b4631c6-7f50-4b63-ac7e-9516dabc0c5a button.colab-df-convert');\n",
              "        buttonEl.style.display =\n",
              "          google.colab.kernel.accessAllowed ? 'block' : 'none';\n",
              "\n",
              "        async function convertToInteractive(key) {\n",
              "          const element = document.querySelector('#df-4b4631c6-7f50-4b63-ac7e-9516dabc0c5a');\n",
              "          const dataTable =\n",
              "            await google.colab.kernel.invokeFunction('convertToInteractive',\n",
              "                                                     [key], {});\n",
              "          if (!dataTable) return;\n",
              "\n",
              "          const docLinkHtml = 'Like what you see? Visit the ' +\n",
              "            '<a target=\"_blank\" href=https://colab.research.google.com/notebooks/data_table.ipynb>data table notebook</a>'\n",
              "            + ' to learn more about interactive tables.';\n",
              "          element.innerHTML = '';\n",
              "          dataTable['output_type'] = 'display_data';\n",
              "          await google.colab.output.renderOutput(dataTable, element);\n",
              "          const docLink = document.createElement('div');\n",
              "          docLink.innerHTML = docLinkHtml;\n",
              "          element.appendChild(docLink);\n",
              "        }\n",
              "      </script>\n",
              "    </div>\n",
              "  </div>\n",
              "  "
            ]
          },
          "metadata": {},
          "execution_count": 39
        }
      ]
    },
    {
      "cell_type": "code",
      "source": [
        "# rescale data\n",
        "X_test_D2 = scale_data(input_df=X_test, scaler=scaler_new_dataset)\n",
        "X_test_D2.head()"
      ],
      "metadata": {
        "colab": {
          "base_uri": "https://localhost:8080/",
          "height": 206
        },
        "id": "OEsXpgP8dFdb",
        "outputId": "772904f3-c572-4799-a1e8-901fd7cbe727"
      },
      "execution_count": 40,
      "outputs": [
        {
          "output_type": "execute_result",
          "data": {
            "text/plain": [
              "       nr_polynomials  max_total_degree    max_x1    max_x2    max_x3  \\\n",
              "23568       -1.134294          1.499219 -0.486064 -0.483675  2.991159   \n",
              "11580        1.567634          0.858189  1.622286 -0.483675  2.064758   \n",
              "30702       -1.734722         -0.584127 -0.017542 -0.483675 -0.482845   \n",
              "24807       -0.533866         -0.584127 -0.017542 -0.483675 -0.019644   \n",
              "15318        0.366777         -0.584127 -0.251803 -0.483675 -0.482845   \n",
              "\n",
              "        prop_x1   prop_x2   prop_x3  prop_mon_x1  prop_mon_x2  prop_mon_x3  \n",
              "23568  0.052550 -1.499218  0.047988    -1.036110    -1.485386     2.109663  \n",
              "11580  0.767379 -1.618428  1.236139     0.307690    -1.515404     1.420324  \n",
              "30702  3.150145  0.050510  0.047988     1.671546    -1.035115    -1.037319  \n",
              "24807  0.052550  0.050510 -0.981744     0.167293    -0.359709    -0.887463  \n",
              "15318  1.773436 -0.293874 -0.981744     0.768994    -0.134574    -0.437894  "
            ],
            "text/html": [
              "\n",
              "  <div id=\"df-2dae172e-2374-42c4-a4aa-6df4b1045157\">\n",
              "    <div class=\"colab-df-container\">\n",
              "      <div>\n",
              "<style scoped>\n",
              "    .dataframe tbody tr th:only-of-type {\n",
              "        vertical-align: middle;\n",
              "    }\n",
              "\n",
              "    .dataframe tbody tr th {\n",
              "        vertical-align: top;\n",
              "    }\n",
              "\n",
              "    .dataframe thead th {\n",
              "        text-align: right;\n",
              "    }\n",
              "</style>\n",
              "<table border=\"1\" class=\"dataframe\">\n",
              "  <thead>\n",
              "    <tr style=\"text-align: right;\">\n",
              "      <th></th>\n",
              "      <th>nr_polynomials</th>\n",
              "      <th>max_total_degree</th>\n",
              "      <th>max_x1</th>\n",
              "      <th>max_x2</th>\n",
              "      <th>max_x3</th>\n",
              "      <th>prop_x1</th>\n",
              "      <th>prop_x2</th>\n",
              "      <th>prop_x3</th>\n",
              "      <th>prop_mon_x1</th>\n",
              "      <th>prop_mon_x2</th>\n",
              "      <th>prop_mon_x3</th>\n",
              "    </tr>\n",
              "  </thead>\n",
              "  <tbody>\n",
              "    <tr>\n",
              "      <th>23568</th>\n",
              "      <td>-1.134294</td>\n",
              "      <td>1.499219</td>\n",
              "      <td>-0.486064</td>\n",
              "      <td>-0.483675</td>\n",
              "      <td>2.991159</td>\n",
              "      <td>0.052550</td>\n",
              "      <td>-1.499218</td>\n",
              "      <td>0.047988</td>\n",
              "      <td>-1.036110</td>\n",
              "      <td>-1.485386</td>\n",
              "      <td>2.109663</td>\n",
              "    </tr>\n",
              "    <tr>\n",
              "      <th>11580</th>\n",
              "      <td>1.567634</td>\n",
              "      <td>0.858189</td>\n",
              "      <td>1.622286</td>\n",
              "      <td>-0.483675</td>\n",
              "      <td>2.064758</td>\n",
              "      <td>0.767379</td>\n",
              "      <td>-1.618428</td>\n",
              "      <td>1.236139</td>\n",
              "      <td>0.307690</td>\n",
              "      <td>-1.515404</td>\n",
              "      <td>1.420324</td>\n",
              "    </tr>\n",
              "    <tr>\n",
              "      <th>30702</th>\n",
              "      <td>-1.734722</td>\n",
              "      <td>-0.584127</td>\n",
              "      <td>-0.017542</td>\n",
              "      <td>-0.483675</td>\n",
              "      <td>-0.482845</td>\n",
              "      <td>3.150145</td>\n",
              "      <td>0.050510</td>\n",
              "      <td>0.047988</td>\n",
              "      <td>1.671546</td>\n",
              "      <td>-1.035115</td>\n",
              "      <td>-1.037319</td>\n",
              "    </tr>\n",
              "    <tr>\n",
              "      <th>24807</th>\n",
              "      <td>-0.533866</td>\n",
              "      <td>-0.584127</td>\n",
              "      <td>-0.017542</td>\n",
              "      <td>-0.483675</td>\n",
              "      <td>-0.019644</td>\n",
              "      <td>0.052550</td>\n",
              "      <td>0.050510</td>\n",
              "      <td>-0.981744</td>\n",
              "      <td>0.167293</td>\n",
              "      <td>-0.359709</td>\n",
              "      <td>-0.887463</td>\n",
              "    </tr>\n",
              "    <tr>\n",
              "      <th>15318</th>\n",
              "      <td>0.366777</td>\n",
              "      <td>-0.584127</td>\n",
              "      <td>-0.251803</td>\n",
              "      <td>-0.483675</td>\n",
              "      <td>-0.482845</td>\n",
              "      <td>1.773436</td>\n",
              "      <td>-0.293874</td>\n",
              "      <td>-0.981744</td>\n",
              "      <td>0.768994</td>\n",
              "      <td>-0.134574</td>\n",
              "      <td>-0.437894</td>\n",
              "    </tr>\n",
              "  </tbody>\n",
              "</table>\n",
              "</div>\n",
              "      <button class=\"colab-df-convert\" onclick=\"convertToInteractive('df-2dae172e-2374-42c4-a4aa-6df4b1045157')\"\n",
              "              title=\"Convert this dataframe to an interactive table.\"\n",
              "              style=\"display:none;\">\n",
              "        \n",
              "  <svg xmlns=\"http://www.w3.org/2000/svg\" height=\"24px\"viewBox=\"0 0 24 24\"\n",
              "       width=\"24px\">\n",
              "    <path d=\"M0 0h24v24H0V0z\" fill=\"none\"/>\n",
              "    <path d=\"M18.56 5.44l.94 2.06.94-2.06 2.06-.94-2.06-.94-.94-2.06-.94 2.06-2.06.94zm-11 1L8.5 8.5l.94-2.06 2.06-.94-2.06-.94L8.5 2.5l-.94 2.06-2.06.94zm10 10l.94 2.06.94-2.06 2.06-.94-2.06-.94-.94-2.06-.94 2.06-2.06.94z\"/><path d=\"M17.41 7.96l-1.37-1.37c-.4-.4-.92-.59-1.43-.59-.52 0-1.04.2-1.43.59L10.3 9.45l-7.72 7.72c-.78.78-.78 2.05 0 2.83L4 21.41c.39.39.9.59 1.41.59.51 0 1.02-.2 1.41-.59l7.78-7.78 2.81-2.81c.8-.78.8-2.07 0-2.86zM5.41 20L4 18.59l7.72-7.72 1.47 1.35L5.41 20z\"/>\n",
              "  </svg>\n",
              "      </button>\n",
              "      \n",
              "  <style>\n",
              "    .colab-df-container {\n",
              "      display:flex;\n",
              "      flex-wrap:wrap;\n",
              "      gap: 12px;\n",
              "    }\n",
              "\n",
              "    .colab-df-convert {\n",
              "      background-color: #E8F0FE;\n",
              "      border: none;\n",
              "      border-radius: 50%;\n",
              "      cursor: pointer;\n",
              "      display: none;\n",
              "      fill: #1967D2;\n",
              "      height: 32px;\n",
              "      padding: 0 0 0 0;\n",
              "      width: 32px;\n",
              "    }\n",
              "\n",
              "    .colab-df-convert:hover {\n",
              "      background-color: #E2EBFA;\n",
              "      box-shadow: 0px 1px 2px rgba(60, 64, 67, 0.3), 0px 1px 3px 1px rgba(60, 64, 67, 0.15);\n",
              "      fill: #174EA6;\n",
              "    }\n",
              "\n",
              "    [theme=dark] .colab-df-convert {\n",
              "      background-color: #3B4455;\n",
              "      fill: #D2E3FC;\n",
              "    }\n",
              "\n",
              "    [theme=dark] .colab-df-convert:hover {\n",
              "      background-color: #434B5C;\n",
              "      box-shadow: 0px 1px 3px 1px rgba(0, 0, 0, 0.15);\n",
              "      filter: drop-shadow(0px 1px 2px rgba(0, 0, 0, 0.3));\n",
              "      fill: #FFFFFF;\n",
              "    }\n",
              "  </style>\n",
              "\n",
              "      <script>\n",
              "        const buttonEl =\n",
              "          document.querySelector('#df-2dae172e-2374-42c4-a4aa-6df4b1045157 button.colab-df-convert');\n",
              "        buttonEl.style.display =\n",
              "          google.colab.kernel.accessAllowed ? 'block' : 'none';\n",
              "\n",
              "        async function convertToInteractive(key) {\n",
              "          const element = document.querySelector('#df-2dae172e-2374-42c4-a4aa-6df4b1045157');\n",
              "          const dataTable =\n",
              "            await google.colab.kernel.invokeFunction('convertToInteractive',\n",
              "                                                     [key], {});\n",
              "          if (!dataTable) return;\n",
              "\n",
              "          const docLinkHtml = 'Like what you see? Visit the ' +\n",
              "            '<a target=\"_blank\" href=https://colab.research.google.com/notebooks/data_table.ipynb>data table notebook</a>'\n",
              "            + ' to learn more about interactive tables.';\n",
              "          element.innerHTML = '';\n",
              "          dataTable['output_type'] = 'display_data';\n",
              "          await google.colab.output.renderOutput(dataTable, element);\n",
              "          const docLink = document.createElement('div');\n",
              "          docLink.innerHTML = docLinkHtml;\n",
              "          element.appendChild(docLink);\n",
              "        }\n",
              "      </script>\n",
              "    </div>\n",
              "  </div>\n",
              "  "
            ]
          },
          "metadata": {},
          "execution_count": 40
        }
      ]
    },
    {
      "cell_type": "markdown",
      "source": [
        "### Scaling D2 on D1 scaler"
      ],
      "metadata": {
        "id": "5mRPBvDLg8pD"
      }
    },
    {
      "cell_type": "code",
      "source": [
        "X_train_D2_on_D1 = scale_data(input_df=X_train, scaler=scaler_original)\n",
        "X_train_D2_on_D1.head()"
      ],
      "metadata": {
        "colab": {
          "base_uri": "https://localhost:8080/",
          "height": 206
        },
        "id": "PukDxaEDg76S",
        "outputId": "ff863076-9fb2-4456-9543-0badec53b05e"
      },
      "execution_count": 41,
      "outputs": [
        {
          "output_type": "execute_result",
          "data": {
            "text/plain": [
              "       nr_polynomials  max_total_degree    max_x1    max_x2    max_x3  \\\n",
              "31658       -0.537591         -0.580038 -0.436359 -0.608678  3.925834   \n",
              "3924         0.660058         -0.741073 -0.596648 -0.130596 -0.441678   \n",
              "4229         1.558294         -0.096933 -0.436359  1.781731 -0.441678   \n",
              "31880       -1.136415         -0.419003 -0.276070 -0.608678 -0.441678   \n",
              "7182         0.360646         -0.741073 -0.756938 -0.130596  1.742078   \n",
              "\n",
              "        prop_x1   prop_x2   prop_x3  prop_mon_x1  prop_mon_x2  prop_mon_x3  \n",
              "31658 -1.483620 -0.095131  0.710144    -1.895991    -0.627543     1.529054  \n",
              "3924  -0.408840 -0.095131  0.710144    -0.966845    -0.173957     0.752490  \n",
              "4229   0.335238  1.813887 -1.188537    -0.584255     1.889859    -0.987013  \n",
              "31880 -0.408840 -1.867791  0.710144    -0.584255    -1.364620     0.208895  \n",
              "7182  -0.767100  0.298793  1.101936    -1.429980    -0.278401     0.609439  "
            ],
            "text/html": [
              "\n",
              "  <div id=\"df-0291cc69-36b9-46e3-9739-a8288e57cc44\">\n",
              "    <div class=\"colab-df-container\">\n",
              "      <div>\n",
              "<style scoped>\n",
              "    .dataframe tbody tr th:only-of-type {\n",
              "        vertical-align: middle;\n",
              "    }\n",
              "\n",
              "    .dataframe tbody tr th {\n",
              "        vertical-align: top;\n",
              "    }\n",
              "\n",
              "    .dataframe thead th {\n",
              "        text-align: right;\n",
              "    }\n",
              "</style>\n",
              "<table border=\"1\" class=\"dataframe\">\n",
              "  <thead>\n",
              "    <tr style=\"text-align: right;\">\n",
              "      <th></th>\n",
              "      <th>nr_polynomials</th>\n",
              "      <th>max_total_degree</th>\n",
              "      <th>max_x1</th>\n",
              "      <th>max_x2</th>\n",
              "      <th>max_x3</th>\n",
              "      <th>prop_x1</th>\n",
              "      <th>prop_x2</th>\n",
              "      <th>prop_x3</th>\n",
              "      <th>prop_mon_x1</th>\n",
              "      <th>prop_mon_x2</th>\n",
              "      <th>prop_mon_x3</th>\n",
              "    </tr>\n",
              "  </thead>\n",
              "  <tbody>\n",
              "    <tr>\n",
              "      <th>31658</th>\n",
              "      <td>-0.537591</td>\n",
              "      <td>-0.580038</td>\n",
              "      <td>-0.436359</td>\n",
              "      <td>-0.608678</td>\n",
              "      <td>3.925834</td>\n",
              "      <td>-1.483620</td>\n",
              "      <td>-0.095131</td>\n",
              "      <td>0.710144</td>\n",
              "      <td>-1.895991</td>\n",
              "      <td>-0.627543</td>\n",
              "      <td>1.529054</td>\n",
              "    </tr>\n",
              "    <tr>\n",
              "      <th>3924</th>\n",
              "      <td>0.660058</td>\n",
              "      <td>-0.741073</td>\n",
              "      <td>-0.596648</td>\n",
              "      <td>-0.130596</td>\n",
              "      <td>-0.441678</td>\n",
              "      <td>-0.408840</td>\n",
              "      <td>-0.095131</td>\n",
              "      <td>0.710144</td>\n",
              "      <td>-0.966845</td>\n",
              "      <td>-0.173957</td>\n",
              "      <td>0.752490</td>\n",
              "    </tr>\n",
              "    <tr>\n",
              "      <th>4229</th>\n",
              "      <td>1.558294</td>\n",
              "      <td>-0.096933</td>\n",
              "      <td>-0.436359</td>\n",
              "      <td>1.781731</td>\n",
              "      <td>-0.441678</td>\n",
              "      <td>0.335238</td>\n",
              "      <td>1.813887</td>\n",
              "      <td>-1.188537</td>\n",
              "      <td>-0.584255</td>\n",
              "      <td>1.889859</td>\n",
              "      <td>-0.987013</td>\n",
              "    </tr>\n",
              "    <tr>\n",
              "      <th>31880</th>\n",
              "      <td>-1.136415</td>\n",
              "      <td>-0.419003</td>\n",
              "      <td>-0.276070</td>\n",
              "      <td>-0.608678</td>\n",
              "      <td>-0.441678</td>\n",
              "      <td>-0.408840</td>\n",
              "      <td>-1.867791</td>\n",
              "      <td>0.710144</td>\n",
              "      <td>-0.584255</td>\n",
              "      <td>-1.364620</td>\n",
              "      <td>0.208895</td>\n",
              "    </tr>\n",
              "    <tr>\n",
              "      <th>7182</th>\n",
              "      <td>0.360646</td>\n",
              "      <td>-0.741073</td>\n",
              "      <td>-0.756938</td>\n",
              "      <td>-0.130596</td>\n",
              "      <td>1.742078</td>\n",
              "      <td>-0.767100</td>\n",
              "      <td>0.298793</td>\n",
              "      <td>1.101936</td>\n",
              "      <td>-1.429980</td>\n",
              "      <td>-0.278401</td>\n",
              "      <td>0.609439</td>\n",
              "    </tr>\n",
              "  </tbody>\n",
              "</table>\n",
              "</div>\n",
              "      <button class=\"colab-df-convert\" onclick=\"convertToInteractive('df-0291cc69-36b9-46e3-9739-a8288e57cc44')\"\n",
              "              title=\"Convert this dataframe to an interactive table.\"\n",
              "              style=\"display:none;\">\n",
              "        \n",
              "  <svg xmlns=\"http://www.w3.org/2000/svg\" height=\"24px\"viewBox=\"0 0 24 24\"\n",
              "       width=\"24px\">\n",
              "    <path d=\"M0 0h24v24H0V0z\" fill=\"none\"/>\n",
              "    <path d=\"M18.56 5.44l.94 2.06.94-2.06 2.06-.94-2.06-.94-.94-2.06-.94 2.06-2.06.94zm-11 1L8.5 8.5l.94-2.06 2.06-.94-2.06-.94L8.5 2.5l-.94 2.06-2.06.94zm10 10l.94 2.06.94-2.06 2.06-.94-2.06-.94-.94-2.06-.94 2.06-2.06.94z\"/><path d=\"M17.41 7.96l-1.37-1.37c-.4-.4-.92-.59-1.43-.59-.52 0-1.04.2-1.43.59L10.3 9.45l-7.72 7.72c-.78.78-.78 2.05 0 2.83L4 21.41c.39.39.9.59 1.41.59.51 0 1.02-.2 1.41-.59l7.78-7.78 2.81-2.81c.8-.78.8-2.07 0-2.86zM5.41 20L4 18.59l7.72-7.72 1.47 1.35L5.41 20z\"/>\n",
              "  </svg>\n",
              "      </button>\n",
              "      \n",
              "  <style>\n",
              "    .colab-df-container {\n",
              "      display:flex;\n",
              "      flex-wrap:wrap;\n",
              "      gap: 12px;\n",
              "    }\n",
              "\n",
              "    .colab-df-convert {\n",
              "      background-color: #E8F0FE;\n",
              "      border: none;\n",
              "      border-radius: 50%;\n",
              "      cursor: pointer;\n",
              "      display: none;\n",
              "      fill: #1967D2;\n",
              "      height: 32px;\n",
              "      padding: 0 0 0 0;\n",
              "      width: 32px;\n",
              "    }\n",
              "\n",
              "    .colab-df-convert:hover {\n",
              "      background-color: #E2EBFA;\n",
              "      box-shadow: 0px 1px 2px rgba(60, 64, 67, 0.3), 0px 1px 3px 1px rgba(60, 64, 67, 0.15);\n",
              "      fill: #174EA6;\n",
              "    }\n",
              "\n",
              "    [theme=dark] .colab-df-convert {\n",
              "      background-color: #3B4455;\n",
              "      fill: #D2E3FC;\n",
              "    }\n",
              "\n",
              "    [theme=dark] .colab-df-convert:hover {\n",
              "      background-color: #434B5C;\n",
              "      box-shadow: 0px 1px 3px 1px rgba(0, 0, 0, 0.15);\n",
              "      filter: drop-shadow(0px 1px 2px rgba(0, 0, 0, 0.3));\n",
              "      fill: #FFFFFF;\n",
              "    }\n",
              "  </style>\n",
              "\n",
              "      <script>\n",
              "        const buttonEl =\n",
              "          document.querySelector('#df-0291cc69-36b9-46e3-9739-a8288e57cc44 button.colab-df-convert');\n",
              "        buttonEl.style.display =\n",
              "          google.colab.kernel.accessAllowed ? 'block' : 'none';\n",
              "\n",
              "        async function convertToInteractive(key) {\n",
              "          const element = document.querySelector('#df-0291cc69-36b9-46e3-9739-a8288e57cc44');\n",
              "          const dataTable =\n",
              "            await google.colab.kernel.invokeFunction('convertToInteractive',\n",
              "                                                     [key], {});\n",
              "          if (!dataTable) return;\n",
              "\n",
              "          const docLinkHtml = 'Like what you see? Visit the ' +\n",
              "            '<a target=\"_blank\" href=https://colab.research.google.com/notebooks/data_table.ipynb>data table notebook</a>'\n",
              "            + ' to learn more about interactive tables.';\n",
              "          element.innerHTML = '';\n",
              "          dataTable['output_type'] = 'display_data';\n",
              "          await google.colab.output.renderOutput(dataTable, element);\n",
              "          const docLink = document.createElement('div');\n",
              "          docLink.innerHTML = docLinkHtml;\n",
              "          element.appendChild(docLink);\n",
              "        }\n",
              "      </script>\n",
              "    </div>\n",
              "  </div>\n",
              "  "
            ]
          },
          "metadata": {},
          "execution_count": 41
        }
      ]
    },
    {
      "cell_type": "code",
      "source": [
        "X_test_D2_on_D1 = scale_data(input_df=X_test, scaler=scaler_original)\n",
        "X_test_D2_on_D1.head()"
      ],
      "metadata": {
        "colab": {
          "base_uri": "https://localhost:8080/",
          "height": 206
        },
        "id": "lhiYOVQch-ov",
        "outputId": "8906f9c3-922e-4a98-df67-6e775c6912b4"
      },
      "execution_count": 42,
      "outputs": [
        {
          "output_type": "execute_result",
          "data": {
            "text/plain": [
              "       nr_polynomials  max_total_degree    max_x1    max_x2     max_x3  \\\n",
              "23568       -1.136415          1.513419 -0.756938 -0.608678  32.314664   \n",
              "11580        1.558294          0.869278  0.685666 -0.608678  23.579639   \n",
              "30702       -1.735239         -0.580038 -0.436359 -0.608678  -0.441678   \n",
              "24807       -0.537591         -0.580038 -0.436359 -0.608678   3.925834   \n",
              "15318        0.360646         -0.580038 -0.596648 -0.608678  -0.441678   \n",
              "\n",
              "        prop_x1   prop_x2   prop_x3  prop_mon_x1  prop_mon_x2  prop_mon_x3  \n",
              "23568 -0.408840 -1.867791  0.710144    -1.895991    -1.648111     4.324685  \n",
              "11580  0.335238 -2.004149  2.066345    -0.431219    -1.682130     3.253026  \n",
              "30702  2.815500 -0.095131  0.710144     1.055416    -1.137827    -0.567669  \n",
              "24807 -0.408840 -0.095131 -0.465230    -0.584255    -0.372401    -0.334700  \n",
              "15318  1.382460 -0.489055 -0.465230     0.071613    -0.117259     0.364208  "
            ],
            "text/html": [
              "\n",
              "  <div id=\"df-2db2ee1f-bbf2-418f-b371-4ab5f1566a0b\">\n",
              "    <div class=\"colab-df-container\">\n",
              "      <div>\n",
              "<style scoped>\n",
              "    .dataframe tbody tr th:only-of-type {\n",
              "        vertical-align: middle;\n",
              "    }\n",
              "\n",
              "    .dataframe tbody tr th {\n",
              "        vertical-align: top;\n",
              "    }\n",
              "\n",
              "    .dataframe thead th {\n",
              "        text-align: right;\n",
              "    }\n",
              "</style>\n",
              "<table border=\"1\" class=\"dataframe\">\n",
              "  <thead>\n",
              "    <tr style=\"text-align: right;\">\n",
              "      <th></th>\n",
              "      <th>nr_polynomials</th>\n",
              "      <th>max_total_degree</th>\n",
              "      <th>max_x1</th>\n",
              "      <th>max_x2</th>\n",
              "      <th>max_x3</th>\n",
              "      <th>prop_x1</th>\n",
              "      <th>prop_x2</th>\n",
              "      <th>prop_x3</th>\n",
              "      <th>prop_mon_x1</th>\n",
              "      <th>prop_mon_x2</th>\n",
              "      <th>prop_mon_x3</th>\n",
              "    </tr>\n",
              "  </thead>\n",
              "  <tbody>\n",
              "    <tr>\n",
              "      <th>23568</th>\n",
              "      <td>-1.136415</td>\n",
              "      <td>1.513419</td>\n",
              "      <td>-0.756938</td>\n",
              "      <td>-0.608678</td>\n",
              "      <td>32.314664</td>\n",
              "      <td>-0.408840</td>\n",
              "      <td>-1.867791</td>\n",
              "      <td>0.710144</td>\n",
              "      <td>-1.895991</td>\n",
              "      <td>-1.648111</td>\n",
              "      <td>4.324685</td>\n",
              "    </tr>\n",
              "    <tr>\n",
              "      <th>11580</th>\n",
              "      <td>1.558294</td>\n",
              "      <td>0.869278</td>\n",
              "      <td>0.685666</td>\n",
              "      <td>-0.608678</td>\n",
              "      <td>23.579639</td>\n",
              "      <td>0.335238</td>\n",
              "      <td>-2.004149</td>\n",
              "      <td>2.066345</td>\n",
              "      <td>-0.431219</td>\n",
              "      <td>-1.682130</td>\n",
              "      <td>3.253026</td>\n",
              "    </tr>\n",
              "    <tr>\n",
              "      <th>30702</th>\n",
              "      <td>-1.735239</td>\n",
              "      <td>-0.580038</td>\n",
              "      <td>-0.436359</td>\n",
              "      <td>-0.608678</td>\n",
              "      <td>-0.441678</td>\n",
              "      <td>2.815500</td>\n",
              "      <td>-0.095131</td>\n",
              "      <td>0.710144</td>\n",
              "      <td>1.055416</td>\n",
              "      <td>-1.137827</td>\n",
              "      <td>-0.567669</td>\n",
              "    </tr>\n",
              "    <tr>\n",
              "      <th>24807</th>\n",
              "      <td>-0.537591</td>\n",
              "      <td>-0.580038</td>\n",
              "      <td>-0.436359</td>\n",
              "      <td>-0.608678</td>\n",
              "      <td>3.925834</td>\n",
              "      <td>-0.408840</td>\n",
              "      <td>-0.095131</td>\n",
              "      <td>-0.465230</td>\n",
              "      <td>-0.584255</td>\n",
              "      <td>-0.372401</td>\n",
              "      <td>-0.334700</td>\n",
              "    </tr>\n",
              "    <tr>\n",
              "      <th>15318</th>\n",
              "      <td>0.360646</td>\n",
              "      <td>-0.580038</td>\n",
              "      <td>-0.596648</td>\n",
              "      <td>-0.608678</td>\n",
              "      <td>-0.441678</td>\n",
              "      <td>1.382460</td>\n",
              "      <td>-0.489055</td>\n",
              "      <td>-0.465230</td>\n",
              "      <td>0.071613</td>\n",
              "      <td>-0.117259</td>\n",
              "      <td>0.364208</td>\n",
              "    </tr>\n",
              "  </tbody>\n",
              "</table>\n",
              "</div>\n",
              "      <button class=\"colab-df-convert\" onclick=\"convertToInteractive('df-2db2ee1f-bbf2-418f-b371-4ab5f1566a0b')\"\n",
              "              title=\"Convert this dataframe to an interactive table.\"\n",
              "              style=\"display:none;\">\n",
              "        \n",
              "  <svg xmlns=\"http://www.w3.org/2000/svg\" height=\"24px\"viewBox=\"0 0 24 24\"\n",
              "       width=\"24px\">\n",
              "    <path d=\"M0 0h24v24H0V0z\" fill=\"none\"/>\n",
              "    <path d=\"M18.56 5.44l.94 2.06.94-2.06 2.06-.94-2.06-.94-.94-2.06-.94 2.06-2.06.94zm-11 1L8.5 8.5l.94-2.06 2.06-.94-2.06-.94L8.5 2.5l-.94 2.06-2.06.94zm10 10l.94 2.06.94-2.06 2.06-.94-2.06-.94-.94-2.06-.94 2.06-2.06.94z\"/><path d=\"M17.41 7.96l-1.37-1.37c-.4-.4-.92-.59-1.43-.59-.52 0-1.04.2-1.43.59L10.3 9.45l-7.72 7.72c-.78.78-.78 2.05 0 2.83L4 21.41c.39.39.9.59 1.41.59.51 0 1.02-.2 1.41-.59l7.78-7.78 2.81-2.81c.8-.78.8-2.07 0-2.86zM5.41 20L4 18.59l7.72-7.72 1.47 1.35L5.41 20z\"/>\n",
              "  </svg>\n",
              "      </button>\n",
              "      \n",
              "  <style>\n",
              "    .colab-df-container {\n",
              "      display:flex;\n",
              "      flex-wrap:wrap;\n",
              "      gap: 12px;\n",
              "    }\n",
              "\n",
              "    .colab-df-convert {\n",
              "      background-color: #E8F0FE;\n",
              "      border: none;\n",
              "      border-radius: 50%;\n",
              "      cursor: pointer;\n",
              "      display: none;\n",
              "      fill: #1967D2;\n",
              "      height: 32px;\n",
              "      padding: 0 0 0 0;\n",
              "      width: 32px;\n",
              "    }\n",
              "\n",
              "    .colab-df-convert:hover {\n",
              "      background-color: #E2EBFA;\n",
              "      box-shadow: 0px 1px 2px rgba(60, 64, 67, 0.3), 0px 1px 3px 1px rgba(60, 64, 67, 0.15);\n",
              "      fill: #174EA6;\n",
              "    }\n",
              "\n",
              "    [theme=dark] .colab-df-convert {\n",
              "      background-color: #3B4455;\n",
              "      fill: #D2E3FC;\n",
              "    }\n",
              "\n",
              "    [theme=dark] .colab-df-convert:hover {\n",
              "      background-color: #434B5C;\n",
              "      box-shadow: 0px 1px 3px 1px rgba(0, 0, 0, 0.15);\n",
              "      filter: drop-shadow(0px 1px 2px rgba(0, 0, 0, 0.3));\n",
              "      fill: #FFFFFF;\n",
              "    }\n",
              "  </style>\n",
              "\n",
              "      <script>\n",
              "        const buttonEl =\n",
              "          document.querySelector('#df-2db2ee1f-bbf2-418f-b371-4ab5f1566a0b button.colab-df-convert');\n",
              "        buttonEl.style.display =\n",
              "          google.colab.kernel.accessAllowed ? 'block' : 'none';\n",
              "\n",
              "        async function convertToInteractive(key) {\n",
              "          const element = document.querySelector('#df-2db2ee1f-bbf2-418f-b371-4ab5f1566a0b');\n",
              "          const dataTable =\n",
              "            await google.colab.kernel.invokeFunction('convertToInteractive',\n",
              "                                                     [key], {});\n",
              "          if (!dataTable) return;\n",
              "\n",
              "          const docLinkHtml = 'Like what you see? Visit the ' +\n",
              "            '<a target=\"_blank\" href=https://colab.research.google.com/notebooks/data_table.ipynb>data table notebook</a>'\n",
              "            + ' to learn more about interactive tables.';\n",
              "          element.innerHTML = '';\n",
              "          dataTable['output_type'] = 'display_data';\n",
              "          await google.colab.output.renderOutput(dataTable, element);\n",
              "          const docLink = document.createElement('div');\n",
              "          docLink.innerHTML = docLinkHtml;\n",
              "          element.appendChild(docLink);\n",
              "        }\n",
              "      </script>\n",
              "    </div>\n",
              "  </div>\n",
              "  "
            ]
          },
          "metadata": {},
          "execution_count": 42
        }
      ]
    },
    {
      "cell_type": "markdown",
      "source": [
        "### Scaling D1 on D2 scaler"
      ],
      "metadata": {
        "id": "oUIT6xv6kxmu"
      }
    },
    {
      "cell_type": "code",
      "source": [
        "X_train_D1_on_D2 = scale_data(input_df=X_train_original, scaler=scaler_new_dataset)\n",
        "X_train_D1_on_D2.head()"
      ],
      "metadata": {
        "colab": {
          "base_uri": "https://localhost:8080/",
          "height": 206
        },
        "id": "v7AGs5nTkw76",
        "outputId": "cf0be8e1-9649-4130-c1e0-e806dc76e248"
      },
      "execution_count": 43,
      "outputs": [
        {
          "output_type": "execute_result",
          "data": {
            "text/plain": [
              "      nr_polynomials  max_total_degree    max_x1    max_x2    max_x3  \\\n",
              "5719        0.666991          0.217160  0.685241 -0.250312 -0.482845   \n",
              "3751       -0.533866          1.499219  3.027852 -0.483675 -0.482845   \n",
              "2028       -1.134294         -0.744384 -0.251803 -0.250312 -0.482845   \n",
              "1923       -0.533866         -0.744384 -0.251803 -0.483675 -0.482845   \n",
              "5292        0.366777         -0.584127 -0.486064 -0.483675 -0.482845   \n",
              "\n",
              "       prop_x1   prop_x2   prop_x3  prop_mon_x1  prop_mon_x2  prop_mon_x3  \n",
              "5719  0.672069  1.290294 -0.569851     2.081797     1.273545     0.466693  \n",
              "3751  0.052550  0.050510 -0.981744     1.220270    -0.990088    -1.307060  \n",
              "2028  0.052550  0.050510  0.047988    -0.534692    -0.534815    -0.537798  \n",
              "1923  0.052550  0.050510 -0.981744    -0.480694    -0.480936    -0.968155  \n",
              "5292  1.773436 -0.293874 -0.981744     0.808235    -0.017112    -0.568204  "
            ],
            "text/html": [
              "\n",
              "  <div id=\"df-09695be7-b10a-4ef2-899e-8481f5d45e81\">\n",
              "    <div class=\"colab-df-container\">\n",
              "      <div>\n",
              "<style scoped>\n",
              "    .dataframe tbody tr th:only-of-type {\n",
              "        vertical-align: middle;\n",
              "    }\n",
              "\n",
              "    .dataframe tbody tr th {\n",
              "        vertical-align: top;\n",
              "    }\n",
              "\n",
              "    .dataframe thead th {\n",
              "        text-align: right;\n",
              "    }\n",
              "</style>\n",
              "<table border=\"1\" class=\"dataframe\">\n",
              "  <thead>\n",
              "    <tr style=\"text-align: right;\">\n",
              "      <th></th>\n",
              "      <th>nr_polynomials</th>\n",
              "      <th>max_total_degree</th>\n",
              "      <th>max_x1</th>\n",
              "      <th>max_x2</th>\n",
              "      <th>max_x3</th>\n",
              "      <th>prop_x1</th>\n",
              "      <th>prop_x2</th>\n",
              "      <th>prop_x3</th>\n",
              "      <th>prop_mon_x1</th>\n",
              "      <th>prop_mon_x2</th>\n",
              "      <th>prop_mon_x3</th>\n",
              "    </tr>\n",
              "  </thead>\n",
              "  <tbody>\n",
              "    <tr>\n",
              "      <th>5719</th>\n",
              "      <td>0.666991</td>\n",
              "      <td>0.217160</td>\n",
              "      <td>0.685241</td>\n",
              "      <td>-0.250312</td>\n",
              "      <td>-0.482845</td>\n",
              "      <td>0.672069</td>\n",
              "      <td>1.290294</td>\n",
              "      <td>-0.569851</td>\n",
              "      <td>2.081797</td>\n",
              "      <td>1.273545</td>\n",
              "      <td>0.466693</td>\n",
              "    </tr>\n",
              "    <tr>\n",
              "      <th>3751</th>\n",
              "      <td>-0.533866</td>\n",
              "      <td>1.499219</td>\n",
              "      <td>3.027852</td>\n",
              "      <td>-0.483675</td>\n",
              "      <td>-0.482845</td>\n",
              "      <td>0.052550</td>\n",
              "      <td>0.050510</td>\n",
              "      <td>-0.981744</td>\n",
              "      <td>1.220270</td>\n",
              "      <td>-0.990088</td>\n",
              "      <td>-1.307060</td>\n",
              "    </tr>\n",
              "    <tr>\n",
              "      <th>2028</th>\n",
              "      <td>-1.134294</td>\n",
              "      <td>-0.744384</td>\n",
              "      <td>-0.251803</td>\n",
              "      <td>-0.250312</td>\n",
              "      <td>-0.482845</td>\n",
              "      <td>0.052550</td>\n",
              "      <td>0.050510</td>\n",
              "      <td>0.047988</td>\n",
              "      <td>-0.534692</td>\n",
              "      <td>-0.534815</td>\n",
              "      <td>-0.537798</td>\n",
              "    </tr>\n",
              "    <tr>\n",
              "      <th>1923</th>\n",
              "      <td>-0.533866</td>\n",
              "      <td>-0.744384</td>\n",
              "      <td>-0.251803</td>\n",
              "      <td>-0.483675</td>\n",
              "      <td>-0.482845</td>\n",
              "      <td>0.052550</td>\n",
              "      <td>0.050510</td>\n",
              "      <td>-0.981744</td>\n",
              "      <td>-0.480694</td>\n",
              "      <td>-0.480936</td>\n",
              "      <td>-0.968155</td>\n",
              "    </tr>\n",
              "    <tr>\n",
              "      <th>5292</th>\n",
              "      <td>0.366777</td>\n",
              "      <td>-0.584127</td>\n",
              "      <td>-0.486064</td>\n",
              "      <td>-0.483675</td>\n",
              "      <td>-0.482845</td>\n",
              "      <td>1.773436</td>\n",
              "      <td>-0.293874</td>\n",
              "      <td>-0.981744</td>\n",
              "      <td>0.808235</td>\n",
              "      <td>-0.017112</td>\n",
              "      <td>-0.568204</td>\n",
              "    </tr>\n",
              "  </tbody>\n",
              "</table>\n",
              "</div>\n",
              "      <button class=\"colab-df-convert\" onclick=\"convertToInteractive('df-09695be7-b10a-4ef2-899e-8481f5d45e81')\"\n",
              "              title=\"Convert this dataframe to an interactive table.\"\n",
              "              style=\"display:none;\">\n",
              "        \n",
              "  <svg xmlns=\"http://www.w3.org/2000/svg\" height=\"24px\"viewBox=\"0 0 24 24\"\n",
              "       width=\"24px\">\n",
              "    <path d=\"M0 0h24v24H0V0z\" fill=\"none\"/>\n",
              "    <path d=\"M18.56 5.44l.94 2.06.94-2.06 2.06-.94-2.06-.94-.94-2.06-.94 2.06-2.06.94zm-11 1L8.5 8.5l.94-2.06 2.06-.94-2.06-.94L8.5 2.5l-.94 2.06-2.06.94zm10 10l.94 2.06.94-2.06 2.06-.94-2.06-.94-.94-2.06-.94 2.06-2.06.94z\"/><path d=\"M17.41 7.96l-1.37-1.37c-.4-.4-.92-.59-1.43-.59-.52 0-1.04.2-1.43.59L10.3 9.45l-7.72 7.72c-.78.78-.78 2.05 0 2.83L4 21.41c.39.39.9.59 1.41.59.51 0 1.02-.2 1.41-.59l7.78-7.78 2.81-2.81c.8-.78.8-2.07 0-2.86zM5.41 20L4 18.59l7.72-7.72 1.47 1.35L5.41 20z\"/>\n",
              "  </svg>\n",
              "      </button>\n",
              "      \n",
              "  <style>\n",
              "    .colab-df-container {\n",
              "      display:flex;\n",
              "      flex-wrap:wrap;\n",
              "      gap: 12px;\n",
              "    }\n",
              "\n",
              "    .colab-df-convert {\n",
              "      background-color: #E8F0FE;\n",
              "      border: none;\n",
              "      border-radius: 50%;\n",
              "      cursor: pointer;\n",
              "      display: none;\n",
              "      fill: #1967D2;\n",
              "      height: 32px;\n",
              "      padding: 0 0 0 0;\n",
              "      width: 32px;\n",
              "    }\n",
              "\n",
              "    .colab-df-convert:hover {\n",
              "      background-color: #E2EBFA;\n",
              "      box-shadow: 0px 1px 2px rgba(60, 64, 67, 0.3), 0px 1px 3px 1px rgba(60, 64, 67, 0.15);\n",
              "      fill: #174EA6;\n",
              "    }\n",
              "\n",
              "    [theme=dark] .colab-df-convert {\n",
              "      background-color: #3B4455;\n",
              "      fill: #D2E3FC;\n",
              "    }\n",
              "\n",
              "    [theme=dark] .colab-df-convert:hover {\n",
              "      background-color: #434B5C;\n",
              "      box-shadow: 0px 1px 3px 1px rgba(0, 0, 0, 0.15);\n",
              "      filter: drop-shadow(0px 1px 2px rgba(0, 0, 0, 0.3));\n",
              "      fill: #FFFFFF;\n",
              "    }\n",
              "  </style>\n",
              "\n",
              "      <script>\n",
              "        const buttonEl =\n",
              "          document.querySelector('#df-09695be7-b10a-4ef2-899e-8481f5d45e81 button.colab-df-convert');\n",
              "        buttonEl.style.display =\n",
              "          google.colab.kernel.accessAllowed ? 'block' : 'none';\n",
              "\n",
              "        async function convertToInteractive(key) {\n",
              "          const element = document.querySelector('#df-09695be7-b10a-4ef2-899e-8481f5d45e81');\n",
              "          const dataTable =\n",
              "            await google.colab.kernel.invokeFunction('convertToInteractive',\n",
              "                                                     [key], {});\n",
              "          if (!dataTable) return;\n",
              "\n",
              "          const docLinkHtml = 'Like what you see? Visit the ' +\n",
              "            '<a target=\"_blank\" href=https://colab.research.google.com/notebooks/data_table.ipynb>data table notebook</a>'\n",
              "            + ' to learn more about interactive tables.';\n",
              "          element.innerHTML = '';\n",
              "          dataTable['output_type'] = 'display_data';\n",
              "          await google.colab.output.renderOutput(dataTable, element);\n",
              "          const docLink = document.createElement('div');\n",
              "          docLink.innerHTML = docLinkHtml;\n",
              "          element.appendChild(docLink);\n",
              "        }\n",
              "      </script>\n",
              "    </div>\n",
              "  </div>\n",
              "  "
            ]
          },
          "metadata": {},
          "execution_count": 43
        }
      ]
    },
    {
      "cell_type": "code",
      "source": [
        "X_test_D1_on_D2 = scale_data(input_df=X_test_original, scaler=scaler_new_dataset)\n",
        "X_test_D1_on_D2.head()"
      ],
      "metadata": {
        "colab": {
          "base_uri": "https://localhost:8080/",
          "height": 206
        },
        "id": "egt17SmnlMyu",
        "outputId": "8540f6e7-ec9a-41db-f776-f42da2f3072d"
      },
      "execution_count": 44,
      "outputs": [
        {
          "output_type": "execute_result",
          "data": {
            "text/plain": [
              "      nr_polynomials  max_total_degree    max_x1    max_x2    max_x3  \\\n",
              "5306       -1.434508         -0.904641 -0.486064 -0.483675 -0.482845   \n",
              "6001       -0.233651          0.217160  0.216719  0.216415 -0.482845   \n",
              "2820       -1.134294          2.781277  4.901941 -0.483675 -0.482845   \n",
              "1036       -0.533866          1.499219  3.027852 -0.483675 -0.482845   \n",
              "2104       -0.233651          0.056903  0.685241 -0.250312 -0.251244   \n",
              "\n",
              "       prop_x1   prop_x2   prop_x3  prop_mon_x1  prop_mon_x2  prop_mon_x3  \n",
              "5306  1.085082 -0.982642 -0.981744     0.588484    -0.674899    -0.677664  \n",
              "6001 -0.389964 -0.392269  0.489301     0.721491     0.055014    -0.611412  \n",
              "2820  0.052550  0.050510 -1.496609     2.624240    -1.235236    -1.586792  \n",
              "1036  0.052550  0.050510 -0.981744     1.386530    -0.940322    -1.273934  \n",
              "2104  0.495063  0.493290  0.489301     1.949254     0.973784     0.484299  "
            ],
            "text/html": [
              "\n",
              "  <div id=\"df-5270139c-1c0b-4792-8976-c200e17b0617\">\n",
              "    <div class=\"colab-df-container\">\n",
              "      <div>\n",
              "<style scoped>\n",
              "    .dataframe tbody tr th:only-of-type {\n",
              "        vertical-align: middle;\n",
              "    }\n",
              "\n",
              "    .dataframe tbody tr th {\n",
              "        vertical-align: top;\n",
              "    }\n",
              "\n",
              "    .dataframe thead th {\n",
              "        text-align: right;\n",
              "    }\n",
              "</style>\n",
              "<table border=\"1\" class=\"dataframe\">\n",
              "  <thead>\n",
              "    <tr style=\"text-align: right;\">\n",
              "      <th></th>\n",
              "      <th>nr_polynomials</th>\n",
              "      <th>max_total_degree</th>\n",
              "      <th>max_x1</th>\n",
              "      <th>max_x2</th>\n",
              "      <th>max_x3</th>\n",
              "      <th>prop_x1</th>\n",
              "      <th>prop_x2</th>\n",
              "      <th>prop_x3</th>\n",
              "      <th>prop_mon_x1</th>\n",
              "      <th>prop_mon_x2</th>\n",
              "      <th>prop_mon_x3</th>\n",
              "    </tr>\n",
              "  </thead>\n",
              "  <tbody>\n",
              "    <tr>\n",
              "      <th>5306</th>\n",
              "      <td>-1.434508</td>\n",
              "      <td>-0.904641</td>\n",
              "      <td>-0.486064</td>\n",
              "      <td>-0.483675</td>\n",
              "      <td>-0.482845</td>\n",
              "      <td>1.085082</td>\n",
              "      <td>-0.982642</td>\n",
              "      <td>-0.981744</td>\n",
              "      <td>0.588484</td>\n",
              "      <td>-0.674899</td>\n",
              "      <td>-0.677664</td>\n",
              "    </tr>\n",
              "    <tr>\n",
              "      <th>6001</th>\n",
              "      <td>-0.233651</td>\n",
              "      <td>0.217160</td>\n",
              "      <td>0.216719</td>\n",
              "      <td>0.216415</td>\n",
              "      <td>-0.482845</td>\n",
              "      <td>-0.389964</td>\n",
              "      <td>-0.392269</td>\n",
              "      <td>0.489301</td>\n",
              "      <td>0.721491</td>\n",
              "      <td>0.055014</td>\n",
              "      <td>-0.611412</td>\n",
              "    </tr>\n",
              "    <tr>\n",
              "      <th>2820</th>\n",
              "      <td>-1.134294</td>\n",
              "      <td>2.781277</td>\n",
              "      <td>4.901941</td>\n",
              "      <td>-0.483675</td>\n",
              "      <td>-0.482845</td>\n",
              "      <td>0.052550</td>\n",
              "      <td>0.050510</td>\n",
              "      <td>-1.496609</td>\n",
              "      <td>2.624240</td>\n",
              "      <td>-1.235236</td>\n",
              "      <td>-1.586792</td>\n",
              "    </tr>\n",
              "    <tr>\n",
              "      <th>1036</th>\n",
              "      <td>-0.533866</td>\n",
              "      <td>1.499219</td>\n",
              "      <td>3.027852</td>\n",
              "      <td>-0.483675</td>\n",
              "      <td>-0.482845</td>\n",
              "      <td>0.052550</td>\n",
              "      <td>0.050510</td>\n",
              "      <td>-0.981744</td>\n",
              "      <td>1.386530</td>\n",
              "      <td>-0.940322</td>\n",
              "      <td>-1.273934</td>\n",
              "    </tr>\n",
              "    <tr>\n",
              "      <th>2104</th>\n",
              "      <td>-0.233651</td>\n",
              "      <td>0.056903</td>\n",
              "      <td>0.685241</td>\n",
              "      <td>-0.250312</td>\n",
              "      <td>-0.251244</td>\n",
              "      <td>0.495063</td>\n",
              "      <td>0.493290</td>\n",
              "      <td>0.489301</td>\n",
              "      <td>1.949254</td>\n",
              "      <td>0.973784</td>\n",
              "      <td>0.484299</td>\n",
              "    </tr>\n",
              "  </tbody>\n",
              "</table>\n",
              "</div>\n",
              "      <button class=\"colab-df-convert\" onclick=\"convertToInteractive('df-5270139c-1c0b-4792-8976-c200e17b0617')\"\n",
              "              title=\"Convert this dataframe to an interactive table.\"\n",
              "              style=\"display:none;\">\n",
              "        \n",
              "  <svg xmlns=\"http://www.w3.org/2000/svg\" height=\"24px\"viewBox=\"0 0 24 24\"\n",
              "       width=\"24px\">\n",
              "    <path d=\"M0 0h24v24H0V0z\" fill=\"none\"/>\n",
              "    <path d=\"M18.56 5.44l.94 2.06.94-2.06 2.06-.94-2.06-.94-.94-2.06-.94 2.06-2.06.94zm-11 1L8.5 8.5l.94-2.06 2.06-.94-2.06-.94L8.5 2.5l-.94 2.06-2.06.94zm10 10l.94 2.06.94-2.06 2.06-.94-2.06-.94-.94-2.06-.94 2.06-2.06.94z\"/><path d=\"M17.41 7.96l-1.37-1.37c-.4-.4-.92-.59-1.43-.59-.52 0-1.04.2-1.43.59L10.3 9.45l-7.72 7.72c-.78.78-.78 2.05 0 2.83L4 21.41c.39.39.9.59 1.41.59.51 0 1.02-.2 1.41-.59l7.78-7.78 2.81-2.81c.8-.78.8-2.07 0-2.86zM5.41 20L4 18.59l7.72-7.72 1.47 1.35L5.41 20z\"/>\n",
              "  </svg>\n",
              "      </button>\n",
              "      \n",
              "  <style>\n",
              "    .colab-df-container {\n",
              "      display:flex;\n",
              "      flex-wrap:wrap;\n",
              "      gap: 12px;\n",
              "    }\n",
              "\n",
              "    .colab-df-convert {\n",
              "      background-color: #E8F0FE;\n",
              "      border: none;\n",
              "      border-radius: 50%;\n",
              "      cursor: pointer;\n",
              "      display: none;\n",
              "      fill: #1967D2;\n",
              "      height: 32px;\n",
              "      padding: 0 0 0 0;\n",
              "      width: 32px;\n",
              "    }\n",
              "\n",
              "    .colab-df-convert:hover {\n",
              "      background-color: #E2EBFA;\n",
              "      box-shadow: 0px 1px 2px rgba(60, 64, 67, 0.3), 0px 1px 3px 1px rgba(60, 64, 67, 0.15);\n",
              "      fill: #174EA6;\n",
              "    }\n",
              "\n",
              "    [theme=dark] .colab-df-convert {\n",
              "      background-color: #3B4455;\n",
              "      fill: #D2E3FC;\n",
              "    }\n",
              "\n",
              "    [theme=dark] .colab-df-convert:hover {\n",
              "      background-color: #434B5C;\n",
              "      box-shadow: 0px 1px 3px 1px rgba(0, 0, 0, 0.15);\n",
              "      filter: drop-shadow(0px 1px 2px rgba(0, 0, 0, 0.3));\n",
              "      fill: #FFFFFF;\n",
              "    }\n",
              "  </style>\n",
              "\n",
              "      <script>\n",
              "        const buttonEl =\n",
              "          document.querySelector('#df-5270139c-1c0b-4792-8976-c200e17b0617 button.colab-df-convert');\n",
              "        buttonEl.style.display =\n",
              "          google.colab.kernel.accessAllowed ? 'block' : 'none';\n",
              "\n",
              "        async function convertToInteractive(key) {\n",
              "          const element = document.querySelector('#df-5270139c-1c0b-4792-8976-c200e17b0617');\n",
              "          const dataTable =\n",
              "            await google.colab.kernel.invokeFunction('convertToInteractive',\n",
              "                                                     [key], {});\n",
              "          if (!dataTable) return;\n",
              "\n",
              "          const docLinkHtml = 'Like what you see? Visit the ' +\n",
              "            '<a target=\"_blank\" href=https://colab.research.google.com/notebooks/data_table.ipynb>data table notebook</a>'\n",
              "            + ' to learn more about interactive tables.';\n",
              "          element.innerHTML = '';\n",
              "          dataTable['output_type'] = 'display_data';\n",
              "          await google.colab.output.renderOutput(dataTable, element);\n",
              "          const docLink = document.createElement('div');\n",
              "          docLink.innerHTML = docLinkHtml;\n",
              "          element.appendChild(docLink);\n",
              "        }\n",
              "      </script>\n",
              "    </div>\n",
              "  </div>\n",
              "  "
            ]
          },
          "metadata": {},
          "execution_count": 44
        }
      ]
    },
    {
      "cell_type": "markdown",
      "source": [
        "### Training and Testing on Original Metitarski Data (D1)"
      ],
      "metadata": {
        "id": "rnJuaS2V2cAH"
      }
    },
    {
      "cell_type": "markdown",
      "source": [
        "#### SVM"
      ],
      "metadata": {
        "id": "BHWimxfToIa4"
      }
    },
    {
      "cell_type": "code",
      "source": [
        "D1_svm = svm.SVC(C=316, kernel='rbf', gamma=0.08, tol=0.0316)\n",
        "\n",
        "D1_svm.fit(X_train_D1, y_train_original)"
      ],
      "metadata": {
        "colab": {
          "base_uri": "https://localhost:8080/"
        },
        "id": "S7TZCS-6oLzp",
        "outputId": "84ab259a-3e5f-40be-8160-0814d47abfe4"
      },
      "execution_count": 45,
      "outputs": [
        {
          "output_type": "execute_result",
          "data": {
            "text/plain": [
              "SVC(C=316, gamma=0.08, tol=0.0316)"
            ]
          },
          "metadata": {},
          "execution_count": 45
        }
      ]
    },
    {
      "cell_type": "code",
      "source": [
        "D1_svm_score = D1_svm.score(X_test_D1, y_test_original)\n",
        "D1_svm_score"
      ],
      "metadata": {
        "colab": {
          "base_uri": "https://localhost:8080/"
        },
        "id": "jtYU7pwToLjo",
        "outputId": "f7b1d594-0742-4c15-e7c8-7e0794a112d8"
      },
      "execution_count": 46,
      "outputs": [
        {
          "output_type": "execute_result",
          "data": {
            "text/plain": [
              "0.5840579710144927"
            ]
          },
          "metadata": {},
          "execution_count": 46
        }
      ]
    },
    {
      "cell_type": "code",
      "source": [
        "D1_svm_score_D2_data = D1_svm.score(X_test_D2_on_D1, y_test)\n",
        "D1_svm_score_D2_data"
      ],
      "metadata": {
        "colab": {
          "base_uri": "https://localhost:8080/"
        },
        "id": "kdCH5d9woLSG",
        "outputId": "09df9d63-6261-4a26-ad07-15a84be7c9ef"
      },
      "execution_count": 47,
      "outputs": [
        {
          "output_type": "execute_result",
          "data": {
            "text/plain": [
              "0.30215131737974377"
            ]
          },
          "metadata": {},
          "execution_count": 47
        }
      ]
    },
    {
      "cell_type": "markdown",
      "source": [
        "#### K-NN"
      ],
      "metadata": {
        "id": "8Y8UnwIipB0N"
      }
    },
    {
      "cell_type": "code",
      "source": [
        "D1_knn = KNeighborsClassifier(weights='distance', algorithm='ball_tree')\n",
        "\n",
        "D1_knn.fit(X_train_D1, y_train_original)"
      ],
      "metadata": {
        "colab": {
          "base_uri": "https://localhost:8080/"
        },
        "id": "32GzybBvpJPs",
        "outputId": "12be76f0-81de-49cb-a06c-feb2aae7b4fc"
      },
      "execution_count": 48,
      "outputs": [
        {
          "output_type": "execute_result",
          "data": {
            "text/plain": [
              "KNeighborsClassifier(algorithm='ball_tree', weights='distance')"
            ]
          },
          "metadata": {},
          "execution_count": 48
        }
      ]
    },
    {
      "cell_type": "code",
      "source": [
        "D1_knn_score = D1_knn.score(X_test_D1, y_test_original)\n",
        "D1_knn_score"
      ],
      "metadata": {
        "colab": {
          "base_uri": "https://localhost:8080/"
        },
        "id": "7WhyU7NspJH2",
        "outputId": "7d3114dd-24c6-47b7-dcfe-583892646daf"
      },
      "execution_count": 49,
      "outputs": [
        {
          "output_type": "execute_result",
          "data": {
            "text/plain": [
              "0.5869565217391305"
            ]
          },
          "metadata": {},
          "execution_count": 49
        }
      ]
    },
    {
      "cell_type": "code",
      "source": [
        "D1_knn_score_D2_data = D1_knn.score(X_test_D2_on_D1, y_test)\n",
        "D1_knn_score_D2_data"
      ],
      "metadata": {
        "colab": {
          "base_uri": "https://localhost:8080/"
        },
        "id": "nwhCaANGpI7E",
        "outputId": "e523f0e5-8140-4277-87ec-49012f08163a"
      },
      "execution_count": 50,
      "outputs": [
        {
          "output_type": "execute_result",
          "data": {
            "text/plain": [
              "0.3287406333091612"
            ]
          },
          "metadata": {},
          "execution_count": 50
        }
      ]
    },
    {
      "cell_type": "markdown",
      "source": [
        "#### Decision Trees"
      ],
      "metadata": {
        "id": "FUzXPk7qpKOO"
      }
    },
    {
      "cell_type": "code",
      "source": [
        "D1_dt = DecisionTreeClassifier(max_depth=17)\n",
        "\n",
        "D1_dt.fit(X_train_D1, y_train_original)"
      ],
      "metadata": {
        "colab": {
          "base_uri": "https://localhost:8080/"
        },
        "id": "dUlMRKA4pP4c",
        "outputId": "74af1e85-b6ef-4573-c046-bb1b1d625c01"
      },
      "execution_count": 51,
      "outputs": [
        {
          "output_type": "execute_result",
          "data": {
            "text/plain": [
              "DecisionTreeClassifier(max_depth=17)"
            ]
          },
          "metadata": {},
          "execution_count": 51
        }
      ]
    },
    {
      "cell_type": "code",
      "source": [
        "D1_dt_score = D1_dt.score(X_test_D1, y_test_original)\n",
        "D1_dt_score"
      ],
      "metadata": {
        "colab": {
          "base_uri": "https://localhost:8080/"
        },
        "id": "I6YGkarrpPtz",
        "outputId": "718f55ca-e1c6-41b4-a17c-6cf667511c61"
      },
      "execution_count": 52,
      "outputs": [
        {
          "output_type": "execute_result",
          "data": {
            "text/plain": [
              "0.5855072463768116"
            ]
          },
          "metadata": {},
          "execution_count": 52
        }
      ]
    },
    {
      "cell_type": "code",
      "source": [
        "D1_knn_score_D2_data = D1_dt.score(X_test_D2_on_D1, y_test)\n",
        "D1_knn_score_D2_data"
      ],
      "metadata": {
        "colab": {
          "base_uri": "https://localhost:8080/"
        },
        "id": "E4xquvW5pPgQ",
        "outputId": "70638dfe-4076-4978-e264-e147fb3c2e17"
      },
      "execution_count": 53,
      "outputs": [
        {
          "output_type": "execute_result",
          "data": {
            "text/plain": [
              "0.29804205946337925"
            ]
          },
          "metadata": {},
          "execution_count": 53
        }
      ]
    },
    {
      "cell_type": "markdown",
      "source": [
        "#### RF"
      ],
      "metadata": {
        "id": "Ycsbn0L8pQwl"
      }
    },
    {
      "cell_type": "code",
      "source": [
        "D1_rf = RandomForestClassifier()\n",
        "D1_rf.fit(X_train_D1, y_train_original)"
      ],
      "metadata": {
        "colab": {
          "base_uri": "https://localhost:8080/"
        },
        "id": "h2ljft80pTns",
        "outputId": "b5692e12-a9de-4dc8-b910-8ed5324056a0"
      },
      "execution_count": 54,
      "outputs": [
        {
          "output_type": "execute_result",
          "data": {
            "text/plain": [
              "RandomForestClassifier()"
            ]
          },
          "metadata": {},
          "execution_count": 54
        }
      ]
    },
    {
      "cell_type": "code",
      "source": [
        "D1_rf_score = D1_rf.score(X_test_D1, y_test_original)\n",
        "D1_rf_score"
      ],
      "metadata": {
        "colab": {
          "base_uri": "https://localhost:8080/"
        },
        "id": "u_8r4tuRpTd3",
        "outputId": "c64c729d-7953-4abd-80b2-0bdf75be5b57"
      },
      "execution_count": 55,
      "outputs": [
        {
          "output_type": "execute_result",
          "data": {
            "text/plain": [
              "0.5971014492753624"
            ]
          },
          "metadata": {},
          "execution_count": 55
        }
      ]
    },
    {
      "cell_type": "code",
      "source": [
        "D1_rf_score_D2_data = D1_rf.score(X_test_D2_on_D1, y_test)\n",
        "D1_rf_score_D2_data"
      ],
      "metadata": {
        "colab": {
          "base_uri": "https://localhost:8080/"
        },
        "id": "E2SwI03ypTVK",
        "outputId": "c2a71868-97dd-47a1-977d-75332afc23c5"
      },
      "execution_count": 56,
      "outputs": [
        {
          "output_type": "execute_result",
          "data": {
            "text/plain": [
              "0.32366449117718155"
            ]
          },
          "metadata": {},
          "execution_count": 56
        }
      ]
    },
    {
      "cell_type": "markdown",
      "source": [
        "#### MLP"
      ],
      "metadata": {
        "id": "McFw9WxmpUpW"
      }
    },
    {
      "cell_type": "code",
      "source": [
        "D1_mlp = MLPClassifier(hidden_layer_sizes=(18,), activation='tanh', solver='lbfgs', alpha=0.00005)\n",
        "\n",
        "D1_mlp.fit(X_train_D1, y_train_original)"
      ],
      "metadata": {
        "colab": {
          "base_uri": "https://localhost:8080/"
        },
        "id": "kL6C5LDvpXv7",
        "outputId": "c3ceaffd-b8db-4fe9-9839-cc90938e4934"
      },
      "execution_count": 57,
      "outputs": [
        {
          "output_type": "execute_result",
          "data": {
            "text/plain": [
              "MLPClassifier(activation='tanh', alpha=5e-05, hidden_layer_sizes=(18,),\n",
              "              solver='lbfgs')"
            ]
          },
          "metadata": {},
          "execution_count": 57
        }
      ]
    },
    {
      "cell_type": "code",
      "source": [
        "D1_mlp_score = D1_mlp.score(X_test_D1, y_test_original)\n",
        "D1_mlp_score"
      ],
      "metadata": {
        "colab": {
          "base_uri": "https://localhost:8080/"
        },
        "id": "iyu5_shHpXn8",
        "outputId": "6b89ac22-e8d2-4d35-9638-8d06fa60402b"
      },
      "execution_count": 58,
      "outputs": [
        {
          "output_type": "execute_result",
          "data": {
            "text/plain": [
              "0.5492753623188406"
            ]
          },
          "metadata": {},
          "execution_count": 58
        }
      ]
    },
    {
      "cell_type": "code",
      "source": [
        "D1_mlp_score_D2_data = D1_mlp.score(X_test_D2_on_D1, y_test)\n",
        "D1_mlp_score_D2_data"
      ],
      "metadata": {
        "colab": {
          "base_uri": "https://localhost:8080/"
        },
        "id": "HCRlOQyapXgX",
        "outputId": "03cc8ef3-d60e-4a77-8f31-3d0e505d8b88"
      },
      "execution_count": 59,
      "outputs": [
        {
          "output_type": "execute_result",
          "data": {
            "text/plain": [
              "0.3135122069132221"
            ]
          },
          "metadata": {},
          "execution_count": 59
        }
      ]
    },
    {
      "cell_type": "markdown",
      "source": [
        "### Training and Testing on New Metitarski Data (D2)"
      ],
      "metadata": {
        "id": "KtZuOHHWutzq"
      }
    },
    {
      "cell_type": "markdown",
      "source": [
        "#### SVM"
      ],
      "metadata": {
        "id": "K2iycFWFuyct"
      }
    },
    {
      "cell_type": "code",
      "source": [
        "D2_svm = svm.SVC(C=316, kernel='rbf', gamma=0.08, tol=0.0316)\n",
        "\n",
        "D2_svm.fit(X_train_D2, y_train)"
      ],
      "metadata": {
        "colab": {
          "base_uri": "https://localhost:8080/"
        },
        "id": "iLFbl7w6u2ni",
        "outputId": "52d02290-90c2-4b7b-da95-83e45d32cbd6"
      },
      "execution_count": 60,
      "outputs": [
        {
          "output_type": "execute_result",
          "data": {
            "text/plain": [
              "SVC(C=316, gamma=0.08, tol=0.0316)"
            ]
          },
          "metadata": {},
          "execution_count": 60
        }
      ]
    },
    {
      "cell_type": "code",
      "source": [
        "D2_svm_score = D2_svm.score(X_test_D2, y_test)\n",
        "D2_svm_score"
      ],
      "metadata": {
        "colab": {
          "base_uri": "https://localhost:8080/"
        },
        "id": "OjHtNcVzu2e6",
        "outputId": "03e48f51-0295-43b6-b61a-b61f09ce74f5"
      },
      "execution_count": 61,
      "outputs": [
        {
          "output_type": "execute_result",
          "data": {
            "text/plain": [
              "0.5644186608653614"
            ]
          },
          "metadata": {},
          "execution_count": 61
        }
      ]
    },
    {
      "cell_type": "code",
      "source": [
        "D2_svm_score_D1_data = D2_svm.score(X_test_D1_on_D2, y_test_original)\n",
        "D2_svm_score_D1_data"
      ],
      "metadata": {
        "colab": {
          "base_uri": "https://localhost:8080/"
        },
        "id": "sUrftlvau2St",
        "outputId": "48107d1a-9ab7-406d-de80-e86b8ead3759"
      },
      "execution_count": 62,
      "outputs": [
        {
          "output_type": "execute_result",
          "data": {
            "text/plain": [
              "0.6275362318840579"
            ]
          },
          "metadata": {},
          "execution_count": 62
        }
      ]
    },
    {
      "cell_type": "markdown",
      "source": [
        "#### K-NN"
      ],
      "metadata": {
        "id": "2tIp101Qu3j_"
      }
    },
    {
      "cell_type": "code",
      "source": [
        "D2_knn = KNeighborsClassifier(weights='distance', algorithm='ball_tree')\n",
        "\n",
        "D2_knn.fit(X_train_D2, y_train)"
      ],
      "metadata": {
        "colab": {
          "base_uri": "https://localhost:8080/"
        },
        "id": "Zrlu_Ohmu7Q8",
        "outputId": "23a8dad4-11ca-45bd-c1a3-e70526bec6d9"
      },
      "execution_count": 63,
      "outputs": [
        {
          "output_type": "execute_result",
          "data": {
            "text/plain": [
              "KNeighborsClassifier(algorithm='ball_tree', weights='distance')"
            ]
          },
          "metadata": {},
          "execution_count": 63
        }
      ]
    },
    {
      "cell_type": "code",
      "source": [
        "D2_knn_score = D2_knn.score(X_test_D2, y_test)\n",
        "D2_knn_score"
      ],
      "metadata": {
        "colab": {
          "base_uri": "https://localhost:8080/"
        },
        "id": "ZkBaOvLru7Ik",
        "outputId": "bf628ea5-ef54-4bb7-e366-3d96dbda964e"
      },
      "execution_count": 64,
      "outputs": [
        {
          "output_type": "execute_result",
          "data": {
            "text/plain": [
              "0.5484650713077109"
            ]
          },
          "metadata": {},
          "execution_count": 64
        }
      ]
    },
    {
      "cell_type": "code",
      "source": [
        "D2_knn_score_D1_data = D2_knn.score(X_test_D1_on_D2, y_test_original)\n",
        "D2_knn_score_D1_data"
      ],
      "metadata": {
        "colab": {
          "base_uri": "https://localhost:8080/"
        },
        "id": "Qm77yf6Pu69l",
        "outputId": "1bd7506d-8693-4c2c-c2b8-82761e63fff4"
      },
      "execution_count": 65,
      "outputs": [
        {
          "output_type": "execute_result",
          "data": {
            "text/plain": [
              "0.7"
            ]
          },
          "metadata": {},
          "execution_count": 65
        }
      ]
    },
    {
      "cell_type": "markdown",
      "source": [
        "#### Decision Trees"
      ],
      "metadata": {
        "id": "8FBadNytu73U"
      }
    },
    {
      "cell_type": "code",
      "source": [
        "D2_dt = DecisionTreeClassifier(max_depth=17)\n",
        "\n",
        "D2_dt.fit(X_train_D2, y_train)"
      ],
      "metadata": {
        "colab": {
          "base_uri": "https://localhost:8080/"
        },
        "id": "BV1Lgl1Fu_4f",
        "outputId": "bba99709-1c39-4720-809f-9fe84d0f7914"
      },
      "execution_count": 66,
      "outputs": [
        {
          "output_type": "execute_result",
          "data": {
            "text/plain": [
              "DecisionTreeClassifier(max_depth=17)"
            ]
          },
          "metadata": {},
          "execution_count": 66
        }
      ]
    },
    {
      "cell_type": "code",
      "source": [
        "D2_dt_score = D2_dt.score(X_test_D2, y_test)\n",
        "D2_dt_score"
      ],
      "metadata": {
        "colab": {
          "base_uri": "https://localhost:8080/"
        },
        "id": "aYYUMC6Lu_wv",
        "outputId": "e08a3b2e-9071-452e-ec9a-356e989c1688"
      },
      "execution_count": 67,
      "outputs": [
        {
          "output_type": "execute_result",
          "data": {
            "text/plain": [
              "0.544839255499154"
            ]
          },
          "metadata": {},
          "execution_count": 67
        }
      ]
    },
    {
      "cell_type": "code",
      "source": [
        "D2_knn_score_D1_data = D2_dt.score(X_test_D1_on_D2, y_test_original)\n",
        "D2_knn_score_D1_data"
      ],
      "metadata": {
        "colab": {
          "base_uri": "https://localhost:8080/"
        },
        "id": "g4_p8kLnu_kD",
        "outputId": "4847b4ba-f719-404d-8a01-049f042addbc"
      },
      "execution_count": 68,
      "outputs": [
        {
          "output_type": "execute_result",
          "data": {
            "text/plain": [
              "0.6623188405797101"
            ]
          },
          "metadata": {},
          "execution_count": 68
        }
      ]
    },
    {
      "cell_type": "markdown",
      "source": [
        "#### RF"
      ],
      "metadata": {
        "id": "gKOx_MkpvA4R"
      }
    },
    {
      "cell_type": "code",
      "source": [
        "D2_rf = RandomForestClassifier()\n",
        "D2_rf.fit(X_train_D2, y_train)"
      ],
      "metadata": {
        "colab": {
          "base_uri": "https://localhost:8080/"
        },
        "id": "pY9ka8c3vKiR",
        "outputId": "ec800eca-f2c1-4f4f-c3d3-b0594bf844e6"
      },
      "execution_count": 69,
      "outputs": [
        {
          "output_type": "execute_result",
          "data": {
            "text/plain": [
              "RandomForestClassifier()"
            ]
          },
          "metadata": {},
          "execution_count": 69
        }
      ]
    },
    {
      "cell_type": "code",
      "source": [
        "D2_rf_score = D2_rf.score(X_test_D2, y_test)\n",
        "D2_rf_score"
      ],
      "metadata": {
        "colab": {
          "base_uri": "https://localhost:8080/"
        },
        "id": "8suShEq-vKZI",
        "outputId": "44e09b0f-8246-4386-e5b3-88472e895130"
      },
      "execution_count": 70,
      "outputs": [
        {
          "output_type": "execute_result",
          "data": {
            "text/plain": [
              "0.5419386028523084"
            ]
          },
          "metadata": {},
          "execution_count": 70
        }
      ]
    },
    {
      "cell_type": "code",
      "source": [
        "D2_rf_score_D1_data = D2_rf.score(X_test_D1_on_D2, y_test_original)\n",
        "D2_rf_score_D1_data"
      ],
      "metadata": {
        "colab": {
          "base_uri": "https://localhost:8080/"
        },
        "id": "4XLPo3dDvKPl",
        "outputId": "c137adfb-c1e7-4226-8b79-1160082c6d57"
      },
      "execution_count": 71,
      "outputs": [
        {
          "output_type": "execute_result",
          "data": {
            "text/plain": [
              "0.6927536231884058"
            ]
          },
          "metadata": {},
          "execution_count": 71
        }
      ]
    },
    {
      "cell_type": "markdown",
      "source": [
        "#### MLP"
      ],
      "metadata": {
        "id": "lvyarJvEvL7F"
      }
    },
    {
      "cell_type": "code",
      "source": [
        "D2_mlp = MLPClassifier(hidden_layer_sizes=(18,), activation='tanh', solver='lbfgs', alpha=0.00005)\n",
        "\n",
        "D2_mlp.fit(X_train_D2, y_train)"
      ],
      "metadata": {
        "colab": {
          "base_uri": "https://localhost:8080/"
        },
        "id": "rUjBNQ5JvO1H",
        "outputId": "93225513-8596-447e-be7b-99d95dc2dae4"
      },
      "execution_count": 72,
      "outputs": [
        {
          "output_type": "execute_result",
          "data": {
            "text/plain": [
              "MLPClassifier(activation='tanh', alpha=5e-05, hidden_layer_sizes=(18,),\n",
              "              solver='lbfgs')"
            ]
          },
          "metadata": {},
          "execution_count": 72
        }
      ]
    },
    {
      "cell_type": "code",
      "source": [
        "D2_mlp_score = D2_mlp.score(X_test_D2, y_test)\n",
        "D2_mlp_score"
      ],
      "metadata": {
        "colab": {
          "base_uri": "https://localhost:8080/"
        },
        "id": "kTSGD2rAvOrQ",
        "outputId": "7d896144-f6c0-49c9-a190-f0e446c46b3b"
      },
      "execution_count": 73,
      "outputs": [
        {
          "output_type": "execute_result",
          "data": {
            "text/plain": [
              "0.4960116026105874"
            ]
          },
          "metadata": {},
          "execution_count": 73
        }
      ]
    },
    {
      "cell_type": "code",
      "source": [
        "D2_mlp_score_D1_data = D2_mlp.score(X_test_D1_on_D2, y_test_original)\n",
        "D2_mlp_score_D1_data"
      ],
      "metadata": {
        "colab": {
          "base_uri": "https://localhost:8080/"
        },
        "id": "rLyxH0hQvOhM",
        "outputId": "07aabbe3-5a25-4d19-8111-5b7f7c0747b1"
      },
      "execution_count": 74,
      "outputs": [
        {
          "output_type": "execute_result",
          "data": {
            "text/plain": [
              "0.49420289855072463"
            ]
          },
          "metadata": {},
          "execution_count": 74
        }
      ]
    },
    {
      "cell_type": "markdown",
      "source": [
        "## &#128218; References"
      ],
      "metadata": {
        "id": "p7S0tnLqZjU0"
      }
    },
    {
      "cell_type": "markdown",
      "source": [
        "1. SVC, see [HERE](https://scikit-learn.org/stable/modules/generated/sklearn.svm.SVC.html).\n",
        "2. K-NN, see [HERE](https://scikit-learn.org/stable/modules/generated/sklearn.neighbors.KNeighborsClassifier.html)\n",
        "3. Decision Tree, see [HERE](https://scikit-learn.org/stable/modules/generated/sklearn.tree.DecisionTreeClassifier.html#sklearn.tree.DecisionTreeClassifier)\n",
        "4. MLP, see [HERE](https://scikit-learn.org/stable/modules/generated/sklearn.neural_network.MLPClassifier.html#sklearn.neural_network.MLPClassifier)\n",
        "5. RF, see [HERE](https://scikit-learn.org/stable/modules/generated/sklearn.ensemble.RandomForestClassifier.html#sklearn.ensemble.RandomForestClassifier)"
      ],
      "metadata": {
        "id": "_XIKr9W6bfiC"
      }
    }
  ]
}