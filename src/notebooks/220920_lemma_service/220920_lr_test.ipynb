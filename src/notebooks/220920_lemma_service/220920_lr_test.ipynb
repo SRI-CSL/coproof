{
 "cells": [
  {
   "cell_type": "code",
   "execution_count": 1,
   "id": "97ff58e1-ffcf-41f7-9fb7-1108c32f5323",
   "metadata": {},
   "outputs": [
    {
     "name": "stdout",
     "output_type": "stream",
     "text": [
      "765 9174\n"
     ]
    }
   ],
   "source": [
    "from coprover.lemmaret.theorybank import gen_sbert_theorybank\n"
   ]
  },
  {
   "cell_type": "code",
   "execution_count": null,
   "id": "04462c6c-5c35-4619-a3df-cf0af7893a45",
   "metadata": {},
   "outputs": [
    {
     "name": "stderr",
     "output_type": "stream",
     "text": [
      "100%|█████████████████████████████████████████████████████████████████████████████████████████████████████████████████████████| 765/765 [00:01<00:00, 449.05it/s]\n"
     ]
    }
   ],
   "source": [
    "theorybank = gen_sbert_theorybank()"
   ]
  },
  {
   "cell_type": "code",
   "execution_count": null,
   "id": "46b05ca7-48a7-4ddf-b380-70bf63a71d44",
   "metadata": {},
   "outputs": [],
   "source": [
    "theorybank"
   ]
  }
 ],
 "metadata": {
  "kernelspec": {
   "display_name": "Python 3 (ipykernel)",
   "language": "python",
   "name": "python3"
  },
  "language_info": {
   "codemirror_mode": {
    "name": "ipython",
    "version": 3
   },
   "file_extension": ".py",
   "mimetype": "text/x-python",
   "name": "python",
   "nbconvert_exporter": "python",
   "pygments_lexer": "ipython3",
   "version": "3.9.7"
  }
 },
 "nbformat": 4,
 "nbformat_minor": 5
}
