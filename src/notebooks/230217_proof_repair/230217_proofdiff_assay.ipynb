{
 "cells": [
  {
   "cell_type": "code",
   "execution_count": 1,
   "id": "f36d0421-d559-4099-9d06-6432c4eac5c8",
   "metadata": {},
   "outputs": [],
   "source": [
    "import json\n",
    "from pathlib import Path\n",
    "import pandas as pd\n",
    "from tqdm import tqdm\n",
    "import numpy as np\n",
    "from collections import Counter\n",
    "from matplotlib import pyplot as plt\n",
    "\n",
    "from coprover import *"
   ]
  },
  {
   "cell_type": "code",
   "execution_count": 2,
   "id": "cf173fc1-e988-4aae-8156-60952a58a7a4",
   "metadata": {},
   "outputs": [],
   "source": [
    "def scan(X):\n",
    "    mu, std, xmin, xmax = np.mean(X), np.std(X), np.min(X), np.max(X)\n",
    "    return \"mu/std={:.3f}/{:.3f}, min/max={:.3f}/{:.3f}\".format(mu, std, xmin, xmax)\n",
    "\n"
   ]
  },
  {
   "cell_type": "code",
   "execution_count": 3,
   "id": "02aaf4e0-59e9-48eb-8e5c-1735a6e49985",
   "metadata": {},
   "outputs": [],
   "source": [
    "diffs_fpath = Path(DATA_ROOT, \"pvs\", \"proof-diffs.json\")\n",
    "with open(diffs_fpath, 'r') as f:\n",
    "    root = json.load(f)"
   ]
  },
  {
   "cell_type": "code",
   "execution_count": 4,
   "id": "8d6a8a64-f4d6-4d94-9de9-63b3b0273a0b",
   "metadata": {},
   "outputs": [
    {
     "name": "stdout",
     "output_type": "stream",
     "text": [
      "Total entries=3644\n"
     ]
    }
   ],
   "source": [
    "print(\"Total entries={}\".format(len(root)))"
   ]
  },
  {
   "cell_type": "code",
   "execution_count": 5,
   "id": "4d2d2583-b7c7-4e49-9d43-aee68cf7c977",
   "metadata": {},
   "outputs": [
    {
     "name": "stdout",
     "output_type": "stream",
     "text": [
      "Lens script1=9, script2=9\n"
     ]
    }
   ],
   "source": [
    "# There are two scripts, script1 and script2\n",
    "\n",
    "SCRIPT1 = 'script1'\n",
    "SCRIPT2 = 'script2'\n",
    "\n",
    "diff_obj = root[34]\n",
    "script1 = diff_obj[SCRIPT1]\n",
    "script2 = diff_obj[SCRIPT2]\n",
    "\n",
    "print(\"Lens script1={}, script2={}\".format(len(script1), len(script2)))\n",
    "\n",
    "# Experiment with identifying where the delta occurs\n",
    "def runlen_diff(script1, script2):\n",
    "    for idx, (step1, step2) in enumerate(zip(script1, script2)):\n",
    "        if str(step1) != str(step2):\n",
    "            return idx\n",
    "    # If the two script lengths differ, then differs at first point one ended\n",
    "    if len(script1) != len(script2):\n",
    "        return min(len(script1), len(script2))\n",
    "    return None # Absolutely no difference\n",
    "            \n"
   ]
  },
  {
   "cell_type": "code",
   "execution_count": 6,
   "id": "fcff826a-91ab-4062-b218-4c890f71d62d",
   "metadata": {},
   "outputs": [
    {
     "name": "stderr",
     "output_type": "stream",
     "text": [
      "100%|████████████████████████████████████████████████████████████████████████████████████████████████████████████████████| 3644/3644 [00:00<00:00, 13132.70it/s]"
     ]
    },
    {
     "name": "stdout",
     "output_type": "stream",
     "text": [
      "Total different=3124, same=520\n"
     ]
    },
    {
     "name": "stderr",
     "output_type": "stream",
     "text": [
      "\n"
     ]
    }
   ],
   "source": [
    "diff_idxes = []\n",
    "diff_perc = []  # Percentage diff occurs at\n",
    "nodiff_idxes = []\n",
    "proof_lengths = []\n",
    "for sidx, diff_obj in enumerate(tqdm(root)):\n",
    "    script1 = diff_obj[SCRIPT1]\n",
    "    script2 = diff_obj[SCRIPT2]\n",
    "    didx = runlen_diff(script1, script2)\n",
    "    if didx:\n",
    "        diff_idxes.append(didx)\n",
    "        length = min(len(script1), len(script2))\n",
    "        perc = didx / length\n",
    "        diff_perc.append(perc)\n",
    "        proof_lengths.append(length)\n",
    "    else:\n",
    "        nodiff_idxes.append(sidx)\n",
    "print(\"Total different={}, same={}\".format(len(diff_perc), len(nodiff_idxes)))"
   ]
  },
  {
   "cell_type": "code",
   "execution_count": 7,
   "id": "68f2ff45-5297-45a3-86e5-646af81374c5",
   "metadata": {},
   "outputs": [
    {
     "data": {
      "text/plain": [
       "Counter({3: 660,\n",
       "         4: 403,\n",
       "         6: 209,\n",
       "         7: 141,\n",
       "         2: 529,\n",
       "         1: 391,\n",
       "         8: 107,\n",
       "         38: 2,\n",
       "         35: 2,\n",
       "         5: 321,\n",
       "         10: 46,\n",
       "         19: 3,\n",
       "         12: 34,\n",
       "         18: 12,\n",
       "         9: 87,\n",
       "         11: 49,\n",
       "         14: 27,\n",
       "         17: 6,\n",
       "         15: 29,\n",
       "         13: 23,\n",
       "         22: 3,\n",
       "         16: 10,\n",
       "         24: 5,\n",
       "         27: 1,\n",
       "         28: 4,\n",
       "         20: 8,\n",
       "         30: 2,\n",
       "         29: 3,\n",
       "         21: 3,\n",
       "         26: 3,\n",
       "         31: 1})"
      ]
     },
     "execution_count": 7,
     "metadata": {},
     "output_type": "execute_result"
    }
   ],
   "source": [
    "Counter(diff_idxes)"
   ]
  },
  {
   "cell_type": "markdown",
   "id": "063326e0-7dcd-4732-bd71-606c0148bd6c",
   "metadata": {},
   "source": [
    "We do an assessment of histograms of modified proof lengths, where the first diff occurs in terms of percentage of completion as well as raw value."
   ]
  },
  {
   "cell_type": "code",
   "execution_count": 8,
   "id": "804cd8c7-60e1-4e10-a87f-93aab6a4346e",
   "metadata": {},
   "outputs": [
    {
     "name": "stderr",
     "output_type": "stream",
     "text": [
      "No artists with labels found to put in legend.  Note that artists whose label start with an underscore are ignored when legend() is called with no argument.\n"
     ]
    },
    {
     "data": {
      "text/plain": [
       "<matplotlib.legend.Legend at 0x7f87a27a1d30>"
      ]
     },
     "execution_count": 8,
     "metadata": {},
     "output_type": "execute_result"
    },
    {
     "data": {
      "text/plain": [
       "<Figure size 432x288 with 0 Axes>"
      ]
     },
     "metadata": {},
     "output_type": "display_data"
    },
    {
     "data": {
      "image/png": "[encoded data removed]",
      "text/plain": [
       "<Figure size 576x432 with 1 Axes>"
      ]
     },
     "metadata": {
      "needs_background": "light"
     },
     "output_type": "display_data"
    }
   ],
   "source": [
    "freqs, bin_pts = np.histogram(proof_lengths, bins=100)\n",
    "plt.clf()\n",
    "fig, ax = plt.subplots(1, figsize=(8,6))\n",
    "ax.bar(bin_pts[1:], freqs)\n",
    "plt.title(\"Proof Length vs. Frequency\")\n",
    "ax.set_xlabel(\"Proof Length\")\n",
    "ax.set_ylabel(\"Frequency\")\n",
    "plt.legend()"
   ]
  },
  {
   "cell_type": "code",
   "execution_count": 9,
   "id": "61c5d595-8b4d-4bf0-a5a9-88da3a80737b",
   "metadata": {
    "tags": []
   },
   "outputs": [
    {
     "name": "stderr",
     "output_type": "stream",
     "text": [
      "No artists with labels found to put in legend.  Note that artists whose label start with an underscore are ignored when legend() is called with no argument.\n"
     ]
    },
    {
     "data": {
      "text/plain": [
       "<matplotlib.legend.Legend at 0x7f8797aefeb0>"
      ]
     },
     "execution_count": 9,
     "metadata": {},
     "output_type": "execute_result"
    },
    {
     "data": {
      "text/plain": [
       "<Figure size 432x288 with 0 Axes>"
      ]
     },
     "metadata": {},
     "output_type": "display_data"
    },
    {
     "data": {
      "image/png": "[encoded data removed]",
      "text/plain": [
       "<Figure size 576x432 with 1 Axes>"
      ]
     },
     "metadata": {
      "needs_background": "light"
     },
     "output_type": "display_data"
    }
   ],
   "source": [
    "freqs, bin_pts = np.histogram(diff_perc, bins=10)\n",
    "plt.clf()\n",
    "fig, ax = plt.subplots(1, figsize=(8,6))\n",
    "ax.bar(bin_pts[0:-1], freqs, align=\"edge\", width=0.1)\n",
    "plt.title(\"First Change (Percentage) vs. Frequency\")\n",
    "ax.set_xlabel(\"First diff, percentage in proof\")\n",
    "ax.set_ylabel(\"Frequency\")\n",
    "plt.legend()"
   ]
  },
  {
   "cell_type": "code",
   "execution_count": 10,
   "id": "7c4a3d20-d0e6-4d07-a0f1-28a446e03821",
   "metadata": {},
   "outputs": [
    {
     "name": "stderr",
     "output_type": "stream",
     "text": [
      "No artists with labels found to put in legend.  Note that artists whose label start with an underscore are ignored when legend() is called with no argument.\n"
     ]
    },
    {
     "data": {
      "text/plain": [
       "<matplotlib.legend.Legend at 0x7f8797ab1370>"
      ]
     },
     "execution_count": 10,
     "metadata": {},
     "output_type": "execute_result"
    },
    {
     "data": {
      "text/plain": [
       "<Figure size 432x288 with 0 Axes>"
      ]
     },
     "metadata": {},
     "output_type": "display_data"
    },
    {
     "data": {
      "image/png": "[encoded data removed]",
      "text/plain": [
       "<Figure size 576x432 with 1 Axes>"
      ]
     },
     "metadata": {
      "needs_background": "light"
     },
     "output_type": "display_data"
    }
   ],
   "source": [
    "freqs, bin_pts = np.histogram(diff_idxes, bins=100)\n",
    "plt.clf()\n",
    "fig, ax = plt.subplots(1, figsize=(8,6))\n",
    "ax.bar(bin_pts[1:], freqs)\n",
    "plt.title(\"Step index vs. Frequency\")\n",
    "ax.set_xlabel(\"First diff step index\")\n",
    "ax.set_ylabel(\"Frequency\")\n",
    "plt.legend()"
   ]
  },
  {
   "cell_type": "markdown",
   "id": "3c309250-7b5e-4548-a34e-4c9e1b4f654e",
   "metadata": {},
   "source": [
    "TODO Next\n",
    "- Do an edit distance analysis of the steps themselves \n",
    "  - Simple Levenshtein edit distance check\n",
    "  - Identify nature of the change"
   ]
  },
  {
   "cell_type": "code",
   "execution_count": 15,
   "id": "649238c3-c98d-41ff-b7f9-97e894521683",
   "metadata": {},
   "outputs": [
    {
     "data": {
      "text/plain": [
       "{'tag': 'proof-difference',\n",
       " 'library1': '~/nasalib-6.0.9',\n",
       " 'library2': '~/pvslib-7.1',\n",
       " 'theory': 'log',\n",
       " 'declaration': 'log_1',\n",
       " 'script1': ['',\n",
       "  ['skosimp'],\n",
       "  ['expand', 'log'],\n",
       "  ['assert'],\n",
       "  ['rewrite', 'nn_log_1'],\n",
       "  ['liftIf'],\n",
       "  ['assert']],\n",
       " 'script2': ['',\n",
       "  ['skosimp'],\n",
       "  ['expand', 'log'],\n",
       "  ['assert'],\n",
       "  ['rewrite', 'nn_log_1'],\n",
       "  ['liftIf'],\n",
       "  ['propax']]}"
      ]
     },
     "execution_count": 15,
     "metadata": {},
     "output_type": "execute_result"
    }
   ],
   "source": [
    "root[3]"
   ]
  }
 ],
 "metadata": {
  "kernelspec": {
   "display_name": "Python [conda env:coprovers] *",
   "language": "python",
   "name": "conda-env-coprovers-py"
  },
  "language_info": {
   "codemirror_mode": {
    "name": "ipython",
    "version": 3
   },
   "file_extension": ".py",
   "mimetype": "text/x-python",
   "name": "python",
   "nbconvert_exporter": "python",
   "pygments_lexer": "ipython3",
   "version": "3.9.10"
  }
 },
 "nbformat": 4,
 "nbformat_minor": 5
}
