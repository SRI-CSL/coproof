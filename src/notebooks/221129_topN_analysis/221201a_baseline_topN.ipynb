{
 "cells": [
  {
   "cell_type": "code",
   "execution_count": 30,
   "id": "1fc9800d-1599-47bd-979b-642156dc0bcf",
   "metadata": {},
   "outputs": [],
   "source": [
    "import pandas as pd\n",
    "import numpy as np\n",
    "from collections import Counter\n",
    "from coprover.cmdpred.cmdpred_data_setup import *\n",
    "from coprover.results_analysis import *"
   ]
  },
  {
   "cell_type": "markdown",
   "id": "b8604f71-9aaa-4f07-b1c7-09f595b655a6",
   "metadata": {},
   "source": [
    "Goal: Construct a top-N baseline guess using the freqs from train compared on test"
   ]
  },
  {
   "cell_type": "code",
   "execution_count": 2,
   "id": "8bb60c39-cf65-4518-88a7-e4df95eaf159",
   "metadata": {},
   "outputs": [],
   "source": [
    "train_df, test_df = get_full_dfs()"
   ]
  },
  {
   "cell_type": "code",
   "execution_count": 25,
   "id": "b0805ef2-d4cf-468e-a666-a432d391cd44",
   "metadata": {},
   "outputs": [],
   "source": [
    "train_cmdfreqs = list(Counter(train_df['target_text']).items())\n",
    "train_cmdfreqs.sort(key=lambda x : x[1], reverse=True)\n",
    "\n",
    "test_cmdfreqs = Counter(test_df['target_text'])\n",
    "#test_cmdfreqs.sort(key=lambda x : x[1], reverse=True)"
   ]
  },
  {
   "cell_type": "code",
   "execution_count": 26,
   "id": "40fae936-946e-478c-b05a-a332c330d50b",
   "metadata": {},
   "outputs": [
    {
     "data": {
      "text/plain": [
       "[('simplify', 2327),\n",
       " ('expand', 2069),\n",
       " ('inst', 1483),\n",
       " ('lemma', 1432),\n",
       " ('hide', 950)]"
      ]
     },
     "execution_count": 26,
     "metadata": {},
     "output_type": "execute_result"
    }
   ],
   "source": [
    "train_cmdfreqs[0:5]"
   ]
  },
  {
   "cell_type": "code",
   "execution_count": 35,
   "id": "30ae2cc5-5877-4e95-9ee4-322c6257b885",
   "metadata": {},
   "outputs": [
    {
     "name": "stdout",
     "output_type": "stream",
     "text": [
      "['simplify'] [269] 0.1345\n",
      "['simplify', 'expand'] [269, 253] 0.261\n",
      "['simplify', 'expand', 'inst'] [269, 253, 143] 0.3325\n",
      "['simplify', 'expand', 'inst', 'lemma'] [269, 253, 143, 165] 0.415\n",
      "['simplify', 'expand', 'inst', 'lemma', 'hide'] [269, 253, 143, 165, 119] 0.4745\n",
      "['simplify', 'expand', 'inst', 'lemma', 'hide', 'skosimp*'] [269, 253, 143, 165, 119, 121] 0.535\n",
      "['simplify', 'expand', 'inst', 'lemma', 'hide', 'skosimp*', 'skolem'] [269, 253, 143, 165, 119, 121, 80] 0.575\n",
      "['simplify', 'expand', 'inst', 'lemma', 'hide', 'skosimp*', 'skolem', 'replace'] [269, 253, 143, 165, 119, 121, 80, 79] 0.6145\n",
      "['simplify', 'expand', 'inst', 'lemma', 'hide', 'skosimp*', 'skolem', 'replace', 'case'] [269, 253, 143, 165, 119, 121, 80, 79, 60] 0.6445\n",
      "['simplify', 'expand', 'inst', 'lemma', 'hide', 'skosimp*', 'skolem', 'replace', 'case', 'split'] [269, 253, 143, 165, 119, 121, 80, 79, 60, 54] 0.6715\n"
     ]
    }
   ],
   "source": [
    "results = []\n",
    "for n in range(1, 11):\n",
    "    candidates = [x[0] for x in train_cmdfreqs[0:n]]\n",
    "    totals = [test_cmdfreqs[cand] for cand in candidates]\n",
    "    acc = sum(totals) / len(test_df)\n",
    "    results.append({N_COL: n, \"Acc\": acc})\n",
    "    print(candidates, totals, acc)"
   ]
  },
  {
   "cell_type": "code",
   "execution_count": 36,
   "id": "5a492ecc-e793-4a9b-88da-83ee5a8232cf",
   "metadata": {},
   "outputs": [],
   "source": [
    "pd.DataFrame(results).to_csv(\"topN=10_T5_baseline.csv\")"
   ]
  }
 ],
 "metadata": {
  "kernelspec": {
   "display_name": "Python [conda env:coprovers] *",
   "language": "python",
   "name": "conda-env-coprovers-py"
  },
  "language_info": {
   "codemirror_mode": {
    "name": "ipython",
    "version": 3
   },
   "file_extension": ".py",
   "mimetype": "text/x-python",
   "name": "python",
   "nbconvert_exporter": "python",
   "pygments_lexer": "ipython3",
   "version": "3.9.10"
  }
 },
 "nbformat": 4,
 "nbformat_minor": 5
}
