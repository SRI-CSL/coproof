{
 "cells": [
  {
   "cell_type": "markdown",
   "id": "b5d13797-dd66-468d-9193-9ab266985c70",
   "metadata": {},
   "source": [
    "This evaluates the last command prediction model trained in 230209_train_t5_v1.py.\n",
    "\n",
    "This uses the same train test split obtained from 230209_data_setup.ipynb\n",
    "\n",
    "Initially, the results seem promising against a baseline of guessing negative (~50% accuracy).  On the test set we get:\n",
    "\n",
    "             precision    recall  f1-score   support\n",
    "\n",
    "         neg       0.82      0.56      0.67       615\n",
    "         pos       0.67      0.88      0.76       626\n",
    "\n",
    "    accuracy                           0.72      1241\n",
    "   macro avg       0.75      0.72      0.71      1241\n",
    "weighted avg       0.75      0.72      0.71      1241\n"
   ]
  },
  {
   "cell_type": "code",
   "execution_count": 1,
   "id": "5c230c79-f211-454f-beb4-e65b1071e925",
   "metadata": {},
   "outputs": [
    {
     "name": "stderr",
     "output_type": "stream",
     "text": [
      "Global seed set to 1337\n"
     ]
    }
   ],
   "source": [
    "import numpy as np\n",
    "import pandas as pd\n",
    "from matplotlib import pyplot as plt\n",
    "import torch\n",
    "from pathlib import Path\n",
    "from tqdm import tqdm\n",
    "from sklearn.metrics import classification_report\n",
    "\n",
    "from exp_setup import *\n",
    "from coprover.training.simplet5 import SimpleT5\n",
    "\n",
    "# T5_MODEL_FPATH = Path(\"outputs\", \"laststep_red_v1\", \"best_model\")\n",
    "T5_MODEL_FPATH = Path(\"outputs\", \"/home/fennel2/yeh/proj/CoProver/src/notebooks/230209_completion_measure/outputs/laststep_pred_nocmds_v1\", \"best_model\")\n",
    "# T5_MODEL_FPATH = Path(\"outputs\", \"/home/fennel2/yeh/proj/CoProver/src/notebooks/230209_completion_measure/outputs/laststep_pred_cmdsonly_v1\", \"best_model\")"
   ]
  },
  {
   "cell_type": "code",
   "execution_count": 2,
   "id": "3d71cc28-bae9-4090-9182-4376879e7619",
   "metadata": {},
   "outputs": [
    {
     "name": "stdout",
     "output_type": "stream",
     "text": [
      "Loading model_type=t5, dir=/home/fennel2/yeh/proj/CoProver/src/notebooks/230209_completion_measure/outputs/laststep_pred_nocmds_v1/best_model, use_gpu=True\n"
     ]
    }
   ],
   "source": [
    "model = SimpleT5(source_max_token_len=SRC_MAX_TOKLEN, target_max_token_len=TGT_MAX_TOKLEN)\n",
    "model.load_model(T5_MODEL_FPATH, use_gpu=True, use_device=\"cuda:1\")"
   ]
  },
  {
   "cell_type": "code",
   "execution_count": 3,
   "id": "7bbc5001-6e28-41e1-b91f-ed2283718164",
   "metadata": {},
   "outputs": [
    {
     "name": "stdout",
     "output_type": "stream",
     "text": [
      "Len train=11162, test=1241\n"
     ]
    }
   ],
   "source": [
    "train_df, test_df = setup_laststep_pred_data(strip_cmdhistory=True, cmds_only=False)"
   ]
  },
  {
   "cell_type": "code",
   "execution_count": 6,
   "id": "0c54d420-a041-4371-b988-a890c430bc43",
   "metadata": {},
   "outputs": [
    {
     "name": "stdout",
     "output_type": "stream",
     "text": [
      "5578\n",
      "5584\n"
     ]
    }
   ],
   "source": [
    "print(np.sum(train_df.target_text == \"pos\"))\n",
    "print(np.sum(train_df.target_text == \"neg\"))"
   ]
  },
  {
   "cell_type": "code",
   "execution_count": 7,
   "id": "e45a70fa-81fe-4ab6-a670-5ebaa9f2b93f",
   "metadata": {},
   "outputs": [
    {
     "name": "stdout",
     "output_type": "stream",
     "text": [
      "626\n",
      "615\n"
     ]
    }
   ],
   "source": [
    "print(np.sum(test_df.target_text == \"pos\"))\n",
    "print(np.sum(test_df.target_text == \"neg\"))"
   ]
  },
  {
   "cell_type": "code",
   "execution_count": 4,
   "id": "7aedbbc0-d547-432c-a58a-01cfd85289b5",
   "metadata": {},
   "outputs": [
    {
     "name": "stderr",
     "output_type": "stream",
     "text": [
      "  1%|██▏                                                                                                                                                                    | 13/1000 [00:00<00:57, 17.28it/s]Token indices sequence length is longer than the specified maximum sequence length for this model (1238 > 512). Running this sequence through the model will result in indexing errors\n",
      "100%|█████████████████████████████████████████████████████████████████████████████████████████████████████████████████████████████████████████████████████████████████████| 1000/1000 [00:57<00:00, 17.28it/s]"
     ]
    },
    {
     "name": "stdout",
     "output_type": "stream",
     "text": [
      "              precision    recall  f1-score   support\n",
      "\n",
      "         neg       0.73      0.67      0.70       527\n",
      "         pos       0.66      0.72      0.69       473\n",
      "\n",
      "    accuracy                           0.69      1000\n",
      "   macro avg       0.69      0.69      0.69      1000\n",
      "weighted avg       0.70      0.69      0.69      1000\n",
      "\n"
     ]
    },
    {
     "name": "stderr",
     "output_type": "stream",
     "text": [
      "\n"
     ]
    }
   ],
   "source": [
    "idx = 1000\n",
    "Y_guess = []\n",
    "Y_gold = train_df.target_text.array[0:idx]\n",
    "for src_txt in tqdm(train_df.source_text.array[0:idx]):\n",
    "    Y_guess.append(model.predict(src_txt)[0])\n",
    "\n",
    "print(classification_report(Y_gold, Y_guess, target_names=['neg', 'pos']))"
   ]
  },
  {
   "cell_type": "code",
   "execution_count": 5,
   "id": "f7560508-f739-4333-a4cb-8df50a08b4e5",
   "metadata": {},
   "outputs": [
    {
     "data": {
      "text/plain": [
       "0.473"
      ]
     },
     "execution_count": 5,
     "metadata": {},
     "output_type": "execute_result"
    }
   ],
   "source": [
    "np.sum(Y_gold == \"pos\") / len(Y_gold)"
   ]
  },
  {
   "cell_type": "code",
   "execution_count": 6,
   "id": "419cabdf-c80b-4aec-a85c-705c9556e372",
   "metadata": {},
   "outputs": [
    {
     "name": "stderr",
     "output_type": "stream",
     "text": [
      "100%|█████████████████████████████████████████████████████████████████████████████████████████████████████████████████████████████████████████████████████████████████████| 1241/1241 [01:12<00:00, 17.19it/s]\n"
     ]
    },
    {
     "name": "stdout",
     "output_type": "stream",
     "text": [
      "              precision    recall  f1-score   support\n",
      "\n",
      "         neg       0.69      0.64      0.66       615\n",
      "         pos       0.67      0.71      0.69       626\n",
      "\n",
      "    accuracy                           0.68      1241\n",
      "   macro avg       0.68      0.68      0.68      1241\n",
      "weighted avg       0.68      0.68      0.68      1241\n",
      "\n"
     ]
    }
   ],
   "source": [
    "Y_guess = []\n",
    "Y_gold = test_df.target_text.array\n",
    "for src_txt in tqdm(test_df.source_text.array):\n",
    "    Y_guess.append(model.predict(src_txt)[0])\n",
    "\n",
    "print(classification_report(Y_gold, Y_guess, target_names=['neg', 'pos']))"
   ]
  }
 ],
 "metadata": {
  "kernelspec": {
   "display_name": "Python [conda env:coprovers] *",
   "language": "python",
   "name": "conda-env-coprovers-py"
  },
  "language_info": {
   "codemirror_mode": {
    "name": "ipython",
    "version": 3
   },
   "file_extension": ".py",
   "mimetype": "text/x-python",
   "name": "python",
   "nbconvert_exporter": "python",
   "pygments_lexer": "ipython3",
   "version": "3.9.10"
  }
 },
 "nbformat": 4,
 "nbformat_minor": 5
}
