{
 "cells": [
  {
   "cell_type": "markdown",
   "id": "8d57e0ec-41f7-4cca-982e-e95a49d2cb59",
   "metadata": {},
   "source": [
    "Implements a simple baseline that uses classic techniques as baselines"
   ]
  },
  {
   "cell_type": "code",
   "execution_count": 24,
   "id": "de0289fe-ffb8-4c42-bfda-c557c4def3d9",
   "metadata": {},
   "outputs": [],
   "source": [
    "import pandas as pd\n",
    "import numpy as np\n",
    "import sklearn\n",
    "from pathlib import Path\n",
    "\n",
    "from sklearn.feature_extraction.text import CountVectorizer\n",
    "from sklearn.feature_extraction.text import TfidfVectorizer\n",
    "from sklearn.feature_extraction import DictVectorizer\n",
    "from sklearn.model_selection import train_test_split\n",
    "\n",
    "from sklearn.svm import LinearSVC\n",
    "from sklearn.pipeline import make_pipeline\n",
    "from sklearn.preprocessing import StandardScaler\n",
    "from sklearn.metrics import classification_report\n",
    "\n"
   ]
  },
  {
   "cell_type": "code",
   "execution_count": 38,
   "id": "6b8b87ba-62be-4a46-8647-521496ded08d",
   "metadata": {},
   "outputs": [
    {
     "name": "stdout",
     "output_type": "stream",
     "text": [
      "11162 1241\n"
     ]
    }
   ],
   "source": [
    "output_root = Path(\"outputs\")\n",
    "output_root.mkdir(exist_ok=True, parents=True)\n",
    "\n",
    "inst_df = pd.read_csv(\"laststep_pred.v1.csv.gz\")\n",
    "train_df, test_df = train_test_split(inst_df, random_state=501, test_size=0.1)\n",
    "print(len(train_df), len(test_df))"
   ]
  },
  {
   "cell_type": "code",
   "execution_count": 49,
   "id": "aa983129-a3f4-4947-85a3-af023ab8a20c",
   "metadata": {},
   "outputs": [
    {
     "data": {
      "text/html": [
       "<div>\n",
       "<style scoped>\n",
       "    .dataframe tbody tr th:only-of-type {\n",
       "        vertical-align: middle;\n",
       "    }\n",
       "\n",
       "    .dataframe tbody tr th {\n",
       "        vertical-align: top;\n",
       "    }\n",
       "\n",
       "    .dataframe thead th {\n",
       "        text-align: right;\n",
       "    }\n",
       "</style>\n",
       "<table border=\"1\" class=\"dataframe\">\n",
       "  <thead>\n",
       "    <tr style=\"text-align: right;\">\n",
       "      <th></th>\n",
       "      <th>Unnamed: 0</th>\n",
       "      <th>proofname</th>\n",
       "      <th>source_text</th>\n",
       "      <th>cmd_history</th>\n",
       "      <th>target_text</th>\n",
       "    </tr>\n",
       "  </thead>\n",
       "  <tbody>\n",
       "    <tr>\n",
       "      <th>7375</th>\n",
       "      <td>7375</td>\n",
       "      <td>convex_functions-proofs/convex_const_on_connec...</td>\n",
       "      <td>cross-mult simplify simplify &lt;ANT&gt; &lt;CONS&gt; s-fo...</td>\n",
       "      <td>cross-mult simplify simplify</td>\n",
       "      <td>neg</td>\n",
       "    </tr>\n",
       "    <tr>\n",
       "      <th>11790</th>\n",
       "      <td>11790</td>\n",
       "      <td>traces-proofs/terminating_finite_traces_j</td>\n",
       "      <td>lemma instantiate inst? &lt;ANT&gt; &lt;CONS&gt; s-formula...</td>\n",
       "      <td>lemma instantiate inst?</td>\n",
       "      <td>neg</td>\n",
       "    </tr>\n",
       "    <tr>\n",
       "      <th>4266</th>\n",
       "      <td>4266</td>\n",
       "      <td>real_orders-proofs/lt_ne_gt</td>\n",
       "      <td>NOOP decompose-equality inst &lt;ANT&gt; s-formula a...</td>\n",
       "      <td>NOOP decompose-equality inst</td>\n",
       "      <td>pos</td>\n",
       "    </tr>\n",
       "    <tr>\n",
       "      <th>904</th>\n",
       "      <td>904</td>\n",
       "      <td>cont_vect2_real-proofs/inv_fun_continuous_vr</td>\n",
       "      <td>instantiate inst? lemma &lt;ANT&gt; &lt;CONS&gt; s-formula...</td>\n",
       "      <td>instantiate inst? lemma</td>\n",
       "      <td>pos</td>\n",
       "    </tr>\n",
       "    <tr>\n",
       "      <th>11005</th>\n",
       "      <td>11005</td>\n",
       "      <td>sigma-proofs/sigma_downwards_TCC2</td>\n",
       "      <td>NOOP skolem skeep &lt;ANT&gt; &lt;CONS&gt; s-formula foral...</td>\n",
       "      <td>NOOP skolem skeep</td>\n",
       "      <td>neg</td>\n",
       "    </tr>\n",
       "    <tr>\n",
       "      <th>...</th>\n",
       "      <td>...</td>\n",
       "      <td>...</td>\n",
       "      <td>...</td>\n",
       "      <td>...</td>\n",
       "      <td>...</td>\n",
       "    </tr>\n",
       "    <tr>\n",
       "      <th>7648</th>\n",
       "      <td>7648</td>\n",
       "      <td>derivative_props-proofs/mean_value_abs</td>\n",
       "      <td>instantiate inst? simplify &lt;ANT&gt; &lt;CONS&gt; s-form...</td>\n",
       "      <td>instantiate inst? simplify</td>\n",
       "      <td>neg</td>\n",
       "    </tr>\n",
       "    <tr>\n",
       "      <th>8783</th>\n",
       "      <td>8783</td>\n",
       "      <td>limit_vect2_vect2-proofs/lim_const_fun</td>\n",
       "      <td>NOOP NOOP auto-rewrite &lt;ANT&gt; &lt;CONS&gt; s-formula ...</td>\n",
       "      <td>NOOP NOOP auto-rewrite</td>\n",
       "      <td>neg</td>\n",
       "    </tr>\n",
       "    <tr>\n",
       "      <th>2727</th>\n",
       "      <td>2727</td>\n",
       "      <td>lines_2D-proofs/test3</td>\n",
       "      <td>expand inst expand &lt;ANT&gt; &lt;CONS&gt; s-formula fora...</td>\n",
       "      <td>expand inst expand</td>\n",
       "      <td>pos</td>\n",
       "    </tr>\n",
       "    <tr>\n",
       "      <th>671</th>\n",
       "      <td>671</td>\n",
       "      <td>cardinal-proofs/cardinal_lt</td>\n",
       "      <td>split ground simplify &lt;ANT&gt; &lt;CONS&gt; s-formula f...</td>\n",
       "      <td>split ground simplify</td>\n",
       "      <td>pos</td>\n",
       "    </tr>\n",
       "    <tr>\n",
       "      <th>7255</th>\n",
       "      <td>7255</td>\n",
       "      <td>convergence_functions-proofs/convergence_const</td>\n",
       "      <td>NOOP expand skosimp* &lt;ANT&gt; &lt;CONS&gt; s-formula fo...</td>\n",
       "      <td>NOOP expand skosimp*</td>\n",
       "      <td>neg</td>\n",
       "    </tr>\n",
       "  </tbody>\n",
       "</table>\n",
       "<p>11162 rows × 5 columns</p>\n",
       "</div>"
      ],
      "text/plain": [
       "       Unnamed: 0                                          proofname  \\\n",
       "7375         7375  convex_functions-proofs/convex_const_on_connec...   \n",
       "11790       11790          traces-proofs/terminating_finite_traces_j   \n",
       "4266         4266                        real_orders-proofs/lt_ne_gt   \n",
       "904           904       cont_vect2_real-proofs/inv_fun_continuous_vr   \n",
       "11005       11005                  sigma-proofs/sigma_downwards_TCC2   \n",
       "...           ...                                                ...   \n",
       "7648         7648             derivative_props-proofs/mean_value_abs   \n",
       "8783         8783             limit_vect2_vect2-proofs/lim_const_fun   \n",
       "2727         2727                              lines_2D-proofs/test3   \n",
       "671           671                        cardinal-proofs/cardinal_lt   \n",
       "7255         7255     convergence_functions-proofs/convergence_const   \n",
       "\n",
       "                                             source_text  \\\n",
       "7375   cross-mult simplify simplify <ANT> <CONS> s-fo...   \n",
       "11790  lemma instantiate inst? <ANT> <CONS> s-formula...   \n",
       "4266   NOOP decompose-equality inst <ANT> s-formula a...   \n",
       "904    instantiate inst? lemma <ANT> <CONS> s-formula...   \n",
       "11005  NOOP skolem skeep <ANT> <CONS> s-formula foral...   \n",
       "...                                                  ...   \n",
       "7648   instantiate inst? simplify <ANT> <CONS> s-form...   \n",
       "8783   NOOP NOOP auto-rewrite <ANT> <CONS> s-formula ...   \n",
       "2727   expand inst expand <ANT> <CONS> s-formula fora...   \n",
       "671    split ground simplify <ANT> <CONS> s-formula f...   \n",
       "7255   NOOP expand skosimp* <ANT> <CONS> s-formula fo...   \n",
       "\n",
       "                        cmd_history target_text  \n",
       "7375   cross-mult simplify simplify         neg  \n",
       "11790       lemma instantiate inst?         neg  \n",
       "4266   NOOP decompose-equality inst         pos  \n",
       "904         instantiate inst? lemma         pos  \n",
       "11005             NOOP skolem skeep         neg  \n",
       "...                             ...         ...  \n",
       "7648     instantiate inst? simplify         neg  \n",
       "8783         NOOP NOOP auto-rewrite         neg  \n",
       "2727             expand inst expand         pos  \n",
       "671           split ground simplify         pos  \n",
       "7255           NOOP expand skosimp*         neg  \n",
       "\n",
       "[11162 rows x 5 columns]"
      ]
     },
     "execution_count": 49,
     "metadata": {},
     "output_type": "execute_result"
    }
   ],
   "source": [
    "train_df"
   ]
  },
  {
   "cell_type": "code",
   "execution_count": 13,
   "id": "307ddb69-9478-4d6b-b3b5-00a46ed79eb7",
   "metadata": {},
   "outputs": [],
   "source": [
    "Y_train = np.zeros(len(train_df))\n",
    "Y_train[train_df.target_text == 'pos'] = 1\n",
    "\n",
    "Y_test = np.zeros(len(test_df))\n",
    "Y_test[test_df.target_text == 'pos'] = 1\n"
   ]
  },
  {
   "cell_type": "code",
   "execution_count": 41,
   "id": "2b9aff66-b7b4-449c-bf4e-8b4a49436ed6",
   "metadata": {},
   "outputs": [],
   "source": [
    "def featurize_cmds(df):\n",
    "    datums = []\n",
    "    for cmds in df.cmd_history.array:\n",
    "        datum = {}\n",
    "        for idx, cmd in enumerate(cmds.split()):\n",
    "            datum[\"{}_{}\".format(cmd, idx)] = 1\n",
    "        datums.append(datum)\n",
    "    return datums"
   ]
  },
  {
   "cell_type": "code",
   "execution_count": 42,
   "id": "435fa428-9d37-43a9-b774-79d3ce8cdde6",
   "metadata": {},
   "outputs": [],
   "source": [
    "cmd_vectorizer = DictVectorizer(sparse=False)\n",
    "train_datums = featurize_cmds(train_df)\n",
    "test_datums = featurize_cmds(test_df)\n",
    "cmd_vectorizer.fit(train_datums)\n",
    "X_train = cmd_vectorizer.transform(train_datums)\n",
    "X_test = cmd_vectorizer.transform(test_datums)\n"
   ]
  },
  {
   "cell_type": "code",
   "execution_count": 43,
   "id": "7c555233-d108-446b-9ce6-5939a4c61be7",
   "metadata": {},
   "outputs": [
    {
     "data": {
      "text/plain": [
       "11162"
      ]
     },
     "execution_count": 43,
     "metadata": {},
     "output_type": "execute_result"
    }
   ],
   "source": [
    "len(train_datums)"
   ]
  },
  {
   "cell_type": "code",
   "execution_count": 44,
   "id": "16e0639f-c32f-44d4-85af-1dc1e9a41201",
   "metadata": {},
   "outputs": [
    {
     "name": "stdout",
     "output_type": "stream",
     "text": [
      "(11162, 233) (11162,)\n"
     ]
    }
   ],
   "source": [
    "print(X_train.shape, Y_train.shape)"
   ]
  },
  {
   "cell_type": "code",
   "execution_count": 45,
   "id": "ee199f4c-d4aa-4114-83d2-0b68a21622f7",
   "metadata": {},
   "outputs": [
    {
     "name": "stderr",
     "output_type": "stream",
     "text": [
      "/home/fennel1/yeh/anaconda/anaconda3/envs/coprovers/lib/python3.9/site-packages/sklearn/svm/_base.py:1206: ConvergenceWarning: Liblinear failed to converge, increase the number of iterations.\n",
      "  warnings.warn(\n"
     ]
    },
    {
     "data": {
      "text/plain": [
       "Pipeline(steps=[('standardscaler', StandardScaler()),\n",
       "                ('linearsvc', LinearSVC(random_state=0, tol=1e-05))])"
      ]
     },
     "execution_count": 45,
     "metadata": {},
     "output_type": "execute_result"
    }
   ],
   "source": [
    "\n",
    "clf = make_pipeline(StandardScaler(), LinearSVC(random_state=0, tol=1e-5))\n",
    "clf.fit(X_train, Y_train)"
   ]
  },
  {
   "cell_type": "code",
   "execution_count": 91,
   "id": "0f95a95d-ad2a-4dde-94a1-d1427d8ec3e4",
   "metadata": {},
   "outputs": [
    {
     "name": "stdout",
     "output_type": "stream",
     "text": [
      "5578.0 5584.0\n",
      "Train majority guess is negative\n"
     ]
    }
   ],
   "source": [
    "num_pos = np.sum(Y_train)\n",
    "num_neg = len(Y_train) - num_pos\n",
    "print(num_pos, num_neg)\n",
    "if num_neg > num_pos:\n",
    "    print(\"Train majority guess is negative\")\n",
    "    Y_baseline = np.zeros(Y_hat.shape) # Majority negative\n",
    "else:\n",
    "    print(\"Train majority guess is positive\")\n",
    "    Y_baseline = np.ones(Y_hat.shape)\n"
   ]
  },
  {
   "cell_type": "code",
   "execution_count": 92,
   "id": "3e67ab8f-21e7-4366-980f-2ea34e259e35",
   "metadata": {},
   "outputs": [
    {
     "name": "stdout",
     "output_type": "stream",
     "text": [
      "Classification Report, Linear SVC on command window only\n",
      "              precision    recall  f1-score   support\n",
      "\n",
      "         neg       0.55      0.71      0.62       479\n",
      "         pos       0.78      0.64      0.70       762\n",
      "\n",
      "    accuracy                           0.66      1241\n",
      "   macro avg       0.66      0.67      0.66      1241\n",
      "weighted avg       0.69      0.66      0.67      1241\n",
      "\n",
      "Classification Report, Baseline Guess\n",
      "              precision    recall  f1-score   support\n",
      "\n",
      "         neg       1.00      0.50      0.66      1241\n",
      "         pos       0.00      0.00      0.00         0\n",
      "\n",
      "    accuracy                           0.50      1241\n",
      "   macro avg       0.50      0.25      0.33      1241\n",
      "weighted avg       1.00      0.50      0.66      1241\n",
      "\n"
     ]
    },
    {
     "name": "stderr",
     "output_type": "stream",
     "text": [
      "/home/fennel1/yeh/anaconda/anaconda3/envs/coprovers/lib/python3.9/site-packages/sklearn/metrics/_classification.py:1318: UndefinedMetricWarning: Recall and F-score are ill-defined and being set to 0.0 in labels with no true samples. Use `zero_division` parameter to control this behavior.\n",
      "  _warn_prf(average, modifier, msg_start, len(result))\n",
      "/home/fennel1/yeh/anaconda/anaconda3/envs/coprovers/lib/python3.9/site-packages/sklearn/metrics/_classification.py:1318: UndefinedMetricWarning: Recall and F-score are ill-defined and being set to 0.0 in labels with no true samples. Use `zero_division` parameter to control this behavior.\n",
      "  _warn_prf(average, modifier, msg_start, len(result))\n",
      "/home/fennel1/yeh/anaconda/anaconda3/envs/coprovers/lib/python3.9/site-packages/sklearn/metrics/_classification.py:1318: UndefinedMetricWarning: Recall and F-score are ill-defined and being set to 0.0 in labels with no true samples. Use `zero_division` parameter to control this behavior.\n",
      "  _warn_prf(average, modifier, msg_start, len(result))\n"
     ]
    }
   ],
   "source": [
    "\n",
    "Y_hat = clf.predict(X_test)\n",
    "print(\"Classification Report, Linear SVC on command window only\")\n",
    "print(classification_report(Y_hat, Y_test, target_names=['neg', 'pos']))\n",
    "\n",
    "print(\"Classification Report, Baseline Guess\")\n",
    "print(classification_report(Y_baseline, Y_test, target_names=['neg', 'pos']))"
   ]
  },
  {
   "cell_type": "code",
   "execution_count": 55,
   "id": "50afd2b9-e754-4c74-942d-21d91473af2d",
   "metadata": {},
   "outputs": [],
   "source": [
    "# Now try by featurizing the state tokens, without the command history\n",
    "def featurize_state(df):\n",
    "    datums = []\n",
    "    for raw_state in df.source_text.array:\n",
    "        raw_state = \" \".join(raw_state.split()[3:]) # Get everything but the commands\n",
    "        datums.append(raw_state)\n",
    "    return datums"
   ]
  },
  {
   "cell_type": "code",
   "execution_count": 62,
   "id": "2e72b884-77f3-4034-b41f-e42be7ea271a",
   "metadata": {},
   "outputs": [
    {
     "ename": "TypeError",
     "evalue": "__init__() got an unexpected keyword argument 'sparse'",
     "output_type": "error",
     "traceback": [
      "\u001b[0;31m---------------------------------------------------------------------------\u001b[0m",
      "\u001b[0;31mTypeError\u001b[0m                                 Traceback (most recent call last)",
      "Input \u001b[0;32mIn [62]\u001b[0m, in \u001b[0;36m<cell line: 1>\u001b[0;34m()\u001b[0m\n\u001b[0;32m----> 1\u001b[0m tfidf_vectorizer \u001b[38;5;241m=\u001b[39m \u001b[43mTfidfVectorizer\u001b[49m\u001b[43m(\u001b[49m\u001b[43msparse\u001b[49m\u001b[38;5;241;43m=\u001b[39;49m\u001b[38;5;28;43;01mFalse\u001b[39;49;00m\u001b[43m)\u001b[49m\n\u001b[1;32m      2\u001b[0m train_docs \u001b[38;5;241m=\u001b[39m featurize_state(train_df)\n\u001b[1;32m      3\u001b[0m \u001b[38;5;28mprint\u001b[39m(\u001b[38;5;28mlen\u001b[39m(train_docs))\n",
      "\u001b[0;31mTypeError\u001b[0m: __init__() got an unexpected keyword argument 'sparse'"
     ]
    }
   ],
   "source": [
    "tfidf_vectorizer = TfidfVectorizer(sparse=False)\n",
    "train_docs = featurize_state(train_df)\n",
    "print(len(train_docs))\n",
    "tfidf_vectorizer.fit(train_docs)"
   ]
  },
  {
   "cell_type": "code",
   "execution_count": 63,
   "id": "b26f990a-4e0b-40a0-a592-41ea81ed1c7f",
   "metadata": {},
   "outputs": [],
   "source": [
    "X_state_train = tfidf_vectorizer.transform(train_docs).todense()"
   ]
  },
  {
   "cell_type": "code",
   "execution_count": 64,
   "id": "9c6edfd0-2397-4078-9bf9-9ba5177eef56",
   "metadata": {},
   "outputs": [
    {
     "name": "stdout",
     "output_type": "stream",
     "text": [
      "1241\n"
     ]
    }
   ],
   "source": [
    "test_docs = featurize_state(test_df)\n",
    "print(len(test_docs))\n",
    "X_state_test = tfidf_vectorizer.transform(test_docs).todense()"
   ]
  },
  {
   "cell_type": "code",
   "execution_count": 65,
   "id": "300f95eb-1ac8-40ee-9f7c-cb0079f7a2eb",
   "metadata": {},
   "outputs": [
    {
     "name": "stderr",
     "output_type": "stream",
     "text": [
      "/home/fennel1/yeh/anaconda/anaconda3/envs/coprovers/lib/python3.9/site-packages/sklearn/utils/validation.py:593: FutureWarning: np.matrix usage is deprecated in 1.0 and will raise a TypeError in 1.2. Please convert to a numpy array with np.asarray. For more information see: https://numpy.org/doc/stable/reference/generated/numpy.matrix.html\n",
      "  warnings.warn(\n",
      "/home/fennel1/yeh/anaconda/anaconda3/envs/coprovers/lib/python3.9/site-packages/sklearn/utils/validation.py:593: FutureWarning: np.matrix usage is deprecated in 1.0 and will raise a TypeError in 1.2. Please convert to a numpy array with np.asarray. For more information see: https://numpy.org/doc/stable/reference/generated/numpy.matrix.html\n",
      "  warnings.warn(\n",
      "/home/fennel1/yeh/anaconda/anaconda3/envs/coprovers/lib/python3.9/site-packages/sklearn/svm/_base.py:1206: ConvergenceWarning: Liblinear failed to converge, increase the number of iterations.\n",
      "  warnings.warn(\n"
     ]
    },
    {
     "data": {
      "text/plain": [
       "Pipeline(steps=[('standardscaler', StandardScaler()),\n",
       "                ('linearsvc', LinearSVC(random_state=0, tol=1e-05))])"
      ]
     },
     "execution_count": 65,
     "metadata": {},
     "output_type": "execute_result"
    }
   ],
   "source": [
    "state_clf = make_pipeline(StandardScaler(), LinearSVC(random_state=0, tol=1e-5))\n",
    "state_clf.fit(X_state_train, Y_train)"
   ]
  },
  {
   "cell_type": "code",
   "execution_count": 93,
   "id": "21c3da87-5d49-4ce7-954f-e3445f9a5f5e",
   "metadata": {},
   "outputs": [
    {
     "name": "stdout",
     "output_type": "stream",
     "text": [
      "State based SVC Results\n",
      "              precision    recall  f1-score   support\n",
      "\n",
      "         neg       0.53      0.61      0.57       531\n",
      "         pos       0.67      0.59      0.63       710\n",
      "\n",
      "    accuracy                           0.60      1241\n",
      "   macro avg       0.60      0.60      0.60      1241\n",
      "weighted avg       0.61      0.60      0.60      1241\n",
      "\n",
      "Baseline guess results\n",
      "              precision    recall  f1-score   support\n",
      "\n",
      "         neg       1.00      0.50      0.66      1241\n",
      "         pos       0.00      0.00      0.00         0\n",
      "\n",
      "    accuracy                           0.50      1241\n",
      "   macro avg       0.50      0.25      0.33      1241\n",
      "weighted avg       1.00      0.50      0.66      1241\n",
      "\n"
     ]
    },
    {
     "name": "stderr",
     "output_type": "stream",
     "text": [
      "/home/fennel1/yeh/anaconda/anaconda3/envs/coprovers/lib/python3.9/site-packages/sklearn/utils/validation.py:593: FutureWarning: np.matrix usage is deprecated in 1.0 and will raise a TypeError in 1.2. Please convert to a numpy array with np.asarray. For more information see: https://numpy.org/doc/stable/reference/generated/numpy.matrix.html\n",
      "  warnings.warn(\n",
      "/home/fennel1/yeh/anaconda/anaconda3/envs/coprovers/lib/python3.9/site-packages/sklearn/metrics/_classification.py:1318: UndefinedMetricWarning: Recall and F-score are ill-defined and being set to 0.0 in labels with no true samples. Use `zero_division` parameter to control this behavior.\n",
      "  _warn_prf(average, modifier, msg_start, len(result))\n",
      "/home/fennel1/yeh/anaconda/anaconda3/envs/coprovers/lib/python3.9/site-packages/sklearn/metrics/_classification.py:1318: UndefinedMetricWarning: Recall and F-score are ill-defined and being set to 0.0 in labels with no true samples. Use `zero_division` parameter to control this behavior.\n",
      "  _warn_prf(average, modifier, msg_start, len(result))\n",
      "/home/fennel1/yeh/anaconda/anaconda3/envs/coprovers/lib/python3.9/site-packages/sklearn/metrics/_classification.py:1318: UndefinedMetricWarning: Recall and F-score are ill-defined and being set to 0.0 in labels with no true samples. Use `zero_division` parameter to control this behavior.\n",
      "  _warn_prf(average, modifier, msg_start, len(result))\n"
     ]
    }
   ],
   "source": [
    "print(\"State based SVC Results\")\n",
    "Y_state_hat = state_clf.predict(X_state_test)\n",
    "print(classification_report(Y_state_hat, Y_test, target_names=['neg', 'pos']))\n",
    "\n",
    "print(\"Baseline guess results\")\n",
    "print(classification_report(Y_baseline, Y_test, target_names=['neg', 'pos']))"
   ]
  },
  {
   "cell_type": "code",
   "execution_count": 88,
   "id": "52c58172-2756-44b8-a46f-13b1b10eb73d",
   "metadata": {},
   "outputs": [
    {
     "data": {
      "text/plain": [
       "array([0., 0., 0., ..., 0., 0., 0.])"
      ]
     },
     "execution_count": 88,
     "metadata": {},
     "output_type": "execute_result"
    }
   ],
   "source": [
    "Y_baseline = np.zeros(Y_hat.shape)\n",
    "Y_baseline"
   ]
  }
 ],
 "metadata": {
  "kernelspec": {
   "display_name": "Python [conda env:coprovers] *",
   "language": "python",
   "name": "conda-env-coprovers-py"
  },
  "language_info": {
   "codemirror_mode": {
    "name": "ipython",
    "version": 3
   },
   "file_extension": ".py",
   "mimetype": "text/x-python",
   "name": "python",
   "nbconvert_exporter": "python",
   "pygments_lexer": "ipython3",
   "version": "3.9.10"
  }
 },
 "nbformat": 4,
 "nbformat_minor": 5
}
