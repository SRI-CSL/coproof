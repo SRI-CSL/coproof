{
 "cells": [
  {
   "cell_type": "code",
   "execution_count": 1,
   "id": "4aec7d92-7c50-4ebc-b083-4d3b2a65daa8",
   "metadata": {},
   "outputs": [],
   "source": [
    "\"\"\"\n",
    "Prints summaries of combined sets of results\n",
    "\"\"\"\n",
    "\n",
    "import pandas as pd\n",
    "from pathlib import Path\n",
    "\n",
    "def pprint_df(df):\n",
    "    for idx, row in df.iterrows():\n",
    "        name = row['name'].replace(\"_\", \" \")\n",
    "\n",
    "        print(f\"{name} & {row.micro_f1:0.2f} & {row.accuracy:0.2f} \\\\\\\\ \")\n"
   ]
  },
  {
   "cell_type": "code",
   "execution_count": 2,
   "id": "6c24afb9-23cf-46db-b88a-0b093cf26a04",
   "metadata": {},
   "outputs": [
    {
     "name": "stdout",
     "output_type": "stream",
     "text": [
      "             name  macro_f1  micro_f1  accuracy\n",
      "0  t5_cmdsonly_v1  0.651821  0.652358  0.662369\n",
      "1      t5_full_v1  0.714278  0.714694  0.721998\n",
      "2    t5_nocmds_v1  0.677134  0.677252  0.677679\n"
     ]
    }
   ],
   "source": [
    "from coprover.results_analysis import read_gg_from_csv, summarize\n",
    "T5_RES_DIR = Path(\"results\", \"t5\", \"v1\")\n",
    "t5_v1_telem_fpaths = T5_RES_DIR.glob(\"*.csv\")\n",
    "t5_v1_telems = [read_gg_from_csv(telem_fpath) for telem_fpath in t5_v1_telem_fpaths]\n",
    "t5_v1_df = summarize(t5_v1_telems)\n",
    "t5_v1_df.to_csv(Path(\"results\", \"t5_v1.summary.csv\"))\n",
    "print(t5_v1_df)"
   ]
  },
  {
   "cell_type": "code",
   "execution_count": 3,
   "id": "23f7c49a",
   "metadata": {},
   "outputs": [
    {
     "name": "stdout",
     "output_type": "stream",
     "text": [
      "             name  macro_f1  micro_f1  accuracy\n",
      "0      t5_full_v2  0.688060  0.688408  0.692990\n",
      "1  t5_cmdsonly_v2  0.639502  0.640292  0.661563\n",
      "2    t5_nocmds_v2  0.525728  0.527293  0.591459\n"
     ]
    }
   ],
   "source": [
    "T5_RES_DIR = Path(\"results\", \"t5\", \"v2\")\n",
    "t5_v2_telem_fpaths = T5_RES_DIR.glob(\"*.csv\")\n",
    "t5_v2_telems = [read_gg_from_csv(telem_fpath) for telem_fpath in t5_v2_telem_fpaths]\n",
    "t5_v2_df = summarize(t5_v2_telems)\n",
    "t5_v2_df.to_csv(Path(\"results\", \"t5_v2.summary.csv\"))\n",
    "print(t5_v2_df)"
   ]
  },
  {
   "cell_type": "code",
   "execution_count": null,
   "id": "8a9d7c5e",
   "metadata": {},
   "outputs": [],
   "source": [
    "T5_RES_DIR = Path(\"results\", \"t5\", \"v3\")\n",
    "t5_v3_telem_fpaths = T5_RES_DIR.glob(\"*.csv\")\n",
    "t5_v3_telems = [read_gg_from_csv(telem_fpath) for telem_fpath in t5_v3_telem_fpaths]\n",
    "t5_v3_df = summarize(t5_v3_telems)\n",
    "t5_v3_df.to_csv(Path(\"results\", \"t5_v3.summary.csv\"))\n",
    "print(t5_v3_df)"
   ]
  },
  {
   "cell_type": "code",
   "execution_count": 8,
   "id": "dc729438",
   "metadata": {},
   "outputs": [
    {
     "name": "stdout",
     "output_type": "stream",
     "text": [
      "T5 V1\n"
     ]
    }
   ],
   "source": [
    "# Main results\n",
    "print(\"T5 V1\")\n",
    "for csv_fpath in Path(\"results\", \"t5\", \"v1\").glob(\"*summary.csv\"):\n",
    "    df = pd.read_csv(csv_fpath)\n",
    "    print(f\"\\n\\n{csv_fpath.name}\\n\")\n",
    "    pprint_df(df)"
   ]
  },
  {
   "cell_type": "code",
   "execution_count": null,
   "id": "b845da68",
   "metadata": {},
   "outputs": [],
   "source": [
    "print(\"T5 V2\")\n",
    "for csv_fpath in Path(\"results\", \"t5\", \"v2\").glob(\"*summary.csv\"):\n",
    "    df = pd.read_csv(csv_fpath)\n",
    "    print(f\"\\n\\n{csv_fpath.name}\\n\")\n",
    "    pprint_df(df)"
   ]
  },
  {
   "cell_type": "code",
   "execution_count": 5,
   "id": "2d75dcf5-52f5-4bf5-a94b-dcaf411ab340",
   "metadata": {},
   "outputs": [
    {
     "name": "stdout",
     "output_type": "stream",
     "text": [
      "Main Results\n",
      "\n",
      "\n",
      "combined2_summary.csv\n",
      "\n",
      "knn & 0.65 & 0.65 \\\\ \n",
      "randforest & 0.66 & 0.66 \\\\ \n",
      "svc linear & 0.65 & 0.66 \\\\ \n",
      "svc poly & 0.61 & 0.63 \\\\ \n",
      "svc rbf & 0.67 & 0.68 \\\\ \n",
      "\n",
      "\n",
      "tfidf_summary.csv\n",
      "\n",
      "knn & 0.56 & 0.56 \\\\ \n",
      "randforest & 0.56 & 0.56 \\\\ \n",
      "svc linear & 0.60 & 0.60 \\\\ \n",
      "svc poly & 0.52 & 0.56 \\\\ \n",
      "svc rbf & 0.59 & 0.60 \\\\ \n",
      "\n",
      "\n",
      "count_summary.csv\n",
      "\n",
      "knn & 0.56 & 0.56 \\\\ \n",
      "randforest & 0.55 & 0.55 \\\\ \n",
      "svc linear & 0.60 & 0.60 \\\\ \n",
      "svc poly & 0.40 & 0.50 \\\\ \n",
      "svc rbf & 0.58 & 0.59 \\\\ \n",
      "\n",
      "\n",
      "combined_summary.csv\n",
      "\n",
      "knn & 0.67 & 0.68 \\\\ \n",
      "randforest & 0.65 & 0.65 \\\\ \n",
      "svc linear & 0.66 & 0.66 \\\\ \n",
      "svc poly & 0.61 & 0.64 \\\\ \n",
      "svc rbf & 0.67 & 0.68 \\\\ \n",
      "\n",
      "\n",
      "cmd_std_summary.csv\n",
      "\n",
      "knn & 0.65 & 0.65 \\\\ \n",
      "randforest & 0.68 & 0.68 \\\\ \n",
      "svc linear & 0.66 & 0.66 \\\\ \n",
      "svc poly & 0.61 & 0.63 \\\\ \n",
      "svc rbf & 0.66 & 0.67 \\\\ \n"
     ]
    }
   ],
   "source": [
    "# Main results\n",
    "print(\"Main Results\")\n",
    "for csv_fpath in Path(\"results\").glob(\"*summary.csv\"):\n",
    "    df = pd.read_csv(csv_fpath)\n",
    "    print(f\"\\n\\n{csv_fpath.name}\\n\")\n",
    "    pprint_df(df)"
   ]
  },
  {
   "cell_type": "code",
   "execution_count": 6,
   "id": "b5692532-c5eb-45c5-aa9e-55805fd75c5d",
   "metadata": {},
   "outputs": [
    {
     "name": "stdout",
     "output_type": "stream",
     "text": [
      "V2 data\n",
      "\n",
      "\n",
      "combined2_summary.csv\n",
      "\n",
      "knn & 0.65 & 0.65 \\\\ \n",
      "randforest & 0.65 & 0.65 \\\\ \n",
      "svc linear & 0.66 & 0.66 \\\\ \n",
      "svc poly & 0.61 & 0.63 \\\\ \n",
      "svc rbf & 0.67 & 0.68 \\\\ \n",
      "\n",
      "\n",
      "tfidf_summary.csv\n",
      "\n",
      "knn & 0.55 & 0.55 \\\\ \n",
      "randforest & 0.58 & 0.58 \\\\ \n",
      "svc linear & 0.61 & 0.61 \\\\ \n",
      "svc poly & 0.55 & 0.57 \\\\ \n",
      "svc rbf & 0.59 & 0.60 \\\\ \n",
      "\n",
      "\n",
      "count_summary.csv\n",
      "\n",
      "knn & 0.53 & 0.53 \\\\ \n",
      "randforest & 0.54 & 0.54 \\\\ \n",
      "svc linear & 0.60 & 0.60 \\\\ \n",
      "svc poly & 0.40 & 0.49 \\\\ \n",
      "svc rbf & 0.58 & 0.58 \\\\ \n",
      "\n",
      "\n",
      "combined_summary.csv\n",
      "\n",
      "knn & 0.67 & 0.67 \\\\ \n",
      "randforest & 0.63 & 0.63 \\\\ \n",
      "svc linear & 0.66 & 0.66 \\\\ \n",
      "svc poly & 0.60 & 0.63 \\\\ \n",
      "svc rbf & 0.67 & 0.68 \\\\ \n",
      "\n",
      "\n",
      "cmd_std_summary.csv\n",
      "\n",
      "knn & 0.65 & 0.65 \\\\ \n",
      "randforest & 0.69 & 0.69 \\\\ \n",
      "svc linear & 0.66 & 0.66 \\\\ \n",
      "svc poly & 0.61 & 0.63 \\\\ \n",
      "svc rbf & 0.66 & 0.67 \\\\ \n"
     ]
    }
   ],
   "source": [
    "# V2 data analysis\n",
    "print(\"V2 data\")\n",
    "for csv_fpath in Path(\"results/data_v2\").glob(\"*summary.csv\"):\n",
    "    df = pd.read_csv(csv_fpath)\n",
    "    print(f\"\\n\\n{csv_fpath.name}\\n\")\n",
    "    pprint_df(df)"
   ]
  },
  {
   "cell_type": "code",
   "execution_count": null,
   "id": "1e7d57a0-0d42-46e0-92cd-14214a7c646a",
   "metadata": {},
   "outputs": [],
   "source": []
  }
 ],
 "metadata": {
  "kernelspec": {
   "display_name": "coprovers",
   "language": "python",
   "name": "python3"
  },
  "language_info": {
   "codemirror_mode": {
    "name": "ipython",
    "version": 3
   },
   "file_extension": ".py",
   "mimetype": "text/x-python",
   "name": "python",
   "nbconvert_exporter": "python",
   "pygments_lexer": "ipython3",
   "version": "3.9.10"
  }
 },
 "nbformat": 4,
 "nbformat_minor": 5
}
