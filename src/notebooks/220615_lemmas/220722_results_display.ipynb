{
 "cells": [
  {
   "cell_type": "code",
   "execution_count": 1,
   "id": "7e420853-c01c-4a5c-9f51-8a77b06f9fa4",
   "metadata": {},
   "outputs": [],
   "source": [
    "import pandas as pd"
   ]
  },
  {
   "cell_type": "code",
   "execution_count": 5,
   "id": "6e0a84d9-23ab-40fa-bf7d-c30889c2942d",
   "metadata": {},
   "outputs": [],
   "source": [
    "# Activate word wrapping for large entries\n",
    "pd.set_option('display.max_colwidth', 0)\n",
    "pd.set_option('display.precision', 4)"
   ]
  },
  {
   "cell_type": "code",
   "execution_count": 3,
   "id": "84ac619e-139f-4829-9720-53d929c32f61",
   "metadata": {},
   "outputs": [],
   "source": [
    "df = pd.read_csv(\"svc_results.csv\")"
   ]
  },
  {
   "cell_type": "code",
   "execution_count": 6,
   "id": "99442786-0f47-4bf0-805d-9faa89dbd3bf",
   "metadata": {},
   "outputs": [
    {
     "data": {
      "text/html": [
       "<div>\n",
       "<style scoped>\n",
       "    .dataframe tbody tr th:only-of-type {\n",
       "        vertical-align: middle;\n",
       "    }\n",
       "\n",
       "    .dataframe tbody tr th {\n",
       "        vertical-align: top;\n",
       "    }\n",
       "\n",
       "    .dataframe thead th {\n",
       "        text-align: right;\n",
       "    }\n",
       "</style>\n",
       "<table border=\"1\" class=\"dataframe\">\n",
       "  <thead>\n",
       "    <tr style=\"text-align: right;\">\n",
       "      <th></th>\n",
       "      <th>exp_name</th>\n",
       "      <th>svc_type</th>\n",
       "      <th>train_acc</th>\n",
       "      <th>test_acc</th>\n",
       "    </tr>\n",
       "  </thead>\n",
       "  <tbody>\n",
       "    <tr>\n",
       "      <th>0</th>\n",
       "      <td>Count_NoNorm</td>\n",
       "      <td>LibLinear</td>\n",
       "      <td>0.8376</td>\n",
       "      <td>0.8345</td>\n",
       "    </tr>\n",
       "    <tr>\n",
       "      <th>1</th>\n",
       "      <td>Count_NoNorm</td>\n",
       "      <td>Poly</td>\n",
       "      <td>0.6833</td>\n",
       "      <td>0.6813</td>\n",
       "    </tr>\n",
       "    <tr>\n",
       "      <th>2</th>\n",
       "      <td>Count_NoNorm</td>\n",
       "      <td>RBF</td>\n",
       "      <td>0.6805</td>\n",
       "      <td>0.6794</td>\n",
       "    </tr>\n",
       "    <tr>\n",
       "      <th>3</th>\n",
       "      <td>TFIDF_NoNorm</td>\n",
       "      <td>LibLinear</td>\n",
       "      <td>0.8160</td>\n",
       "      <td>0.8104</td>\n",
       "    </tr>\n",
       "    <tr>\n",
       "      <th>4</th>\n",
       "      <td>TFIDF_NoNorm</td>\n",
       "      <td>Poly</td>\n",
       "      <td>0.8451</td>\n",
       "      <td>0.8346</td>\n",
       "    </tr>\n",
       "    <tr>\n",
       "      <th>5</th>\n",
       "      <td>TFIDF_NoNorm</td>\n",
       "      <td>RBF</td>\n",
       "      <td>0.9005</td>\n",
       "      <td>0.8963</td>\n",
       "    </tr>\n",
       "    <tr>\n",
       "      <th>6</th>\n",
       "      <td>Count_Norm</td>\n",
       "      <td>LibLinear</td>\n",
       "      <td>0.8501</td>\n",
       "      <td>0.8431</td>\n",
       "    </tr>\n",
       "    <tr>\n",
       "      <th>7</th>\n",
       "      <td>Count_Norm</td>\n",
       "      <td>Poly</td>\n",
       "      <td>0.6860</td>\n",
       "      <td>0.6855</td>\n",
       "    </tr>\n",
       "    <tr>\n",
       "      <th>8</th>\n",
       "      <td>Count_Norm</td>\n",
       "      <td>RBF</td>\n",
       "      <td>0.6916</td>\n",
       "      <td>0.6897</td>\n",
       "    </tr>\n",
       "    <tr>\n",
       "      <th>9</th>\n",
       "      <td>TFIDF_Norm</td>\n",
       "      <td>LibLinear</td>\n",
       "      <td>0.8150</td>\n",
       "      <td>0.8092</td>\n",
       "    </tr>\n",
       "    <tr>\n",
       "      <th>10</th>\n",
       "      <td>TFIDF_Norm</td>\n",
       "      <td>Poly</td>\n",
       "      <td>0.8444</td>\n",
       "      <td>0.8340</td>\n",
       "    </tr>\n",
       "    <tr>\n",
       "      <th>11</th>\n",
       "      <td>TFIDF_Norm</td>\n",
       "      <td>RBF</td>\n",
       "      <td>0.8997</td>\n",
       "      <td>0.8958</td>\n",
       "    </tr>\n",
       "  </tbody>\n",
       "</table>\n",
       "</div>"
      ],
      "text/plain": [
       "        exp_name   svc_type  train_acc  test_acc\n",
       "0   Count_NoNorm  LibLinear  0.8376     0.8345  \n",
       "1   Count_NoNorm  Poly       0.6833     0.6813  \n",
       "2   Count_NoNorm  RBF        0.6805     0.6794  \n",
       "3   TFIDF_NoNorm  LibLinear  0.8160     0.8104  \n",
       "4   TFIDF_NoNorm  Poly       0.8451     0.8346  \n",
       "5   TFIDF_NoNorm  RBF        0.9005     0.8963  \n",
       "6   Count_Norm    LibLinear  0.8501     0.8431  \n",
       "7   Count_Norm    Poly       0.6860     0.6855  \n",
       "8   Count_Norm    RBF        0.6916     0.6897  \n",
       "9   TFIDF_Norm    LibLinear  0.8150     0.8092  \n",
       "10  TFIDF_Norm    Poly       0.8444     0.8340  \n",
       "11  TFIDF_Norm    RBF        0.8997     0.8958  "
      ]
     },
     "execution_count": 6,
     "metadata": {},
     "output_type": "execute_result"
    }
   ],
   "source": [
    "df"
   ]
  },
  {
   "cell_type": "code",
   "execution_count": 8,
   "id": "e1309115-8cea-4f45-ba22-61393cb17469",
   "metadata": {},
   "outputs": [
    {
     "name": "stdout",
     "output_type": "stream",
     "text": [
      ",exp_name,svc_type,train_acc,test_acc\n",
      "0,Count_NoNorm,LibLinear,0.837564567534894,0.834507767750443\n",
      "1,Count_NoNorm,Poly,0.6833443235520387,0.6813367948242469\n",
      "2,Count_NoNorm,RBF,0.6805418177821738,0.679400008241645\n",
      "3,TFIDF_NoNorm,LibLinear,0.8159687877788768,0.810359747805662\n",
      "4,TFIDF_NoNorm,Poly,0.845147818441587,0.8345901842007665\n",
      "5,TFIDF_NoNorm,RBF,0.9004835696230356,0.8962788972678947\n",
      "6,Count_Norm,LibLinear,0.8500934168589955,0.8430790785840854\n",
      "7,Count_Norm,Poly,0.6860094515880866,0.6855400337907447\n",
      "8,Count_Norm,RBF,0.6916144631278163,0.6897020645320806\n",
      "9,TFIDF_Norm,LibLinear,0.8150346191889218,0.8091647092759715\n",
      "10,TFIDF_Norm,Poly,0.8443785031322123,0.834013269048502\n",
      "11,TFIDF_Norm,RBF,0.8996867787668975,0.8957843985659537\n",
      "\n"
     ]
    }
   ],
   "source": [
    "print(df.to_csv())"
   ]
  }
 ],
 "metadata": {
  "kernelspec": {
   "display_name": "Python [conda env:coprovers] *",
   "language": "python",
   "name": "conda-env-coprovers-py"
  },
  "language_info": {
   "codemirror_mode": {
    "name": "ipython",
    "version": 3
   },
   "file_extension": ".py",
   "mimetype": "text/x-python",
   "name": "python",
   "nbconvert_exporter": "python",
   "pygments_lexer": "ipython3",
   "version": "3.9.10"
  }
 },
 "nbformat": 4,
 "nbformat_minor": 5
}
