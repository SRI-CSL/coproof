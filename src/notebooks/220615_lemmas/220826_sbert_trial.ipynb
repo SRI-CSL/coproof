{
 "cells": [
  {
   "cell_type": "markdown",
   "id": "1bfbe3b8-9556-42d3-94cc-f2a7c2728d13",
   "metadata": {},
   "source": [
    "Now that we've got SBert with label training going, this assesses the current trained model and tries some query and lemma pairs to see the similarity scores\n",
    "\n",
    "To compare against other vector based baselines, see 220707_lemma_retrieval_exps"
   ]
  },
  {
   "cell_type": "code",
   "execution_count": 1,
   "id": "2b6a5b0a-8918-4f73-aa08-e615453f5bee",
   "metadata": {},
   "outputs": [
    {
     "name": "stdout",
     "output_type": "stream",
     "text": [
      "766 9206\n",
      "Lemma queries cached, loading\n"
     ]
    },
    {
     "name": "stderr",
     "output_type": "stream",
     "text": [
      "100%|█████████████████████████████████████████████████████████████████████| 766/766 [00:02<00:00, 286.49it/s]\n"
     ]
    },
    {
     "name": "stdout",
     "output_type": "stream",
     "text": [
      "# train=12132, test=8089, total=20221\n",
      "10000/100000\n",
      "20000/100000\n",
      "30000/100000\n",
      "40000/100000\n",
      "50000/100000\n",
      "60000/100000\n",
      "70000/100000\n",
      "80000/100000\n",
      "90000/100000\n",
      "100000/100000\n",
      "10/100\n",
      "20/100\n",
      "30/100\n",
      "40/100\n",
      "50/100\n",
      "60/100\n",
      "70/100\n",
      "80/100\n",
      "90/100\n",
      "100/100\n"
     ]
    }
   ],
   "source": [
    "from setup_queries import *\n",
    "from coprover.utils import ensure_numpy"
   ]
  },
  {
   "cell_type": "code",
   "execution_count": 2,
   "id": "d64e1d09-dc0d-4380-85d9-0e0960247d9c",
   "metadata": {
    "tags": []
   },
   "outputs": [
    {
     "name": "stdout",
     "output_type": "stream",
     "text": [
      "/home/fennel2/yeh/proj/CoProver/src/coprover/../../data/pvs/pvslib/vect_analysis\n",
      "/home/fennel2/yeh/proj/CoProver/src/coprover/../../data/pvs/pvslib/vectors\n",
      "/home/fennel2/yeh/proj/CoProver/src/coprover/../../data/pvs/pvslib/series\n",
      "/home/fennel2/yeh/proj/CoProver/src/coprover/../../data/pvs/pvslib/ints\n",
      "/home/fennel2/yeh/proj/CoProver/src/coprover/../../data/pvs/pvslib/numbers\n",
      "/home/fennel2/yeh/proj/CoProver/src/coprover/../../data/pvs/pvslib/sigma_set\n",
      "/home/fennel2/yeh/proj/CoProver/src/coprover/../../data/pvs/pvslib/reals\n",
      "/home/fennel2/yeh/proj/CoProver/src/coprover/../../data/pvs/pvslib/algebra\n",
      "/home/fennel2/yeh/proj/CoProver/src/coprover/../../data/pvs/pvslib/orders\n",
      "/home/fennel2/yeh/proj/CoProver/src/coprover/../../data/pvs/pvslib/structures\n",
      "/home/fennel2/yeh/proj/CoProver/src/coprover/../../data/pvs/pvslib/analysis\n",
      "/home/fennel2/yeh/proj/CoProver/src/coprover/../../data/pvs/pvslib/sets_aux\n"
     ]
    }
   ],
   "source": [
    "from theorybank import PVSLIB_ROOT\n",
    "for x in PVSLIB_ROOT.glob(\"*/\"):print(x)"
   ]
  },
  {
   "cell_type": "code",
   "execution_count": 19,
   "id": "ef88240f-8c74-4d45-ad58-b63dbde67ac2",
   "metadata": {},
   "outputs": [],
   "source": [
    "from sentence_transformers import SentenceTransformer\n",
    "\n",
    "# MODEL_FPATH = 'outputs/nir_sbert.220826/436400' # Old model, trained and test same lemmas\n",
    "MODEL_FPATH = \"outputs/nir_sbert/90000\"  # Train and test proper separation\n",
    "\n",
    "model = SentenceTransformer(MODEL_FPATH)\n"
   ]
  },
  {
   "cell_type": "code",
   "execution_count": 20,
   "id": "12cc2607-18de-4c13-a865-9570185116da",
   "metadata": {},
   "outputs": [],
   "source": [
    "\n",
    "def scan(example):\n",
    "    X = model.encode(example.texts)\n",
    "    return X[0].dot(X[1])"
   ]
  },
  {
   "cell_type": "code",
   "execution_count": 29,
   "id": "bb534d07-5370-4836-836e-886ba56ded0f",
   "metadata": {},
   "outputs": [
    {
     "data": {
      "text/plain": [
       "['current-goal antecedents null consequents new? null formula operator deriv_real_vect2__derivable_rvp argument bindings subtype expression asserted? null new? null formula operator deriv_real_vect2__derivable_rvp argument bindings subtype expression operator vectors_2D__times__2 argument subtype asserted? null hidden null',\n",
       " 'bindings variableName n expression operator notequal__notequal__1 constantName notequal__notequal__1 argument operator triangle_numbers__Tri constantName triangle_numbers__Tri argument operator number_fields__plus constantName number_fields__plus argument variableName n integerValue 1 integerValue 0']"
      ]
     },
     "execution_count": 29,
     "metadata": {},
     "output_type": "execute_result"
    }
   ],
   "source": [
    "test_examples[31].texts"
   ]
  },
  {
   "cell_type": "code",
   "execution_count": 22,
   "id": "44b27c21-ee02-414d-b4ac-f3b98de55b19",
   "metadata": {
    "tags": []
   },
   "outputs": [
    {
     "name": "stdout",
     "output_type": "stream",
     "text": [
      "698.0336 1.8749456\n",
      "722.8218 -5.3675985\n",
      "713.9838 1.0453377\n",
      "711.7249 -12.207712\n",
      "701.72095 2.6952934\n",
      "649.6725 22.773071\n",
      "698.204 -28.309057\n",
      "701.41345 -23.888834\n",
      "708.35284 14.790977\n",
      "673.62744 -22.042747\n",
      "722.6344 -22.895771\n",
      "704.41675 2.9650168\n",
      "717.7091 11.239952\n",
      "699.8699 8.958073\n",
      "714.88086 -0.74592304\n",
      "682.09436 9.878852\n",
      "708.4104 -10.445741\n",
      "684.4858 -0.8546219\n",
      "703.35925 5.3874836\n",
      "724.8972 28.870218\n",
      "692.18964 9.764464\n",
      "725.5664 -2.608736\n",
      "696.90497 -6.960911\n",
      "661.8612 10.097407\n",
      "712.5636 4.838881\n",
      "714.181 -20.615276\n",
      "691.87177 11.483585\n",
      "689.8466 3.983642\n",
      "679.9013 -20.848385\n",
      "724.4712 -13.866255\n",
      "681.91705 -31.90364\n",
      "702.2228 20.118378\n",
      "710.69446 2.6748352\n",
      "739.99536 -6.612355\n",
      "707.54474 -5.1188326\n",
      "640.49194 -6.0306396\n",
      "660.41003 5.4664707\n",
      "74.94026 -18.500835\n",
      "731.7728 -7.2547417\n",
      "686.1853 10.682558\n",
      "694.6893 251.24255\n",
      "726.90314 9.920337\n",
      "307.7796 9.524148\n",
      "691.89 11.507908\n",
      "680.724 -0.75217867\n",
      "727.219 -63.28762\n",
      "692.6244 5.6724706\n",
      "708.8489 -4.68594\n",
      "706.1438 4.8475733\n",
      "716.5559 -36.24936\n",
      "680.42444 104.5339\n",
      "2.2050142 39.17769\n"
     ]
    }
   ],
   "source": [
    "pos_scores = []\n",
    "neg_scores = []\n",
    "\n",
    "for i in range(0,len(test_examples), 2):\n",
    "    pos_score = scan(test_examples[i])\n",
    "    neg_score = scan(test_examples[i+1])\n",
    "    pos_scores.append(pos_score)\n",
    "    neg_scores.append(neg_score)\n",
    "    print(pos_score, neg_score)\n",
    "    \n",
    "print(np.mean(pos_scores), np.std(pos_scores))\n",
    "print(np.mean(neg_scores), np.std(neg_scores))"
   ]
  },
  {
   "cell_type": "code",
   "execution_count": 23,
   "id": "973eb584-d264-4bd5-9860-d671b352cdeb",
   "metadata": {},
   "outputs": [
    {
     "data": {
      "text/plain": [
       "<matplotlib.legend.Legend at 0x7ff7ecf52e20>"
      ]
     },
     "execution_count": 23,
     "metadata": {},
     "output_type": "execute_result"
    },
    {
     "data": {
      "image/png": "[encoded data removed]",
      "text/plain": [
       "<Figure size 864x432 with 1 Axes>"
      ]
     },
     "metadata": {
      "needs_background": "light"
     },
     "output_type": "display_data"
    }
   ],
   "source": [
    "from matplotlib import pyplot as plt\n",
    "fig, ax = plt.subplots(figsize=(12,6))\n",
    "ax.hist([pos_scores, neg_scores], label=[\"Pos\", \"Neg\"], bins=100)\n",
    "plt.title(\"Score Overlap (N)\")\n",
    "plt.legend()"
   ]
  },
  {
   "cell_type": "code",
   "execution_count": 24,
   "id": "a699937d-c0d8-4e18-a3b1-981904cbcfa1",
   "metadata": {},
   "outputs": [
    {
     "name": "stderr",
     "output_type": "stream",
     "text": [
      "100%|████████████████████████████████████████████████████████████████████| 8962/8962 [02:39<00:00, 56.24it/s]\n"
     ]
    }
   ],
   "source": [
    "# Attempt to vectorize all lemmas in theory\n",
    "all_lemma_texts = []\n",
    "for lemma in all_lemmas:\n",
    "    all_lemma_texts.append(\" \".join([str(x) for x in lemma]))\n",
    "\n",
    "# Encode the entire library of lemmas into a single array\n",
    "L = []\n",
    "for i in tqdm(range(len(all_lemma_texts))):\n",
    "    L.append(ensure_numpy(model.encode(all_lemma_texts[i])))\n",
    "L = np.array(L)"
   ]
  },
  {
   "cell_type": "code",
   "execution_count": 45,
   "id": "02fc37bd-0223-451d-9105-1ca711e8e0ad",
   "metadata": {},
   "outputs": [
    {
     "name": "stderr",
     "output_type": "stream",
     "text": [
      "100%|████████████████████████████████████████████████████████████████████| 8089/8089 [04:01<00:00, 33.47it/s]\n"
     ]
    }
   ],
   "source": [
    "#def query(query_text, L):\n",
    "ranks = []\n",
    "APPLY_NORM = True\n",
    "\n",
    "L_normed = L / np.linalg.norm(L, axis=1).reshape((len(L), 1))\n",
    "\n",
    "for qidx in tqdm(range(len(test_queries))):\n",
    "    test_query = test_queries[qidx]\n",
    "    query_gold = test_query['name']\n",
    "    if query_gold in all_lemma_names:\n",
    "        query_text = \" \".join([str(x) for x in test_query['state']])\n",
    "        q = ensure_numpy(model.encode(query_text))\n",
    "        if APPLY_NORM:\n",
    "            q = q / np.linalg.norm(q)\n",
    "            scored = L_normed.dot(q)\n",
    "        else:\n",
    "            scored = L.dot(q)\n",
    "        matches = np.argsort(scored)\n",
    "        guess_rank = None\n",
    "\n",
    "        for rank, idx in enumerate(matches[::-1]):\n",
    "            score = scored[idx]\n",
    "            guess_name = all_lemma_names[idx]\n",
    "            # print(rank + 1, idx, score, all_lemma_names[idx], len(all_lemmas[idx]))\n",
    "            if guess_name == query_gold:\n",
    "                guess_rank = rank + 1\n",
    "                ranks.append(guess_rank)\n",
    "                break\n",
    "    else:\n",
    "        pass"
   ]
  },
  {
   "cell_type": "code",
   "execution_count": 46,
   "id": "ba02ed71-4514-4dad-a768-ed6a737b6916",
   "metadata": {},
   "outputs": [],
   "source": [
    "def mrr(ranks):\n",
    "    N = len(ranks)\n",
    "    return sum([1/r for r in ranks]) / N\n",
    "    "
   ]
  },
  {
   "cell_type": "code",
   "execution_count": 47,
   "id": "a8fb7228-de74-4255-90d7-d0301e83c824",
   "metadata": {},
   "outputs": [
    {
     "name": "stdout",
     "output_type": "stream",
     "text": [
      "MRR = 0.505\n",
      "Rank pos=1.982\n"
     ]
    }
   ],
   "source": [
    "res_mrr = mrr(ranks)\n",
    "print(\"MRR = {:.3f}\".format(res_mrr))\n",
    "print(\"Rank pos={:.3f}\".format(1 / mrr(ranks)))"
   ]
  },
  {
   "cell_type": "code",
   "execution_count": 28,
   "id": "d355d13d-6ec5-4a12-beb6-4ec42e51d829",
   "metadata": {},
   "outputs": [
    {
     "data": {
      "text/plain": [
       "<matplotlib.legend.Legend at 0x7ff7eb2b6190>"
      ]
     },
     "execution_count": 28,
     "metadata": {},
     "output_type": "execute_result"
    },
    {
     "data": {
      "image/png": "[encoded data removed]",
      "text/plain": [
       "<Figure size 864x432 with 1 Axes>"
      ]
     },
     "metadata": {
      "needs_background": "light"
     },
     "output_type": "display_data"
    }
   ],
   "source": [
    "from matplotlib import pyplot as plt\n",
    "fig, ax = plt.subplots(figsize=(12,6))\n",
    "ax.hist([ranks], label=[\"Ranks\"], bins=100)\n",
    "plt.title(\"Rank Distribution\")\n",
    "plt.legend()"
   ]
  },
  {
   "cell_type": "code",
   "execution_count": 18,
   "id": "ea4a8d67-d399-4221-8e7a-41d3ed8aa6ef",
   "metadata": {},
   "outputs": [
    {
     "data": {
      "text/plain": [
       "0.3352645220307974"
      ]
     },
     "execution_count": 18,
     "metadata": {},
     "output_type": "execute_result"
    }
   ],
   "source": [
    "np.sum(np.array(ranks) == 1) / len(ranks)"
   ]
  },
  {
   "cell_type": "code",
   "execution_count": 16,
   "id": "93066a16-75b5-4483-a1ae-2bbc190828f5",
   "metadata": {},
   "outputs": [
    {
     "data": {
      "text/plain": [
       "6559"
      ]
     },
     "execution_count": 16,
     "metadata": {},
     "output_type": "execute_result"
    }
   ],
   "source": [
    "len (ranks)"
   ]
  }
 ],
 "metadata": {
  "kernelspec": {
   "display_name": "Python [conda env:coprovers] *",
   "language": "python",
   "name": "conda-env-coprovers-py"
  },
  "language_info": {
   "codemirror_mode": {
    "name": "ipython",
    "version": 3
   },
   "file_extension": ".py",
   "mimetype": "text/x-python",
   "name": "python",
   "nbconvert_exporter": "python",
   "pygments_lexer": "ipython3",
   "version": "3.9.10"
  }
 },
 "nbformat": 4,
 "nbformat_minor": 5
}
