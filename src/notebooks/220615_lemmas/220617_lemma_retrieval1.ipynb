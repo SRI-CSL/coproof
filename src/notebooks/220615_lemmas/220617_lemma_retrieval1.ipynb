{
 "cells": [
  {
   "cell_type": "code",
   "execution_count": 1,
   "id": "509bc847-8b43-4f46-8cd9-fea545e7fa77",
   "metadata": {},
   "outputs": [],
   "source": [
    "%load_ext autoreload\n",
    "%autoreload 2"
   ]
  },
  {
   "cell_type": "markdown",
   "id": "0fdda44b-0c26-416e-a1c1-ceb6a84fa0bf",
   "metadata": {},
   "source": [
    "This combines the details from the previous attempts at featurizing the lemmas and puts them into the featurizer.py library.\n",
    "\n",
    "The main strategy for featurization of clauses is given in the file.  The main theme is to use the tags, and to use types in place of the variable.\n",
    "\n",
    "The featurization is to use the entire state tokens.  This experiment examines strict unigram overlap between lemma queries and matching ones in the theory bank.  As the overlap shows, separation isn't all that great between the requested lemma and the entire state."
   ]
  },
  {
   "cell_type": "code",
   "execution_count": 2,
   "id": "83aa30a3-17c2-49cd-b41c-873fa63f30ec",
   "metadata": {},
   "outputs": [],
   "source": [
    "import collections\n",
    "from collections import Counter\n",
    "from pprint import pprint\n",
    "from tqdm import tqdm\n",
    "import pandas as pd\n",
    "from pathlib import Path\n",
    "from pprint import pprint\n",
    "from sklearn.model_selection import train_test_split\n",
    "from IPython.display import JSON\n",
    "from tqdm import tqdm\n",
    "import json\n",
    "\n",
    "from coprover import PROJ_ROOT, RSC_ROOT, PVSLIB_ROOT\n",
    "\n",
    "from featurizer import *\n",
    "\n",
    "DATA_ROOT = Path(PROJ_ROOT, \"data\", \"pvs\", \"pvslib\")\n",
    "json_files = list(DATA_ROOT.rglob(\"*.json\"))"
   ]
  },
  {
   "cell_type": "code",
   "execution_count": 3,
   "id": "f09c9418-31ea-4d90-ae73-e266f1d2126a",
   "metadata": {},
   "outputs": [
    {
     "name": "stdout",
     "output_type": "stream",
     "text": [
      "615 9216\n"
     ]
    }
   ],
   "source": [
    "theory_files = list(DATA_ROOT.glob(\"*/*.json\"))\n",
    "proof_files = list(DATA_ROOT.glob(\"*/*/*.json\"))\n",
    "print(len(theory_files), len(proof_files))"
   ]
  },
  {
   "cell_type": "code",
   "execution_count": 82,
   "id": "f12e9699-bebe-476e-991f-9b38206b89b5",
   "metadata": {},
   "outputs": [],
   "source": [
    "class TheoryBank:\n",
    "    def __init__(self, theory_files):\n",
    "        self.all_theories = collections.OrderedDict()\n",
    "        self.all_lemmas = collections.OrderedDict()\n",
    "        for json_fpath in tqdm(theory_files):\n",
    "            with open(json_fpath, 'r') as f:\n",
    "                theory_name = json_fpath.stem\n",
    "                doc_root = json.load(f)\n",
    "                theory = read_theory(doc_root)\n",
    "                self.all_theories[theory_name] = theory\n",
    "                self.all_lemmas.update(theory)\n",
    "    \n",
    "    def get(self, name, theories=None):\n",
    "        if theories is None:\n",
    "            theories = sorted(self.all_theories.keys())\n",
    "        for theory in theories:\n",
    "            if name in self.all_theories[theory]:\n",
    "                return self.all_theories[theory][name], theory\n",
    "        return None, None\n",
    "        # raise Exception(\"Could not identify name={} in theory set={}\".format(name, theories))\n",
    "    \n",
    "    def sample(self, rand_obj=None):\n",
    "        if rand_obj is None:\n",
    "            return np.random.choice(list(self.all_lemmas.values()))\n",
    "        else:\n",
    "            return rand_obj.choice(list(self.all_lemmas.values()))"
   ]
  },
  {
   "cell_type": "code",
   "execution_count": 83,
   "id": "9ca3eda6-8b37-4604-96b1-7f3253d1ca5f",
   "metadata": {},
   "outputs": [
    {
     "name": "stderr",
     "output_type": "stream",
     "text": [
      "100%|█████████████████████████████████████████████████████████████████████████████████████████████████████| 615/615 [00:01<00:00, 328.53it/s]\n"
     ]
    }
   ],
   "source": [
    "theory_bank = TheoryBank(theory_files)"
   ]
  },
  {
   "cell_type": "code",
   "execution_count": 86,
   "id": "724f07eb-6c05-48c9-ba27-7440616487fe",
   "metadata": {},
   "outputs": [
    {
     "data": {
      "text/plain": [
       "['imp_derivatives_tcc1', 'imp_derivatives_tcc2', 'dot_prod_derivable']"
      ]
     },
     "execution_count": 86,
     "metadata": {},
     "output_type": "execute_result"
    }
   ],
   "source": [
    "list(theory_bank.all_lemmas.keys())[0:3]"
   ]
  },
  {
   "cell_type": "code",
   "execution_count": 88,
   "id": "179d49cf-7b18-47f0-9baa-34c870a11716",
   "metadata": {
    "tags": []
   },
   "outputs": [
    {
     "data": {
      "text/plain": [
       "(['constantName', 'deriv_domain_def__not_one_elementp'], 'deriv_dot_prod')"
      ]
     },
     "execution_count": 88,
     "metadata": {},
     "output_type": "execute_result"
    }
   ],
   "source": [
    "theory_bank.get(\"imp_derivatives_tcc2\")"
   ]
  },
  {
   "cell_type": "code",
   "execution_count": 89,
   "id": "d9503050-55f5-4e67-b679-07e7c0b8c688",
   "metadata": {
    "tags": []
   },
   "outputs": [
    {
     "name": "stderr",
     "output_type": "stream",
     "text": [
      "/tmp/ipykernel_48401/2395595031.py:24: VisibleDeprecationWarning: Creating an ndarray from ragged nested sequences (which is a list-or-tuple of lists-or-tuples-or ndarrays with different lengths or shapes) is deprecated. If you meant to do this, you must specify 'dtype=object' when creating the ndarray.\n",
      "  return np.random.choice(list(self.all_lemmas.values()))\n"
     ]
    },
    {
     "data": {
      "text/plain": [
       "['bindings',\n",
       " 'variableName',\n",
       " 'x',\n",
       " 'expression',\n",
       " 'operator',\n",
       " 'relations_extra__linear_orderp',\n",
       " 'constantName',\n",
       " 'relations_extra__linear_orderp',\n",
       " 'argument',\n",
       " 'variableName',\n",
       " 'x']"
      ]
     },
     "execution_count": 89,
     "metadata": {},
     "output_type": "execute_result"
    }
   ],
   "source": [
    "theory_bank.sample()"
   ]
  },
  {
   "cell_type": "code",
   "execution_count": 68,
   "id": "00533aa0-0c89-44e2-b498-24659e74787f",
   "metadata": {},
   "outputs": [
    {
     "data": {
      "text/plain": [
       "'deriv_dot_prod'"
      ]
     },
     "execution_count": 68,
     "metadata": {},
     "output_type": "execute_result"
    }
   ],
   "source": [
    "x = list(theory_bank.all_theories.keys())\n",
    "x[0]"
   ]
  },
  {
   "cell_type": "code",
   "execution_count": 8,
   "id": "9912c844-0f83-44e5-b815-dbbdc4e04df7",
   "metadata": {},
   "outputs": [
    {
     "name": "stdout",
     "output_type": "stream",
     "text": [
      "lemma commutative_quotient_ring None None\n",
      "rewrite commutative_quotient_ring None None\n",
      "lemma prime_ideal_nz_closed ['bindings', 'variableName', 'p', 'variableName', 'r', 'expression', 'operator', 'booleans__IMPLIES', 'constantName', 'booleans__IMPLIES', 'argument', 'operator', 'booleans__AND', 'constantName', 'booleans__AND', 'argument', 'operator', 'ring_def__commutative_ringp', 'constantName', 'ring_def__commutative_ringp', 'argument', 'variableName', 'r', 'operator', 'ring_prime_ideal_def__prime_idealp', 'constantName', 'ring_prime_ideal_def__prime_idealp', 'argument', 'variableName', 'p', 'variableName', 'r', 'operator', 'ring_nz_closed_def__nz_closedp', 'constantName', 'ring_nz_closed_def__nz_closedp', 'argument', 'operator', 'restrict__restrict', 'constantName', 'restrict__restrict', 'argument', 'operator', 'cosets_def__divide', 'constantName', 'cosets_def__divide', 'argument', 'variableName', 'r', 'variableName', 'p'] ring_with_one_prime_ideal\n",
      "rewrite prime_ideal_nz_closed ['bindings', 'variableName', 'p', 'variableName', 'r', 'expression', 'operator', 'booleans__IMPLIES', 'constantName', 'booleans__IMPLIES', 'argument', 'operator', 'booleans__AND', 'constantName', 'booleans__AND', 'argument', 'operator', 'ring_def__commutative_ringp', 'constantName', 'ring_def__commutative_ringp', 'argument', 'variableName', 'r', 'operator', 'ring_prime_ideal_def__prime_idealp', 'constantName', 'ring_prime_ideal_def__prime_idealp', 'argument', 'variableName', 'p', 'variableName', 'r', 'operator', 'ring_nz_closed_def__nz_closedp', 'constantName', 'ring_nz_closed_def__nz_closedp', 'argument', 'operator', 'restrict__restrict', 'constantName', 'restrict__restrict', 'argument', 'operator', 'cosets_def__divide', 'constantName', 'cosets_def__divide', 'argument', 'variableName', 'r', 'variableName', 'p'] ring_with_one_prime_ideal\n",
      "lemma prime_ideal_prod_closed None None\n",
      "lemma one_diff_zero_coset None None\n",
      "lemma lcoset_iff_coset None None\n",
      "rewrite lcoset_iff_coset None None\n",
      "lemma quotient_ring_with_one None None\n",
      "lemma self_coset None None\n",
      "lemma product_charac None None\n",
      "lemma self_coset None None\n",
      "lemma lcoset_iff_coset None None\n",
      "rewrite lcoset_iff_coset None None\n",
      "lemma self_coset None None\n",
      "lemma lcoset_iff_coset None None\n",
      "rewrite lcoset_iff_coset None None\n",
      "lemma lcoset_iff_coset None None\n",
      "rewrite lcoset_iff_coset None None\n",
      "lemma self_coset None None\n",
      "lemma lcoset_iff_coset None None\n",
      "rewrite lcoset_iff_coset None None\n"
     ]
    }
   ],
   "source": [
    "sa_tuples = read_proof_session_lemmas(Path(PROJ_ROOT, \"data/pvs/pvslib/algebra/ring_with_one_prime_ideal-proofs/prime_ideal_charac.json\"))\n",
    "for sa_tuple in sa_tuples:\n",
    "    cmd, arg = sa_tuple[1], sa_tuple[2]\n",
    "    if arg is not None and isinstance(arg, str):\n",
    "        arg = arg.split(\"[\")[0]\n",
    "        if cmd in set([\"lemma\", \"rewrite\"]):\n",
    "            expr, theory = theory_bank.get(arg)\n",
    "            print(cmd, arg, expr, theory)"
   ]
  },
  {
   "cell_type": "code",
   "execution_count": 26,
   "id": "098b3947-dda8-415d-946e-374cd0e87be7",
   "metadata": {
    "tags": []
   },
   "outputs": [
    {
     "name": "stdout",
     "output_type": "stream",
     "text": [
      "Lemma queries cached, loading\n"
     ]
    }
   ],
   "source": [
    "# Now go through each of the proofs and collect the lemma requests\n",
    "\n",
    "LEMMA_OUTPUT_FPATH = Path(\"lemma_requests.json\")\n",
    "NAME = \"name\"\n",
    "STEP = \"step\"\n",
    "STATE = \"state\"\n",
    "CMD = \"command\"\n",
    "ARGS = \"args\"\n",
    "\n",
    "if LEMMA_OUTPUT_FPATH.exists():\n",
    "    # Load the lemma queries\n",
    "    print(\"Lemma queries cached, loading\")\n",
    "    with open(LEMMA_OUTPUT_FPATH, 'r') as f:\n",
    "        lemma_requests = json.load(f)\n",
    "else:\n",
    "    # Accumulate the lemma retrieval queries\n",
    "    tqdm_iter = tqdm(proof_files)\n",
    "    num_lemma_requests = 0\n",
    "    lemma_requests = []\n",
    "\n",
    "\n",
    "    for json_fpath in tqdm_iter:\n",
    "        name = Path(json_fpath).stem\n",
    "        sa_tuples = read_proof_session_lemmas(json_fpath)\n",
    "        if sa_tuples is None:\n",
    "            continue\n",
    "        for step_num, sa_tuple in enumerate(sa_tuples):\n",
    "            cmd, arg = sa_tuple[1], sa_tuple[2]\n",
    "            if arg is not None and isinstance(arg, str):\n",
    "                arg = arg.split(\"[\")[0]\n",
    "                if cmd in set([\"lemma\", \"rewrite\"]):\n",
    "                    # expr, theory = theory_bank.get(arg)\n",
    "                    num_lemma_requests += 1\n",
    "                    lemma_requests.append({\n",
    "                        STATE:  sa_tuple[0],\n",
    "                        CMD: cmd,\n",
    "                        ARGS: arg,\n",
    "                        NAME: name,\n",
    "                        STEP: step_num\n",
    "                    })\n",
    "                    tqdm_iter.set_description(\"# lemma requests={}\".format(num_lemma_requests))\n",
    "\n",
    "    # Save out the accumulated lemma requests to file                \n",
    "    with open(LEMMA_OUTPUT_FPATH, 'w') as f:\n",
    "        json.dump(lemma_requests, f)"
   ]
  },
  {
   "cell_type": "code",
   "execution_count": 33,
   "id": "17cfaaf2-24b4-4104-ac95-98e3358dcd9c",
   "metadata": {},
   "outputs": [],
   "source": [
    "import numpy as np\n",
    "import collections\n"
   ]
  },
  {
   "cell_type": "code",
   "execution_count": 35,
   "id": "cf14ebad-8425-4793-9a61-8b54e7429817",
   "metadata": {},
   "outputs": [
    {
     "name": "stderr",
     "output_type": "stream",
     "text": [
      "100%|████████████████████████████████████████████████████████████████████████████████████████████████| 20221/20221 [00:04<00:00, 4903.62it/s]"
     ]
    },
    {
     "name": "stdout",
     "output_type": "stream",
     "text": [
      "Total missing = 7016/20221\n"
     ]
    },
    {
     "name": "stderr",
     "output_type": "stream",
     "text": [
      "\n"
     ]
    }
   ],
   "source": [
    "num_missing = 0\n",
    "total_scanned = len(lemma_requests)\n",
    "missing_lemmas = collections.Counter()\n",
    "for req in tqdm(lemma_requests):\n",
    "    lemma_name = req[ARGS]\n",
    "    lemma, theory = theory_bank.get(lemma_name)\n",
    "    if lemma is None:\n",
    "        missing_lemmas[lemma_name] += 1\n",
    "        num_missing += 1\n",
    "print(\"Total missing = {}/{}\".format(num_missing, total_scanned))"
   ]
  },
  {
   "cell_type": "code",
   "execution_count": 118,
   "id": "b0023a8c-2fbc-4abd-9bee-bab579d8f169",
   "metadata": {},
   "outputs": [
    {
     "data": {
      "text/plain": [
       "895"
      ]
     },
     "execution_count": 118,
     "metadata": {},
     "output_type": "execute_result"
    }
   ],
   "source": [
    "len(missing_lemmas)"
   ]
  },
  {
   "cell_type": "code",
   "execution_count": 122,
   "id": "2db562e1-c221-464a-9823-aaf6344d1e7b",
   "metadata": {},
   "outputs": [
    {
     "name": "stdout",
     "output_type": "stream",
     "text": [
      "not_one_element2\n",
      "zero_times\n",
      "emptyset_is_empty?\n",
      "infinite_nonempty\n",
      "one_in\n",
      "epsilon_ax\n",
      "connected_domain\n",
      "C_n_plus_1\n",
      "every_nth\n",
      "card_below\n",
      "sigma_shift_T\n",
      "Integral_split\n",
      "naturalnumbers.nat_induction\n",
      "multiary_Heine\n",
      "zero_times3\n",
      "triangle\n",
      "composition_injective\n",
      "even_times_int_is_even\n",
      "countable_is_null\n",
      "cos_neg\n"
     ]
    }
   ],
   "source": [
    "for x in list(missing_lemmas)[0:20]: print(x)"
   ]
  },
  {
   "cell_type": "code",
   "execution_count": 128,
   "id": "cee1f240-fd86-4e0f-815a-6950d0a3e5b1",
   "metadata": {},
   "outputs": [],
   "source": [
    "def characterize1(state):\n",
    "    feats = collections.Counter(state)\n",
    "    return feats\n",
    "\n",
    "def overlap1(state1, state2):\n",
    "    intersect = characterize1(state1) & characterize1(state2) \n",
    "#    return np.sum(list(intersect.values())) \n",
    "    return np.sum(list(intersect.values())) / len(state1)\n",
    "\n",
    "def scan(X):\n",
    "    mu, std, xmin, xmax = np.mean(X), np.std(X), np.min(X), np.max(X)\n",
    "    return \"mu/std={:.3f}/{:.3f}, min/max={:.3f}/{:.3f}\".format(mu, std, xmin, xmax)"
   ]
  },
  {
   "cell_type": "code",
   "execution_count": 126,
   "id": "38bfba61-1958-4185-8c54-62e5a3094bdb",
   "metadata": {},
   "outputs": [
    {
     "name": "stderr",
     "output_type": "stream",
     "text": [
      "  0%|                                                                                                              | 0/20221 [00:00<?, ?it/s]/tmp/ipykernel_48401/2395595031.py:24: VisibleDeprecationWarning: Creating an ndarray from ragged nested sequences (which is a list-or-tuple of lists-or-tuples-or ndarrays with different lengths or shapes) is deprecated. If you meant to do this, you must specify 'dtype=object' when creating the ndarray.\n",
      "  return np.random.choice(list(self.all_lemmas.values()))\n",
      "100%|█████████████████████████████████████████████████████████████████████████████████████████████████| 20221/20221 [00:44<00:00, 454.75it/s]\n"
     ]
    },
    {
     "name": "stdout",
     "output_type": "stream",
     "text": [
      "Overlap stats, matched: mu/std=20.512/14.415, min/max=0.000/157.000\n",
      "Background stats: mu/std=16.498/15.014, min/max=0.000/259.000\n"
     ]
    },
    {
     "data": {
      "text/plain": [
       "<matplotlib.legend.Legend at 0x7feabc5ac820>"
      ]
     },
     "execution_count": 126,
     "metadata": {},
     "output_type": "execute_result"
    },
    {
     "data": {
      "image/png": "[encoded data removed]",
      "text/plain": [
       "<Figure size 864x432 with 1 Axes>"
      ]
     },
     "metadata": {
      "needs_background": "light"
     },
     "output_type": "display_data"
    }
   ],
   "source": [
    "# Now for the lemmas, identify the overlap between the features and the retrieved lemma\n",
    "num_missing = 0\n",
    "total_scanned = len(lemma_requests)\n",
    "missing_lemmas = collections.Counter()\n",
    "overlap_scores = []\n",
    "background_scores = []\n",
    "for req in tqdm(lemma_requests):\n",
    "    lemma_name = req[ARGS]\n",
    "    state = req[STATE]\n",
    "    lemma, theory = theory_bank.get(lemma_name)\n",
    "    if lemma is None:\n",
    "        missing_lemmas[lemma_name] += 1\n",
    "        num_missing += 1\n",
    "    else:\n",
    "        # Do some simple token overlap measures\n",
    "        overlap_scores.append(overlap1(state, lemma))\n",
    "        # Get background sample\n",
    "        background_scores.append(overlap1(state, theory_bank.sample()))\n",
    "        \n",
    "print(\"Overlap stats, matched: {}\".format(scan(overlap_scores)))\n",
    "print(\"Background stats: {}\".format(scan(background_scores)))\n",
    "\n",
    "# Get matches between entire state and the theory bank\n",
    "\n",
    "from matplotlib import pyplot as plt\n",
    "fig, ax = plt.subplots(figsize=(12,6))\n",
    "ax.hist([overlap_scores, background_scores], label=[\"overlap\", \"background\"], bins=100)\n",
    "plt.title(\"Unigram Overlap, Full State\")\n",
    "plt.legend()"
   ]
  },
  {
   "cell_type": "markdown",
   "id": "ac936a3e-4a9d-494b-b8f7-214846e7d04e",
   "metadata": {},
   "source": [
    "We now and examine just the goal statements"
   ]
  },
  {
   "cell_type": "code",
   "execution_count": 127,
   "id": "334ce0f9-2627-40c5-9335-634145a2c67b",
   "metadata": {},
   "outputs": [
    {
     "name": "stderr",
     "output_type": "stream",
     "text": [
      "  0%|                                                                                                              | 0/20221 [00:00<?, ?it/s]/tmp/ipykernel_48401/2395595031.py:24: VisibleDeprecationWarning: Creating an ndarray from ragged nested sequences (which is a list-or-tuple of lists-or-tuples-or ndarrays with different lengths or shapes) is deprecated. If you meant to do this, you must specify 'dtype=object' when creating the ndarray.\n",
      "  return np.random.choice(list(self.all_lemmas.values()))\n",
      "100%|█████████████████████████████████████████████████████████████████████████████████████████████████| 20221/20221 [00:44<00:00, 450.06it/s]\n"
     ]
    },
    {
     "name": "stdout",
     "output_type": "stream",
     "text": [
      "Overlap stats, matched: mu/std=18.069/13.721, min/max=0.000/127.000\n",
      "Background stats: mu/std=14.632/14.086, min/max=0.000/202.000\n"
     ]
    },
    {
     "data": {
      "text/plain": [
       "<matplotlib.legend.Legend at 0x7feabbc45520>"
      ]
     },
     "execution_count": 127,
     "metadata": {},
     "output_type": "execute_result"
    },
    {
     "data": {
      "image/png": "[encoded data removed]",
      "text/plain": [
       "<Figure size 864x432 with 1 Axes>"
      ]
     },
     "metadata": {
      "needs_background": "light"
     },
     "output_type": "display_data"
    }
   ],
   "source": [
    "# Now for the lemmas, identify the overlap between the features and the retrieved lemma\n",
    "def collect_consequents(state):\n",
    "    collecting = False\n",
    "    goal_toks = []\n",
    "    for token in state:\n",
    "        if token == \"consequents\":\n",
    "            collecting = True\n",
    "        elif collecting:\n",
    "            goal_toks.append(token)\n",
    "    return goal_toks\n",
    "\n",
    "num_missing = 0\n",
    "total_scanned = len(lemma_requests)\n",
    "missing_lemmas = collections.Counter()\n",
    "overlap_scores = []\n",
    "background_scores = []\n",
    "for req in tqdm(lemma_requests):\n",
    "    lemma_name = req[ARGS]\n",
    "    state = collect_consequents(req[STATE])\n",
    "    assert(len(state) > 0)\n",
    "    lemma, theory = theory_bank.get(lemma_name)\n",
    "    if lemma is None:\n",
    "        missing_lemmas[lemma_name] += 1\n",
    "        num_missing += 1\n",
    "    else:\n",
    "        # Do some simple token overlap measures\n",
    "        overlap_scores.append(overlap1(state, lemma))\n",
    "        # Get background sample\n",
    "        background_scores.append(overlap1(state, theory_bank.sample()))\n",
    "        \n",
    "print(\"Overlap stats, matched: {}\".format(scan(overlap_scores)))\n",
    "print(\"Background stats: {}\".format(scan(background_scores)))\n",
    "\n",
    "from matplotlib import pyplot as plt\n",
    "fig, ax = plt.subplots(figsize=(12,6))\n",
    "ax.hist([overlap_scores, background_scores], label=[\"query\", \"background\"], bins=100)\n",
    "plt.title(\"Unigram Overlap, Consequents Only\")\n",
    "plt.legend()"
   ]
  },
  {
   "cell_type": "code",
   "execution_count": 130,
   "id": "235ec8f8-7408-4e1b-8703-16802c754fb5",
   "metadata": {},
   "outputs": [
    {
     "name": "stderr",
     "output_type": "stream",
     "text": [
      "  0%|                                                                                                              | 0/20221 [00:00<?, ?it/s]/tmp/ipykernel_48401/2395595031.py:24: VisibleDeprecationWarning: Creating an ndarray from ragged nested sequences (which is a list-or-tuple of lists-or-tuples-or ndarrays with different lengths or shapes) is deprecated. If you meant to do this, you must specify 'dtype=object' when creating the ndarray.\n",
      "  return np.random.choice(list(self.all_lemmas.values()))\n",
      "100%|█████████████████████████████████████████████████████████████████████████████████████████████████| 20221/20221 [00:44<00:00, 453.37it/s]\n"
     ]
    },
    {
     "name": "stdout",
     "output_type": "stream",
     "text": [
      "Overlap stats, matched: mu/std=0.249/0.186, min/max=0.000/0.850\n",
      "Background stats: mu/std=0.198/0.158, min/max=0.000/0.774\n"
     ]
    },
    {
     "data": {
      "text/plain": [
       "<matplotlib.legend.Legend at 0x7feabb83adc0>"
      ]
     },
     "execution_count": 130,
     "metadata": {},
     "output_type": "execute_result"
    },
    {
     "data": {
      "image/png": "[encoded data removed]",
      "text/plain": [
       "<Figure size 864x432 with 1 Axes>"
      ]
     },
     "metadata": {
      "needs_background": "light"
     },
     "output_type": "display_data"
    }
   ],
   "source": [
    "# Now for the lemmas, identify the overlap between the features and the retrieved lemma\n",
    "def collect_consequents(state):\n",
    "    collecting = False\n",
    "    goal_toks = []\n",
    "    for token in state:\n",
    "        if token == \"consequents\":\n",
    "            collecting = True\n",
    "        elif collecting:\n",
    "            goal_toks.append(token)\n",
    "    return goal_toks\n",
    "\n",
    "num_missing = 0\n",
    "total_scanned = len(lemma_requests)\n",
    "missing_lemmas = collections.Counter()\n",
    "overlap_scores = []\n",
    "background_scores = []\n",
    "for req in tqdm(lemma_requests):\n",
    "    lemma_name = req[ARGS]\n",
    "    state = collect_consequents(req[STATE])\n",
    "    assert(len(state) > 0)\n",
    "    lemma, theory = theory_bank.get(lemma_name)\n",
    "    if lemma is None:\n",
    "        missing_lemmas[lemma_name] += 1\n",
    "        num_missing += 1\n",
    "    else:\n",
    "        # Do some simple token overlap measures\n",
    "        overlap_scores.append(overlap1(state, lemma))\n",
    "        # Get background sample\n",
    "        background_scores.append(overlap1(state, theory_bank.sample()))\n",
    "        \n",
    "print(\"Overlap stats, matched: {}\".format(scan(overlap_scores)))\n",
    "print(\"Background stats: {}\".format(scan(background_scores)))\n",
    "\n",
    "from matplotlib import pyplot as plt\n",
    "fig, ax = plt.subplots(figsize=(12,6))\n",
    "ax.hist([overlap_scores, background_scores], label=[\"query\", \"background\"], bins=100)\n",
    "plt.title(\"Unigram Overlap, Consequents Only\")\n",
    "plt.legend()"
   ]
  }
 ],
 "metadata": {
  "kernelspec": {
   "display_name": "Python [conda env:coprovers] *",
   "language": "python",
   "name": "conda-env-coprovers-py"
  },
  "language_info": {
   "codemirror_mode": {
    "name": "ipython",
    "version": 3
   },
   "file_extension": ".py",
   "mimetype": "text/x-python",
   "name": "python",
   "nbconvert_exporter": "python",
   "pygments_lexer": "ipython3",
   "version": "3.9.10"
  }
 },
 "nbformat": 4,
 "nbformat_minor": 5
}
